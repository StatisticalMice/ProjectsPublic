{
 "cells": [
  {
   "cell_type": "code",
   "execution_count": 1,
   "metadata": {},
   "outputs": [
    {
     "data": {
      "text/plain": [
       "(v\"1.5.3\", 8, 8)"
      ]
     },
     "execution_count": 1,
     "metadata": {},
     "output_type": "execute_result"
    }
   ],
   "source": [
    "# Set some notebook defaults\n",
    "ENV[\"COLUMNS\"] = 1000; ENV[\"LINES\"] = 20;\n",
    "\n",
    "# Display information about the environment\n",
    "VERSION, Base.Threads.nthreads(), Base.Sys.CPU_THREADS"
   ]
  },
  {
   "cell_type": "code",
   "execution_count": 2,
   "metadata": {},
   "outputs": [],
   "source": [
    "using Random, Distributions, BenchmarkTools, Tullio, LoopVectorization, DataFrames, StaticKernels, SantasLittleHelpers"
   ]
  },
  {
   "cell_type": "code",
   "execution_count": 3,
   "metadata": {},
   "outputs": [
    {
     "data": {
      "text/html": [
       "<table class=\"data-frame\"><thead><tr><th></th><th>data</th></tr><tr><th></th><th>Float64</th></tr></thead><tbody><p>100,000,000 rows × 1 columns</p><tr><th>1</th><td>1.01386</td></tr><tr><th>2</th><td>-0.0648729</td></tr><tr><th>3</th><td>-0.998316</td></tr><tr><th>4</th><td>0.149736</td></tr><tr><th>5</th><td>-0.642035</td></tr><tr><th>6</th><td>0.480422</td></tr><tr><th>7</th><td>-0.0102204</td></tr><tr><th>8</th><td>1.12168</td></tr><tr><th>9</th><td>0.586801</td></tr><tr><th>10</th><td>-2.24492</td></tr><tr><th>11</th><td>1.16047</td></tr><tr><th>12</th><td>-0.855853</td></tr><tr><th>13</th><td>1.44948</td></tr><tr><th>14</th><td>1.07695</td></tr><tr><th>15</th><td>0.13656</td></tr><tr><th>16</th><td>-0.230683</td></tr><tr><th>17</th><td>0.470435</td></tr><tr><th>18</th><td>0.707565</td></tr><tr><th>19</th><td>0.463109</td></tr><tr><th>20</th><td>-1.36253</td></tr><tr><th>&vellip;</th><td>&vellip;</td></tr></tbody></table>"
      ],
      "text/latex": [
       "\\begin{tabular}{r|c}\n",
       "\t& data\\\\\n",
       "\t\\hline\n",
       "\t& Float64\\\\\n",
       "\t\\hline\n",
       "\t1 & 1.01386 \\\\\n",
       "\t2 & -0.0648729 \\\\\n",
       "\t3 & -0.998316 \\\\\n",
       "\t4 & 0.149736 \\\\\n",
       "\t5 & -0.642035 \\\\\n",
       "\t6 & 0.480422 \\\\\n",
       "\t7 & -0.0102204 \\\\\n",
       "\t8 & 1.12168 \\\\\n",
       "\t9 & 0.586801 \\\\\n",
       "\t10 & -2.24492 \\\\\n",
       "\t11 & 1.16047 \\\\\n",
       "\t12 & -0.855853 \\\\\n",
       "\t13 & 1.44948 \\\\\n",
       "\t14 & 1.07695 \\\\\n",
       "\t15 & 0.13656 \\\\\n",
       "\t16 & -0.230683 \\\\\n",
       "\t17 & 0.470435 \\\\\n",
       "\t18 & 0.707565 \\\\\n",
       "\t19 & 0.463109 \\\\\n",
       "\t20 & -1.36253 \\\\\n",
       "\t$\\dots$ & $\\dots$ \\\\\n",
       "\\end{tabular}\n"
      ],
      "text/plain": [
       "\u001b[1m100000000×1 DataFrame\u001b[0m\n",
       "\u001b[1m       Row \u001b[0m│\u001b[1m data       \u001b[0m\n",
       "\u001b[1m           \u001b[0m│\u001b[90m Float64    \u001b[0m\n",
       "───────────┼────────────\n",
       "         1 │  1.01386\n",
       "         2 │ -0.0648729\n",
       "         3 │ -0.998316\n",
       "         4 │  0.149736\n",
       "         5 │ -0.642035\n",
       "         6 │  0.480422\n",
       "     ⋮     │     ⋮\n",
       "  99999996 │  0.400301\n",
       "  99999997 │  0.295795\n",
       "  99999998 │  1.51181\n",
       "  99999999 │ -1.80681\n",
       " 100000000 │  0.71006\n",
       "\u001b[31m   99999989 rows omitted\u001b[0m"
      ]
     },
     "execution_count": 3,
     "metadata": {},
     "output_type": "execute_result"
    }
   ],
   "source": [
    "N = 10^8\n",
    "d = Normal()\n",
    "df = DataFrame(:data => rand(d, N))"
   ]
  },
  {
   "cell_type": "raw",
   "metadata": {},
   "source": [
    "df = DataFrame(data = ones(10^6))"
   ]
  },
  {
   "cell_type": "code",
   "execution_count": 4,
   "metadata": {},
   "outputs": [
    {
     "data": {
      "text/html": [
       "<table class=\"data-frame\"><thead><tr><th></th><th>data</th><th>sma_sk</th></tr><tr><th></th><th>Float64</th><th>Float64</th></tr></thead><tbody><p>100,000,000 rows × 2 columns</p><tr><th>1</th><td>1.01386</td><td>1.01386</td></tr><tr><th>2</th><td>-0.0648729</td><td>0.474494</td></tr><tr><th>3</th><td>-0.998316</td><td>-0.0164429</td></tr><tr><th>4</th><td>0.149736</td><td>0.0251018</td></tr><tr><th>5</th><td>-0.642035</td><td>-0.108325</td></tr><tr><th>6</th><td>0.480422</td><td>-0.0102009</td></tr><tr><th>7</th><td>-0.0102204</td><td>-0.0102037</td></tr><tr><th>8</th><td>1.12168</td><td>0.131282</td></tr><tr><th>9</th><td>0.586801</td><td>0.181896</td></tr><tr><th>10</th><td>-2.24492</td><td>-0.0607858</td></tr><tr><th>11</th><td>1.16047</td><td>-0.0461244</td></tr><tr><th>12</th><td>-0.855853</td><td>-0.125222</td></tr><tr><th>13</th><td>1.44948</td><td>0.119558</td></tr><tr><th>14</th><td>1.07695</td><td>0.212279</td></tr><tr><th>15</th><td>0.13656</td><td>0.290139</td></tr><tr><th>16</th><td>-0.230683</td><td>0.219028</td></tr><tr><th>17</th><td>0.470435</td><td>0.267094</td></tr><tr><th>18</th><td>0.707565</td><td>0.225682</td></tr><tr><th>19</th><td>0.463109</td><td>0.213313</td></tr><tr><th>20</th><td>-1.36253</td><td>0.301551</td></tr><tr><th>&vellip;</th><td>&vellip;</td><td>&vellip;</td></tr></tbody></table>"
      ],
      "text/latex": [
       "\\begin{tabular}{r|cc}\n",
       "\t& data & sma\\_sk\\\\\n",
       "\t\\hline\n",
       "\t& Float64 & Float64\\\\\n",
       "\t\\hline\n",
       "\t1 & 1.01386 & 1.01386 \\\\\n",
       "\t2 & -0.0648729 & 0.474494 \\\\\n",
       "\t3 & -0.998316 & -0.0164429 \\\\\n",
       "\t4 & 0.149736 & 0.0251018 \\\\\n",
       "\t5 & -0.642035 & -0.108325 \\\\\n",
       "\t6 & 0.480422 & -0.0102009 \\\\\n",
       "\t7 & -0.0102204 & -0.0102037 \\\\\n",
       "\t8 & 1.12168 & 0.131282 \\\\\n",
       "\t9 & 0.586801 & 0.181896 \\\\\n",
       "\t10 & -2.24492 & -0.0607858 \\\\\n",
       "\t11 & 1.16047 & -0.0461244 \\\\\n",
       "\t12 & -0.855853 & -0.125222 \\\\\n",
       "\t13 & 1.44948 & 0.119558 \\\\\n",
       "\t14 & 1.07695 & 0.212279 \\\\\n",
       "\t15 & 0.13656 & 0.290139 \\\\\n",
       "\t16 & -0.230683 & 0.219028 \\\\\n",
       "\t17 & 0.470435 & 0.267094 \\\\\n",
       "\t18 & 0.707565 & 0.225682 \\\\\n",
       "\t19 & 0.463109 & 0.213313 \\\\\n",
       "\t20 & -1.36253 & 0.301551 \\\\\n",
       "\t$\\dots$ & $\\dots$ & $\\dots$ \\\\\n",
       "\\end{tabular}\n"
      ],
      "text/plain": [
       "\u001b[1m100000000×2 DataFrame\u001b[0m\n",
       "\u001b[1m       Row \u001b[0m│\u001b[1m data       \u001b[0m\u001b[1m sma_sk      \u001b[0m\n",
       "\u001b[1m           \u001b[0m│\u001b[90m Float64    \u001b[0m\u001b[90m Float64     \u001b[0m\n",
       "───────────┼─────────────────────────\n",
       "         1 │  1.01386     1.01386\n",
       "         2 │ -0.0648729   0.474494\n",
       "         3 │ -0.998316   -0.0164429\n",
       "         4 │  0.149736    0.0251018\n",
       "         5 │ -0.642035   -0.108325\n",
       "         6 │  0.480422   -0.0102009\n",
       "     ⋮     │     ⋮            ⋮\n",
       "  99999996 │  0.400301   -0.290359\n",
       "  99999997 │  0.295795   -0.0957551\n",
       "  99999998 │  1.51181     0.153394\n",
       "  99999999 │ -1.80681     0.00558398\n",
       " 100000000 │  0.71006     0.200085\n",
       "\u001b[31m                99999989 rows omitted\u001b[0m"
      ]
     },
     "execution_count": 4,
     "metadata": {},
     "output_type": "execute_result"
    }
   ],
   "source": [
    "# Calculate sma using StaticKernels and SantasLittleHelpers\n",
    "# Contains code originally from \n",
    "\n",
    "k = makekernel(mean,-9:0)\n",
    "df[!, \"sma_sk\"] = applyrolling(k, df.data)\n",
    "df"
   ]
  },
  {
   "cell_type": "code",
   "execution_count": null,
   "metadata": {},
   "outputs": [],
   "source": []
  },
  {
   "cell_type": "code",
   "execution_count": 5,
   "metadata": {},
   "outputs": [
    {
     "data": {
      "text/html": [
       "<table class=\"data-frame\"><thead><tr><th></th><th>data</th><th>sma_sk</th><th>sma_tullio</th></tr><tr><th></th><th>Float64</th><th>Float64</th><th>Float64?</th></tr></thead><tbody><p>100,000,000 rows × 3 columns</p><tr><th>1</th><td>1.01386</td><td>1.01386</td><td><em>missing</em></td></tr><tr><th>2</th><td>-0.0648729</td><td>0.474494</td><td><em>missing</em></td></tr><tr><th>3</th><td>-0.998316</td><td>-0.0164429</td><td><em>missing</em></td></tr><tr><th>4</th><td>0.149736</td><td>0.0251018</td><td><em>missing</em></td></tr><tr><th>5</th><td>-0.642035</td><td>-0.108325</td><td><em>missing</em></td></tr><tr><th>6</th><td>0.480422</td><td>-0.0102009</td><td><em>missing</em></td></tr><tr><th>7</th><td>-0.0102204</td><td>-0.0102037</td><td><em>missing</em></td></tr><tr><th>8</th><td>1.12168</td><td>0.131282</td><td><em>missing</em></td></tr><tr><th>9</th><td>0.586801</td><td>0.181896</td><td><em>missing</em></td></tr><tr><th>10</th><td>-2.24492</td><td>-0.0607858</td><td>-0.0607858</td></tr><tr><th>11</th><td>1.16047</td><td>-0.0461244</td><td>-0.0461244</td></tr><tr><th>12</th><td>-0.855853</td><td>-0.125222</td><td>-0.125222</td></tr><tr><th>13</th><td>1.44948</td><td>0.119558</td><td>0.119558</td></tr><tr><th>14</th><td>1.07695</td><td>0.212279</td><td>0.212279</td></tr><tr><th>15</th><td>0.13656</td><td>0.290139</td><td>0.290139</td></tr><tr><th>16</th><td>-0.230683</td><td>0.219028</td><td>0.219028</td></tr><tr><th>17</th><td>0.470435</td><td>0.267094</td><td>0.267094</td></tr><tr><th>18</th><td>0.707565</td><td>0.225682</td><td>0.225682</td></tr><tr><th>19</th><td>0.463109</td><td>0.213313</td><td>0.213313</td></tr><tr><th>20</th><td>-1.36253</td><td>0.301551</td><td>0.301551</td></tr><tr><th>&vellip;</th><td>&vellip;</td><td>&vellip;</td><td>&vellip;</td></tr></tbody></table>"
      ],
      "text/latex": [
       "\\begin{tabular}{r|ccc}\n",
       "\t& data & sma\\_sk & sma\\_tullio\\\\\n",
       "\t\\hline\n",
       "\t& Float64 & Float64 & Float64?\\\\\n",
       "\t\\hline\n",
       "\t1 & 1.01386 & 1.01386 & \\emph{missing} \\\\\n",
       "\t2 & -0.0648729 & 0.474494 & \\emph{missing} \\\\\n",
       "\t3 & -0.998316 & -0.0164429 & \\emph{missing} \\\\\n",
       "\t4 & 0.149736 & 0.0251018 & \\emph{missing} \\\\\n",
       "\t5 & -0.642035 & -0.108325 & \\emph{missing} \\\\\n",
       "\t6 & 0.480422 & -0.0102009 & \\emph{missing} \\\\\n",
       "\t7 & -0.0102204 & -0.0102037 & \\emph{missing} \\\\\n",
       "\t8 & 1.12168 & 0.131282 & \\emph{missing} \\\\\n",
       "\t9 & 0.586801 & 0.181896 & \\emph{missing} \\\\\n",
       "\t10 & -2.24492 & -0.0607858 & -0.0607858 \\\\\n",
       "\t11 & 1.16047 & -0.0461244 & -0.0461244 \\\\\n",
       "\t12 & -0.855853 & -0.125222 & -0.125222 \\\\\n",
       "\t13 & 1.44948 & 0.119558 & 0.119558 \\\\\n",
       "\t14 & 1.07695 & 0.212279 & 0.212279 \\\\\n",
       "\t15 & 0.13656 & 0.290139 & 0.290139 \\\\\n",
       "\t16 & -0.230683 & 0.219028 & 0.219028 \\\\\n",
       "\t17 & 0.470435 & 0.267094 & 0.267094 \\\\\n",
       "\t18 & 0.707565 & 0.225682 & 0.225682 \\\\\n",
       "\t19 & 0.463109 & 0.213313 & 0.213313 \\\\\n",
       "\t20 & -1.36253 & 0.301551 & 0.301551 \\\\\n",
       "\t$\\dots$ & $\\dots$ & $\\dots$ & $\\dots$ \\\\\n",
       "\\end{tabular}\n"
      ],
      "text/plain": [
       "\u001b[1m100000000×3 DataFrame\u001b[0m\n",
       "\u001b[1m       Row \u001b[0m│\u001b[1m data       \u001b[0m\u001b[1m sma_sk      \u001b[0m\u001b[1m sma_tullio       \u001b[0m\n",
       "\u001b[1m           \u001b[0m│\u001b[90m Float64    \u001b[0m\u001b[90m Float64     \u001b[0m\u001b[90m Float64?         \u001b[0m\n",
       "───────────┼───────────────────────────────────────────\n",
       "         1 │  1.01386     1.01386    \u001b[90m missing          \u001b[0m\n",
       "         2 │ -0.0648729   0.474494   \u001b[90m missing          \u001b[0m\n",
       "         3 │ -0.998316   -0.0164429  \u001b[90m missing          \u001b[0m\n",
       "         4 │  0.149736    0.0251018  \u001b[90m missing          \u001b[0m\n",
       "         5 │ -0.642035   -0.108325   \u001b[90m missing          \u001b[0m\n",
       "         6 │  0.480422   -0.0102009  \u001b[90m missing          \u001b[0m\n",
       "     ⋮     │     ⋮            ⋮              ⋮\n",
       "  99999996 │  0.400301   -0.290359         -0.290359\n",
       "  99999997 │  0.295795   -0.0957551        -0.0957551\n",
       "  99999998 │  1.51181     0.153394          0.153394\n",
       "  99999999 │ -1.80681     0.00558398        0.00558398\n",
       " 100000000 │  0.71006     0.200085          0.200085\n",
       "\u001b[31m                                  99999989 rows omitted\u001b[0m"
      ]
     },
     "execution_count": 5,
     "metadata": {},
     "output_type": "execute_result"
    }
   ],
   "source": [
    "# Contains code originally from Michael Abbott\n",
    "\n",
    "tmp = Array{Union{Missing, Float64}}(missing, length(df.data));\n",
    "\n",
    "function f_tullio(data, sma)\n",
    "    out_view = @view sma[10:end]\n",
    "    @tullio out_view[i] = 0.1*data[i+o]  o in 0:9  # verbose=true;\n",
    "    sma\n",
    "end\n",
    "\n",
    "df[!, \"sma_tullio\"] = f_tullio(df.data, tmp)\n",
    "df"
   ]
  },
  {
   "cell_type": "code",
   "execution_count": null,
   "metadata": {},
   "outputs": [],
   "source": []
  },
  {
   "cell_type": "code",
   "execution_count": 6,
   "metadata": {},
   "outputs": [
    {
     "data": {
      "text/plain": [
       "rollingmean2 (generic function with 1 method)"
      ]
     },
     "execution_count": 6,
     "metadata": {},
     "output_type": "execute_result"
    }
   ],
   "source": [
    "# Contains code originally from Peter Deffebach\n",
    "\n",
    "out = Vector{Union{Missing, Float64}}(undef, N)\n",
    "\n",
    "function rollingmean2(x, m, out)\n",
    "    N = length(x)\n",
    "    out[1:(m-1)] .= missing\n",
    "    sm = mean(@view x[1:m])\n",
    "    out[m] = sm\n",
    "    @inbounds @simd for i in (m+1):length(x)\n",
    "        sm += (x[i] - x[i-m]) / m\n",
    "        out[i] = sm\n",
    "    end\n",
    "    return out \n",
    "end"
   ]
  },
  {
   "cell_type": "code",
   "execution_count": 7,
   "metadata": {},
   "outputs": [
    {
     "data": {
      "text/html": [
       "<table class=\"data-frame\"><thead><tr><th></th><th>data</th><th>sma_sk</th><th>sma_tullio</th><th>sma_simd</th></tr><tr><th></th><th>Float64</th><th>Float64</th><th>Float64?</th><th>Float64?</th></tr></thead><tbody><p>100,000,000 rows × 4 columns</p><tr><th>1</th><td>1.01386</td><td>1.01386</td><td><em>missing</em></td><td><em>missing</em></td></tr><tr><th>2</th><td>-0.0648729</td><td>0.474494</td><td><em>missing</em></td><td><em>missing</em></td></tr><tr><th>3</th><td>-0.998316</td><td>-0.0164429</td><td><em>missing</em></td><td><em>missing</em></td></tr><tr><th>4</th><td>0.149736</td><td>0.0251018</td><td><em>missing</em></td><td><em>missing</em></td></tr><tr><th>5</th><td>-0.642035</td><td>-0.108325</td><td><em>missing</em></td><td><em>missing</em></td></tr><tr><th>6</th><td>0.480422</td><td>-0.0102009</td><td><em>missing</em></td><td><em>missing</em></td></tr><tr><th>7</th><td>-0.0102204</td><td>-0.0102037</td><td><em>missing</em></td><td><em>missing</em></td></tr><tr><th>8</th><td>1.12168</td><td>0.131282</td><td><em>missing</em></td><td><em>missing</em></td></tr><tr><th>9</th><td>0.586801</td><td>0.181896</td><td><em>missing</em></td><td><em>missing</em></td></tr><tr><th>10</th><td>-2.24492</td><td>-0.0607858</td><td>-0.0607858</td><td>-0.0607858</td></tr><tr><th>11</th><td>1.16047</td><td>-0.0461244</td><td>-0.0461244</td><td>-0.0461244</td></tr><tr><th>12</th><td>-0.855853</td><td>-0.125222</td><td>-0.125222</td><td>-0.125222</td></tr><tr><th>13</th><td>1.44948</td><td>0.119558</td><td>0.119558</td><td>0.119558</td></tr><tr><th>14</th><td>1.07695</td><td>0.212279</td><td>0.212279</td><td>0.212279</td></tr><tr><th>15</th><td>0.13656</td><td>0.290139</td><td>0.290139</td><td>0.290139</td></tr><tr><th>16</th><td>-0.230683</td><td>0.219028</td><td>0.219028</td><td>0.219028</td></tr><tr><th>17</th><td>0.470435</td><td>0.267094</td><td>0.267094</td><td>0.267094</td></tr><tr><th>18</th><td>0.707565</td><td>0.225682</td><td>0.225682</td><td>0.225682</td></tr><tr><th>19</th><td>0.463109</td><td>0.213313</td><td>0.213313</td><td>0.213313</td></tr><tr><th>20</th><td>-1.36253</td><td>0.301551</td><td>0.301551</td><td>0.301551</td></tr><tr><th>&vellip;</th><td>&vellip;</td><td>&vellip;</td><td>&vellip;</td><td>&vellip;</td></tr></tbody></table>"
      ],
      "text/latex": [
       "\\begin{tabular}{r|cccc}\n",
       "\t& data & sma\\_sk & sma\\_tullio & sma\\_simd\\\\\n",
       "\t\\hline\n",
       "\t& Float64 & Float64 & Float64? & Float64?\\\\\n",
       "\t\\hline\n",
       "\t1 & 1.01386 & 1.01386 & \\emph{missing} & \\emph{missing} \\\\\n",
       "\t2 & -0.0648729 & 0.474494 & \\emph{missing} & \\emph{missing} \\\\\n",
       "\t3 & -0.998316 & -0.0164429 & \\emph{missing} & \\emph{missing} \\\\\n",
       "\t4 & 0.149736 & 0.0251018 & \\emph{missing} & \\emph{missing} \\\\\n",
       "\t5 & -0.642035 & -0.108325 & \\emph{missing} & \\emph{missing} \\\\\n",
       "\t6 & 0.480422 & -0.0102009 & \\emph{missing} & \\emph{missing} \\\\\n",
       "\t7 & -0.0102204 & -0.0102037 & \\emph{missing} & \\emph{missing} \\\\\n",
       "\t8 & 1.12168 & 0.131282 & \\emph{missing} & \\emph{missing} \\\\\n",
       "\t9 & 0.586801 & 0.181896 & \\emph{missing} & \\emph{missing} \\\\\n",
       "\t10 & -2.24492 & -0.0607858 & -0.0607858 & -0.0607858 \\\\\n",
       "\t11 & 1.16047 & -0.0461244 & -0.0461244 & -0.0461244 \\\\\n",
       "\t12 & -0.855853 & -0.125222 & -0.125222 & -0.125222 \\\\\n",
       "\t13 & 1.44948 & 0.119558 & 0.119558 & 0.119558 \\\\\n",
       "\t14 & 1.07695 & 0.212279 & 0.212279 & 0.212279 \\\\\n",
       "\t15 & 0.13656 & 0.290139 & 0.290139 & 0.290139 \\\\\n",
       "\t16 & -0.230683 & 0.219028 & 0.219028 & 0.219028 \\\\\n",
       "\t17 & 0.470435 & 0.267094 & 0.267094 & 0.267094 \\\\\n",
       "\t18 & 0.707565 & 0.225682 & 0.225682 & 0.225682 \\\\\n",
       "\t19 & 0.463109 & 0.213313 & 0.213313 & 0.213313 \\\\\n",
       "\t20 & -1.36253 & 0.301551 & 0.301551 & 0.301551 \\\\\n",
       "\t$\\dots$ & $\\dots$ & $\\dots$ & $\\dots$ & $\\dots$ \\\\\n",
       "\\end{tabular}\n"
      ],
      "text/plain": [
       "\u001b[1m100000000×4 DataFrame\u001b[0m\n",
       "\u001b[1m       Row \u001b[0m│\u001b[1m data       \u001b[0m\u001b[1m sma_sk      \u001b[0m\u001b[1m sma_tullio       \u001b[0m\u001b[1m sma_simd         \u001b[0m\n",
       "\u001b[1m           \u001b[0m│\u001b[90m Float64    \u001b[0m\u001b[90m Float64     \u001b[0m\u001b[90m Float64?         \u001b[0m\u001b[90m Float64?         \u001b[0m\n",
       "───────────┼─────────────────────────────────────────────────────────────\n",
       "         1 │  1.01386     1.01386    \u001b[90m missing          \u001b[0m\u001b[90m missing          \u001b[0m\n",
       "         2 │ -0.0648729   0.474494   \u001b[90m missing          \u001b[0m\u001b[90m missing          \u001b[0m\n",
       "         3 │ -0.998316   -0.0164429  \u001b[90m missing          \u001b[0m\u001b[90m missing          \u001b[0m\n",
       "         4 │  0.149736    0.0251018  \u001b[90m missing          \u001b[0m\u001b[90m missing          \u001b[0m\n",
       "         5 │ -0.642035   -0.108325   \u001b[90m missing          \u001b[0m\u001b[90m missing          \u001b[0m\n",
       "         6 │  0.480422   -0.0102009  \u001b[90m missing          \u001b[0m\u001b[90m missing          \u001b[0m\n",
       "     ⋮     │     ⋮            ⋮              ⋮                 ⋮\n",
       "  99999996 │  0.400301   -0.290359         -0.290359         -0.290359\n",
       "  99999997 │  0.295795   -0.0957551        -0.0957551        -0.0957551\n",
       "  99999998 │  1.51181     0.153394          0.153394          0.153394\n",
       "  99999999 │ -1.80681     0.00558398        0.00558398        0.00558398\n",
       " 100000000 │  0.71006     0.200085          0.200085          0.200085\n",
       "\u001b[31m                                                    99999989 rows omitted\u001b[0m"
      ]
     },
     "execution_count": 7,
     "metadata": {},
     "output_type": "execute_result"
    }
   ],
   "source": [
    "df[!, \"sma_simd\"] = rollingmean2(df.data, 10, out)\n",
    "df"
   ]
  },
  {
   "cell_type": "code",
   "execution_count": null,
   "metadata": {},
   "outputs": [],
   "source": []
  },
  {
   "cell_type": "code",
   "execution_count": 8,
   "metadata": {},
   "outputs": [
    {
     "data": {
      "text/plain": [
       "true"
      ]
     },
     "execution_count": 8,
     "metadata": {},
     "output_type": "execute_result"
    }
   ],
   "source": [
    "df.sma_sk[10:end] ≈ df.sma_tullio[10:end]"
   ]
  },
  {
   "cell_type": "code",
   "execution_count": 9,
   "metadata": {},
   "outputs": [
    {
     "data": {
      "text/plain": [
       "true"
      ]
     },
     "execution_count": 9,
     "metadata": {},
     "output_type": "execute_result"
    }
   ],
   "source": [
    "df.sma_sk[10:end] ≈ df.sma_simd[10:end]"
   ]
  },
  {
   "cell_type": "code",
   "execution_count": null,
   "metadata": {},
   "outputs": [],
   "source": []
  },
  {
   "cell_type": "code",
   "execution_count": 10,
   "metadata": {},
   "outputs": [
    {
     "data": {
      "text/plain": [
       "BenchmarkTools.Trial: \n",
       "  memory estimate:  762.94 MiB\n",
       "  allocs estimate:  2\n",
       "  --------------\n",
       "  minimum time:     999.771 ms (0.09% GC)\n",
       "  median time:      1.076 s (0.13% GC)\n",
       "  mean time:        1.065 s (4.00% GC)\n",
       "  maximum time:     1.140 s (7.71% GC)\n",
       "  --------------\n",
       "  samples:          5\n",
       "  evals/sample:     1"
      ]
     },
     "execution_count": 10,
     "metadata": {},
     "output_type": "execute_result"
    }
   ],
   "source": [
    "@benchmark applyrolling(k, df.data)"
   ]
  },
  {
   "cell_type": "code",
   "execution_count": 11,
   "metadata": {},
   "outputs": [
    {
     "data": {
      "text/plain": [
       "BenchmarkTools.Trial: \n",
       "  memory estimate:  7.61 KiB\n",
       "  allocs estimate:  115\n",
       "  --------------\n",
       "  minimum time:     136.106 ms (0.00% GC)\n",
       "  median time:      144.978 ms (0.00% GC)\n",
       "  mean time:        145.947 ms (0.00% GC)\n",
       "  maximum time:     164.684 ms (0.00% GC)\n",
       "  --------------\n",
       "  samples:          35\n",
       "  evals/sample:     1"
      ]
     },
     "execution_count": 11,
     "metadata": {},
     "output_type": "execute_result"
    }
   ],
   "source": [
    "@benchmark f_tullio(df.data, tmp)"
   ]
  },
  {
   "cell_type": "code",
   "execution_count": 12,
   "metadata": {},
   "outputs": [
    {
     "data": {
      "text/plain": [
       "BenchmarkTools.Trial: \n",
       "  memory estimate:  0 bytes\n",
       "  allocs estimate:  0\n",
       "  --------------\n",
       "  minimum time:     125.207 ms (0.00% GC)\n",
       "  median time:      134.323 ms (0.00% GC)\n",
       "  mean time:        138.642 ms (0.00% GC)\n",
       "  maximum time:     162.930 ms (0.00% GC)\n",
       "  --------------\n",
       "  samples:          37\n",
       "  evals/sample:     1"
      ]
     },
     "execution_count": 12,
     "metadata": {},
     "output_type": "execute_result"
    }
   ],
   "source": [
    "@benchmark rollingmean2(df.data, 10, out)"
   ]
  },
  {
   "cell_type": "code",
   "execution_count": null,
   "metadata": {},
   "outputs": [],
   "source": []
  }
 ],
 "metadata": {
  "kernelspec": {
   "display_name": "Julia 1.5.3",
   "language": "julia",
   "name": "julia-1.5"
  },
  "language_info": {
   "file_extension": ".jl",
   "mimetype": "application/julia",
   "name": "julia",
   "version": "1.5.3"
  }
 },
 "nbformat": 4,
 "nbformat_minor": 4
}
