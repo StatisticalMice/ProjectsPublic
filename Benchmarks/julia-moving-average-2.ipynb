{
 "cells": [
  {
   "cell_type": "markdown",
   "metadata": {},
   "source": [
    "This notebook contains code that is good enough for demonstration purposes here, not fully tested code ready for real use."
   ]
  },
  {
   "cell_type": "code",
   "execution_count": 3,
   "metadata": {},
   "outputs": [
    {
     "name": "stderr",
     "output_type": "stream",
     "text": [
      "\u001b[32m\u001b[1m Activating\u001b[22m\u001b[39m environment at `/Volumes/MyFiles/GitRepos/StatisticalMice/ProjectsPublic/Benchmarks/Project.toml`\n"
     ]
    }
   ],
   "source": [
    "cd(@__DIR__)\n",
    "using Pkg\n",
    "Pkg.activate(\".\")\n",
    "Pkg.instantiate()"
   ]
  },
  {
   "cell_type": "code",
   "execution_count": 4,
   "metadata": {},
   "outputs": [
    {
     "name": "stdout",
     "output_type": "stream",
     "text": [
      "\u001b[32m\u001b[1mStatus\u001b[22m\u001b[39m `/Volumes/MyFiles/GitRepos/StatisticalMice/ProjectsPublic/Benchmarks/Project.toml`\n",
      " \u001b[90m [6e4b80f9] \u001b[39m\u001b[37mBenchmarkTools v0.5.0\u001b[39m\n",
      " \u001b[90m [a93c6f00] \u001b[39m\u001b[37mDataFrames v0.22.4\u001b[39m\n",
      " \u001b[90m [31c24e10] \u001b[39m\u001b[37mDistributions v0.24.12\u001b[39m\n",
      " \u001b[90m [bdcacae8] \u001b[39m\u001b[37mLoopVectorization v0.10.0\u001b[39m\n",
      " \u001b[90m [91a5bcdd] \u001b[39m\u001b[37mPlots v1.10.2\u001b[39m\n",
      " \u001b[90m [b0e4dd01] \u001b[39m\u001b[37mRollingFunctions v0.6.2\u001b[39m\n",
      " \u001b[90m [c6e7a17c] \u001b[39m\u001b[37mSantasLittleHelpers v0.2.1\u001b[39m\n",
      " \u001b[90m [4c63dfa8] \u001b[39m\u001b[37mStaticKernels v0.5.1\u001b[39m\n",
      " \u001b[90m [ac1d9e8a] \u001b[39m\u001b[37mThreadsX v0.1.7\u001b[39m\n",
      " \u001b[90m [9ff05d80] \u001b[39m\u001b[37mTickTock v1.1.0\u001b[39m\n",
      " \u001b[90m [bc48ee85] \u001b[39m\u001b[37mTullio v0.2.11\u001b[39m\n",
      " \u001b[90m [9a3f8284] \u001b[39m\u001b[37mRandom\u001b[39m\n",
      " \u001b[90m [10745b16] \u001b[39m\u001b[37mStatistics\u001b[39m\n"
     ]
    }
   ],
   "source": [
    "Pkg.status()"
   ]
  },
  {
   "cell_type": "code",
   "execution_count": 5,
   "metadata": {},
   "outputs": [
    {
     "data": {
      "text/plain": [
       "(v\"1.5.3\", 1, 8)"
      ]
     },
     "execution_count": 5,
     "metadata": {},
     "output_type": "execute_result"
    }
   ],
   "source": [
    "# Set some notebook defaults\n",
    "ENV[\"COLUMNS\"] = 1000; ENV[\"LINES\"] = 20;\n",
    "\n",
    "# Display information about the environment\n",
    "VERSION, Base.Threads.nthreads(), Base.Sys.CPU_THREADS"
   ]
  },
  {
   "cell_type": "code",
   "execution_count": 6,
   "metadata": {},
   "outputs": [
    {
     "name": "stderr",
     "output_type": "stream",
     "text": [
      "┌ Info: Precompiling Tullio [bc48ee85-29a4-5162-ae0b-a64e1601d4bc]\n",
      "└ @ Base loading.jl:1278\n",
      "┌ Info: Precompiling LoopVectorization [bdcacae8-1622-11e9-2a5c-532679323890]\n",
      "└ @ Base loading.jl:1278\n",
      "┌ Info: Precompiling StaticKernels [4c63dfa8-a427-4548-bd2f-4c19e87a7dc7]\n",
      "└ @ Base loading.jl:1278\n",
      "┌ Info: Precompiling SantasLittleHelpers [c6e7a17c-0287-4a42-9433-7fe3bf8697c3]\n",
      "└ @ Base loading.jl:1278\n",
      "┌ Info: Precompiling RollingFunctions [b0e4dd01-7b14-53d8-9b45-175a3e362653]\n",
      "└ @ Base loading.jl:1278\n",
      "┌ Info: Precompiling ThreadsX [ac1d9e8a-700a-412c-b207-f0111f4b6c0d]\n",
      "└ @ Base loading.jl:1278\n",
      "┌ Info: Precompiling Plots [91a5bcdd-55d7-5caf-9e0b-520d859cae80]\n",
      "└ @ Base loading.jl:1278\n"
     ]
    }
   ],
   "source": [
    "using Random, Distributions, BenchmarkTools, Tullio, LoopVectorization, DataFrames, StaticKernels, SantasLittleHelpers\n",
    "using RollingFunctions, ThreadsX, Plots, Statistics"
   ]
  },
  {
   "cell_type": "code",
   "execution_count": 7,
   "metadata": {},
   "outputs": [
    {
     "data": {
      "text/html": [
       "<table class=\"data-frame\"><thead><tr><th></th><th>data</th></tr><tr><th></th><th>Float64</th></tr></thead><tbody><p>100,000,000 rows × 1 columns</p><tr><th>1</th><td>-0.718387</td></tr><tr><th>2</th><td>-1.70469</td></tr><tr><th>3</th><td>-0.119375</td></tr><tr><th>4</th><td>0.964274</td></tr><tr><th>5</th><td>-1.14903</td></tr><tr><th>6</th><td>-0.898717</td></tr><tr><th>7</th><td>0.699986</td></tr><tr><th>8</th><td>1.03605</td></tr><tr><th>9</th><td>0.0552365</td></tr><tr><th>10</th><td>0.770614</td></tr><tr><th>11</th><td>0.310835</td></tr><tr><th>12</th><td>0.814233</td></tr><tr><th>13</th><td>-0.105883</td></tr><tr><th>14</th><td>0.239496</td></tr><tr><th>15</th><td>-0.0803054</td></tr><tr><th>16</th><td>0.587791</td></tr><tr><th>17</th><td>1.44367</td></tr><tr><th>18</th><td>-1.78702</td></tr><tr><th>19</th><td>-0.586013</td></tr><tr><th>20</th><td>0.144242</td></tr><tr><th>&vellip;</th><td>&vellip;</td></tr></tbody></table>"
      ],
      "text/latex": [
       "\\begin{tabular}{r|c}\n",
       "\t& data\\\\\n",
       "\t\\hline\n",
       "\t& Float64\\\\\n",
       "\t\\hline\n",
       "\t1 & -0.718387 \\\\\n",
       "\t2 & -1.70469 \\\\\n",
       "\t3 & -0.119375 \\\\\n",
       "\t4 & 0.964274 \\\\\n",
       "\t5 & -1.14903 \\\\\n",
       "\t6 & -0.898717 \\\\\n",
       "\t7 & 0.699986 \\\\\n",
       "\t8 & 1.03605 \\\\\n",
       "\t9 & 0.0552365 \\\\\n",
       "\t10 & 0.770614 \\\\\n",
       "\t11 & 0.310835 \\\\\n",
       "\t12 & 0.814233 \\\\\n",
       "\t13 & -0.105883 \\\\\n",
       "\t14 & 0.239496 \\\\\n",
       "\t15 & -0.0803054 \\\\\n",
       "\t16 & 0.587791 \\\\\n",
       "\t17 & 1.44367 \\\\\n",
       "\t18 & -1.78702 \\\\\n",
       "\t19 & -0.586013 \\\\\n",
       "\t20 & 0.144242 \\\\\n",
       "\t$\\dots$ & $\\dots$ \\\\\n",
       "\\end{tabular}\n"
      ],
      "text/plain": [
       "\u001b[1m100000000×1 DataFrame\u001b[0m\n",
       "\u001b[1m       Row \u001b[0m│\u001b[1m data       \u001b[0m\n",
       "\u001b[1m           \u001b[0m│\u001b[90m Float64    \u001b[0m\n",
       "───────────┼────────────\n",
       "         1 │ -0.718387\n",
       "         2 │ -1.70469\n",
       "         3 │ -0.119375\n",
       "         4 │  0.964274\n",
       "         5 │ -1.14903\n",
       "         6 │ -0.898717\n",
       "     ⋮     │     ⋮\n",
       "  99999996 │ -1.12111\n",
       "  99999997 │ -0.490131\n",
       "  99999998 │  2.43922\n",
       "  99999999 │  0.0631855\n",
       " 100000000 │  0.157047\n",
       "\u001b[36m   99999989 rows omitted\u001b[0m"
      ]
     },
     "execution_count": 7,
     "metadata": {},
     "output_type": "execute_result"
    }
   ],
   "source": [
    "w_size = 15 # window size for rolling average\n",
    "N = 10^8\n",
    "d = Normal()\n",
    "df = DataFrame(:data => rand(d, N))\n",
    "# df = DataFrame(data = ones(N))"
   ]
  },
  {
   "cell_type": "code",
   "execution_count": 8,
   "metadata": {},
   "outputs": [
    {
     "data": {
      "text/html": [
       "<table class=\"data-frame\"><thead><tr><th></th><th>data</th><th>sma_rf</th></tr><tr><th></th><th>Float64</th><th>Float64</th></tr></thead><tbody><p>100,000,000 rows × 2 columns</p><tr><th>1</th><td>-0.718387</td><td>-0.718387</td></tr><tr><th>2</th><td>-1.70469</td><td>-1.21154</td></tr><tr><th>3</th><td>-0.119375</td><td>-0.847485</td></tr><tr><th>4</th><td>0.964274</td><td>-0.394545</td></tr><tr><th>5</th><td>-1.14903</td><td>-0.545443</td></tr><tr><th>6</th><td>-0.898717</td><td>-0.604322</td></tr><tr><th>7</th><td>0.699986</td><td>-0.417992</td></tr><tr><th>8</th><td>1.03605</td><td>-0.236237</td></tr><tr><th>9</th><td>0.0552365</td><td>-0.203851</td></tr><tr><th>10</th><td>0.770614</td><td>-0.106404</td></tr><tr><th>11</th><td>0.310835</td><td>-0.0684736</td></tr><tr><th>12</th><td>0.814233</td><td>0.00508529</td></tr><tr><th>13</th><td>-0.105883</td><td>-0.00345076</td></tr><tr><th>14</th><td>0.239496</td><td>0.0139026</td></tr><tr><th>15</th><td>-0.0803054</td><td>0.00762205</td></tr><tr><th>16</th><td>0.587791</td><td>0.0947006</td></tr><tr><th>17</th><td>1.44367</td><td>0.304591</td></tr><tr><th>18</th><td>-1.78702</td><td>0.193415</td></tr><tr><th>19</th><td>-0.586013</td><td>0.0900622</td></tr><tr><th>20</th><td>0.144242</td><td>0.17628</td></tr><tr><th>&vellip;</th><td>&vellip;</td><td>&vellip;</td></tr></tbody></table>"
      ],
      "text/latex": [
       "\\begin{tabular}{r|cc}\n",
       "\t& data & sma\\_rf\\\\\n",
       "\t\\hline\n",
       "\t& Float64 & Float64\\\\\n",
       "\t\\hline\n",
       "\t1 & -0.718387 & -0.718387 \\\\\n",
       "\t2 & -1.70469 & -1.21154 \\\\\n",
       "\t3 & -0.119375 & -0.847485 \\\\\n",
       "\t4 & 0.964274 & -0.394545 \\\\\n",
       "\t5 & -1.14903 & -0.545443 \\\\\n",
       "\t6 & -0.898717 & -0.604322 \\\\\n",
       "\t7 & 0.699986 & -0.417992 \\\\\n",
       "\t8 & 1.03605 & -0.236237 \\\\\n",
       "\t9 & 0.0552365 & -0.203851 \\\\\n",
       "\t10 & 0.770614 & -0.106404 \\\\\n",
       "\t11 & 0.310835 & -0.0684736 \\\\\n",
       "\t12 & 0.814233 & 0.00508529 \\\\\n",
       "\t13 & -0.105883 & -0.00345076 \\\\\n",
       "\t14 & 0.239496 & 0.0139026 \\\\\n",
       "\t15 & -0.0803054 & 0.00762205 \\\\\n",
       "\t16 & 0.587791 & 0.0947006 \\\\\n",
       "\t17 & 1.44367 & 0.304591 \\\\\n",
       "\t18 & -1.78702 & 0.193415 \\\\\n",
       "\t19 & -0.586013 & 0.0900622 \\\\\n",
       "\t20 & 0.144242 & 0.17628 \\\\\n",
       "\t$\\dots$ & $\\dots$ & $\\dots$ \\\\\n",
       "\\end{tabular}\n"
      ],
      "text/plain": [
       "\u001b[1m100000000×2 DataFrame\u001b[0m\n",
       "\u001b[1m       Row \u001b[0m│\u001b[1m data       \u001b[0m\u001b[1m sma_rf    \u001b[0m\n",
       "\u001b[1m           \u001b[0m│\u001b[90m Float64    \u001b[0m\u001b[90m Float64   \u001b[0m\n",
       "───────────┼───────────────────────\n",
       "         1 │ -0.718387   -0.718387\n",
       "         2 │ -1.70469    -1.21154\n",
       "         3 │ -0.119375   -0.847485\n",
       "         4 │  0.964274   -0.394545\n",
       "         5 │ -1.14903    -0.545443\n",
       "         6 │ -0.898717   -0.604322\n",
       "     ⋮     │     ⋮           ⋮\n",
       "  99999996 │ -1.12111     0.445825\n",
       "  99999997 │ -0.490131    0.505472\n",
       "  99999998 │  2.43922     0.6675\n",
       "  99999999 │  0.0631855   0.617549\n",
       " 100000000 │  0.157047    0.599064\n",
       "\u001b[36m              99999989 rows omitted\u001b[0m"
      ]
     },
     "execution_count": 8,
     "metadata": {},
     "output_type": "execute_result"
    }
   ],
   "source": [
    "df[!, \"sma_rf\"] = runmean(df.data, w_size)\n",
    "df"
   ]
  },
  {
   "cell_type": "code",
   "execution_count": 9,
   "metadata": {},
   "outputs": [
    {
     "data": {
      "text/html": [
       "<table class=\"data-frame\"><thead><tr><th></th><th>data</th><th>sma_rf</th><th>sma_sk</th></tr><tr><th></th><th>Float64</th><th>Float64</th><th>Float64</th></tr></thead><tbody><p>100,000,000 rows × 3 columns</p><tr><th>1</th><td>-0.718387</td><td>-0.718387</td><td>-0.718387</td></tr><tr><th>2</th><td>-1.70469</td><td>-1.21154</td><td>-1.21154</td></tr><tr><th>3</th><td>-0.119375</td><td>-0.847485</td><td>-0.847485</td></tr><tr><th>4</th><td>0.964274</td><td>-0.394545</td><td>-0.394545</td></tr><tr><th>5</th><td>-1.14903</td><td>-0.545443</td><td>-0.545443</td></tr><tr><th>6</th><td>-0.898717</td><td>-0.604322</td><td>-0.604322</td></tr><tr><th>7</th><td>0.699986</td><td>-0.417992</td><td>-0.417992</td></tr><tr><th>8</th><td>1.03605</td><td>-0.236237</td><td>-0.236237</td></tr><tr><th>9</th><td>0.0552365</td><td>-0.203851</td><td>-0.203851</td></tr><tr><th>10</th><td>0.770614</td><td>-0.106404</td><td>-0.106404</td></tr><tr><th>11</th><td>0.310835</td><td>-0.0684736</td><td>-0.0684736</td></tr><tr><th>12</th><td>0.814233</td><td>0.00508529</td><td>0.00508529</td></tr><tr><th>13</th><td>-0.105883</td><td>-0.00345076</td><td>-0.00345076</td></tr><tr><th>14</th><td>0.239496</td><td>0.0139026</td><td>0.0139026</td></tr><tr><th>15</th><td>-0.0803054</td><td>0.00762205</td><td>0.00762205</td></tr><tr><th>16</th><td>0.587791</td><td>0.0947006</td><td>0.0947006</td></tr><tr><th>17</th><td>1.44367</td><td>0.304591</td><td>0.304591</td></tr><tr><th>18</th><td>-1.78702</td><td>0.193415</td><td>0.193415</td></tr><tr><th>19</th><td>-0.586013</td><td>0.0900622</td><td>0.0900622</td></tr><tr><th>20</th><td>0.144242</td><td>0.17628</td><td>0.17628</td></tr><tr><th>&vellip;</th><td>&vellip;</td><td>&vellip;</td><td>&vellip;</td></tr></tbody></table>"
      ],
      "text/latex": [
       "\\begin{tabular}{r|ccc}\n",
       "\t& data & sma\\_rf & sma\\_sk\\\\\n",
       "\t\\hline\n",
       "\t& Float64 & Float64 & Float64\\\\\n",
       "\t\\hline\n",
       "\t1 & -0.718387 & -0.718387 & -0.718387 \\\\\n",
       "\t2 & -1.70469 & -1.21154 & -1.21154 \\\\\n",
       "\t3 & -0.119375 & -0.847485 & -0.847485 \\\\\n",
       "\t4 & 0.964274 & -0.394545 & -0.394545 \\\\\n",
       "\t5 & -1.14903 & -0.545443 & -0.545443 \\\\\n",
       "\t6 & -0.898717 & -0.604322 & -0.604322 \\\\\n",
       "\t7 & 0.699986 & -0.417992 & -0.417992 \\\\\n",
       "\t8 & 1.03605 & -0.236237 & -0.236237 \\\\\n",
       "\t9 & 0.0552365 & -0.203851 & -0.203851 \\\\\n",
       "\t10 & 0.770614 & -0.106404 & -0.106404 \\\\\n",
       "\t11 & 0.310835 & -0.0684736 & -0.0684736 \\\\\n",
       "\t12 & 0.814233 & 0.00508529 & 0.00508529 \\\\\n",
       "\t13 & -0.105883 & -0.00345076 & -0.00345076 \\\\\n",
       "\t14 & 0.239496 & 0.0139026 & 0.0139026 \\\\\n",
       "\t15 & -0.0803054 & 0.00762205 & 0.00762205 \\\\\n",
       "\t16 & 0.587791 & 0.0947006 & 0.0947006 \\\\\n",
       "\t17 & 1.44367 & 0.304591 & 0.304591 \\\\\n",
       "\t18 & -1.78702 & 0.193415 & 0.193415 \\\\\n",
       "\t19 & -0.586013 & 0.0900622 & 0.0900622 \\\\\n",
       "\t20 & 0.144242 & 0.17628 & 0.17628 \\\\\n",
       "\t$\\dots$ & $\\dots$ & $\\dots$ & $\\dots$ \\\\\n",
       "\\end{tabular}\n"
      ],
      "text/plain": [
       "\u001b[1m100000000×3 DataFrame\u001b[0m\n",
       "\u001b[1m       Row \u001b[0m│\u001b[1m data       \u001b[0m\u001b[1m sma_rf    \u001b[0m\u001b[1m sma_sk    \u001b[0m\n",
       "\u001b[1m           \u001b[0m│\u001b[90m Float64    \u001b[0m\u001b[90m Float64   \u001b[0m\u001b[90m Float64   \u001b[0m\n",
       "───────────┼──────────────────────────────────\n",
       "         1 │ -0.718387   -0.718387  -0.718387\n",
       "         2 │ -1.70469    -1.21154   -1.21154\n",
       "         3 │ -0.119375   -0.847485  -0.847485\n",
       "         4 │  0.964274   -0.394545  -0.394545\n",
       "         5 │ -1.14903    -0.545443  -0.545443\n",
       "         6 │ -0.898717   -0.604322  -0.604322\n",
       "     ⋮     │     ⋮           ⋮          ⋮\n",
       "  99999996 │ -1.12111     0.445825   0.445825\n",
       "  99999997 │ -0.490131    0.505472   0.505472\n",
       "  99999998 │  2.43922     0.6675     0.6675\n",
       "  99999999 │  0.0631855   0.617549   0.617549\n",
       " 100000000 │  0.157047    0.599064   0.599064\n",
       "\u001b[36m                         99999989 rows omitted\u001b[0m"
      ]
     },
     "execution_count": 9,
     "metadata": {},
     "output_type": "execute_result"
    }
   ],
   "source": [
    "# Calculate sma using StaticKernels and SantasLittleHelpers\n",
    "# Contains code originally from Tyler Beason\n",
    "\n",
    "k = makekernel(mean,-w_size+1:0)\n",
    "df[!, \"sma_sk\"] = applyrolling(k, df.data)\n",
    "df"
   ]
  },
  {
   "cell_type": "code",
   "execution_count": null,
   "metadata": {},
   "outputs": [],
   "source": []
  },
  {
   "cell_type": "code",
   "execution_count": 10,
   "metadata": {},
   "outputs": [
    {
     "data": {
      "text/html": [
       "<table class=\"data-frame\"><thead><tr><th></th><th>data</th><th>sma_rf</th><th>sma_sk</th><th>sma_tullio</th></tr><tr><th></th><th>Float64</th><th>Float64</th><th>Float64</th><th>Float64?</th></tr></thead><tbody><p>100,000,000 rows × 4 columns</p><tr><th>1</th><td>-0.718387</td><td>-0.718387</td><td>-0.718387</td><td><em>missing</em></td></tr><tr><th>2</th><td>-1.70469</td><td>-1.21154</td><td>-1.21154</td><td><em>missing</em></td></tr><tr><th>3</th><td>-0.119375</td><td>-0.847485</td><td>-0.847485</td><td><em>missing</em></td></tr><tr><th>4</th><td>0.964274</td><td>-0.394545</td><td>-0.394545</td><td><em>missing</em></td></tr><tr><th>5</th><td>-1.14903</td><td>-0.545443</td><td>-0.545443</td><td><em>missing</em></td></tr><tr><th>6</th><td>-0.898717</td><td>-0.604322</td><td>-0.604322</td><td><em>missing</em></td></tr><tr><th>7</th><td>0.699986</td><td>-0.417992</td><td>-0.417992</td><td><em>missing</em></td></tr><tr><th>8</th><td>1.03605</td><td>-0.236237</td><td>-0.236237</td><td><em>missing</em></td></tr><tr><th>9</th><td>0.0552365</td><td>-0.203851</td><td>-0.203851</td><td><em>missing</em></td></tr><tr><th>10</th><td>0.770614</td><td>-0.106404</td><td>-0.106404</td><td><em>missing</em></td></tr><tr><th>11</th><td>0.310835</td><td>-0.0684736</td><td>-0.0684736</td><td><em>missing</em></td></tr><tr><th>12</th><td>0.814233</td><td>0.00508529</td><td>0.00508529</td><td><em>missing</em></td></tr><tr><th>13</th><td>-0.105883</td><td>-0.00345076</td><td>-0.00345076</td><td><em>missing</em></td></tr><tr><th>14</th><td>0.239496</td><td>0.0139026</td><td>0.0139026</td><td><em>missing</em></td></tr><tr><th>15</th><td>-0.0803054</td><td>0.00762205</td><td>0.00762205</td><td>0.00762205</td></tr><tr><th>16</th><td>0.587791</td><td>0.0947006</td><td>0.0947006</td><td>0.0947006</td></tr><tr><th>17</th><td>1.44367</td><td>0.304591</td><td>0.304591</td><td>0.304591</td></tr><tr><th>18</th><td>-1.78702</td><td>0.193415</td><td>0.193415</td><td>0.193415</td></tr><tr><th>19</th><td>-0.586013</td><td>0.0900622</td><td>0.0900622</td><td>0.0900622</td></tr><tr><th>20</th><td>0.144242</td><td>0.17628</td><td>0.17628</td><td>0.17628</td></tr><tr><th>&vellip;</th><td>&vellip;</td><td>&vellip;</td><td>&vellip;</td><td>&vellip;</td></tr></tbody></table>"
      ],
      "text/latex": [
       "\\begin{tabular}{r|cccc}\n",
       "\t& data & sma\\_rf & sma\\_sk & sma\\_tullio\\\\\n",
       "\t\\hline\n",
       "\t& Float64 & Float64 & Float64 & Float64?\\\\\n",
       "\t\\hline\n",
       "\t1 & -0.718387 & -0.718387 & -0.718387 & \\emph{missing} \\\\\n",
       "\t2 & -1.70469 & -1.21154 & -1.21154 & \\emph{missing} \\\\\n",
       "\t3 & -0.119375 & -0.847485 & -0.847485 & \\emph{missing} \\\\\n",
       "\t4 & 0.964274 & -0.394545 & -0.394545 & \\emph{missing} \\\\\n",
       "\t5 & -1.14903 & -0.545443 & -0.545443 & \\emph{missing} \\\\\n",
       "\t6 & -0.898717 & -0.604322 & -0.604322 & \\emph{missing} \\\\\n",
       "\t7 & 0.699986 & -0.417992 & -0.417992 & \\emph{missing} \\\\\n",
       "\t8 & 1.03605 & -0.236237 & -0.236237 & \\emph{missing} \\\\\n",
       "\t9 & 0.0552365 & -0.203851 & -0.203851 & \\emph{missing} \\\\\n",
       "\t10 & 0.770614 & -0.106404 & -0.106404 & \\emph{missing} \\\\\n",
       "\t11 & 0.310835 & -0.0684736 & -0.0684736 & \\emph{missing} \\\\\n",
       "\t12 & 0.814233 & 0.00508529 & 0.00508529 & \\emph{missing} \\\\\n",
       "\t13 & -0.105883 & -0.00345076 & -0.00345076 & \\emph{missing} \\\\\n",
       "\t14 & 0.239496 & 0.0139026 & 0.0139026 & \\emph{missing} \\\\\n",
       "\t15 & -0.0803054 & 0.00762205 & 0.00762205 & 0.00762205 \\\\\n",
       "\t16 & 0.587791 & 0.0947006 & 0.0947006 & 0.0947006 \\\\\n",
       "\t17 & 1.44367 & 0.304591 & 0.304591 & 0.304591 \\\\\n",
       "\t18 & -1.78702 & 0.193415 & 0.193415 & 0.193415 \\\\\n",
       "\t19 & -0.586013 & 0.0900622 & 0.0900622 & 0.0900622 \\\\\n",
       "\t20 & 0.144242 & 0.17628 & 0.17628 & 0.17628 \\\\\n",
       "\t$\\dots$ & $\\dots$ & $\\dots$ & $\\dots$ & $\\dots$ \\\\\n",
       "\\end{tabular}\n"
      ],
      "text/plain": [
       "\u001b[1m100000000×4 DataFrame\u001b[0m\n",
       "\u001b[1m       Row \u001b[0m│\u001b[1m data       \u001b[0m\u001b[1m sma_rf    \u001b[0m\u001b[1m sma_sk    \u001b[0m\u001b[1m sma_tullio     \u001b[0m\n",
       "\u001b[1m           \u001b[0m│\u001b[90m Float64    \u001b[0m\u001b[90m Float64   \u001b[0m\u001b[90m Float64   \u001b[0m\u001b[90m Float64?       \u001b[0m\n",
       "───────────┼──────────────────────────────────────────────────\n",
       "         1 │ -0.718387   -0.718387  -0.718387 \u001b[90m missing        \u001b[0m\n",
       "         2 │ -1.70469    -1.21154   -1.21154  \u001b[90m missing        \u001b[0m\n",
       "         3 │ -0.119375   -0.847485  -0.847485 \u001b[90m missing        \u001b[0m\n",
       "         4 │  0.964274   -0.394545  -0.394545 \u001b[90m missing        \u001b[0m\n",
       "         5 │ -1.14903    -0.545443  -0.545443 \u001b[90m missing        \u001b[0m\n",
       "         6 │ -0.898717   -0.604322  -0.604322 \u001b[90m missing        \u001b[0m\n",
       "     ⋮     │     ⋮           ⋮          ⋮            ⋮\n",
       "  99999996 │ -1.12111     0.445825   0.445825        0.445825\n",
       "  99999997 │ -0.490131    0.505472   0.505472        0.505472\n",
       "  99999998 │  2.43922     0.6675     0.6675          0.6675\n",
       "  99999999 │  0.0631855   0.617549   0.617549        0.617549\n",
       " 100000000 │  0.157047    0.599064   0.599064        0.599064\n",
       "\u001b[36m                                         99999989 rows omitted\u001b[0m"
      ]
     },
     "execution_count": 10,
     "metadata": {},
     "output_type": "execute_result"
    }
   ],
   "source": [
    "# Contains code originally from Michael Abbott\n",
    "\n",
    "tmp = Array{Union{Missing, Float64}}(missing, length(df.data));\n",
    "\n",
    "function f_tullio(data, sma, window_size)\n",
    "    rate = 1/window_size\n",
    "    out_view = @view sma[window_size:end]\n",
    "    @tullio out_view[i] = rate*data[i+o]  o in 0:window_size-1  # verbose=true;\n",
    "    sma\n",
    "end\n",
    "\n",
    "df[!, \"sma_tullio\"] = f_tullio(df.data, tmp, w_size)\n",
    "df"
   ]
  },
  {
   "cell_type": "code",
   "execution_count": null,
   "metadata": {},
   "outputs": [],
   "source": []
  },
  {
   "cell_type": "code",
   "execution_count": 11,
   "metadata": {},
   "outputs": [
    {
     "data": {
      "text/plain": [
       "rollingmean_simd (generic function with 1 method)"
      ]
     },
     "execution_count": 11,
     "metadata": {},
     "output_type": "execute_result"
    }
   ],
   "source": [
    "# Contains code originally from Peter Deffebach\n",
    "\n",
    "out = Vector{Union{Missing, Float64}}(undef, N)\n",
    "\n",
    "function rollingmean_simd(x, m, out)\n",
    "    N = length(x)\n",
    "    out[1:(m-1)] .= missing\n",
    "    sm = mean(@view x[1:m])\n",
    "    out[m] = sm\n",
    "    @inbounds @simd for i in (m+1):length(x)\n",
    "        sm += (x[i] - x[i-m]) / m\n",
    "        out[i] = sm\n",
    "    end\n",
    "    return out \n",
    "end"
   ]
  },
  {
   "cell_type": "code",
   "execution_count": 12,
   "metadata": {},
   "outputs": [
    {
     "data": {
      "text/html": [
       "<table class=\"data-frame\"><thead><tr><th></th><th>data</th><th>sma_rf</th><th>sma_sk</th><th>sma_tullio</th><th>sma_simd</th></tr><tr><th></th><th>Float64</th><th>Float64</th><th>Float64</th><th>Float64?</th><th>Float64?</th></tr></thead><tbody><p>100,000,000 rows × 5 columns</p><tr><th>1</th><td>-0.718387</td><td>-0.718387</td><td>-0.718387</td><td><em>missing</em></td><td><em>missing</em></td></tr><tr><th>2</th><td>-1.70469</td><td>-1.21154</td><td>-1.21154</td><td><em>missing</em></td><td><em>missing</em></td></tr><tr><th>3</th><td>-0.119375</td><td>-0.847485</td><td>-0.847485</td><td><em>missing</em></td><td><em>missing</em></td></tr><tr><th>4</th><td>0.964274</td><td>-0.394545</td><td>-0.394545</td><td><em>missing</em></td><td><em>missing</em></td></tr><tr><th>5</th><td>-1.14903</td><td>-0.545443</td><td>-0.545443</td><td><em>missing</em></td><td><em>missing</em></td></tr><tr><th>6</th><td>-0.898717</td><td>-0.604322</td><td>-0.604322</td><td><em>missing</em></td><td><em>missing</em></td></tr><tr><th>7</th><td>0.699986</td><td>-0.417992</td><td>-0.417992</td><td><em>missing</em></td><td><em>missing</em></td></tr><tr><th>8</th><td>1.03605</td><td>-0.236237</td><td>-0.236237</td><td><em>missing</em></td><td><em>missing</em></td></tr><tr><th>9</th><td>0.0552365</td><td>-0.203851</td><td>-0.203851</td><td><em>missing</em></td><td><em>missing</em></td></tr><tr><th>10</th><td>0.770614</td><td>-0.106404</td><td>-0.106404</td><td><em>missing</em></td><td><em>missing</em></td></tr><tr><th>11</th><td>0.310835</td><td>-0.0684736</td><td>-0.0684736</td><td><em>missing</em></td><td><em>missing</em></td></tr><tr><th>12</th><td>0.814233</td><td>0.00508529</td><td>0.00508529</td><td><em>missing</em></td><td><em>missing</em></td></tr><tr><th>13</th><td>-0.105883</td><td>-0.00345076</td><td>-0.00345076</td><td><em>missing</em></td><td><em>missing</em></td></tr><tr><th>14</th><td>0.239496</td><td>0.0139026</td><td>0.0139026</td><td><em>missing</em></td><td><em>missing</em></td></tr><tr><th>15</th><td>-0.0803054</td><td>0.00762205</td><td>0.00762205</td><td>0.00762205</td><td>0.00762205</td></tr><tr><th>16</th><td>0.587791</td><td>0.0947006</td><td>0.0947006</td><td>0.0947006</td><td>0.0947006</td></tr><tr><th>17</th><td>1.44367</td><td>0.304591</td><td>0.304591</td><td>0.304591</td><td>0.304591</td></tr><tr><th>18</th><td>-1.78702</td><td>0.193415</td><td>0.193415</td><td>0.193415</td><td>0.193415</td></tr><tr><th>19</th><td>-0.586013</td><td>0.0900622</td><td>0.0900622</td><td>0.0900622</td><td>0.0900622</td></tr><tr><th>20</th><td>0.144242</td><td>0.17628</td><td>0.17628</td><td>0.17628</td><td>0.17628</td></tr><tr><th>&vellip;</th><td>&vellip;</td><td>&vellip;</td><td>&vellip;</td><td>&vellip;</td><td>&vellip;</td></tr></tbody></table>"
      ],
      "text/latex": [
       "\\begin{tabular}{r|ccccc}\n",
       "\t& data & sma\\_rf & sma\\_sk & sma\\_tullio & sma\\_simd\\\\\n",
       "\t\\hline\n",
       "\t& Float64 & Float64 & Float64 & Float64? & Float64?\\\\\n",
       "\t\\hline\n",
       "\t1 & -0.718387 & -0.718387 & -0.718387 & \\emph{missing} & \\emph{missing} \\\\\n",
       "\t2 & -1.70469 & -1.21154 & -1.21154 & \\emph{missing} & \\emph{missing} \\\\\n",
       "\t3 & -0.119375 & -0.847485 & -0.847485 & \\emph{missing} & \\emph{missing} \\\\\n",
       "\t4 & 0.964274 & -0.394545 & -0.394545 & \\emph{missing} & \\emph{missing} \\\\\n",
       "\t5 & -1.14903 & -0.545443 & -0.545443 & \\emph{missing} & \\emph{missing} \\\\\n",
       "\t6 & -0.898717 & -0.604322 & -0.604322 & \\emph{missing} & \\emph{missing} \\\\\n",
       "\t7 & 0.699986 & -0.417992 & -0.417992 & \\emph{missing} & \\emph{missing} \\\\\n",
       "\t8 & 1.03605 & -0.236237 & -0.236237 & \\emph{missing} & \\emph{missing} \\\\\n",
       "\t9 & 0.0552365 & -0.203851 & -0.203851 & \\emph{missing} & \\emph{missing} \\\\\n",
       "\t10 & 0.770614 & -0.106404 & -0.106404 & \\emph{missing} & \\emph{missing} \\\\\n",
       "\t11 & 0.310835 & -0.0684736 & -0.0684736 & \\emph{missing} & \\emph{missing} \\\\\n",
       "\t12 & 0.814233 & 0.00508529 & 0.00508529 & \\emph{missing} & \\emph{missing} \\\\\n",
       "\t13 & -0.105883 & -0.00345076 & -0.00345076 & \\emph{missing} & \\emph{missing} \\\\\n",
       "\t14 & 0.239496 & 0.0139026 & 0.0139026 & \\emph{missing} & \\emph{missing} \\\\\n",
       "\t15 & -0.0803054 & 0.00762205 & 0.00762205 & 0.00762205 & 0.00762205 \\\\\n",
       "\t16 & 0.587791 & 0.0947006 & 0.0947006 & 0.0947006 & 0.0947006 \\\\\n",
       "\t17 & 1.44367 & 0.304591 & 0.304591 & 0.304591 & 0.304591 \\\\\n",
       "\t18 & -1.78702 & 0.193415 & 0.193415 & 0.193415 & 0.193415 \\\\\n",
       "\t19 & -0.586013 & 0.0900622 & 0.0900622 & 0.0900622 & 0.0900622 \\\\\n",
       "\t20 & 0.144242 & 0.17628 & 0.17628 & 0.17628 & 0.17628 \\\\\n",
       "\t$\\dots$ & $\\dots$ & $\\dots$ & $\\dots$ & $\\dots$ & $\\dots$ \\\\\n",
       "\\end{tabular}\n"
      ],
      "text/plain": [
       "\u001b[1m100000000×5 DataFrame\u001b[0m\n",
       "\u001b[1m       Row \u001b[0m│\u001b[1m data       \u001b[0m\u001b[1m sma_rf    \u001b[0m\u001b[1m sma_sk    \u001b[0m\u001b[1m sma_tullio     \u001b[0m\u001b[1m sma_simd       \u001b[0m\n",
       "\u001b[1m           \u001b[0m│\u001b[90m Float64    \u001b[0m\u001b[90m Float64   \u001b[0m\u001b[90m Float64   \u001b[0m\u001b[90m Float64?       \u001b[0m\u001b[90m Float64?       \u001b[0m\n",
       "───────────┼──────────────────────────────────────────────────────────────────\n",
       "         1 │ -0.718387   -0.718387  -0.718387 \u001b[90m missing        \u001b[0m\u001b[90m missing        \u001b[0m\n",
       "         2 │ -1.70469    -1.21154   -1.21154  \u001b[90m missing        \u001b[0m\u001b[90m missing        \u001b[0m\n",
       "         3 │ -0.119375   -0.847485  -0.847485 \u001b[90m missing        \u001b[0m\u001b[90m missing        \u001b[0m\n",
       "         4 │  0.964274   -0.394545  -0.394545 \u001b[90m missing        \u001b[0m\u001b[90m missing        \u001b[0m\n",
       "         5 │ -1.14903    -0.545443  -0.545443 \u001b[90m missing        \u001b[0m\u001b[90m missing        \u001b[0m\n",
       "         6 │ -0.898717   -0.604322  -0.604322 \u001b[90m missing        \u001b[0m\u001b[90m missing        \u001b[0m\n",
       "     ⋮     │     ⋮           ⋮          ⋮            ⋮               ⋮\n",
       "  99999996 │ -1.12111     0.445825   0.445825        0.445825        0.445825\n",
       "  99999997 │ -0.490131    0.505472   0.505472        0.505472        0.505472\n",
       "  99999998 │  2.43922     0.6675     0.6675          0.6675          0.6675\n",
       "  99999999 │  0.0631855   0.617549   0.617549        0.617549        0.617549\n",
       " 100000000 │  0.157047    0.599064   0.599064        0.599064        0.599064\n",
       "\u001b[36m                                                         99999989 rows omitted\u001b[0m"
      ]
     },
     "execution_count": 12,
     "metadata": {},
     "output_type": "execute_result"
    }
   ],
   "source": [
    "df[!, \"sma_simd\"] = rollingmean_simd(df.data, w_size, out)\n",
    "df"
   ]
  },
  {
   "cell_type": "code",
   "execution_count": null,
   "metadata": {},
   "outputs": [],
   "source": []
  },
  {
   "cell_type": "code",
   "execution_count": 13,
   "metadata": {},
   "outputs": [
    {
     "data": {
      "text/plain": [
       "rolling_average (generic function with 1 method)"
      ]
     },
     "execution_count": 13,
     "metadata": {},
     "output_type": "execute_result"
    }
   ],
   "source": [
    "function rolling_average(v; window_size::Int=10)\n",
    "    @assert window_size > 0\n",
    "    loffset = window_size ÷ 2\n",
    "    roffset = loffset + window_size%2\n",
    "    ThreadsX.map(eachindex(v)) do i\n",
    "        mean(@view v[max(begin, i-loffset) : min(end, i+roffset)])\n",
    "    end\n",
    "end"
   ]
  },
  {
   "cell_type": "code",
   "execution_count": 14,
   "metadata": {},
   "outputs": [
    {
     "data": {
      "image/svg+xml": [
       "<?xml version=\"1.0\" encoding=\"utf-8\"?>\n",
       "<svg xmlns=\"http://www.w3.org/2000/svg\" xmlns:xlink=\"http://www.w3.org/1999/xlink\" width=\"600\" height=\"400\" viewBox=\"0 0 2400 1600\">\n",
       "<defs>\n",
       "  <clipPath id=\"clip900\">\n",
       "    <rect x=\"0\" y=\"0\" width=\"2400\" height=\"1600\"/>\n",
       "  </clipPath>\n",
       "</defs>\n",
       "<path clip-path=\"url(#clip900)\" d=\"\n",
       "M0 1600 L2400 1600 L2400 0 L0 0  Z\n",
       "  \" fill=\"#ffffff\" fill-rule=\"evenodd\" fill-opacity=\"1\"/>\n",
       "<defs>\n",
       "  <clipPath id=\"clip901\">\n",
       "    <rect x=\"480\" y=\"0\" width=\"1681\" height=\"1600\"/>\n",
       "  </clipPath>\n",
       "</defs>\n",
       "<path clip-path=\"url(#clip900)\" d=\"\n",
       "M205.07 1486.45 L2352.76 1486.45 L2352.76 47.2441 L205.07 47.2441  Z\n",
       "  \" fill=\"#ffffff\" fill-rule=\"evenodd\" fill-opacity=\"1\"/>\n",
       "<defs>\n",
       "  <clipPath id=\"clip902\">\n",
       "    <rect x=\"205\" y=\"47\" width=\"2149\" height=\"1440\"/>\n",
       "  </clipPath>\n",
       "</defs>\n",
       "<polyline clip-path=\"url(#clip902)\" style=\"stroke:#000000; stroke-width:2; stroke-opacity:0.1; fill:none\" points=\"\n",
       "  265.854,1486.45 265.854,47.2441 \n",
       "  \"/>\n",
       "<polyline clip-path=\"url(#clip902)\" style=\"stroke:#000000; stroke-width:2; stroke-opacity:0.1; fill:none\" points=\"\n",
       "  772.383,1486.45 772.383,47.2441 \n",
       "  \"/>\n",
       "<polyline clip-path=\"url(#clip902)\" style=\"stroke:#000000; stroke-width:2; stroke-opacity:0.1; fill:none\" points=\"\n",
       "  1278.91,1486.45 1278.91,47.2441 \n",
       "  \"/>\n",
       "<polyline clip-path=\"url(#clip902)\" style=\"stroke:#000000; stroke-width:2; stroke-opacity:0.1; fill:none\" points=\"\n",
       "  1785.44,1486.45 1785.44,47.2441 \n",
       "  \"/>\n",
       "<polyline clip-path=\"url(#clip902)\" style=\"stroke:#000000; stroke-width:2; stroke-opacity:0.1; fill:none\" points=\"\n",
       "  2291.97,1486.45 2291.97,47.2441 \n",
       "  \"/>\n",
       "<polyline clip-path=\"url(#clip900)\" style=\"stroke:#000000; stroke-width:4; stroke-opacity:1; fill:none\" points=\"\n",
       "  205.07,1486.45 2352.76,1486.45 \n",
       "  \"/>\n",
       "<polyline clip-path=\"url(#clip900)\" style=\"stroke:#000000; stroke-width:4; stroke-opacity:1; fill:none\" points=\"\n",
       "  265.854,1486.45 265.854,1469.18 \n",
       "  \"/>\n",
       "<polyline clip-path=\"url(#clip900)\" style=\"stroke:#000000; stroke-width:4; stroke-opacity:1; fill:none\" points=\"\n",
       "  772.383,1486.45 772.383,1469.18 \n",
       "  \"/>\n",
       "<polyline clip-path=\"url(#clip900)\" style=\"stroke:#000000; stroke-width:4; stroke-opacity:1; fill:none\" points=\"\n",
       "  1278.91,1486.45 1278.91,1469.18 \n",
       "  \"/>\n",
       "<polyline clip-path=\"url(#clip900)\" style=\"stroke:#000000; stroke-width:4; stroke-opacity:1; fill:none\" points=\"\n",
       "  1785.44,1486.45 1785.44,1469.18 \n",
       "  \"/>\n",
       "<polyline clip-path=\"url(#clip900)\" style=\"stroke:#000000; stroke-width:4; stroke-opacity:1; fill:none\" points=\"\n",
       "  2291.97,1486.45 2291.97,1469.18 \n",
       "  \"/>\n",
       "<path clip-path=\"url(#clip900)\" d=\"M 0 0 M224.616 1530.29 L254.291 1530.29 L254.291 1534.23 L224.616 1534.23 L224.616 1530.29 Z\" fill=\"#000000\" fill-rule=\"evenodd\" fill-opacity=\"1\" /><path clip-path=\"url(#clip900)\" d=\"M 0 0 M260.171 1543.18 L267.81 1543.18 L267.81 1516.82 L259.5 1518.49 L259.5 1514.23 L267.763 1512.56 L272.439 1512.56 L272.439 1543.18 L280.078 1543.18 L280.078 1547.12 L260.171 1547.12 L260.171 1543.18 Z\" fill=\"#000000\" fill-rule=\"evenodd\" fill-opacity=\"1\" /><path clip-path=\"url(#clip900)\" d=\"M 0 0 M295.148 1515.64 Q291.536 1515.64 289.708 1519.2 Q287.902 1522.75 287.902 1529.87 Q287.902 1536.98 289.708 1540.55 Q291.536 1544.09 295.148 1544.09 Q298.782 1544.09 300.587 1540.55 Q302.416 1536.98 302.416 1529.87 Q302.416 1522.75 300.587 1519.2 Q298.782 1515.64 295.148 1515.64 M295.148 1511.93 Q300.958 1511.93 304.013 1516.54 Q307.092 1521.12 307.092 1529.87 Q307.092 1538.6 304.013 1543.21 Q300.958 1547.79 295.148 1547.79 Q289.337 1547.79 286.259 1543.21 Q283.203 1538.6 283.203 1529.87 Q283.203 1521.12 286.259 1516.54 Q289.337 1511.93 295.148 1511.93 Z\" fill=\"#000000\" fill-rule=\"evenodd\" fill-opacity=\"1\" /><path clip-path=\"url(#clip900)\" d=\"M 0 0 M744.536 1530.29 L774.212 1530.29 L774.212 1534.23 L744.536 1534.23 L744.536 1530.29 Z\" fill=\"#000000\" fill-rule=\"evenodd\" fill-opacity=\"1\" /><path clip-path=\"url(#clip900)\" d=\"M 0 0 M779.328 1512.56 L797.684 1512.56 L797.684 1516.5 L783.61 1516.5 L783.61 1524.97 Q784.629 1524.62 785.647 1524.46 Q786.666 1524.27 787.684 1524.27 Q793.471 1524.27 796.851 1527.44 Q800.23 1530.62 800.23 1536.03 Q800.23 1541.61 796.758 1544.71 Q793.286 1547.79 786.967 1547.79 Q784.791 1547.79 782.522 1547.42 Q780.277 1547.05 777.869 1546.31 L777.869 1541.61 Q779.953 1542.74 782.175 1543.3 Q784.397 1543.86 786.874 1543.86 Q790.879 1543.86 793.217 1541.75 Q795.555 1539.64 795.555 1536.03 Q795.555 1532.42 793.217 1530.31 Q790.879 1528.21 786.874 1528.21 Q784.999 1528.21 783.124 1528.62 Q781.272 1529.04 779.328 1529.92 L779.328 1512.56 Z\" fill=\"#000000\" fill-rule=\"evenodd\" fill-opacity=\"1\" /><path clip-path=\"url(#clip900)\" d=\"M 0 0 M1278.91 1515.64 Q1275.3 1515.64 1273.47 1519.2 Q1271.67 1522.75 1271.67 1529.87 Q1271.67 1536.98 1273.47 1540.55 Q1275.3 1544.09 1278.91 1544.09 Q1282.55 1544.09 1284.35 1540.55 Q1286.18 1536.98 1286.18 1529.87 Q1286.18 1522.75 1284.35 1519.2 Q1282.55 1515.64 1278.91 1515.64 M1278.91 1511.93 Q1284.72 1511.93 1287.78 1516.54 Q1290.86 1521.12 1290.86 1529.87 Q1290.86 1538.6 1287.78 1543.21 Q1284.72 1547.79 1278.91 1547.79 Q1273.1 1547.79 1270.02 1543.21 Q1266.97 1538.6 1266.97 1529.87 Q1266.97 1521.12 1270.02 1516.54 Q1273.1 1511.93 1278.91 1511.93 Z\" fill=\"#000000\" fill-rule=\"evenodd\" fill-opacity=\"1\" /><path clip-path=\"url(#clip900)\" d=\"M 0 0 M1775.72 1512.56 L1794.08 1512.56 L1794.08 1516.5 L1780 1516.5 L1780 1524.97 Q1781.02 1524.62 1782.04 1524.46 Q1783.06 1524.27 1784.08 1524.27 Q1789.86 1524.27 1793.24 1527.44 Q1796.62 1530.62 1796.62 1536.03 Q1796.62 1541.61 1793.15 1544.71 Q1789.68 1547.79 1783.36 1547.79 Q1781.18 1547.79 1778.91 1547.42 Q1776.67 1547.05 1774.26 1546.31 L1774.26 1541.61 Q1776.35 1542.74 1778.57 1543.3 Q1780.79 1543.86 1783.27 1543.86 Q1787.27 1543.86 1789.61 1541.75 Q1791.95 1539.64 1791.95 1536.03 Q1791.95 1532.42 1789.61 1530.31 Q1787.27 1528.21 1783.27 1528.21 Q1781.39 1528.21 1779.52 1528.62 Q1777.66 1529.04 1775.72 1529.92 L1775.72 1512.56 Z\" fill=\"#000000\" fill-rule=\"evenodd\" fill-opacity=\"1\" /><path clip-path=\"url(#clip900)\" d=\"M 0 0 M2268.85 1543.18 L2276.49 1543.18 L2276.49 1516.82 L2268.18 1518.49 L2268.18 1514.23 L2276.44 1512.56 L2281.12 1512.56 L2281.12 1543.18 L2288.75 1543.18 L2288.75 1547.12 L2268.85 1547.12 L2268.85 1543.18 Z\" fill=\"#000000\" fill-rule=\"evenodd\" fill-opacity=\"1\" /><path clip-path=\"url(#clip900)\" d=\"M 0 0 M2303.82 1515.64 Q2300.21 1515.64 2298.38 1519.2 Q2296.58 1522.75 2296.58 1529.87 Q2296.58 1536.98 2298.38 1540.55 Q2300.21 1544.09 2303.82 1544.09 Q2307.46 1544.09 2309.26 1540.55 Q2311.09 1536.98 2311.09 1529.87 Q2311.09 1522.75 2309.26 1519.2 Q2307.46 1515.64 2303.82 1515.64 M2303.82 1511.93 Q2309.63 1511.93 2312.69 1516.54 Q2315.77 1521.12 2315.77 1529.87 Q2315.77 1538.6 2312.69 1543.21 Q2309.63 1547.79 2303.82 1547.79 Q2298.01 1547.79 2294.94 1543.21 Q2291.88 1538.6 2291.88 1529.87 Q2291.88 1521.12 2294.94 1516.54 Q2298.01 1511.93 2303.82 1511.93 Z\" fill=\"#000000\" fill-rule=\"evenodd\" fill-opacity=\"1\" /><polyline clip-path=\"url(#clip902)\" style=\"stroke:#000000; stroke-width:2; stroke-opacity:0.1; fill:none\" points=\"\n",
       "  205.07,1314.26 2352.76,1314.26 \n",
       "  \"/>\n",
       "<polyline clip-path=\"url(#clip902)\" style=\"stroke:#000000; stroke-width:2; stroke-opacity:0.1; fill:none\" points=\"\n",
       "  205.07,1101.84 2352.76,1101.84 \n",
       "  \"/>\n",
       "<polyline clip-path=\"url(#clip902)\" style=\"stroke:#000000; stroke-width:2; stroke-opacity:0.1; fill:none\" points=\"\n",
       "  205.07,889.413 2352.76,889.413 \n",
       "  \"/>\n",
       "<polyline clip-path=\"url(#clip902)\" style=\"stroke:#000000; stroke-width:2; stroke-opacity:0.1; fill:none\" points=\"\n",
       "  205.07,676.988 2352.76,676.988 \n",
       "  \"/>\n",
       "<polyline clip-path=\"url(#clip902)\" style=\"stroke:#000000; stroke-width:2; stroke-opacity:0.1; fill:none\" points=\"\n",
       "  205.07,464.563 2352.76,464.563 \n",
       "  \"/>\n",
       "<polyline clip-path=\"url(#clip902)\" style=\"stroke:#000000; stroke-width:2; stroke-opacity:0.1; fill:none\" points=\"\n",
       "  205.07,252.137 2352.76,252.137 \n",
       "  \"/>\n",
       "<polyline clip-path=\"url(#clip900)\" style=\"stroke:#000000; stroke-width:4; stroke-opacity:1; fill:none\" points=\"\n",
       "  205.07,1486.45 205.07,47.2441 \n",
       "  \"/>\n",
       "<polyline clip-path=\"url(#clip900)\" style=\"stroke:#000000; stroke-width:4; stroke-opacity:1; fill:none\" points=\"\n",
       "  205.07,1314.26 230.842,1314.26 \n",
       "  \"/>\n",
       "<polyline clip-path=\"url(#clip900)\" style=\"stroke:#000000; stroke-width:4; stroke-opacity:1; fill:none\" points=\"\n",
       "  205.07,1101.84 230.842,1101.84 \n",
       "  \"/>\n",
       "<polyline clip-path=\"url(#clip900)\" style=\"stroke:#000000; stroke-width:4; stroke-opacity:1; fill:none\" points=\"\n",
       "  205.07,889.413 230.842,889.413 \n",
       "  \"/>\n",
       "<polyline clip-path=\"url(#clip900)\" style=\"stroke:#000000; stroke-width:4; stroke-opacity:1; fill:none\" points=\"\n",
       "  205.07,676.988 230.842,676.988 \n",
       "  \"/>\n",
       "<polyline clip-path=\"url(#clip900)\" style=\"stroke:#000000; stroke-width:4; stroke-opacity:1; fill:none\" points=\"\n",
       "  205.07,464.563 230.842,464.563 \n",
       "  \"/>\n",
       "<polyline clip-path=\"url(#clip900)\" style=\"stroke:#000000; stroke-width:4; stroke-opacity:1; fill:none\" points=\"\n",
       "  205.07,252.137 230.842,252.137 \n",
       "  \"/>\n",
       "<path clip-path=\"url(#clip900)\" d=\"M 0 0 M50.9921 1314.71 L80.6679 1314.71 L80.6679 1318.65 L50.9921 1318.65 L50.9921 1314.71 Z\" fill=\"#000000\" fill-rule=\"evenodd\" fill-opacity=\"1\" /><path clip-path=\"url(#clip900)\" d=\"M 0 0 M95.7373 1300.06 Q92.1262 1300.06 90.2975 1303.63 Q88.4919 1307.17 88.4919 1314.3 Q88.4919 1321.4 90.2975 1324.97 Q92.1262 1328.51 95.7373 1328.51 Q99.3715 1328.51 101.177 1324.97 Q103.006 1321.4 103.006 1314.3 Q103.006 1307.17 101.177 1303.63 Q99.3715 1300.06 95.7373 1300.06 M95.7373 1296.36 Q101.547 1296.36 104.603 1300.96 Q107.682 1305.55 107.682 1314.3 Q107.682 1323.02 104.603 1327.63 Q101.547 1332.21 95.7373 1332.21 Q89.9271 1332.21 86.8484 1327.63 Q83.7929 1323.02 83.7929 1314.3 Q83.7929 1305.55 86.8484 1300.96 Q89.9271 1296.36 95.7373 1296.36 Z\" fill=\"#000000\" fill-rule=\"evenodd\" fill-opacity=\"1\" /><path clip-path=\"url(#clip900)\" d=\"M 0 0 M112.751 1325.66 L117.635 1325.66 L117.635 1331.54 L112.751 1331.54 L112.751 1325.66 Z\" fill=\"#000000\" fill-rule=\"evenodd\" fill-opacity=\"1\" /><path clip-path=\"url(#clip900)\" d=\"M 0 0 M126.732 1327.61 L143.052 1327.61 L143.052 1331.54 L121.107 1331.54 L121.107 1327.61 Q123.77 1324.85 128.353 1320.22 Q132.959 1315.57 134.14 1314.23 Q136.385 1311.71 137.265 1309.97 Q138.168 1308.21 138.168 1306.52 Q138.168 1303.77 136.223 1302.03 Q134.302 1300.29 131.2 1300.29 Q129.001 1300.29 126.547 1301.06 Q124.117 1301.82 121.339 1303.37 L121.339 1298.65 Q124.163 1297.52 126.617 1296.94 Q129.07 1296.36 131.107 1296.36 Q136.478 1296.36 139.672 1299.04 Q142.867 1301.73 142.867 1306.22 Q142.867 1308.35 142.056 1310.27 Q141.269 1312.17 139.163 1314.76 Q138.584 1315.43 135.482 1318.65 Q132.381 1321.84 126.732 1327.61 Z\" fill=\"#000000\" fill-rule=\"evenodd\" fill-opacity=\"1\" /><path clip-path=\"url(#clip900)\" d=\"M 0 0 M148.168 1296.98 L166.524 1296.98 L166.524 1300.92 L152.45 1300.92 L152.45 1309.39 Q153.468 1309.04 154.487 1308.88 Q155.505 1308.7 156.524 1308.7 Q162.311 1308.7 165.691 1311.87 Q169.07 1315.04 169.07 1320.46 Q169.07 1326.03 165.598 1329.14 Q162.126 1332.21 155.806 1332.21 Q153.63 1332.21 151.362 1331.84 Q149.117 1331.47 146.709 1330.73 L146.709 1326.03 Q148.793 1327.17 151.015 1327.72 Q153.237 1328.28 155.714 1328.28 Q159.718 1328.28 162.056 1326.17 Q164.394 1324.07 164.394 1320.46 Q164.394 1316.84 162.056 1314.74 Q159.718 1312.63 155.714 1312.63 Q153.839 1312.63 151.964 1313.05 Q150.112 1313.46 148.168 1314.34 L148.168 1296.98 Z\" fill=\"#000000\" fill-rule=\"evenodd\" fill-opacity=\"1\" /><path clip-path=\"url(#clip900)\" d=\"M 0 0 M93.1447 1087.64 Q89.5336 1087.64 87.7049 1091.2 Q85.8993 1094.74 85.8993 1101.87 Q85.8993 1108.98 87.7049 1112.54 Q89.5336 1116.09 93.1447 1116.09 Q96.7789 1116.09 98.5845 1112.54 Q100.413 1108.98 100.413 1101.87 Q100.413 1094.74 98.5845 1091.2 Q96.7789 1087.64 93.1447 1087.64 M93.1447 1083.93 Q98.9548 1083.93 102.01 1088.54 Q105.089 1093.12 105.089 1101.87 Q105.089 1110.6 102.01 1115.21 Q98.9548 1119.79 93.1447 1119.79 Q87.3345 1119.79 84.2558 1115.21 Q81.2003 1110.6 81.2003 1101.87 Q81.2003 1093.12 84.2558 1088.54 Q87.3345 1083.93 93.1447 1083.93 Z\" fill=\"#000000\" fill-rule=\"evenodd\" fill-opacity=\"1\" /><path clip-path=\"url(#clip900)\" d=\"M 0 0 M110.158 1113.24 L115.043 1113.24 L115.043 1119.12 L110.158 1119.12 L110.158 1113.24 Z\" fill=\"#000000\" fill-rule=\"evenodd\" fill-opacity=\"1\" /><path clip-path=\"url(#clip900)\" d=\"M 0 0 M130.112 1087.64 Q126.501 1087.64 124.672 1091.2 Q122.867 1094.74 122.867 1101.87 Q122.867 1108.98 124.672 1112.54 Q126.501 1116.09 130.112 1116.09 Q133.746 1116.09 135.552 1112.54 Q137.381 1108.98 137.381 1101.87 Q137.381 1094.74 135.552 1091.2 Q133.746 1087.64 130.112 1087.64 M130.112 1083.93 Q135.922 1083.93 138.978 1088.54 Q142.056 1093.12 142.056 1101.87 Q142.056 1110.6 138.978 1115.21 Q135.922 1119.79 130.112 1119.79 Q124.302 1119.79 121.223 1115.21 Q118.168 1110.6 118.168 1101.87 Q118.168 1093.12 121.223 1088.54 Q124.302 1083.93 130.112 1083.93 Z\" fill=\"#000000\" fill-rule=\"evenodd\" fill-opacity=\"1\" /><path clip-path=\"url(#clip900)\" d=\"M 0 0 M157.126 1087.64 Q153.515 1087.64 151.686 1091.2 Q149.88 1094.74 149.88 1101.87 Q149.88 1108.98 151.686 1112.54 Q153.515 1116.09 157.126 1116.09 Q160.76 1116.09 162.566 1112.54 Q164.394 1108.98 164.394 1101.87 Q164.394 1094.74 162.566 1091.2 Q160.76 1087.64 157.126 1087.64 M157.126 1083.93 Q162.936 1083.93 165.992 1088.54 Q169.07 1093.12 169.07 1101.87 Q169.07 1110.6 165.992 1115.21 Q162.936 1119.79 157.126 1119.79 Q151.316 1119.79 148.237 1115.21 Q145.181 1110.6 145.181 1101.87 Q145.181 1093.12 148.237 1088.54 Q151.316 1083.93 157.126 1083.93 Z\" fill=\"#000000\" fill-rule=\"evenodd\" fill-opacity=\"1\" /><path clip-path=\"url(#clip900)\" d=\"M 0 0 M95.7373 875.212 Q92.1262 875.212 90.2975 878.776 Q88.4919 882.318 88.4919 889.448 Q88.4919 896.554 90.2975 900.119 Q92.1262 903.66 95.7373 903.66 Q99.3715 903.66 101.177 900.119 Q103.006 896.554 103.006 889.448 Q103.006 882.318 101.177 878.776 Q99.3715 875.212 95.7373 875.212 M95.7373 871.508 Q101.547 871.508 104.603 876.114 Q107.682 880.698 107.682 889.448 Q107.682 898.174 104.603 902.781 Q101.547 907.364 95.7373 907.364 Q89.9271 907.364 86.8484 902.781 Q83.7929 898.174 83.7929 889.448 Q83.7929 880.698 86.8484 876.114 Q89.9271 871.508 95.7373 871.508 Z\" fill=\"#000000\" fill-rule=\"evenodd\" fill-opacity=\"1\" /><path clip-path=\"url(#clip900)\" d=\"M 0 0 M112.751 900.813 L117.635 900.813 L117.635 906.693 L112.751 906.693 L112.751 900.813 Z\" fill=\"#000000\" fill-rule=\"evenodd\" fill-opacity=\"1\" /><path clip-path=\"url(#clip900)\" d=\"M 0 0 M126.732 902.758 L143.052 902.758 L143.052 906.693 L121.107 906.693 L121.107 902.758 Q123.77 900.003 128.353 895.373 Q132.959 890.721 134.14 889.378 Q136.385 886.855 137.265 885.119 Q138.168 883.36 138.168 881.67 Q138.168 878.915 136.223 877.179 Q134.302 875.443 131.2 875.443 Q129.001 875.443 126.547 876.207 Q124.117 876.971 121.339 878.522 L121.339 873.8 Q124.163 872.665 126.617 872.087 Q129.07 871.508 131.107 871.508 Q136.478 871.508 139.672 874.193 Q142.867 876.878 142.867 881.369 Q142.867 883.499 142.056 885.42 Q141.269 887.318 139.163 889.911 Q138.584 890.582 135.482 893.799 Q132.381 896.994 126.732 902.758 Z\" fill=\"#000000\" fill-rule=\"evenodd\" fill-opacity=\"1\" /><path clip-path=\"url(#clip900)\" d=\"M 0 0 M148.168 872.133 L166.524 872.133 L166.524 876.068 L152.45 876.068 L152.45 884.54 Q153.468 884.193 154.487 884.031 Q155.505 883.846 156.524 883.846 Q162.311 883.846 165.691 887.017 Q169.07 890.188 169.07 895.605 Q169.07 901.184 165.598 904.285 Q162.126 907.364 155.806 907.364 Q153.63 907.364 151.362 906.994 Q149.117 906.623 146.709 905.883 L146.709 901.184 Q148.793 902.318 151.015 902.873 Q153.237 903.429 155.714 903.429 Q159.718 903.429 162.056 901.323 Q164.394 899.216 164.394 895.605 Q164.394 891.994 162.056 889.887 Q159.718 887.781 155.714 887.781 Q153.839 887.781 151.964 888.198 Q150.112 888.614 148.168 889.494 L148.168 872.133 Z\" fill=\"#000000\" fill-rule=\"evenodd\" fill-opacity=\"1\" /><path clip-path=\"url(#clip900)\" d=\"M 0 0 M94.14 662.786 Q90.529 662.786 88.7003 666.351 Q86.8947 669.893 86.8947 677.022 Q86.8947 684.129 88.7003 687.694 Q90.529 691.235 94.14 691.235 Q97.7743 691.235 99.5798 687.694 Q101.409 684.129 101.409 677.022 Q101.409 669.893 99.5798 666.351 Q97.7743 662.786 94.14 662.786 M94.14 659.083 Q99.9502 659.083 103.006 663.689 Q106.084 668.272 106.084 677.022 Q106.084 685.749 103.006 690.356 Q99.9502 694.939 94.14 694.939 Q88.3299 694.939 85.2512 690.356 Q82.1957 685.749 82.1957 677.022 Q82.1957 668.272 85.2512 663.689 Q88.3299 659.083 94.14 659.083 Z\" fill=\"#000000\" fill-rule=\"evenodd\" fill-opacity=\"1\" /><path clip-path=\"url(#clip900)\" d=\"M 0 0 M111.154 688.388 L116.038 688.388 L116.038 694.268 L111.154 694.268 L111.154 688.388 Z\" fill=\"#000000\" fill-rule=\"evenodd\" fill-opacity=\"1\" /><path clip-path=\"url(#clip900)\" d=\"M 0 0 M121.154 659.708 L139.51 659.708 L139.51 663.643 L125.436 663.643 L125.436 672.115 Q126.455 671.768 127.473 671.606 Q128.492 671.421 129.51 671.421 Q135.297 671.421 138.677 674.592 Q142.056 677.763 142.056 683.18 Q142.056 688.758 138.584 691.86 Q135.112 694.939 128.793 694.939 Q126.617 694.939 124.348 694.569 Q122.103 694.198 119.695 693.458 L119.695 688.758 Q121.779 689.893 124.001 690.448 Q126.223 691.004 128.7 691.004 Q132.705 691.004 135.043 688.897 Q137.381 686.791 137.381 683.18 Q137.381 679.569 135.043 677.462 Q132.705 675.356 128.7 675.356 Q126.825 675.356 124.95 675.772 Q123.098 676.189 121.154 677.069 L121.154 659.708 Z\" fill=\"#000000\" fill-rule=\"evenodd\" fill-opacity=\"1\" /><path clip-path=\"url(#clip900)\" d=\"M 0 0 M157.126 662.786 Q153.515 662.786 151.686 666.351 Q149.88 669.893 149.88 677.022 Q149.88 684.129 151.686 687.694 Q153.515 691.235 157.126 691.235 Q160.76 691.235 162.566 687.694 Q164.394 684.129 164.394 677.022 Q164.394 669.893 162.566 666.351 Q160.76 662.786 157.126 662.786 M157.126 659.083 Q162.936 659.083 165.992 663.689 Q169.07 668.272 169.07 677.022 Q169.07 685.749 165.992 690.356 Q162.936 694.939 157.126 694.939 Q151.316 694.939 148.237 690.356 Q145.181 685.749 145.181 677.022 Q145.181 668.272 148.237 663.689 Q151.316 659.083 157.126 659.083 Z\" fill=\"#000000\" fill-rule=\"evenodd\" fill-opacity=\"1\" /><path clip-path=\"url(#clip900)\" d=\"M 0 0 M95.0428 450.361 Q91.4317 450.361 89.603 453.926 Q87.7975 457.468 87.7975 464.597 Q87.7975 471.704 89.603 475.269 Q91.4317 478.81 95.0428 478.81 Q98.6771 478.81 100.483 475.269 Q102.311 471.704 102.311 464.597 Q102.311 457.468 100.483 453.926 Q98.6771 450.361 95.0428 450.361 M95.0428 446.658 Q100.853 446.658 103.909 451.264 Q106.987 455.847 106.987 464.597 Q106.987 473.324 103.909 477.931 Q100.853 482.514 95.0428 482.514 Q89.2327 482.514 86.154 477.931 Q83.0984 473.324 83.0984 464.597 Q83.0984 455.847 86.154 451.264 Q89.2327 446.658 95.0428 446.658 Z\" fill=\"#000000\" fill-rule=\"evenodd\" fill-opacity=\"1\" /><path clip-path=\"url(#clip900)\" d=\"M 0 0 M112.057 475.963 L116.941 475.963 L116.941 481.843 L112.057 481.843 L112.057 475.963 Z\" fill=\"#000000\" fill-rule=\"evenodd\" fill-opacity=\"1\" /><path clip-path=\"url(#clip900)\" d=\"M 0 0 M120.83 447.283 L143.052 447.283 L143.052 449.273 L130.506 481.843 L125.621 481.843 L137.427 451.218 L120.83 451.218 L120.83 447.283 Z\" fill=\"#000000\" fill-rule=\"evenodd\" fill-opacity=\"1\" /><path clip-path=\"url(#clip900)\" d=\"M 0 0 M148.168 447.283 L166.524 447.283 L166.524 451.218 L152.45 451.218 L152.45 459.69 Q153.468 459.343 154.487 459.181 Q155.505 458.995 156.524 458.995 Q162.311 458.995 165.691 462.167 Q169.07 465.338 169.07 470.755 Q169.07 476.333 165.598 479.435 Q162.126 482.514 155.806 482.514 Q153.63 482.514 151.362 482.143 Q149.117 481.773 146.709 481.032 L146.709 476.333 Q148.793 477.468 151.015 478.023 Q153.237 478.579 155.714 478.579 Q159.718 478.579 162.056 476.472 Q164.394 474.366 164.394 470.755 Q164.394 467.144 162.056 465.037 Q159.718 462.931 155.714 462.931 Q153.839 462.931 151.964 463.347 Q150.112 463.764 148.168 464.644 L148.168 447.283 Z\" fill=\"#000000\" fill-rule=\"evenodd\" fill-opacity=\"1\" /><path clip-path=\"url(#clip900)\" d=\"M 0 0 M85.1818 265.482 L92.8206 265.482 L92.8206 239.117 L84.5105 240.783 L84.5105 236.524 L92.7743 234.857 L97.4502 234.857 L97.4502 265.482 L105.089 265.482 L105.089 269.417 L85.1818 269.417 L85.1818 265.482 Z\" fill=\"#000000\" fill-rule=\"evenodd\" fill-opacity=\"1\" /><path clip-path=\"url(#clip900)\" d=\"M 0 0 M110.158 263.538 L115.043 263.538 L115.043 269.417 L110.158 269.417 L110.158 263.538 Z\" fill=\"#000000\" fill-rule=\"evenodd\" fill-opacity=\"1\" /><path clip-path=\"url(#clip900)\" d=\"M 0 0 M130.112 237.936 Q126.501 237.936 124.672 241.501 Q122.867 245.043 122.867 252.172 Q122.867 259.279 124.672 262.843 Q126.501 266.385 130.112 266.385 Q133.746 266.385 135.552 262.843 Q137.381 259.279 137.381 252.172 Q137.381 245.043 135.552 241.501 Q133.746 237.936 130.112 237.936 M130.112 234.232 Q135.922 234.232 138.978 238.839 Q142.056 243.422 142.056 252.172 Q142.056 260.899 138.978 265.505 Q135.922 270.089 130.112 270.089 Q124.302 270.089 121.223 265.505 Q118.168 260.899 118.168 252.172 Q118.168 243.422 121.223 238.839 Q124.302 234.232 130.112 234.232 Z\" fill=\"#000000\" fill-rule=\"evenodd\" fill-opacity=\"1\" /><path clip-path=\"url(#clip900)\" d=\"M 0 0 M157.126 237.936 Q153.515 237.936 151.686 241.501 Q149.88 245.043 149.88 252.172 Q149.88 259.279 151.686 262.843 Q153.515 266.385 157.126 266.385 Q160.76 266.385 162.566 262.843 Q164.394 259.279 164.394 252.172 Q164.394 245.043 162.566 241.501 Q160.76 237.936 157.126 237.936 M157.126 234.232 Q162.936 234.232 165.992 238.839 Q169.07 243.422 169.07 252.172 Q169.07 260.899 165.992 265.505 Q162.936 270.089 157.126 270.089 Q151.316 270.089 148.237 265.505 Q145.181 260.899 145.181 252.172 Q145.181 243.422 148.237 238.839 Q151.316 234.232 157.126 234.232 Z\" fill=\"#000000\" fill-rule=\"evenodd\" fill-opacity=\"1\" /><polyline clip-path=\"url(#clip902)\" style=\"stroke:#009af9; stroke-width:4; stroke-opacity:1; fill:none\" points=\"\n",
       "  265.854,1194.32 267.882,1073.18 269.91,1072.46 271.938,1094.7 273.966,1026.67 275.994,1141.29 278.023,1068.39 280.051,1035.06 282.079,1054.57 284.107,1101.55 \n",
       "  286.135,1127.61 288.163,1069.45 290.192,1198.82 292.22,1288.83 294.248,1094.36 296.276,965.741 298.304,1102.48 300.332,1052.02 302.36,1117.74 304.389,980.199 \n",
       "  306.417,1120.14 308.445,1199.4 310.473,987.54 312.501,1209.36 314.529,1111.9 316.557,1020.58 318.586,1106.64 320.614,1145.08 322.642,1021.8 324.67,1140.61 \n",
       "  326.698,942.574 328.726,1143.73 330.754,1206.11 332.783,1118.38 334.811,1121.06 336.839,967.417 338.867,1089.4 340.895,1167.87 342.923,1182.35 344.951,1035.31 \n",
       "  346.98,1147.6 349.008,1170.6 351.036,1125.62 353.064,1135.76 355.092,1130.86 357.12,1158.31 359.149,1050.61 361.177,1093.09 363.205,1185.22 365.233,1294.77 \n",
       "  367.261,1119.15 369.289,1167.22 371.317,1071.57 373.346,1069.53 375.374,886.861 377.402,895.364 379.43,1239.91 381.458,1057.53 383.486,1112.24 385.514,1141.5 \n",
       "  387.543,1094.67 389.571,1038.16 391.599,1058.69 393.627,1069.87 395.655,1145.71 397.683,1030.05 399.711,1090.21 401.74,1061.09 403.768,1105.5 405.796,944.158 \n",
       "  407.824,1133.33 409.852,1055.32 411.88,1161.33 413.908,919.858 415.937,1115.71 417.965,1253.62 419.993,1177.36 422.021,984.818 424.049,1059.62 426.077,1080.29 \n",
       "  428.105,992.887 430.134,1107.87 432.162,1084.23 434.19,1136.48 436.218,1128.94 438.246,1116.71 440.274,1027.93 442.303,1026.93 444.331,1149.32 446.359,1240.86 \n",
       "  448.387,1000.05 450.415,1159.19 452.443,977.411 454.471,1178.2 456.5,1178.01 458.528,1142.91 460.556,1298.2 462.584,1135.72 464.612,1114.95 466.64,1032.65 \n",
       "  468.668,1168.74 470.697,1189.67 472.725,1142.81 474.753,1213.05 476.781,1117.16 478.809,1095.94 480.837,1072.24 482.865,1101.67 484.894,1059.17 486.922,1192.8 \n",
       "  488.95,1081.21 490.978,1141.96 493.006,1157.2 495.034,915.395 497.062,1122.48 499.091,1118.42 501.119,1068.3 503.147,1089.77 505.175,1072.5 507.203,1185.96 \n",
       "  509.231,1086.69 511.26,938.242 513.288,1065.02 515.316,1187.37 517.344,1050.72 519.372,999.558 521.4,1051.12 523.428,1140.28 525.457,1144.74 527.485,1036.29 \n",
       "  529.513,1042.71 531.541,1016.25 533.569,1150.81 535.597,1204.47 537.625,1266 539.654,1076.9 541.682,1052.24 543.71,1121.65 545.738,1049.57 547.766,1040.5 \n",
       "  549.794,1133.99 551.822,1123.49 553.851,1024.1 555.879,1072.08 557.907,1088.18 559.935,1044.09 561.963,877.581 563.991,1009.2 566.019,979.279 568.048,1227.31 \n",
       "  570.076,1309.64 572.104,1026.75 574.132,1055.93 576.16,1032.13 578.188,1086.75 580.216,976.284 582.245,1148.45 584.273,1154.81 586.301,1030.89 588.329,1125.31 \n",
       "  590.357,1037.26 592.385,1152.39 594.414,978.878 596.442,1187.89 598.47,1112.34 600.498,1137.12 602.526,1246.27 604.554,1170.62 606.582,1227.52 608.611,1072.49 \n",
       "  610.639,1238.65 612.667,1063.8 614.695,1125.37 616.723,1111.62 618.751,1208.07 620.779,981.771 622.808,1120.26 624.836,1002.6 626.864,1019.21 628.892,1095.12 \n",
       "  630.92,1211.19 632.948,1075.3 634.976,1130.51 637.005,1066.87 639.033,1122.93 641.061,1098.65 643.089,1087.17 645.117,1045.41 647.145,989.68 649.173,1200.6 \n",
       "  651.202,1042.55 653.23,1004.99 655.258,1050.05 657.286,1063.89 659.314,1053.15 661.342,957.903 663.371,821.48 665.399,999.348 667.427,1053.13 669.455,1193.47 \n",
       "  671.483,892.378 673.511,1085.11 675.539,1211.53 677.568,989.069 679.596,1090.07 681.624,1036.88 683.652,980.075 685.68,1000.65 687.708,1009.21 689.736,981.268 \n",
       "  691.765,1273.01 693.793,1247.09 695.821,999.722 697.849,1104.55 699.877,1131.38 701.905,1096.02 703.933,996.273 705.962,1082.76 707.99,1108.26 710.018,1098.78 \n",
       "  712.046,1211.66 714.074,1222.46 716.102,1188.42 718.13,1241.39 720.159,1013.83 722.187,1061.67 724.215,887.827 726.243,1148.57 728.271,1115.57 730.299,1158 \n",
       "  732.328,1059.67 734.356,927.116 736.384,1169.97 738.412,1067.24 740.44,1084.93 742.468,967.147 744.496,1171.45 746.525,1137.62 748.553,1131.75 750.581,1085.34 \n",
       "  752.609,1110.41 754.637,1126.61 756.665,1140.91 758.693,1445.72 760.722,1044.8 762.75,1023.7 764.778,1094.52 766.806,1036.02 768.834,1174.64 770.862,1130.03 \n",
       "  772.89,1107.96 774.919,1249.2 776.947,1219.17 778.975,1211.63 781.003,897.671 783.031,1047.89 785.059,1181.74 787.087,1141.34 789.116,1013.37 791.144,1119.77 \n",
       "  793.172,1006.09 795.2,1305.04 797.228,1081.48 799.256,1071.48 801.284,1046.59 803.313,1123.11 805.341,1255.66 807.369,1144.77 809.397,1084.83 811.425,1083.55 \n",
       "  813.453,1188.52 815.482,1114.39 817.51,1084.29 819.538,1024.27 821.566,1249.45 823.594,1065.34 825.622,1185.73 827.65,1194.96 829.679,997.762 831.707,1228.7 \n",
       "  833.735,1005.05 835.763,1075.18 837.791,1098.54 839.819,994.177 841.847,1229.18 843.876,991.837 845.904,1098.59 847.932,1324.34 849.96,1020.17 851.988,961.303 \n",
       "  854.016,1098.22 856.044,1036.52 858.073,1026.32 860.101,1143.87 862.129,1316.68 864.157,1157.75 866.185,1053.98 868.213,1017.61 870.241,1173.33 872.27,1188.68 \n",
       "  874.298,1080.2 876.326,1188.89 878.354,1104.24 880.382,1103.71 882.41,1072.87 884.439,1032.21 886.467,1034.68 888.495,1091.35 890.523,1182.08 892.551,1107.75 \n",
       "  894.579,1156.29 896.607,1154.03 898.636,1227.86 900.664,1176.5 902.692,1142.93 904.72,1155.68 906.748,1090.59 908.776,998.484 910.804,1013.75 912.833,1151.93 \n",
       "  914.861,1249.24 916.889,1124.87 918.917,1161.36 920.945,1058.46 922.973,1174.3 925.001,1148.23 927.03,1194.14 929.058,1106.8 931.086,1028.59 933.114,1231.42 \n",
       "  935.142,872.592 937.17,1138.02 939.198,969.687 941.227,1064.68 943.255,1099.62 945.283,1093.85 947.311,1033.76 949.339,1123.56 951.367,1045.73 953.395,1247.75 \n",
       "  955.424,1119.38 957.452,1210.02 959.48,1207.45 961.508,929.747 963.536,1039.68 965.564,1042.14 967.593,1111.68 969.621,1287.68 971.649,1272.02 973.677,1085.88 \n",
       "  975.705,1036.98 977.733,1375.45 979.761,1094.3 981.79,1095.04 983.818,1076.36 985.846,1193.17 987.874,1010.8 989.902,1104.69 991.93,1211.3 993.958,1029.89 \n",
       "  995.987,1182.74 998.015,1188.74 1000.04,1171.71 1002.07,1051.29 1004.1,1246.67 1006.13,1018.82 1008.16,1082.99 1010.18,1047.2 1012.21,1002.34 1014.24,1021.23 \n",
       "  1016.27,934.907 1018.3,1313.02 1020.32,1016.24 1022.35,1085.87 1024.38,1023 1026.41,1348.82 1028.44,1099.8 1030.47,965.708 1032.49,1129.6 1034.52,1134.96 \n",
       "  1036.55,970.415 1038.58,1089.11 1040.61,1031.65 1042.63,1143.61 1044.66,1056.4 1046.69,1146.26 1048.72,1096.36 1050.75,1127.51 1052.77,1068.59 1054.8,1114.66 \n",
       "  1056.83,1041.5 1058.86,1017.97 1060.89,1204.57 1062.92,1045.3 1064.94,1132.76 1066.97,1042.17 1069,1179.88 1071.03,979.324 1073.06,1055.14 1075.08,1108.57 \n",
       "  1077.11,1028.85 1079.14,925.065 1081.17,1098.55 1083.2,1041.17 1085.23,1034.85 1087.25,1147.23 1089.28,1006.59 1091.31,992.588 1093.34,1103.81 1095.37,952.06 \n",
       "  1097.39,949.138 1099.42,1139.87 1101.45,943.112 1103.48,997.604 1105.51,1052.5 1107.53,974.169 1109.56,1166.34 1111.59,1033.65 1113.62,951.337 1115.65,978.309 \n",
       "  1117.68,961.381 1119.7,964.115 1121.73,1044.9 1123.76,1091.57 1125.79,917.253 1127.82,1175.34 1129.84,1165.73 1131.87,994.637 1133.9,1062.9 1135.93,1009.73 \n",
       "  1137.96,889.572 1139.98,1109.29 1142.01,1010.82 1144.04,1064.89 1146.07,1020.06 1148.1,865.444 1150.13,828.021 1152.15,961.975 1154.18,920.03 1156.21,984.349 \n",
       "  1158.24,838.588 1160.27,1025.43 1162.29,894.694 1164.32,996.228 1166.35,813.222 1168.38,921.265 1170.41,872.45 1172.44,850.793 1174.46,819.683 1176.49,851.421 \n",
       "  1178.52,885.06 1180.55,791.383 1182.58,809.353 1184.6,791.953 1186.63,814.212 1188.66,732.128 1190.69,775.032 1192.72,576.14 1194.74,640.103 1196.77,741.516 \n",
       "  1198.8,569.268 1200.83,733.535 1202.86,637.789 1204.89,590.476 1206.91,592.223 1208.94,423.234 1210.97,612.851 1213,563.158 1215.03,644.076 1217.05,571.04 \n",
       "  1219.08,430.052 1221.11,472.379 1223.14,623.098 1225.17,466.977 1227.2,480.111 1229.22,357.018 1231.25,410.494 1233.28,463.076 1235.31,436.324 1237.34,359.891 \n",
       "  1239.36,376.471 1241.39,369.083 1243.42,463.22 1245.45,274.487 1247.48,280.223 1249.5,305.32 1251.53,300.239 1253.56,381.274 1255.59,443.766 1257.62,262.907 \n",
       "  1259.65,362.036 1261.67,274.378 1263.7,146.848 1265.73,377.929 1267.76,209.75 1269.79,423.524 1271.81,143.471 1273.84,141.299 1275.87,367.521 1277.9,203.809 \n",
       "  1279.93,240.755 1281.96,294.02 1283.98,159.411 1286.01,235.933 1288.04,289.209 1290.07,87.9763 1292.1,244.068 1294.12,177.085 1296.15,353.286 1298.18,239.892 \n",
       "  1300.21,299.008 1302.24,264.271 1304.26,276.169 1306.29,244.009 1308.32,338.034 1310.35,368.223 1312.38,495.793 1314.41,371.484 1316.43,367.627 1318.46,537.706 \n",
       "  1320.49,358.242 1322.52,413.7 1324.55,344.436 1326.57,500.652 1328.6,482.724 1330.63,525.743 1332.66,663.418 1334.69,549.681 1336.72,273.484 1338.74,386.389 \n",
       "  1340.77,475.89 1342.8,539.677 1344.83,528.149 1346.86,467.438 1348.88,659.181 1350.91,546.665 1352.94,465.856 1354.97,562.709 1357,578.775 1359.02,832.758 \n",
       "  1361.05,505.58 1363.08,653.866 1365.11,669.409 1367.14,774.06 1369.17,689.669 1371.19,706.491 1373.22,783.913 1375.25,642.179 1377.28,703.422 1379.31,891.95 \n",
       "  1381.33,923.708 1383.36,843.556 1385.39,738.924 1387.42,938.306 1389.45,827.901 1391.48,917.141 1393.5,855.884 1395.53,991.458 1397.56,811.513 1399.59,754.192 \n",
       "  1401.62,976.201 1403.64,966.107 1405.67,811.712 1407.7,855.875 1409.73,1028.51 1411.76,909.197 1413.78,842.536 1415.81,979.794 1417.84,936.96 1419.87,946.97 \n",
       "  1421.9,972.055 1423.93,1029.75 1425.95,1064.8 1427.98,906.139 1430.01,1056.05 1432.04,1058.95 1434.07,1101.27 1436.09,1010.9 1438.12,1124.92 1440.15,1098.75 \n",
       "  1442.18,855.776 1444.21,1104.46 1446.24,998.945 1448.26,1010.67 1450.29,999.543 1452.32,1048.13 1454.35,1139.36 1456.38,1081.32 1458.4,891.075 1460.43,1017.41 \n",
       "  1462.46,1074.97 1464.49,1194.97 1466.52,1129.53 1468.54,1191.86 1470.57,1106.39 1472.6,1105.6 1474.63,947.359 1476.66,1163.72 1478.69,1111.13 1480.71,1221.3 \n",
       "  1482.74,1193.64 1484.77,1072.29 1486.8,1083.06 1488.83,974.147 1490.85,1110.72 1492.88,1119.64 1494.91,1092.51 1496.94,1082.27 1498.97,999.517 1501,985.946 \n",
       "  1503.02,1243.02 1505.05,1084.27 1507.08,1006.95 1509.11,1119.8 1511.14,1221.1 1513.16,1055.61 1515.19,1041.64 1517.22,1214.42 1519.25,1067.63 1521.28,994.374 \n",
       "  1523.3,1101.92 1525.33,1056.88 1527.36,1065.24 1529.39,1022.41 1531.42,979.7 1533.45,1029.77 1535.47,1032.02 1537.5,1084.43 1539.53,997.441 1541.56,1052.96 \n",
       "  1543.59,1007.41 1545.61,1056.24 1547.64,1145.62 1549.67,966.822 1551.7,1120.32 1553.73,921.792 1555.76,1117.88 1557.78,1155.38 1559.81,1047.08 1561.84,1128.95 \n",
       "  1563.87,1155.14 1565.9,984.146 1567.92,1194.43 1569.95,1164.78 1571.98,1003.14 1574.01,1186.05 1576.04,1109.81 1578.06,1017.45 1580.09,1061.53 1582.12,1063.18 \n",
       "  1584.15,1141.9 1586.18,1135.97 1588.21,1173.75 1590.23,1192.57 1592.26,1283.23 1594.29,1231.99 1596.32,1162.45 1598.35,1163.16 1600.37,1090.27 1602.4,1146.74 \n",
       "  1604.43,996.046 1606.46,1192.59 1608.49,969.186 1610.52,1168.88 1612.54,1107.13 1614.57,1082.15 1616.6,1188.13 1618.63,1144.02 1620.66,1040.6 1622.68,1162.17 \n",
       "  1624.71,1076.05 1626.74,1204.16 1628.77,967.891 1630.8,1168.07 1632.82,1013.09 1634.85,1122.34 1636.88,1192.76 1638.91,1103.73 1640.94,1134.88 1642.97,1261.49 \n",
       "  1644.99,1249.32 1647.02,988.703 1649.05,874.274 1651.08,1054.97 1653.11,937.45 1655.13,934.5 1657.16,1078.51 1659.19,1081.92 1661.22,974.625 1663.25,1073.62 \n",
       "  1665.28,895.493 1667.3,1134.97 1669.33,971.291 1671.36,1251.36 1673.39,917.126 1675.42,1170.56 1677.44,1108.74 1679.47,1104.08 1681.5,1115.41 1683.53,1096.16 \n",
       "  1685.56,1081.16 1687.58,1072.01 1689.61,1119.65 1691.64,1061.82 1693.67,919.89 1695.7,1145.68 1697.73,1119.74 1699.75,1130.23 1701.78,1022.86 1703.81,900.845 \n",
       "  1705.84,1161.28 1707.87,1082.63 1709.89,1103.1 1711.92,1056.81 1713.95,1106.32 1715.98,968.243 1718.01,1037.51 1720.03,1058.36 1722.06,1016.96 1724.09,1129.86 \n",
       "  1726.12,1079.01 1728.15,1113.52 1730.18,1101.42 1732.2,1152.07 1734.23,1321.79 1736.26,1096.63 1738.29,1170.69 1740.32,983.043 1742.34,1100.15 1744.37,1087.03 \n",
       "  1746.4,1005.6 1748.43,1257.61 1750.46,1028.84 1752.49,1153.58 1754.51,1179.52 1756.54,1120.77 1758.57,1106 1760.6,959.22 1762.63,1011.64 1764.65,976.608 \n",
       "  1766.68,1304.72 1768.71,1282.94 1770.74,1231.15 1772.77,1060.67 1774.79,1307.11 1776.82,946.788 1778.85,1143.08 1780.88,939.17 1782.91,1190.38 1784.94,1100.78 \n",
       "  1786.96,1180.08 1788.99,1141.35 1791.02,1028.36 1793.05,1090.12 1795.08,1278.58 1797.1,1087.26 1799.13,1216.59 1801.16,988.105 1803.19,897.786 1805.22,1240.66 \n",
       "  1807.25,1158.43 1809.27,1173.87 1811.3,1151.39 1813.33,1091.58 1815.36,1171.97 1817.39,963.605 1819.41,1181.2 1821.44,1102.02 1823.47,1021.18 1825.5,1305.95 \n",
       "  1827.53,1169.16 1829.55,1146.25 1831.58,1024.11 1833.61,979.558 1835.64,1142.85 1837.67,1119.24 1839.7,1103.44 1841.72,1163.41 1843.75,1142.07 1845.78,1227.54 \n",
       "  1847.81,1075.61 1849.84,1139.23 1851.86,1082.7 1853.89,1019.76 1855.92,998.074 1857.95,1103.08 1859.98,1005.17 1862.01,989.655 1864.03,1043.44 1866.06,1171.61 \n",
       "  1868.09,1119.61 1870.12,1205.82 1872.15,1096.16 1874.17,1080.51 1876.2,1011.67 1878.23,1075.96 1880.26,1215.41 1882.29,1172.48 1884.31,1219.72 1886.34,1031.79 \n",
       "  1888.37,929.473 1890.4,1106.01 1892.43,1063.91 1894.46,1138.12 1896.48,1120.86 1898.51,1135.07 1900.54,1034.92 1902.57,1123.57 1904.6,1171.04 1906.62,1034.77 \n",
       "  1908.65,1210.46 1910.68,1144.52 1912.71,1297.18 1914.74,1205.38 1916.77,998.596 1918.79,1050.65 1920.82,1080.66 1922.85,1180.03 1924.88,1132.4 1926.91,1106.79 \n",
       "  1928.93,933.507 1930.96,1033.07 1932.99,1115.14 1935.02,1098.97 1937.05,1092.44 1939.07,1073.81 1941.1,1021.09 1943.13,1066.25 1945.16,1178.13 1947.19,1022.32 \n",
       "  1949.22,1000.6 1951.24,985.672 1953.27,1130.61 1955.3,1239.54 1957.33,1123.66 1959.36,1032.37 1961.38,1063.05 1963.41,1124.24 1965.44,1046.17 1967.47,1040.71 \n",
       "  1969.5,928.459 1971.53,1125.16 1973.55,1132.66 1975.58,1210.96 1977.61,1124.62 1979.64,986.312 1981.67,1104.16 1983.69,1047.94 1985.72,1000.54 1987.75,1107.32 \n",
       "  1989.78,1093.46 1991.81,1188.73 1993.83,1267.89 1995.86,1074.46 1997.89,965.716 1999.92,977.347 2001.95,1207.73 2003.98,1057.79 2006,892.109 2008.03,1175.92 \n",
       "  2010.06,1113.73 2012.09,1121.07 2014.12,1098.07 2016.14,929.283 2018.17,1248.06 2020.2,1117.28 2022.23,1054.92 2024.26,1142.87 2026.29,1065.14 2028.31,1083.81 \n",
       "  2030.34,1046.51 2032.37,1274.22 2034.4,1112.5 2036.43,1203.74 2038.45,1118.01 2040.48,1122.57 2042.51,1203.15 2044.54,1195.55 2046.57,1100.65 2048.59,1036.37 \n",
       "  2050.62,994.947 2052.65,1159.05 2054.68,1274.04 2056.71,1089.52 2058.74,914.614 2060.76,1130.52 2062.79,1011.86 2064.82,1149.19 2066.85,1047.42 2068.88,1128.31 \n",
       "  2070.9,990.616 2072.93,1197.98 2074.96,1033.01 2076.99,1072.36 2079.02,989.007 2081.05,1159.27 2083.07,1136.23 2085.1,1088.96 2087.13,1152.53 2089.16,1036.57 \n",
       "  2091.19,1090.4 2093.21,1274.18 2095.24,1115.06 2097.27,1087.29 2099.3,1134.02 2101.33,930.936 2103.35,1177.1 2105.38,1224.8 2107.41,1172.58 2109.44,967.424 \n",
       "  2111.47,1041.06 2113.5,1116.13 2115.52,1266.2 2117.55,1092.1 2119.58,1037.72 2121.61,1002.14 2123.64,1070.66 2125.66,1110.67 2127.69,1044.24 2129.72,1232.65 \n",
       "  2131.75,1151.51 2133.78,1081.19 2135.81,1058.8 2137.83,1241.99 2139.86,1087.64 2141.89,1109.12 2143.92,1186.14 2145.95,1064.47 2147.97,1079.48 2150,1058.21 \n",
       "  2152.03,1005.7 2154.06,949.327 2156.09,991.982 2158.11,1152.75 2160.14,1106.84 2162.17,1137.09 2164.2,1194.81 2166.23,1021.82 2168.26,1043.55 2170.28,1045.83 \n",
       "  2172.31,1164.68 2174.34,1213.19 2176.37,1071.55 2178.4,1011.79 2180.42,1005.09 2182.45,1215.25 2184.48,1073.12 2186.51,1120.61 2188.54,1082.79 2190.57,1206.24 \n",
       "  2192.59,1062.83 2194.62,1248.57 2196.65,1108.05 2198.68,1247.97 2200.71,1035.29 2202.73,1093.66 2204.76,1158.57 2206.79,1030.73 2208.82,1405.61 2210.85,1187.73 \n",
       "  2212.87,1003.71 2214.9,1064.59 2216.93,1188.85 2218.96,1001.73 2220.99,961.379 2223.02,1184.6 2225.04,1158.9 2227.07,1042.44 2229.1,998.084 2231.13,1161.42 \n",
       "  2233.16,871.926 2235.18,1266.59 2237.21,984.306 2239.24,1060.88 2241.27,1194.73 2243.3,1258.26 2245.32,1136.45 2247.35,1091.23 2249.38,1214.16 2251.41,1182.38 \n",
       "  2253.44,1153.72 2255.47,1017.17 2257.49,1195.55 2259.52,1085.35 2261.55,1157.54 2263.58,1022.16 2265.61,1253.92 2267.63,1089.85 2269.66,1082.78 2271.69,1102.59 \n",
       "  2273.72,991.443 2275.75,1041.32 2277.78,1114.19 2279.8,1076.27 2281.83,1026.43 2283.86,1175.82 2285.89,1007.53 2287.92,1178.61 2289.94,1070.12 2291.97,1037.98 \n",
       "  \n",
       "  \"/>\n",
       "<polyline clip-path=\"url(#clip902)\" style=\"stroke:#e26f46; stroke-width:4; stroke-opacity:1; fill:none\" points=\"\n",
       "  265.854,1100.44 267.882,1095.86 269.91,1088.26 271.938,1084.52 273.966,1086.22 275.994,1089.98 278.023,1078.63 280.051,1090.05 282.079,1109.72 284.107,1109.69 \n",
       "  286.135,1104.15 288.163,1100.62 290.192,1099.13 292.22,1106.65 294.248,1099.89 296.276,1101.58 298.304,1108.11 300.332,1100.66 302.36,1101.62 304.389,1085.53 \n",
       "  306.417,1078.83 308.445,1091.64 310.473,1095.51 312.501,1092.76 314.529,1094.84 316.557,1091.42 318.586,1093.56 320.614,1094.17 322.642,1106.07 324.67,1098.04 \n",
       "  326.698,1084.91 328.726,1091.16 330.754,1096.73 332.783,1100.12 334.811,1101.35 336.839,1101.98 338.867,1122.71 340.895,1121.06 342.923,1114.67 344.951,1115.8 \n",
       "  346.98,1119.19 349.008,1126.75 351.036,1127.09 353.064,1128.67 355.092,1138.89 357.12,1146.51 359.149,1148.29 361.177,1139.29 363.205,1134.19 365.233,1111.56 \n",
       "  367.261,1090.15 369.289,1097.57 371.317,1098.2 373.346,1099.94 375.374,1095.97 377.402,1077.78 379.43,1070.41 381.458,1060.55 383.486,1060.39 385.514,1067.32 \n",
       "  387.543,1080.34 389.571,1098.05 391.599,1081.79 393.627,1086.15 395.655,1070.87 397.683,1070.13 399.711,1066.55 401.74,1077.75 403.768,1065.13 405.796,1069.3 \n",
       "  407.824,1079.11 409.852,1092.5 411.88,1082.92 413.908,1082.78 415.937,1080.49 417.965,1084.92 419.993,1082.61 422.021,1085.24 424.049,1082.98 426.077,1101.99 \n",
       "  428.105,1102.08 430.134,1081.56 432.162,1067.88 434.19,1082.84 436.218,1099.31 438.246,1092.02 440.274,1107.14 442.303,1095.28 444.331,1103.82 446.359,1107.6 \n",
       "  448.387,1108.87 450.415,1125.37 452.443,1135.16 454.471,1143.17 456.5,1132.56 458.528,1126 460.556,1143.24 462.584,1141.75 464.612,1163.17 466.64,1157.62 \n",
       "  468.668,1150.16 470.697,1143.74 472.725,1125.87 474.753,1118.91 476.781,1125.99 478.809,1130.41 480.837,1127.97 482.865,1125.02 484.894,1104.34 486.922,1096.11 \n",
       "  488.95,1096.23 490.978,1093.71 493.006,1095.31 495.034,1092.65 497.062,1104.18 499.091,1094.53 501.119,1081.54 503.147,1074.54 505.175,1077.29 507.203,1089.59 \n",
       "  509.231,1078.41 511.26,1072.29 513.288,1078.84 515.316,1083.84 517.344,1080.54 519.372,1067.52 521.4,1061.12 523.428,1080.44 525.457,1093.12 527.485,1100.27 \n",
       "  529.513,1102.65 531.541,1107.44 533.569,1113.85 535.597,1105.6 537.625,1096.13 539.654,1105.01 541.682,1112.35 543.71,1113.06 545.738,1105.91 547.766,1095.34 \n",
       "  549.794,1075.16 551.822,1057.04 553.851,1053.13 555.879,1040.19 557.907,1056.35 559.935,1080.81 561.963,1071.06 563.991,1064.92 566.019,1065.65 568.048,1066.99 \n",
       "  570.076,1056.81 572.104,1066.3 574.132,1091.5 576.16,1093.47 578.188,1106.75 580.216,1089.47 582.245,1075.18 584.273,1070.82 586.301,1082.82 588.329,1090.11 \n",
       "  590.357,1094.69 592.385,1119.24 594.414,1121.25 596.442,1127.86 598.47,1131.64 600.498,1141.95 602.526,1144.36 604.554,1141.9 606.582,1153.97 608.611,1155.81 \n",
       "  610.639,1143.94 612.667,1142.4 614.695,1120.25 616.723,1106.49 618.751,1094.45 620.779,1107.06 622.808,1092.21 624.836,1098.27 626.864,1092.95 628.892,1093.98 \n",
       "  630.92,1084.04 632.948,1093.62 634.976,1086.81 637.005,1085.64 639.033,1102.13 641.061,1097.35 643.089,1078.61 645.117,1076.31 647.145,1070.25 649.173,1069.01 \n",
       "  651.202,1054.01 653.23,1028.81 655.258,1020.82 657.286,1021.53 659.314,1040.05 661.342,1012.03 663.371,1015.9 665.399,1034.68 667.427,1029.13 669.455,1031.51 \n",
       "  671.483,1030.03 673.511,1032.05 675.539,1048.34 677.568,1049.23 679.596,1042.7 681.624,1049.93 683.652,1082.18 685.68,1074.42 687.708,1064.69 689.736,1077.63 \n",
       "  691.765,1078.17 693.793,1074.48 695.821,1083.81 697.849,1093.59 699.877,1101.74 701.905,1122.68 703.933,1118.09 705.962,1112.75 707.99,1134.72 710.018,1126.48 \n",
       "  712.046,1120.14 714.074,1101.21 716.102,1115.06 718.13,1118.04 720.159,1122.56 722.187,1119.01 724.215,1093.14 726.243,1088.37 728.271,1077.35 730.299,1063.13 \n",
       "  732.328,1058.88 734.356,1068.86 736.384,1091.57 738.412,1090.04 740.44,1087.29 742.468,1082.97 744.496,1089.05 746.525,1108.49 748.553,1133.56 750.581,1131.52 \n",
       "  752.609,1125.95 754.637,1137.53 756.665,1125.22 758.693,1128.58 760.722,1128.43 762.75,1130.48 764.778,1143.1 766.806,1151.52 768.834,1157.95 770.862,1108.12 \n",
       "  772.89,1108.4 774.919,1122.77 776.947,1127.03 778.975,1124.97 781.003,1119.98 783.031,1108.71 785.059,1126.63 787.087,1111.38 789.116,1097.95 791.144,1082.95 \n",
       "  793.172,1103.45 795.2,1122.33 797.228,1118.97 799.256,1113.84 801.284,1120.22 803.313,1126.47 805.341,1136.31 807.369,1116.24 809.397,1111.04 811.425,1127.22 \n",
       "  813.453,1128.93 815.482,1134.62 817.51,1129.1 819.538,1115.73 821.566,1128.81 823.594,1121.68 825.622,1111.37 827.65,1109.93 829.679,1101.74 831.707,1120.37 \n",
       "  833.735,1096.95 835.763,1099.97 837.791,1112.57 839.819,1096.68 841.847,1093.37 843.876,1081.51 845.904,1084.37 847.932,1079.93 849.96,1084.05 851.988,1113.37 \n",
       "  854.016,1106.87 856.044,1112.52 858.073,1105.16 860.101,1091.43 862.129,1106.75 864.157,1117.56 866.185,1125.8 868.213,1131.96 870.241,1138.99 872.27,1132.54 \n",
       "  874.298,1106.68 876.326,1095.49 878.354,1098.89 880.382,1113.84 882.41,1107.88 884.439,1104.93 886.467,1111.65 888.495,1115.19 890.523,1121.76 892.551,1125.32 \n",
       "  894.579,1132.85 896.607,1138.16 898.636,1134.87 900.664,1127.81 902.692,1125.07 904.72,1137.93 906.748,1135.08 908.776,1135.74 910.804,1120.34 912.833,1120.14 \n",
       "  914.861,1120.63 916.889,1124.12 918.917,1125.6 920.945,1128.33 922.973,1148.12 925.001,1122.73 927.03,1112.62 929.058,1098.51 931.086,1089.72 933.114,1093.46 \n",
       "  935.142,1086.15 937.17,1075.74 939.198,1069.33 941.227,1063.77 943.255,1083.7 945.283,1073.51 947.311,1104.19 949.339,1110.5 951.367,1106.87 953.395,1104.6 \n",
       "  955.424,1099.37 957.452,1100.99 959.48,1124.07 961.508,1137.57 963.536,1141.22 965.564,1122.06 967.593,1145.34 969.621,1134.82 971.649,1124.6 973.677,1137.93 \n",
       "  975.705,1151.88 977.733,1149.03 979.761,1148.4 981.79,1141.45 983.818,1119.44 985.846,1128.25 987.874,1142.04 989.902,1123.52 991.93,1119.61 993.958,1133.4 \n",
       "  995.987,1128.16 998.015,1118.15 1000.04,1121.46 1002.07,1112.15 1004.1,1094.87 1006.13,1086.24 1008.16,1098.08 1010.18,1082.4 1012.21,1074.6 1014.24,1072.03 \n",
       "  1016.27,1081.31 1018.3,1088.67 1020.32,1078.01 1022.35,1085.5 1024.38,1097.56 1026.41,1092.94 1028.44,1106.96 1030.47,1081.38 1032.49,1092.96 1034.52,1090.28 \n",
       "  1036.55,1101.48 1038.58,1078.53 1040.61,1081.05 1042.63,1090.41 1044.66,1089.05 1046.69,1080.55 1048.72,1084.88 1050.75,1095.37 1052.77,1096.61 1054.8,1095.63 \n",
       "  1056.83,1094.33 1058.86,1097.39 1060.89,1086.75 1062.92,1080.17 1064.94,1083.8 1066.97,1076 1069,1065.42 1071.03,1072.74 1073.06,1057.89 1075.08,1056.94 \n",
       "  1077.11,1058.25 1079.14,1055.02 1081.17,1037.99 1083.2,1049.31 1085.23,1039.94 1087.25,1025.44 1089.28,1035.54 1091.31,1037.18 1093.34,1028 1095.37,1029.03 \n",
       "  1097.39,1023.52 1099.42,1025.25 1101.45,1027.71 1103.48,1023.96 1105.51,1012.55 1107.53,1013.4 1109.56,1014.76 1111.59,1006.13 1113.62,1019.63 1115.65,1012.32 \n",
       "  1117.68,1023.49 1119.7,1040.9 1121.73,1025.29 1123.76,1027.95 1125.79,1033.26 1127.82,1025.19 1129.84,1038.64 1131.87,1042.89 1133.9,1044.7 1135.93,1038.2 \n",
       "  1137.96,1033.49 1139.98,1001.92 1142.01,983.395 1144.04,976.613 1146.07,969.472 1148.1,953.913 1150.13,966.264 1152.15,946.756 1154.18,945.429 1156.21,922.549 \n",
       "  1158.24,913.568 1160.27,914.205 1162.29,916.275 1164.32,903.339 1166.35,897.102 1168.38,888.076 1170.41,883.785 1172.44,864.141 1174.46,854.801 1176.49,838.254 \n",
       "  1178.52,830.882 1180.55,817.588 1182.58,790.651 1184.6,771.497 1186.63,764.391 1188.66,738.741 1190.69,724.966 1192.72,711.003 1194.74,691.105 1196.77,672.948 \n",
       "  1198.8,637.404 1200.83,626.561 1202.86,607.3 1204.89,613.476 1206.91,607.197 1208.94,578.882 1210.97,570.074 1213,560.034 1215.03,544.506 1217.05,534.473 \n",
       "  1219.08,513.091 1221.11,511.932 1223.14,498.316 1225.17,486.786 1227.2,460.951 1229.22,443.263 1231.25,437.72 1233.28,436.888 1235.31,405.196 1237.34,388.218 \n",
       "  1239.36,372.328 1241.39,367.166 1243.42,364.51 1245.45,362.754 1247.48,346.989 1249.5,347.184 1251.53,337.903 1253.56,317.7 1255.59,309.946 1257.62,304.061 \n",
       "  1259.65,317.088 1261.67,302.375 1263.7,287.926 1265.73,286.675 1267.76,264.861 1269.79,262.847 1271.81,256.664 1273.84,246.212 1275.87,254.311 1277.9,246.245 \n",
       "  1279.93,235.175 1281.96,218.861 1283.98,221.917 1286.01,241.188 1288.04,229.586 1290.07,238.24 1292.1,240.378 1294.12,238.755 1296.15,246.446 1298.18,255.728 \n",
       "  1300.21,262.911 1302.24,299.985 1304.26,311.568 1306.29,328.89 1308.32,345.656 1310.35,356.415 1312.38,366.842 1314.41,374.129 1316.43,394.537 1318.46,416.238 \n",
       "  1320.49,433.303 1322.52,460.138 1324.55,465.037 1326.57,456.128 1328.6,457.834 1330.63,452.214 1332.66,468.708 1334.69,479.113 1336.72,490.295 1338.74,504.706 \n",
       "  1340.77,510.519 1342.8,505.075 1344.83,495.92 1346.86,498.565 1348.88,549.408 1350.91,560.243 1352.94,576.423 1354.97,588.217 1357,610.572 1359.02,630.775 \n",
       "  1361.05,635.076 1363.08,656.644 1365.11,672.674 1367.14,685.466 1369.17,713.936 1371.19,722.204 1373.22,752.929 1375.25,760.662 1377.28,785.107 1379.31,790.002 \n",
       "  1381.33,810.681 1383.36,824.262 1385.39,843.13 1387.42,858.524 1389.45,863.14 1391.48,870.799 1393.5,874.653 1395.53,871.758 1397.56,882.39 1399.59,890.59 \n",
       "  1401.62,897.981 1403.64,891.199 1405.67,902.463 1407.7,897.509 1409.73,909.823 1411.76,929.629 1413.78,934.497 1415.81,943.469 1417.84,952.053 1419.87,970.251 \n",
       "  1421.9,973.018 1423.93,990.479 1425.95,1005.78 1427.98,1018.98 1430.01,1033.69 1432.04,1025.4 1434.07,1037.43 1436.09,1034.63 1438.12,1029.71 1440.15,1038.2 \n",
       "  1442.18,1037.48 1444.21,1044.79 1446.24,1042.98 1448.26,1032.09 1450.29,1022.31 1452.32,1020.15 1454.35,1050.99 1456.38,1053.27 1458.4,1070.8 1460.43,1079.5 \n",
       "  1462.46,1089.15 1464.49,1079.98 1466.52,1082.2 1468.54,1084.91 1470.57,1114.93 1472.6,1130.95 1474.63,1130.71 1476.66,1120.53 1478.69,1106.41 1480.71,1099.03 \n",
       "  1482.74,1100.24 1484.77,1099.05 1486.8,1111.31 1488.83,1096.38 1490.85,1085 1492.88,1086.98 1494.91,1077.04 1496.94,1071.1 1498.97,1074.44 1501,1096.89 \n",
       "  1503.02,1091.88 1505.05,1084.79 1507.08,1095.87 1509.11,1094.54 1511.14,1094.07 1513.16,1104.61 1515.19,1087.69 1517.22,1085.96 1519.25,1087.37 1521.28,1074.63 \n",
       "  1523.3,1057.24 1525.33,1055.09 1527.36,1058.98 1529.39,1039.26 1531.42,1037.92 1533.45,1039.11 1535.47,1034.96 1537.5,1043.02 1539.53,1034.08 1541.56,1042.98 \n",
       "  1543.59,1037.71 1545.61,1045.72 1547.64,1056.94 1549.67,1053.54 1551.7,1065.5 1553.73,1074.78 1555.76,1072.67 1557.78,1085.23 1559.81,1086.97 1561.84,1090.28 \n",
       "  1563.87,1096.25 1565.9,1113.34 1567.92,1104.21 1569.95,1095.68 1571.98,1097.14 1574.01,1098.32 1576.04,1096.58 1578.06,1113.82 1580.09,1113.65 1582.12,1124.42 \n",
       "  1584.15,1145.22 1586.18,1143.07 1588.21,1147.93 1590.23,1154.54 1592.26,1162.29 1594.29,1156.19 1596.32,1160.8 1598.35,1145.63 1600.37,1145.19 1602.4,1137.42 \n",
       "  1604.43,1119.14 1606.46,1115.16 1608.49,1113.48 1610.52,1102.34 1612.54,1108.88 1614.57,1102.45 1616.6,1121.37 1618.63,1100.94 1620.66,1119.02 1622.68,1104.86 \n",
       "  1624.71,1106.24 1626.74,1116.3 1628.77,1108.63 1630.8,1107.79 1632.82,1127.88 1634.85,1135.8 1636.88,1127.86 1638.91,1097.87 1640.94,1105.78 1642.97,1084.82 \n",
       "  1644.99,1077.67 1647.02,1073.69 1649.05,1063.61 1651.08,1051.88 1653.11,1046.31 1655.13,1013.04 1657.16,1002.64 1659.19,1001.06 1661.22,1035.34 1663.25,1022.81 \n",
       "  1665.28,1044 1667.3,1059.84 1669.33,1062.16 1671.36,1065.21 1673.39,1076.25 1675.42,1076.94 1677.44,1092.99 1679.47,1091.59 1681.5,1099.82 1683.53,1069.69 \n",
       "  1685.56,1090.47 1687.58,1085.85 1689.61,1087.8 1691.64,1080.42 1693.67,1060.91 1695.7,1066.83 1697.73,1066.97 1699.75,1069.79 1701.78,1064.08 1703.81,1068.13 \n",
       "  1705.84,1072.52 1707.87,1062.69 1709.89,1057.11 1711.92,1046.81 1713.95,1056.54 1715.98,1072.74 1718.01,1068.4 1720.03,1070.1 1722.06,1074.55 1724.09,1098.64 \n",
       "  1726.12,1097.76 1728.15,1116.17 1730.18,1111.21 1732.2,1115.01 1734.23,1121.38 1736.26,1110.09 1738.29,1126.32 1740.32,1118.63 1742.34,1123.37 1744.37,1125.86 \n",
       "  1746.4,1107.59 1748.43,1108.44 1750.46,1089.21 1752.49,1091.81 1754.51,1080.58 1756.54,1100.37 1758.57,1125.59 1760.6,1123.18 1762.63,1126.07 1764.65,1140.03 \n",
       "  1766.68,1118.87 1768.71,1120.9 1770.74,1105.74 1772.77,1126.75 1774.79,1134.85 1776.82,1153.35 1778.85,1138.5 1780.88,1115.36 1782.91,1102.54 1784.94,1122.35 \n",
       "  1786.96,1102.36 1788.99,1126.89 1791.02,1112.8 1793.05,1109.04 1795.08,1113.61 1797.1,1118.85 1799.13,1118.28 1801.16,1119.19 1803.19,1124.94 1805.22,1132.38 \n",
       "  1807.25,1103.75 1809.27,1112.29 1811.3,1101.87 1813.33,1104.88 1815.36,1141.99 1817.39,1135.49 1819.41,1134.38 1821.44,1120.77 1823.47,1105.14 1825.5,1109.81 \n",
       "  1827.53,1105.01 1829.55,1117.72 1831.58,1116.11 1833.61,1119.75 1835.64,1138.51 1837.67,1117.57 1839.7,1114.85 1841.72,1109.07 1843.75,1108.67 1845.78,1110.36 \n",
       "  1847.81,1106.74 1849.84,1096.37 1851.86,1086.03 1853.89,1075.12 1855.92,1077.81 1857.95,1068 1859.98,1079.83 1862.01,1075.92 1864.03,1075.72 1866.06,1074.98 \n",
       "  1868.09,1082.06 1870.12,1092.27 1872.15,1107.48 1874.17,1128.4 1876.2,1127.34 1878.23,1105.33 1880.26,1104.09 1882.29,1091.19 1884.31,1095.01 1886.34,1098.67 \n",
       "  1888.37,1109.89 1890.4,1106.16 1892.43,1097.81 1894.46,1097.68 1896.48,1080.87 1898.51,1097.11 1900.54,1116.66 1902.57,1134.04 1904.6,1146.9 1906.62,1134.22 \n",
       "  1908.65,1127.83 1910.68,1122.89 1912.71,1136.08 1914.74,1136.88 1916.77,1131.04 1918.79,1121.83 1920.82,1105.71 1922.85,1103.04 1924.88,1085.02 1926.91,1074.75 \n",
       "  1928.93,1081.59 1930.96,1078.9 1932.99,1077.59 1935.02,1077.42 1937.05,1067.41 1939.07,1057.76 1941.1,1062.5 1943.13,1071.37 1945.16,1082.68 1947.19,1084.92 \n",
       "  1949.22,1079.46 1951.24,1078.48 1953.27,1087.86 1955.3,1086.03 1957.33,1073.54 1959.36,1065.01 1961.38,1076.33 1963.41,1089.69 1965.44,1097 1967.47,1086.55 \n",
       "  1969.5,1074.07 1971.53,1080.59 1973.55,1079.22 1975.58,1067.97 1977.61,1073.53 1979.64,1078.33 1981.67,1101.99 1983.69,1114.96 1985.72,1109.67 1987.75,1087.38 \n",
       "  1989.78,1073.99 1991.81,1094.12 1993.83,1089.9 1995.86,1075.74 1997.89,1091.68 1999.92,1092.26 2001.95,1094.77 2003.98,1086.53 2006,1055.75 2008.03,1071.53 \n",
       "  2010.06,1085.31 2012.09,1092.36 2014.12,1086.46 2016.14,1087.13 2018.17,1104.56 2020.2,1092.8 2022.23,1107.39 2024.26,1106.61 2026.29,1116.21 2028.31,1133.37 \n",
       "  2030.34,1121.96 2032.37,1129.77 2034.4,1142.55 2036.43,1138.72 2038.45,1136.1 2040.48,1128.02 2042.51,1138.25 2044.54,1138.24 2046.57,1136.15 2048.59,1109.86 \n",
       "  2050.62,1111 2052.65,1100.94 2054.68,1096.03 2056.71,1082.56 2058.74,1085.08 2060.76,1080.92 2062.79,1099.37 2064.82,1087.92 2066.85,1069.58 2068.88,1060.44 \n",
       "  2070.9,1082.68 2072.93,1083.2 2074.96,1090.21 2076.99,1090.52 2079.02,1089.53 2081.05,1086.08 2083.07,1111.86 2085.1,1104.32 2087.13,1109.26 2089.16,1114.86 \n",
       "  2091.19,1109.59 2093.21,1111.21 2095.24,1119.26 2097.27,1126.86 2099.3,1110.03 2101.33,1110.44 2103.35,1112.78 2105.38,1112.06 2107.41,1109.97 2109.44,1105.46 \n",
       "  2111.47,1093.47 2113.5,1106.17 2115.52,1100.13 2117.55,1083.72 2119.58,1089.18 2121.61,1105.92 2123.64,1109.56 2125.66,1104.35 2127.69,1102.15 2129.72,1101.75 \n",
       "  2131.75,1108.24 2133.78,1124.96 2135.81,1124.4 2137.83,1121.56 2139.86,1122.83 2141.89,1102.2 2143.92,1083.82 2145.95,1075.71 2147.97,1084.25 2150,1071.97 \n",
       "  2152.03,1076.46 2154.06,1084.25 2156.09,1069.32 2158.11,1067.41 2160.14,1064.35 2162.17,1074.03 2164.2,1092.9 2166.23,1104.01 2168.26,1105.81 2170.28,1092.39 \n",
       "  2172.31,1102.24 2174.34,1096.43 2176.37,1089.68 2178.4,1095.22 2180.42,1110.01 2182.45,1111.56 2184.48,1119.19 2186.51,1109.63 2188.54,1125.66 2190.57,1127.8 \n",
       "  2192.59,1135.85 2194.62,1130.7 2196.65,1126.85 2198.68,1152.75 2200.71,1162.3 2202.73,1143.88 2204.76,1144.04 2206.79,1138.62 2208.82,1128.95 2210.85,1102.9 \n",
       "  2212.87,1116.47 2214.9,1122.4 2216.93,1111.84 2218.96,1108.88 2220.99,1086.68 2223.02,1057.97 2225.04,1081.86 2227.07,1074.57 2229.1,1062.93 2231.13,1080.48 \n",
       "  2233.16,1107.47 2235.18,1103.09 2237.21,1096.94 2239.24,1112.55 2241.27,1129.3 2243.3,1128.6 2245.32,1141.81 2247.35,1135.35 2249.38,1144.54 2251.41,1153.32 \n",
       "  2253.44,1137.63 2255.47,1137.24 2257.49,1133 2259.52,1132.23 2261.55,1122.09 2263.58,1104.73 2265.61,1094.52 2267.63,1103.34 2269.66,1092.49 2271.69,1087.14 \n",
       "  2273.72,1088.8 2275.75,1087.47 2277.78,1080.62 2279.8,1078.83 2281.83,1074.76 2283.86,1071.97 2285.89,1080.92 2287.92,1085.87 2289.94,1081.82 2291.97,1082.75 \n",
       "  \n",
       "  \"/>\n",
       "<path clip-path=\"url(#clip900)\" d=\"\n",
       "M1991.52 276.658 L2281.17 276.658 L2281.17 95.2176 L1991.52 95.2176  Z\n",
       "  \" fill=\"#ffffff\" fill-rule=\"evenodd\" fill-opacity=\"1\"/>\n",
       "<polyline clip-path=\"url(#clip900)\" style=\"stroke:#000000; stroke-width:4; stroke-opacity:1; fill:none\" points=\"\n",
       "  1991.52,276.658 2281.17,276.658 2281.17,95.2176 1991.52,95.2176 1991.52,276.658 \n",
       "  \"/>\n",
       "<polyline clip-path=\"url(#clip900)\" style=\"stroke:#009af9; stroke-width:4; stroke-opacity:1; fill:none\" points=\"\n",
       "  2015.38,155.698 2158.56,155.698 \n",
       "  \"/>\n",
       "<path clip-path=\"url(#clip900)\" d=\"M 0 0 M2196.26 175.385 Q2194.46 180.015 2192.75 181.427 Q2191.03 182.839 2188.16 182.839 L2184.76 182.839 L2184.76 179.274 L2187.26 179.274 Q2189.02 179.274 2189.99 178.44 Q2190.96 177.607 2192.14 174.505 L2192.91 172.561 L2182.42 147.052 L2186.94 147.052 L2195.04 167.329 L2203.14 147.052 L2207.65 147.052 L2196.26 175.385 Z\" fill=\"#000000\" fill-rule=\"evenodd\" fill-opacity=\"1\" /><path clip-path=\"url(#clip900)\" d=\"M 0 0 M2213.53 169.042 L2221.17 169.042 L2221.17 142.677 L2212.86 144.343 L2212.86 140.084 L2221.13 138.418 L2225.8 138.418 L2225.8 169.042 L2233.44 169.042 L2233.44 172.978 L2213.53 172.978 L2213.53 169.042 Z\" fill=\"#000000\" fill-rule=\"evenodd\" fill-opacity=\"1\" /><polyline clip-path=\"url(#clip900)\" style=\"stroke:#e26f46; stroke-width:4; stroke-opacity:1; fill:none\" points=\"\n",
       "  2015.38,216.178 2158.56,216.178 \n",
       "  \"/>\n",
       "<path clip-path=\"url(#clip900)\" d=\"M 0 0 M2196.26 235.865 Q2194.46 240.495 2192.75 241.907 Q2191.03 243.319 2188.16 243.319 L2184.76 243.319 L2184.76 239.754 L2187.26 239.754 Q2189.02 239.754 2189.99 238.92 Q2190.96 238.087 2192.14 234.985 L2192.91 233.041 L2182.42 207.532 L2186.94 207.532 L2195.04 227.809 L2203.14 207.532 L2207.65 207.532 L2196.26 235.865 Z\" fill=\"#000000\" fill-rule=\"evenodd\" fill-opacity=\"1\" /><path clip-path=\"url(#clip900)\" d=\"M 0 0 M2216.75 229.522 L2233.07 229.522 L2233.07 233.458 L2211.13 233.458 L2211.13 229.522 Q2213.79 226.768 2218.37 222.138 Q2222.98 217.485 2224.16 216.143 Q2226.4 213.62 2227.28 211.884 Q2228.19 210.124 2228.19 208.435 Q2228.19 205.68 2226.24 203.944 Q2224.32 202.208 2221.22 202.208 Q2219.02 202.208 2216.57 202.972 Q2214.13 203.735 2211.36 205.286 L2211.36 200.564 Q2214.18 199.43 2216.63 198.851 Q2219.09 198.273 2221.13 198.273 Q2226.5 198.273 2229.69 200.958 Q2232.88 203.643 2232.88 208.134 Q2232.88 210.263 2232.07 212.185 Q2231.29 214.083 2229.18 216.675 Q2228.6 217.347 2225.5 220.564 Q2222.4 223.759 2216.75 229.522 Z\" fill=\"#000000\" fill-rule=\"evenodd\" fill-opacity=\"1\" /></svg>\n"
      ]
     },
     "execution_count": 14,
     "metadata": {},
     "output_type": "execute_result"
    }
   ],
   "source": [
    "let xs = range(-10, 10, length=1000)\n",
    "    ys = @. exp(-xs^2) + randn()/10\n",
    "    plot(xs, ys)\n",
    "    plot!(xs, rolling_average(ys))\n",
    "end"
   ]
  },
  {
   "cell_type": "code",
   "execution_count": 15,
   "metadata": {},
   "outputs": [
    {
     "data": {
      "text/html": [
       "<table class=\"data-frame\"><thead><tr><th></th><th>data</th><th>sma_rf</th><th>sma_sk</th><th>sma_tullio</th><th>sma_simd</th><th>sma_tx</th></tr><tr><th></th><th>Float64</th><th>Float64</th><th>Float64</th><th>Float64?</th><th>Float64?</th><th>Float64</th></tr></thead><tbody><p>100,000,000 rows × 6 columns</p><tr><th>1</th><td>-0.718387</td><td>-0.718387</td><td>-0.718387</td><td><em>missing</em></td><td><em>missing</em></td><td>-0.203851</td></tr><tr><th>2</th><td>-1.70469</td><td>-1.21154</td><td>-1.21154</td><td><em>missing</em></td><td><em>missing</em></td><td>-0.106404</td></tr><tr><th>3</th><td>-0.119375</td><td>-0.847485</td><td>-0.847485</td><td><em>missing</em></td><td><em>missing</em></td><td>-0.0684736</td></tr><tr><th>4</th><td>0.964274</td><td>-0.394545</td><td>-0.394545</td><td><em>missing</em></td><td><em>missing</em></td><td>0.00508529</td></tr><tr><th>5</th><td>-1.14903</td><td>-0.545443</td><td>-0.545443</td><td><em>missing</em></td><td><em>missing</em></td><td>-0.00345076</td></tr><tr><th>6</th><td>-0.898717</td><td>-0.604322</td><td>-0.604322</td><td><em>missing</em></td><td><em>missing</em></td><td>0.0139026</td></tr><tr><th>7</th><td>0.699986</td><td>-0.417992</td><td>-0.417992</td><td><em>missing</em></td><td><em>missing</em></td><td>0.00762205</td></tr><tr><th>8</th><td>1.03605</td><td>-0.236237</td><td>-0.236237</td><td><em>missing</em></td><td><em>missing</em></td><td>0.0438826</td></tr><tr><th>9</th><td>0.0552365</td><td>-0.203851</td><td>-0.203851</td><td><em>missing</em></td><td><em>missing</em></td><td>0.179011</td></tr><tr><th>10</th><td>0.770614</td><td>-0.106404</td><td>-0.106404</td><td><em>missing</em></td><td><em>missing</em></td><td>0.173865</td></tr><tr><th>11</th><td>0.310835</td><td>-0.0684736</td><td>-0.0684736</td><td><em>missing</em></td><td><em>missing</em></td><td>0.1447</td></tr><tr><th>12</th><td>0.814233</td><td>0.00508529</td><td>0.00508529</td><td><em>missing</em></td><td><em>missing</em></td><td>0.0934484</td></tr><tr><th>13</th><td>-0.105883</td><td>-0.00345076</td><td>-0.00345076</td><td><em>missing</em></td><td><em>missing</em></td><td>0.103158</td></tr><tr><th>14</th><td>0.239496</td><td>0.0139026</td><td>0.0139026</td><td><em>missing</em></td><td><em>missing</em></td><td>0.224965</td></tr><tr><th>15</th><td>-0.0803054</td><td>0.00762205</td><td>0.00762205</td><td>0.00762205</td><td>0.00762205</td><td>0.160926</td></tr><tr><th>16</th><td>0.587791</td><td>0.0947006</td><td>0.0947006</td><td>0.0947006</td><td>0.0947006</td><td>0.0444428</td></tr><tr><th>17</th><td>1.44367</td><td>0.304591</td><td>0.304591</td><td>0.304591</td><td>0.304591</td><td>0.0334341</td></tr><tr><th>18</th><td>-1.78702</td><td>0.193415</td><td>0.193415</td><td>0.193415</td><td>0.193415</td><td>0.045699</td></tr><tr><th>19</th><td>-0.586013</td><td>0.0900622</td><td>0.0900622</td><td>0.0900622</td><td>0.0900622</td><td>0.00739622</td></tr><tr><th>20</th><td>0.144242</td><td>0.17628</td><td>0.17628</td><td>0.17628</td><td>0.17628</td><td>-0.107869</td></tr><tr><th>&vellip;</th><td>&vellip;</td><td>&vellip;</td><td>&vellip;</td><td>&vellip;</td><td>&vellip;</td><td>&vellip;</td></tr></tbody></table>"
      ],
      "text/latex": [
       "\\begin{tabular}{r|cccccc}\n",
       "\t& data & sma\\_rf & sma\\_sk & sma\\_tullio & sma\\_simd & sma\\_tx\\\\\n",
       "\t\\hline\n",
       "\t& Float64 & Float64 & Float64 & Float64? & Float64? & Float64\\\\\n",
       "\t\\hline\n",
       "\t1 & -0.718387 & -0.718387 & -0.718387 & \\emph{missing} & \\emph{missing} & -0.203851 \\\\\n",
       "\t2 & -1.70469 & -1.21154 & -1.21154 & \\emph{missing} & \\emph{missing} & -0.106404 \\\\\n",
       "\t3 & -0.119375 & -0.847485 & -0.847485 & \\emph{missing} & \\emph{missing} & -0.0684736 \\\\\n",
       "\t4 & 0.964274 & -0.394545 & -0.394545 & \\emph{missing} & \\emph{missing} & 0.00508529 \\\\\n",
       "\t5 & -1.14903 & -0.545443 & -0.545443 & \\emph{missing} & \\emph{missing} & -0.00345076 \\\\\n",
       "\t6 & -0.898717 & -0.604322 & -0.604322 & \\emph{missing} & \\emph{missing} & 0.0139026 \\\\\n",
       "\t7 & 0.699986 & -0.417992 & -0.417992 & \\emph{missing} & \\emph{missing} & 0.00762205 \\\\\n",
       "\t8 & 1.03605 & -0.236237 & -0.236237 & \\emph{missing} & \\emph{missing} & 0.0438826 \\\\\n",
       "\t9 & 0.0552365 & -0.203851 & -0.203851 & \\emph{missing} & \\emph{missing} & 0.179011 \\\\\n",
       "\t10 & 0.770614 & -0.106404 & -0.106404 & \\emph{missing} & \\emph{missing} & 0.173865 \\\\\n",
       "\t11 & 0.310835 & -0.0684736 & -0.0684736 & \\emph{missing} & \\emph{missing} & 0.1447 \\\\\n",
       "\t12 & 0.814233 & 0.00508529 & 0.00508529 & \\emph{missing} & \\emph{missing} & 0.0934484 \\\\\n",
       "\t13 & -0.105883 & -0.00345076 & -0.00345076 & \\emph{missing} & \\emph{missing} & 0.103158 \\\\\n",
       "\t14 & 0.239496 & 0.0139026 & 0.0139026 & \\emph{missing} & \\emph{missing} & 0.224965 \\\\\n",
       "\t15 & -0.0803054 & 0.00762205 & 0.00762205 & 0.00762205 & 0.00762205 & 0.160926 \\\\\n",
       "\t16 & 0.587791 & 0.0947006 & 0.0947006 & 0.0947006 & 0.0947006 & 0.0444428 \\\\\n",
       "\t17 & 1.44367 & 0.304591 & 0.304591 & 0.304591 & 0.304591 & 0.0334341 \\\\\n",
       "\t18 & -1.78702 & 0.193415 & 0.193415 & 0.193415 & 0.193415 & 0.045699 \\\\\n",
       "\t19 & -0.586013 & 0.0900622 & 0.0900622 & 0.0900622 & 0.0900622 & 0.00739622 \\\\\n",
       "\t20 & 0.144242 & 0.17628 & 0.17628 & 0.17628 & 0.17628 & -0.107869 \\\\\n",
       "\t$\\dots$ & $\\dots$ & $\\dots$ & $\\dots$ & $\\dots$ & $\\dots$ & $\\dots$ \\\\\n",
       "\\end{tabular}\n"
      ],
      "text/plain": [
       "\u001b[1m100000000×6 DataFrame\u001b[0m\n",
       "\u001b[1m       Row \u001b[0m│\u001b[1m data       \u001b[0m\u001b[1m sma_rf    \u001b[0m\u001b[1m sma_sk    \u001b[0m\u001b[1m sma_tullio     \u001b[0m\u001b[1m sma_simd       \u001b[0m\u001b[1m sma_tx      \u001b[0m\n",
       "\u001b[1m           \u001b[0m│\u001b[90m Float64    \u001b[0m\u001b[90m Float64   \u001b[0m\u001b[90m Float64   \u001b[0m\u001b[90m Float64?       \u001b[0m\u001b[90m Float64?       \u001b[0m\u001b[90m Float64     \u001b[0m\n",
       "───────────┼───────────────────────────────────────────────────────────────────────────────\n",
       "         1 │ -0.718387   -0.718387  -0.718387 \u001b[90m missing        \u001b[0m\u001b[90m missing        \u001b[0m -0.203851\n",
       "         2 │ -1.70469    -1.21154   -1.21154  \u001b[90m missing        \u001b[0m\u001b[90m missing        \u001b[0m -0.106404\n",
       "         3 │ -0.119375   -0.847485  -0.847485 \u001b[90m missing        \u001b[0m\u001b[90m missing        \u001b[0m -0.0684736\n",
       "         4 │  0.964274   -0.394545  -0.394545 \u001b[90m missing        \u001b[0m\u001b[90m missing        \u001b[0m  0.00508529\n",
       "         5 │ -1.14903    -0.545443  -0.545443 \u001b[90m missing        \u001b[0m\u001b[90m missing        \u001b[0m -0.00345076\n",
       "         6 │ -0.898717   -0.604322  -0.604322 \u001b[90m missing        \u001b[0m\u001b[90m missing        \u001b[0m  0.0139026\n",
       "     ⋮     │     ⋮           ⋮          ⋮            ⋮               ⋮              ⋮\n",
       "  99999996 │ -1.12111     0.445825   0.445825        0.445825        0.445825   0.836117\n",
       "  99999997 │ -0.490131    0.505472   0.505472        0.505472        0.505472   0.639236\n",
       "  99999998 │  2.43922     0.6675     0.6675          0.6675          0.6675     0.573219\n",
       "  99999999 │  0.0631855   0.617549   0.617549        0.617549        0.617549   0.624302\n",
       " 100000000 │  0.157047    0.599064   0.599064        0.599064        0.599064   0.394836\n",
       "\u001b[36m                                                                      99999989 rows omitted\u001b[0m"
      ]
     },
     "execution_count": 15,
     "metadata": {},
     "output_type": "execute_result"
    }
   ],
   "source": [
    "df[!, \"sma_tx\"] = rolling_average(df.data, window_size=w_size)\n",
    "df"
   ]
  },
  {
   "cell_type": "code",
   "execution_count": null,
   "metadata": {},
   "outputs": [],
   "source": []
  },
  {
   "cell_type": "code",
   "execution_count": null,
   "metadata": {},
   "outputs": [],
   "source": []
  },
  {
   "cell_type": "code",
   "execution_count": 16,
   "metadata": {},
   "outputs": [
    {
     "data": {
      "text/plain": [
       "true"
      ]
     },
     "execution_count": 16,
     "metadata": {},
     "output_type": "execute_result"
    }
   ],
   "source": [
    "df.sma_rf[w_size:end] ≈ df.sma_sk[w_size:end]"
   ]
  },
  {
   "cell_type": "code",
   "execution_count": 17,
   "metadata": {},
   "outputs": [
    {
     "data": {
      "text/plain": [
       "true"
      ]
     },
     "execution_count": 17,
     "metadata": {},
     "output_type": "execute_result"
    }
   ],
   "source": [
    "df.sma_rf[w_size:end] ≈ df.sma_tullio[w_size:end]"
   ]
  },
  {
   "cell_type": "code",
   "execution_count": 18,
   "metadata": {},
   "outputs": [
    {
     "data": {
      "text/plain": [
       "true"
      ]
     },
     "execution_count": 18,
     "metadata": {},
     "output_type": "execute_result"
    }
   ],
   "source": [
    "df.sma_rf[w_size:end] ≈ df.sma_simd[w_size:end]"
   ]
  },
  {
   "cell_type": "code",
   "execution_count": 19,
   "metadata": {},
   "outputs": [
    {
     "data": {
      "text/plain": [
       "false"
      ]
     },
     "execution_count": 19,
     "metadata": {},
     "output_type": "execute_result"
    }
   ],
   "source": [
    "df.sma_rf[w_size:end] ≈ df.sma_tx[w_size:end]"
   ]
  },
  {
   "cell_type": "code",
   "execution_count": null,
   "metadata": {},
   "outputs": [],
   "source": []
  },
  {
   "cell_type": "code",
   "execution_count": 20,
   "metadata": {},
   "outputs": [
    {
     "data": {
      "text/plain": [
       "BenchmarkTools.Trial: \n",
       "  memory estimate:  1.49 GiB\n",
       "  allocs estimate:  6\n",
       "  --------------\n",
       "  minimum time:     2.288 s (0.18% GC)\n",
       "  median time:      2.323 s (3.18% GC)\n",
       "  mean time:        2.363 s (4.39% GC)\n",
       "  maximum time:     2.478 s (9.41% GC)\n",
       "  --------------\n",
       "  samples:          3\n",
       "  evals/sample:     1"
      ]
     },
     "execution_count": 20,
     "metadata": {},
     "output_type": "execute_result"
    }
   ],
   "source": [
    "@benchmark runmean(df.data, w_size)"
   ]
  },
  {
   "cell_type": "code",
   "execution_count": 21,
   "metadata": {},
   "outputs": [
    {
     "data": {
      "text/plain": [
       "BenchmarkTools.Trial: \n",
       "  memory estimate:  762.94 MiB\n",
       "  allocs estimate:  2\n",
       "  --------------\n",
       "  minimum time:     1.099 s (0.16% GC)\n",
       "  median time:      1.125 s (0.19% GC)\n",
       "  mean time:        1.170 s (4.14% GC)\n",
       "  maximum time:     1.307 s (12.35% GC)\n",
       "  --------------\n",
       "  samples:          5\n",
       "  evals/sample:     1"
      ]
     },
     "execution_count": 21,
     "metadata": {},
     "output_type": "execute_result"
    }
   ],
   "source": [
    "k = makekernel(mean,-w_size+1:0)\n",
    "@benchmark applyrolling(k, df.data)"
   ]
  },
  {
   "cell_type": "code",
   "execution_count": 22,
   "metadata": {},
   "outputs": [
    {
     "data": {
      "text/plain": [
       "BenchmarkTools.Trial: \n",
       "  memory estimate:  0 bytes\n",
       "  allocs estimate:  0\n",
       "  --------------\n",
       "  minimum time:     814.067 ms (0.00% GC)\n",
       "  median time:      837.555 ms (0.00% GC)\n",
       "  mean time:        834.653 ms (0.00% GC)\n",
       "  maximum time:     849.298 ms (0.00% GC)\n",
       "  --------------\n",
       "  samples:          6\n",
       "  evals/sample:     1"
      ]
     },
     "execution_count": 22,
     "metadata": {},
     "output_type": "execute_result"
    }
   ],
   "source": [
    "@benchmark f_tullio(df.data, tmp, w_size)"
   ]
  },
  {
   "cell_type": "code",
   "execution_count": 23,
   "metadata": {},
   "outputs": [
    {
     "data": {
      "text/plain": [
       "BenchmarkTools.Trial: \n",
       "  memory estimate:  0 bytes\n",
       "  allocs estimate:  0\n",
       "  --------------\n",
       "  minimum time:     127.340 ms (0.00% GC)\n",
       "  median time:      146.790 ms (0.00% GC)\n",
       "  mean time:        145.819 ms (0.00% GC)\n",
       "  maximum time:     153.840 ms (0.00% GC)\n",
       "  --------------\n",
       "  samples:          35\n",
       "  evals/sample:     1"
      ]
     },
     "execution_count": 23,
     "metadata": {},
     "output_type": "execute_result"
    }
   ],
   "source": [
    "@benchmark rollingmean_simd(df.data, w_size, out)"
   ]
  },
  {
   "cell_type": "code",
   "execution_count": 24,
   "metadata": {},
   "outputs": [
    {
     "data": {
      "text/plain": [
       "BenchmarkTools.Trial: \n",
       "  memory estimate:  2.41 GiB\n",
       "  allocs estimate:  509\n",
       "  --------------\n",
       "  minimum time:     5.314 s (12.52% GC)\n",
       "  median time:      5.314 s (12.52% GC)\n",
       "  mean time:        5.314 s (12.52% GC)\n",
       "  maximum time:     5.314 s (12.52% GC)\n",
       "  --------------\n",
       "  samples:          1\n",
       "  evals/sample:     1"
      ]
     },
     "execution_count": 24,
     "metadata": {},
     "output_type": "execute_result"
    }
   ],
   "source": [
    "@benchmark rolling_average(df.data, window_size=w_size)"
   ]
  },
  {
   "cell_type": "code",
   "execution_count": null,
   "metadata": {},
   "outputs": [],
   "source": []
  },
  {
   "cell_type": "code",
   "execution_count": 25,
   "metadata": {},
   "outputs": [
    {
     "name": "stdout",
     "output_type": "stream",
     "text": [
      "  10.559 μs (4 allocations: 16.13 KiB)\n",
      "  144.968 μs (347 allocations: 58.13 KiB)\n"
     ]
    },
    {
     "data": {
      "text/plain": [
       "false"
      ]
     },
     "execution_count": 25,
     "metadata": {},
     "output_type": "execute_result"
    }
   ],
   "source": [
    "using Random, Distributions, BenchmarkTools, RollingFunctions, ThreadsX, DataFrames\n",
    "function rolling_average(v; window_size::Int=10)\n",
    "    @assert window_size > 0\n",
    "    loffset = window_size ÷ 2\n",
    "    roffset = loffset + window_size%2\n",
    "    ThreadsX.map(eachindex(v)) do i\n",
    "        mean(@view v[max(begin, i-loffset) : min(end, i+roffset)])\n",
    "    end\n",
    "end\n",
    "N = 1000\n",
    "d = Normal()\n",
    "df = DataFrame(:data => rand(d, N))\n",
    "df[!, \"runmean\"] = @btime runmean(df.data, 10)\n",
    "df[!, \"rolling_average\"] = @btime rolling_average(df.data, window_size=10)\n",
    "df.runmean[10:end] ≈ df.rolling_average[10:end]"
   ]
  },
  {
   "cell_type": "code",
   "execution_count": 26,
   "metadata": {},
   "outputs": [
    {
     "data": {
      "text/html": [
       "<table class=\"data-frame\"><thead><tr><th></th><th>data</th><th>runmean</th><th>rolling_average</th></tr><tr><th></th><th>Float64</th><th>Float64</th><th>Float64</th></tr></thead><tbody><p>1,000 rows × 3 columns</p><tr><th>1</th><td>-0.344762</td><td>-0.344762</td><td>-0.0711097</td></tr><tr><th>2</th><td>-0.144592</td><td>-0.244677</td><td>0.188784</td></tr><tr><th>3</th><td>1.18651</td><td>0.232386</td><td>0.226714</td></tr><tr><th>4</th><td>0.220532</td><td>0.229423</td><td>0.200555</td></tr><tr><th>5</th><td>0.548581</td><td>0.293254</td><td>0.1188</td></tr><tr><th>6</th><td>-1.89293</td><td>-0.0711097</td><td>0.0364702</td></tr><tr><th>7</th><td>1.74814</td><td>0.188784</td><td>0.0591603</td></tr><tr><th>8</th><td>0.492225</td><td>0.226714</td><td>0.130892</td></tr><tr><th>9</th><td>-0.0087148</td><td>0.200555</td><td>-0.224496</td></tr><tr><th>10</th><td>-0.616997</td><td>0.1188</td><td>-0.225473</td></tr><tr><th>11</th><td>-0.786826</td><td>0.0745933</td><td>-0.318217</td></tr><tr><th>12</th><td>-0.0951705</td><td>0.0795355</td><td>-0.0206015</td></tr><tr><th>13</th><td>0.644462</td><td>0.0253306</td><td>-0.119853</td></tr><tr><th>14</th><td>-2.72276</td><td>-0.268998</td><td>-0.207402</td></tr><tr><th>15</th><td>0.209776</td><td>-0.302879</td><td>-0.308123</td></tr><tr><th>16</th><td>-0.471593</td><td>-0.160745</td><td>-0.239559</td></tr><tr><th>17</th><td>1.38084</td><td>-0.197476</td><td>-0.209863</td></tr><tr><th>18</th><td>0.656372</td><td>-0.181061</td><td>-0.342758</td></tr><tr><th>19</th><td>-0.470811</td><td>-0.227271</td><td>-0.330027</td></tr><tr><th>20</th><td>-1.11665</td><td>-0.277236</td><td>0.0507529</td></tr><tr><th>&vellip;</th><td>&vellip;</td><td>&vellip;</td><td>&vellip;</td></tr></tbody></table>"
      ],
      "text/latex": [
       "\\begin{tabular}{r|ccc}\n",
       "\t& data & runmean & rolling\\_average\\\\\n",
       "\t\\hline\n",
       "\t& Float64 & Float64 & Float64\\\\\n",
       "\t\\hline\n",
       "\t1 & -0.344762 & -0.344762 & -0.0711097 \\\\\n",
       "\t2 & -0.144592 & -0.244677 & 0.188784 \\\\\n",
       "\t3 & 1.18651 & 0.232386 & 0.226714 \\\\\n",
       "\t4 & 0.220532 & 0.229423 & 0.200555 \\\\\n",
       "\t5 & 0.548581 & 0.293254 & 0.1188 \\\\\n",
       "\t6 & -1.89293 & -0.0711097 & 0.0364702 \\\\\n",
       "\t7 & 1.74814 & 0.188784 & 0.0591603 \\\\\n",
       "\t8 & 0.492225 & 0.226714 & 0.130892 \\\\\n",
       "\t9 & -0.0087148 & 0.200555 & -0.224496 \\\\\n",
       "\t10 & -0.616997 & 0.1188 & -0.225473 \\\\\n",
       "\t11 & -0.786826 & 0.0745933 & -0.318217 \\\\\n",
       "\t12 & -0.0951705 & 0.0795355 & -0.0206015 \\\\\n",
       "\t13 & 0.644462 & 0.0253306 & -0.119853 \\\\\n",
       "\t14 & -2.72276 & -0.268998 & -0.207402 \\\\\n",
       "\t15 & 0.209776 & -0.302879 & -0.308123 \\\\\n",
       "\t16 & -0.471593 & -0.160745 & -0.239559 \\\\\n",
       "\t17 & 1.38084 & -0.197476 & -0.209863 \\\\\n",
       "\t18 & 0.656372 & -0.181061 & -0.342758 \\\\\n",
       "\t19 & -0.470811 & -0.227271 & -0.330027 \\\\\n",
       "\t20 & -1.11665 & -0.277236 & 0.0507529 \\\\\n",
       "\t$\\dots$ & $\\dots$ & $\\dots$ & $\\dots$ \\\\\n",
       "\\end{tabular}\n"
      ],
      "text/plain": [
       "\u001b[1m1000×3 DataFrame\u001b[0m\n",
       "\u001b[1m  Row \u001b[0m│\u001b[1m data       \u001b[0m\u001b[1m runmean     \u001b[0m\u001b[1m rolling_average \u001b[0m\n",
       "\u001b[1m      \u001b[0m│\u001b[90m Float64    \u001b[0m\u001b[90m Float64     \u001b[0m\u001b[90m Float64         \u001b[0m\n",
       "──────┼──────────────────────────────────────────\n",
       "    1 │ -0.344762   -0.344762         -0.0711097\n",
       "    2 │ -0.144592   -0.244677          0.188784\n",
       "    3 │  1.18651     0.232386          0.226714\n",
       "    4 │  0.220532    0.229423          0.200555\n",
       "    5 │  0.548581    0.293254          0.1188\n",
       "    6 │ -1.89293    -0.0711097         0.0364702\n",
       "  ⋮   │     ⋮            ⋮              ⋮\n",
       "  996 │  1.16938    -0.151754          0.0386132\n",
       "  997 │  0.272587   -0.12715           0.202695\n",
       "  998 │ -0.567104   -0.19965           0.0157492\n",
       "  999 │  0.371048    0.00367366        0.0685704\n",
       " 1000 │ -0.353565    0.0386132         0.0110429\n",
       "\u001b[36m                                 989 rows omitted\u001b[0m"
      ]
     },
     "execution_count": 26,
     "metadata": {},
     "output_type": "execute_result"
    }
   ],
   "source": [
    "df"
   ]
  },
  {
   "cell_type": "code",
   "execution_count": null,
   "metadata": {},
   "outputs": [],
   "source": []
  }
 ],
 "metadata": {
  "kernelspec": {
   "display_name": "Julia 1.5.3",
   "language": "julia",
   "name": "julia-1.5"
  },
  "language_info": {
   "file_extension": ".jl",
   "mimetype": "application/julia",
   "name": "julia",
   "version": "1.5.3"
  }
 },
 "nbformat": 4,
 "nbformat_minor": 4
}
