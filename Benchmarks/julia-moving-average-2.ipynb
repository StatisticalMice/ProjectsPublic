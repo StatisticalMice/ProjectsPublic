{
 "cells": [
  {
   "cell_type": "markdown",
   "metadata": {},
   "source": [
    "This notebook contains code that is good enough for demonstration purposes here, not fully tested code ready for real use."
   ]
  },
  {
   "cell_type": "code",
   "execution_count": 1,
   "metadata": {},
   "outputs": [
    {
     "data": {
      "text/plain": [
       "(v\"1.5.3\", 8, 8)"
      ]
     },
     "execution_count": 1,
     "metadata": {},
     "output_type": "execute_result"
    }
   ],
   "source": [
    "# Set some notebook defaults\n",
    "ENV[\"COLUMNS\"] = 1000; ENV[\"LINES\"] = 20;\n",
    "\n",
    "# Display information about the environment\n",
    "VERSION, Base.Threads.nthreads(), Base.Sys.CPU_THREADS"
   ]
  },
  {
   "cell_type": "code",
   "execution_count": 2,
   "metadata": {},
   "outputs": [],
   "source": [
    "using Random, Distributions, BenchmarkTools, Tullio, LoopVectorization, DataFrames, StaticKernels, SantasLittleHelpers\n",
    "using RollingFunctions, ThreadsX, Plots, Statistics"
   ]
  },
  {
   "cell_type": "code",
   "execution_count": 3,
   "metadata": {},
   "outputs": [
    {
     "data": {
      "text/html": [
       "<table class=\"data-frame\"><thead><tr><th></th><th>data</th></tr><tr><th></th><th>Float64</th></tr></thead><tbody><p>100,000,000 rows × 1 columns</p><tr><th>1</th><td>-0.513138</td></tr><tr><th>2</th><td>-0.201272</td></tr><tr><th>3</th><td>-0.0298583</td></tr><tr><th>4</th><td>2.10579</td></tr><tr><th>5</th><td>0.112803</td></tr><tr><th>6</th><td>0.308425</td></tr><tr><th>7</th><td>-0.503107</td></tr><tr><th>8</th><td>0.249407</td></tr><tr><th>9</th><td>-1.04437</td></tr><tr><th>10</th><td>-0.993823</td></tr><tr><th>11</th><td>-1.42903</td></tr><tr><th>12</th><td>0.772659</td></tr><tr><th>13</th><td>-0.377418</td></tr><tr><th>14</th><td>-2.09506</td></tr><tr><th>15</th><td>-1.85742</td></tr><tr><th>16</th><td>-0.694995</td></tr><tr><th>17</th><td>1.72883</td></tr><tr><th>18</th><td>-1.92994</td></tr><tr><th>19</th><td>0.174006</td></tr><tr><th>20</th><td>-0.275175</td></tr><tr><th>&vellip;</th><td>&vellip;</td></tr></tbody></table>"
      ],
      "text/latex": [
       "\\begin{tabular}{r|c}\n",
       "\t& data\\\\\n",
       "\t\\hline\n",
       "\t& Float64\\\\\n",
       "\t\\hline\n",
       "\t1 & -0.513138 \\\\\n",
       "\t2 & -0.201272 \\\\\n",
       "\t3 & -0.0298583 \\\\\n",
       "\t4 & 2.10579 \\\\\n",
       "\t5 & 0.112803 \\\\\n",
       "\t6 & 0.308425 \\\\\n",
       "\t7 & -0.503107 \\\\\n",
       "\t8 & 0.249407 \\\\\n",
       "\t9 & -1.04437 \\\\\n",
       "\t10 & -0.993823 \\\\\n",
       "\t11 & -1.42903 \\\\\n",
       "\t12 & 0.772659 \\\\\n",
       "\t13 & -0.377418 \\\\\n",
       "\t14 & -2.09506 \\\\\n",
       "\t15 & -1.85742 \\\\\n",
       "\t16 & -0.694995 \\\\\n",
       "\t17 & 1.72883 \\\\\n",
       "\t18 & -1.92994 \\\\\n",
       "\t19 & 0.174006 \\\\\n",
       "\t20 & -0.275175 \\\\\n",
       "\t$\\dots$ & $\\dots$ \\\\\n",
       "\\end{tabular}\n"
      ],
      "text/plain": [
       "\u001b[1m100000000×1 DataFrame\u001b[0m\n",
       "\u001b[1m       Row \u001b[0m│\u001b[1m data       \u001b[0m\n",
       "\u001b[1m           \u001b[0m│\u001b[90m Float64    \u001b[0m\n",
       "───────────┼────────────\n",
       "         1 │ -0.513138\n",
       "         2 │ -0.201272\n",
       "         3 │ -0.0298583\n",
       "         4 │  2.10579\n",
       "         5 │  0.112803\n",
       "         6 │  0.308425\n",
       "     ⋮     │     ⋮\n",
       "  99999996 │ -0.988246\n",
       "  99999997 │  1.49338\n",
       "  99999998 │ -0.135346\n",
       "  99999999 │ -1.58721\n",
       " 100000000 │  0.57238\n",
       "\u001b[31m   99999989 rows omitted\u001b[0m"
      ]
     },
     "execution_count": 3,
     "metadata": {},
     "output_type": "execute_result"
    }
   ],
   "source": [
    "w_size = 15 # window size for rolling average\n",
    "N = 10^8\n",
    "d = Normal()\n",
    "df = DataFrame(:data => rand(d, N))\n",
    "# df = DataFrame(data = ones(N))"
   ]
  },
  {
   "cell_type": "code",
   "execution_count": 4,
   "metadata": {},
   "outputs": [
    {
     "data": {
      "text/html": [
       "<table class=\"data-frame\"><thead><tr><th></th><th>data</th><th>sma_rf</th></tr><tr><th></th><th>Float64</th><th>Float64</th></tr></thead><tbody><p>100,000,000 rows × 2 columns</p><tr><th>1</th><td>-0.513138</td><td>-0.513138</td></tr><tr><th>2</th><td>-0.201272</td><td>-0.357205</td></tr><tr><th>3</th><td>-0.0298583</td><td>-0.248089</td></tr><tr><th>4</th><td>2.10579</td><td>0.340381</td></tr><tr><th>5</th><td>0.112803</td><td>0.294865</td></tr><tr><th>6</th><td>0.308425</td><td>0.297125</td></tr><tr><th>7</th><td>-0.503107</td><td>0.182807</td></tr><tr><th>8</th><td>0.249407</td><td>0.191132</td></tr><tr><th>9</th><td>-1.04437</td><td>0.0538533</td></tr><tr><th>10</th><td>-0.993823</td><td>-0.0509144</td></tr><tr><th>11</th><td>-1.42903</td><td>-0.176198</td></tr><tr><th>12</th><td>0.772659</td><td>-0.0971262</td></tr><tr><th>13</th><td>-0.377418</td><td>-0.118687</td></tr><tr><th>14</th><td>-2.09506</td><td>-0.259856</td></tr><tr><th>15</th><td>-1.85742</td><td>-0.366361</td></tr><tr><th>16</th><td>-0.694995</td><td>-0.378484</td></tr><tr><th>17</th><td>1.72883</td><td>-0.249811</td></tr><tr><th>18</th><td>-1.92994</td><td>-0.376483</td></tr><tr><th>19</th><td>0.174006</td><td>-0.505269</td></tr><tr><th>20</th><td>-0.275175</td><td>-0.531134</td></tr><tr><th>&vellip;</th><td>&vellip;</td><td>&vellip;</td></tr></tbody></table>"
      ],
      "text/latex": [
       "\\begin{tabular}{r|cc}\n",
       "\t& data & sma\\_rf\\\\\n",
       "\t\\hline\n",
       "\t& Float64 & Float64\\\\\n",
       "\t\\hline\n",
       "\t1 & -0.513138 & -0.513138 \\\\\n",
       "\t2 & -0.201272 & -0.357205 \\\\\n",
       "\t3 & -0.0298583 & -0.248089 \\\\\n",
       "\t4 & 2.10579 & 0.340381 \\\\\n",
       "\t5 & 0.112803 & 0.294865 \\\\\n",
       "\t6 & 0.308425 & 0.297125 \\\\\n",
       "\t7 & -0.503107 & 0.182807 \\\\\n",
       "\t8 & 0.249407 & 0.191132 \\\\\n",
       "\t9 & -1.04437 & 0.0538533 \\\\\n",
       "\t10 & -0.993823 & -0.0509144 \\\\\n",
       "\t11 & -1.42903 & -0.176198 \\\\\n",
       "\t12 & 0.772659 & -0.0971262 \\\\\n",
       "\t13 & -0.377418 & -0.118687 \\\\\n",
       "\t14 & -2.09506 & -0.259856 \\\\\n",
       "\t15 & -1.85742 & -0.366361 \\\\\n",
       "\t16 & -0.694995 & -0.378484 \\\\\n",
       "\t17 & 1.72883 & -0.249811 \\\\\n",
       "\t18 & -1.92994 & -0.376483 \\\\\n",
       "\t19 & 0.174006 & -0.505269 \\\\\n",
       "\t20 & -0.275175 & -0.531134 \\\\\n",
       "\t$\\dots$ & $\\dots$ & $\\dots$ \\\\\n",
       "\\end{tabular}\n"
      ],
      "text/plain": [
       "\u001b[1m100000000×2 DataFrame\u001b[0m\n",
       "\u001b[1m       Row \u001b[0m│\u001b[1m data       \u001b[0m\u001b[1m sma_rf      \u001b[0m\n",
       "\u001b[1m           \u001b[0m│\u001b[90m Float64    \u001b[0m\u001b[90m Float64     \u001b[0m\n",
       "───────────┼─────────────────────────\n",
       "         1 │ -0.513138   -0.513138\n",
       "         2 │ -0.201272   -0.357205\n",
       "         3 │ -0.0298583  -0.248089\n",
       "         4 │  2.10579     0.340381\n",
       "         5 │  0.112803    0.294865\n",
       "         6 │  0.308425    0.297125\n",
       "     ⋮     │     ⋮            ⋮\n",
       "  99999996 │ -0.988246   -0.122917\n",
       "  99999997 │  1.49338     0.0437905\n",
       "  99999998 │ -0.135346    0.00412684\n",
       "  99999999 │ -1.58721    -0.138436\n",
       " 100000000 │  0.57238    -0.165093\n",
       "\u001b[31m                99999989 rows omitted\u001b[0m"
      ]
     },
     "execution_count": 4,
     "metadata": {},
     "output_type": "execute_result"
    }
   ],
   "source": [
    "df[!, \"sma_rf\"] = runmean(df.data, w_size)\n",
    "df"
   ]
  },
  {
   "cell_type": "code",
   "execution_count": 5,
   "metadata": {},
   "outputs": [
    {
     "data": {
      "text/html": [
       "<table class=\"data-frame\"><thead><tr><th></th><th>data</th><th>sma_rf</th><th>sma_sk</th></tr><tr><th></th><th>Float64</th><th>Float64</th><th>Float64</th></tr></thead><tbody><p>100,000,000 rows × 3 columns</p><tr><th>1</th><td>-0.513138</td><td>-0.513138</td><td>-0.513138</td></tr><tr><th>2</th><td>-0.201272</td><td>-0.357205</td><td>-0.357205</td></tr><tr><th>3</th><td>-0.0298583</td><td>-0.248089</td><td>-0.248089</td></tr><tr><th>4</th><td>2.10579</td><td>0.340381</td><td>0.340381</td></tr><tr><th>5</th><td>0.112803</td><td>0.294865</td><td>0.294865</td></tr><tr><th>6</th><td>0.308425</td><td>0.297125</td><td>0.297125</td></tr><tr><th>7</th><td>-0.503107</td><td>0.182807</td><td>0.182807</td></tr><tr><th>8</th><td>0.249407</td><td>0.191132</td><td>0.191132</td></tr><tr><th>9</th><td>-1.04437</td><td>0.0538533</td><td>0.0538533</td></tr><tr><th>10</th><td>-0.993823</td><td>-0.0509144</td><td>-0.0509144</td></tr><tr><th>11</th><td>-1.42903</td><td>-0.176198</td><td>-0.176198</td></tr><tr><th>12</th><td>0.772659</td><td>-0.0971262</td><td>-0.0971262</td></tr><tr><th>13</th><td>-0.377418</td><td>-0.118687</td><td>-0.118687</td></tr><tr><th>14</th><td>-2.09506</td><td>-0.259856</td><td>-0.259856</td></tr><tr><th>15</th><td>-1.85742</td><td>-0.366361</td><td>-0.366361</td></tr><tr><th>16</th><td>-0.694995</td><td>-0.378484</td><td>-0.378484</td></tr><tr><th>17</th><td>1.72883</td><td>-0.249811</td><td>-0.249811</td></tr><tr><th>18</th><td>-1.92994</td><td>-0.376483</td><td>-0.376483</td></tr><tr><th>19</th><td>0.174006</td><td>-0.505269</td><td>-0.505269</td></tr><tr><th>20</th><td>-0.275175</td><td>-0.531134</td><td>-0.531134</td></tr><tr><th>&vellip;</th><td>&vellip;</td><td>&vellip;</td><td>&vellip;</td></tr></tbody></table>"
      ],
      "text/latex": [
       "\\begin{tabular}{r|ccc}\n",
       "\t& data & sma\\_rf & sma\\_sk\\\\\n",
       "\t\\hline\n",
       "\t& Float64 & Float64 & Float64\\\\\n",
       "\t\\hline\n",
       "\t1 & -0.513138 & -0.513138 & -0.513138 \\\\\n",
       "\t2 & -0.201272 & -0.357205 & -0.357205 \\\\\n",
       "\t3 & -0.0298583 & -0.248089 & -0.248089 \\\\\n",
       "\t4 & 2.10579 & 0.340381 & 0.340381 \\\\\n",
       "\t5 & 0.112803 & 0.294865 & 0.294865 \\\\\n",
       "\t6 & 0.308425 & 0.297125 & 0.297125 \\\\\n",
       "\t7 & -0.503107 & 0.182807 & 0.182807 \\\\\n",
       "\t8 & 0.249407 & 0.191132 & 0.191132 \\\\\n",
       "\t9 & -1.04437 & 0.0538533 & 0.0538533 \\\\\n",
       "\t10 & -0.993823 & -0.0509144 & -0.0509144 \\\\\n",
       "\t11 & -1.42903 & -0.176198 & -0.176198 \\\\\n",
       "\t12 & 0.772659 & -0.0971262 & -0.0971262 \\\\\n",
       "\t13 & -0.377418 & -0.118687 & -0.118687 \\\\\n",
       "\t14 & -2.09506 & -0.259856 & -0.259856 \\\\\n",
       "\t15 & -1.85742 & -0.366361 & -0.366361 \\\\\n",
       "\t16 & -0.694995 & -0.378484 & -0.378484 \\\\\n",
       "\t17 & 1.72883 & -0.249811 & -0.249811 \\\\\n",
       "\t18 & -1.92994 & -0.376483 & -0.376483 \\\\\n",
       "\t19 & 0.174006 & -0.505269 & -0.505269 \\\\\n",
       "\t20 & -0.275175 & -0.531134 & -0.531134 \\\\\n",
       "\t$\\dots$ & $\\dots$ & $\\dots$ & $\\dots$ \\\\\n",
       "\\end{tabular}\n"
      ],
      "text/plain": [
       "\u001b[1m100000000×3 DataFrame\u001b[0m\n",
       "\u001b[1m       Row \u001b[0m│\u001b[1m data       \u001b[0m\u001b[1m sma_rf      \u001b[0m\u001b[1m sma_sk      \u001b[0m\n",
       "\u001b[1m           \u001b[0m│\u001b[90m Float64    \u001b[0m\u001b[90m Float64     \u001b[0m\u001b[90m Float64     \u001b[0m\n",
       "───────────┼──────────────────────────────────────\n",
       "         1 │ -0.513138   -0.513138    -0.513138\n",
       "         2 │ -0.201272   -0.357205    -0.357205\n",
       "         3 │ -0.0298583  -0.248089    -0.248089\n",
       "         4 │  2.10579     0.340381     0.340381\n",
       "         5 │  0.112803    0.294865     0.294865\n",
       "         6 │  0.308425    0.297125     0.297125\n",
       "     ⋮     │     ⋮            ⋮            ⋮\n",
       "  99999996 │ -0.988246   -0.122917    -0.122917\n",
       "  99999997 │  1.49338     0.0437905    0.0437905\n",
       "  99999998 │ -0.135346    0.00412684   0.00412684\n",
       "  99999999 │ -1.58721    -0.138436    -0.138436\n",
       " 100000000 │  0.57238    -0.165093    -0.165093\n",
       "\u001b[31m                             99999989 rows omitted\u001b[0m"
      ]
     },
     "execution_count": 5,
     "metadata": {},
     "output_type": "execute_result"
    }
   ],
   "source": [
    "# Calculate sma using StaticKernels and SantasLittleHelpers\n",
    "# Contains code originally from Tyler Beason\n",
    "\n",
    "k = makekernel(mean,-w_size+1:0)\n",
    "df[!, \"sma_sk\"] = applyrolling(k, df.data)\n",
    "df"
   ]
  },
  {
   "cell_type": "code",
   "execution_count": null,
   "metadata": {},
   "outputs": [],
   "source": []
  },
  {
   "cell_type": "code",
   "execution_count": 6,
   "metadata": {},
   "outputs": [
    {
     "data": {
      "text/html": [
       "<table class=\"data-frame\"><thead><tr><th></th><th>data</th><th>sma_rf</th><th>sma_sk</th><th>sma_tullio</th></tr><tr><th></th><th>Float64</th><th>Float64</th><th>Float64</th><th>Float64?</th></tr></thead><tbody><p>100,000,000 rows × 4 columns</p><tr><th>1</th><td>-0.513138</td><td>-0.513138</td><td>-0.513138</td><td><em>missing</em></td></tr><tr><th>2</th><td>-0.201272</td><td>-0.357205</td><td>-0.357205</td><td><em>missing</em></td></tr><tr><th>3</th><td>-0.0298583</td><td>-0.248089</td><td>-0.248089</td><td><em>missing</em></td></tr><tr><th>4</th><td>2.10579</td><td>0.340381</td><td>0.340381</td><td><em>missing</em></td></tr><tr><th>5</th><td>0.112803</td><td>0.294865</td><td>0.294865</td><td><em>missing</em></td></tr><tr><th>6</th><td>0.308425</td><td>0.297125</td><td>0.297125</td><td><em>missing</em></td></tr><tr><th>7</th><td>-0.503107</td><td>0.182807</td><td>0.182807</td><td><em>missing</em></td></tr><tr><th>8</th><td>0.249407</td><td>0.191132</td><td>0.191132</td><td><em>missing</em></td></tr><tr><th>9</th><td>-1.04437</td><td>0.0538533</td><td>0.0538533</td><td><em>missing</em></td></tr><tr><th>10</th><td>-0.993823</td><td>-0.0509144</td><td>-0.0509144</td><td><em>missing</em></td></tr><tr><th>11</th><td>-1.42903</td><td>-0.176198</td><td>-0.176198</td><td><em>missing</em></td></tr><tr><th>12</th><td>0.772659</td><td>-0.0971262</td><td>-0.0971262</td><td><em>missing</em></td></tr><tr><th>13</th><td>-0.377418</td><td>-0.118687</td><td>-0.118687</td><td><em>missing</em></td></tr><tr><th>14</th><td>-2.09506</td><td>-0.259856</td><td>-0.259856</td><td><em>missing</em></td></tr><tr><th>15</th><td>-1.85742</td><td>-0.366361</td><td>-0.366361</td><td>-0.366361</td></tr><tr><th>16</th><td>-0.694995</td><td>-0.378484</td><td>-0.378484</td><td>-0.378484</td></tr><tr><th>17</th><td>1.72883</td><td>-0.249811</td><td>-0.249811</td><td>-0.249811</td></tr><tr><th>18</th><td>-1.92994</td><td>-0.376483</td><td>-0.376483</td><td>-0.376483</td></tr><tr><th>19</th><td>0.174006</td><td>-0.505269</td><td>-0.505269</td><td>-0.505269</td></tr><tr><th>20</th><td>-0.275175</td><td>-0.531134</td><td>-0.531134</td><td>-0.531134</td></tr><tr><th>&vellip;</th><td>&vellip;</td><td>&vellip;</td><td>&vellip;</td><td>&vellip;</td></tr></tbody></table>"
      ],
      "text/latex": [
       "\\begin{tabular}{r|cccc}\n",
       "\t& data & sma\\_rf & sma\\_sk & sma\\_tullio\\\\\n",
       "\t\\hline\n",
       "\t& Float64 & Float64 & Float64 & Float64?\\\\\n",
       "\t\\hline\n",
       "\t1 & -0.513138 & -0.513138 & -0.513138 & \\emph{missing} \\\\\n",
       "\t2 & -0.201272 & -0.357205 & -0.357205 & \\emph{missing} \\\\\n",
       "\t3 & -0.0298583 & -0.248089 & -0.248089 & \\emph{missing} \\\\\n",
       "\t4 & 2.10579 & 0.340381 & 0.340381 & \\emph{missing} \\\\\n",
       "\t5 & 0.112803 & 0.294865 & 0.294865 & \\emph{missing} \\\\\n",
       "\t6 & 0.308425 & 0.297125 & 0.297125 & \\emph{missing} \\\\\n",
       "\t7 & -0.503107 & 0.182807 & 0.182807 & \\emph{missing} \\\\\n",
       "\t8 & 0.249407 & 0.191132 & 0.191132 & \\emph{missing} \\\\\n",
       "\t9 & -1.04437 & 0.0538533 & 0.0538533 & \\emph{missing} \\\\\n",
       "\t10 & -0.993823 & -0.0509144 & -0.0509144 & \\emph{missing} \\\\\n",
       "\t11 & -1.42903 & -0.176198 & -0.176198 & \\emph{missing} \\\\\n",
       "\t12 & 0.772659 & -0.0971262 & -0.0971262 & \\emph{missing} \\\\\n",
       "\t13 & -0.377418 & -0.118687 & -0.118687 & \\emph{missing} \\\\\n",
       "\t14 & -2.09506 & -0.259856 & -0.259856 & \\emph{missing} \\\\\n",
       "\t15 & -1.85742 & -0.366361 & -0.366361 & -0.366361 \\\\\n",
       "\t16 & -0.694995 & -0.378484 & -0.378484 & -0.378484 \\\\\n",
       "\t17 & 1.72883 & -0.249811 & -0.249811 & -0.249811 \\\\\n",
       "\t18 & -1.92994 & -0.376483 & -0.376483 & -0.376483 \\\\\n",
       "\t19 & 0.174006 & -0.505269 & -0.505269 & -0.505269 \\\\\n",
       "\t20 & -0.275175 & -0.531134 & -0.531134 & -0.531134 \\\\\n",
       "\t$\\dots$ & $\\dots$ & $\\dots$ & $\\dots$ & $\\dots$ \\\\\n",
       "\\end{tabular}\n"
      ],
      "text/plain": [
       "\u001b[1m100000000×4 DataFrame\u001b[0m\n",
       "\u001b[1m       Row \u001b[0m│\u001b[1m data       \u001b[0m\u001b[1m sma_rf      \u001b[0m\u001b[1m sma_sk      \u001b[0m\u001b[1m sma_tullio       \u001b[0m\n",
       "\u001b[1m           \u001b[0m│\u001b[90m Float64    \u001b[0m\u001b[90m Float64     \u001b[0m\u001b[90m Float64     \u001b[0m\u001b[90m Float64?         \u001b[0m\n",
       "───────────┼────────────────────────────────────────────────────────\n",
       "         1 │ -0.513138   -0.513138    -0.513138   \u001b[90m missing          \u001b[0m\n",
       "         2 │ -0.201272   -0.357205    -0.357205   \u001b[90m missing          \u001b[0m\n",
       "         3 │ -0.0298583  -0.248089    -0.248089   \u001b[90m missing          \u001b[0m\n",
       "         4 │  2.10579     0.340381     0.340381   \u001b[90m missing          \u001b[0m\n",
       "         5 │  0.112803    0.294865     0.294865   \u001b[90m missing          \u001b[0m\n",
       "         6 │  0.308425    0.297125     0.297125   \u001b[90m missing          \u001b[0m\n",
       "     ⋮     │     ⋮            ⋮            ⋮              ⋮\n",
       "  99999996 │ -0.988246   -0.122917    -0.122917         -0.122917\n",
       "  99999997 │  1.49338     0.0437905    0.0437905         0.0437905\n",
       "  99999998 │ -0.135346    0.00412684   0.00412684        0.00412684\n",
       "  99999999 │ -1.58721    -0.138436    -0.138436         -0.138436\n",
       " 100000000 │  0.57238    -0.165093    -0.165093         -0.165093\n",
       "\u001b[31m                                               99999989 rows omitted\u001b[0m"
      ]
     },
     "execution_count": 6,
     "metadata": {},
     "output_type": "execute_result"
    }
   ],
   "source": [
    "# Contains code originally from Michael Abbott\n",
    "\n",
    "tmp = Array{Union{Missing, Float64}}(missing, length(df.data));\n",
    "\n",
    "function f_tullio(data, sma, window_size)\n",
    "    rate = 1/window_size\n",
    "    out_view = @view sma[window_size:end]\n",
    "    @tullio out_view[i] = rate*data[i+o]  o in 0:window_size-1  # verbose=true;\n",
    "    sma\n",
    "end\n",
    "\n",
    "df[!, \"sma_tullio\"] = f_tullio(df.data, tmp, w_size)\n",
    "df"
   ]
  },
  {
   "cell_type": "code",
   "execution_count": null,
   "metadata": {},
   "outputs": [],
   "source": []
  },
  {
   "cell_type": "code",
   "execution_count": 7,
   "metadata": {},
   "outputs": [
    {
     "data": {
      "text/plain": [
       "rollingmean_simd (generic function with 1 method)"
      ]
     },
     "execution_count": 7,
     "metadata": {},
     "output_type": "execute_result"
    }
   ],
   "source": [
    "# Contains code originally from Peter Deffebach\n",
    "\n",
    "out = Vector{Union{Missing, Float64}}(undef, N)\n",
    "\n",
    "function rollingmean_simd(x, m, out)\n",
    "    N = length(x)\n",
    "    out[1:(m-1)] .= missing\n",
    "    sm = mean(@view x[1:m])\n",
    "    out[m] = sm\n",
    "    @inbounds @simd for i in (m+1):length(x)\n",
    "        sm += (x[i] - x[i-m]) / m\n",
    "        out[i] = sm\n",
    "    end\n",
    "    return out \n",
    "end"
   ]
  },
  {
   "cell_type": "code",
   "execution_count": 8,
   "metadata": {},
   "outputs": [
    {
     "data": {
      "text/html": [
       "<table class=\"data-frame\"><thead><tr><th></th><th>data</th><th>sma_rf</th><th>sma_sk</th><th>sma_tullio</th><th>sma_simd</th></tr><tr><th></th><th>Float64</th><th>Float64</th><th>Float64</th><th>Float64?</th><th>Float64?</th></tr></thead><tbody><p>100,000,000 rows × 5 columns</p><tr><th>1</th><td>-0.513138</td><td>-0.513138</td><td>-0.513138</td><td><em>missing</em></td><td><em>missing</em></td></tr><tr><th>2</th><td>-0.201272</td><td>-0.357205</td><td>-0.357205</td><td><em>missing</em></td><td><em>missing</em></td></tr><tr><th>3</th><td>-0.0298583</td><td>-0.248089</td><td>-0.248089</td><td><em>missing</em></td><td><em>missing</em></td></tr><tr><th>4</th><td>2.10579</td><td>0.340381</td><td>0.340381</td><td><em>missing</em></td><td><em>missing</em></td></tr><tr><th>5</th><td>0.112803</td><td>0.294865</td><td>0.294865</td><td><em>missing</em></td><td><em>missing</em></td></tr><tr><th>6</th><td>0.308425</td><td>0.297125</td><td>0.297125</td><td><em>missing</em></td><td><em>missing</em></td></tr><tr><th>7</th><td>-0.503107</td><td>0.182807</td><td>0.182807</td><td><em>missing</em></td><td><em>missing</em></td></tr><tr><th>8</th><td>0.249407</td><td>0.191132</td><td>0.191132</td><td><em>missing</em></td><td><em>missing</em></td></tr><tr><th>9</th><td>-1.04437</td><td>0.0538533</td><td>0.0538533</td><td><em>missing</em></td><td><em>missing</em></td></tr><tr><th>10</th><td>-0.993823</td><td>-0.0509144</td><td>-0.0509144</td><td><em>missing</em></td><td><em>missing</em></td></tr><tr><th>11</th><td>-1.42903</td><td>-0.176198</td><td>-0.176198</td><td><em>missing</em></td><td><em>missing</em></td></tr><tr><th>12</th><td>0.772659</td><td>-0.0971262</td><td>-0.0971262</td><td><em>missing</em></td><td><em>missing</em></td></tr><tr><th>13</th><td>-0.377418</td><td>-0.118687</td><td>-0.118687</td><td><em>missing</em></td><td><em>missing</em></td></tr><tr><th>14</th><td>-2.09506</td><td>-0.259856</td><td>-0.259856</td><td><em>missing</em></td><td><em>missing</em></td></tr><tr><th>15</th><td>-1.85742</td><td>-0.366361</td><td>-0.366361</td><td>-0.366361</td><td>-0.366361</td></tr><tr><th>16</th><td>-0.694995</td><td>-0.378484</td><td>-0.378484</td><td>-0.378484</td><td>-0.378484</td></tr><tr><th>17</th><td>1.72883</td><td>-0.249811</td><td>-0.249811</td><td>-0.249811</td><td>-0.249811</td></tr><tr><th>18</th><td>-1.92994</td><td>-0.376483</td><td>-0.376483</td><td>-0.376483</td><td>-0.376483</td></tr><tr><th>19</th><td>0.174006</td><td>-0.505269</td><td>-0.505269</td><td>-0.505269</td><td>-0.505269</td></tr><tr><th>20</th><td>-0.275175</td><td>-0.531134</td><td>-0.531134</td><td>-0.531134</td><td>-0.531134</td></tr><tr><th>&vellip;</th><td>&vellip;</td><td>&vellip;</td><td>&vellip;</td><td>&vellip;</td><td>&vellip;</td></tr></tbody></table>"
      ],
      "text/latex": [
       "\\begin{tabular}{r|ccccc}\n",
       "\t& data & sma\\_rf & sma\\_sk & sma\\_tullio & sma\\_simd\\\\\n",
       "\t\\hline\n",
       "\t& Float64 & Float64 & Float64 & Float64? & Float64?\\\\\n",
       "\t\\hline\n",
       "\t1 & -0.513138 & -0.513138 & -0.513138 & \\emph{missing} & \\emph{missing} \\\\\n",
       "\t2 & -0.201272 & -0.357205 & -0.357205 & \\emph{missing} & \\emph{missing} \\\\\n",
       "\t3 & -0.0298583 & -0.248089 & -0.248089 & \\emph{missing} & \\emph{missing} \\\\\n",
       "\t4 & 2.10579 & 0.340381 & 0.340381 & \\emph{missing} & \\emph{missing} \\\\\n",
       "\t5 & 0.112803 & 0.294865 & 0.294865 & \\emph{missing} & \\emph{missing} \\\\\n",
       "\t6 & 0.308425 & 0.297125 & 0.297125 & \\emph{missing} & \\emph{missing} \\\\\n",
       "\t7 & -0.503107 & 0.182807 & 0.182807 & \\emph{missing} & \\emph{missing} \\\\\n",
       "\t8 & 0.249407 & 0.191132 & 0.191132 & \\emph{missing} & \\emph{missing} \\\\\n",
       "\t9 & -1.04437 & 0.0538533 & 0.0538533 & \\emph{missing} & \\emph{missing} \\\\\n",
       "\t10 & -0.993823 & -0.0509144 & -0.0509144 & \\emph{missing} & \\emph{missing} \\\\\n",
       "\t11 & -1.42903 & -0.176198 & -0.176198 & \\emph{missing} & \\emph{missing} \\\\\n",
       "\t12 & 0.772659 & -0.0971262 & -0.0971262 & \\emph{missing} & \\emph{missing} \\\\\n",
       "\t13 & -0.377418 & -0.118687 & -0.118687 & \\emph{missing} & \\emph{missing} \\\\\n",
       "\t14 & -2.09506 & -0.259856 & -0.259856 & \\emph{missing} & \\emph{missing} \\\\\n",
       "\t15 & -1.85742 & -0.366361 & -0.366361 & -0.366361 & -0.366361 \\\\\n",
       "\t16 & -0.694995 & -0.378484 & -0.378484 & -0.378484 & -0.378484 \\\\\n",
       "\t17 & 1.72883 & -0.249811 & -0.249811 & -0.249811 & -0.249811 \\\\\n",
       "\t18 & -1.92994 & -0.376483 & -0.376483 & -0.376483 & -0.376483 \\\\\n",
       "\t19 & 0.174006 & -0.505269 & -0.505269 & -0.505269 & -0.505269 \\\\\n",
       "\t20 & -0.275175 & -0.531134 & -0.531134 & -0.531134 & -0.531134 \\\\\n",
       "\t$\\dots$ & $\\dots$ & $\\dots$ & $\\dots$ & $\\dots$ & $\\dots$ \\\\\n",
       "\\end{tabular}\n"
      ],
      "text/plain": [
       "\u001b[1m100000000×5 DataFrame\u001b[0m\n",
       "\u001b[1m       Row \u001b[0m│\u001b[1m data       \u001b[0m\u001b[1m sma_rf      \u001b[0m\u001b[1m sma_sk      \u001b[0m\u001b[1m sma_tullio       \u001b[0m\u001b[1m sma_simd         \u001b[0m\n",
       "\u001b[1m           \u001b[0m│\u001b[90m Float64    \u001b[0m\u001b[90m Float64     \u001b[0m\u001b[90m Float64     \u001b[0m\u001b[90m Float64?         \u001b[0m\u001b[90m Float64?         \u001b[0m\n",
       "───────────┼──────────────────────────────────────────────────────────────────────────\n",
       "         1 │ -0.513138   -0.513138    -0.513138   \u001b[90m missing          \u001b[0m\u001b[90m missing          \u001b[0m\n",
       "         2 │ -0.201272   -0.357205    -0.357205   \u001b[90m missing          \u001b[0m\u001b[90m missing          \u001b[0m\n",
       "         3 │ -0.0298583  -0.248089    -0.248089   \u001b[90m missing          \u001b[0m\u001b[90m missing          \u001b[0m\n",
       "         4 │  2.10579     0.340381     0.340381   \u001b[90m missing          \u001b[0m\u001b[90m missing          \u001b[0m\n",
       "         5 │  0.112803    0.294865     0.294865   \u001b[90m missing          \u001b[0m\u001b[90m missing          \u001b[0m\n",
       "         6 │  0.308425    0.297125     0.297125   \u001b[90m missing          \u001b[0m\u001b[90m missing          \u001b[0m\n",
       "     ⋮     │     ⋮            ⋮            ⋮              ⋮                 ⋮\n",
       "  99999996 │ -0.988246   -0.122917    -0.122917         -0.122917         -0.122917\n",
       "  99999997 │  1.49338     0.0437905    0.0437905         0.0437905         0.0437905\n",
       "  99999998 │ -0.135346    0.00412684   0.00412684        0.00412684        0.00412684\n",
       "  99999999 │ -1.58721    -0.138436    -0.138436         -0.138436         -0.138436\n",
       " 100000000 │  0.57238    -0.165093    -0.165093         -0.165093         -0.165093\n",
       "\u001b[31m                                                                 99999989 rows omitted\u001b[0m"
      ]
     },
     "execution_count": 8,
     "metadata": {},
     "output_type": "execute_result"
    }
   ],
   "source": [
    "df[!, \"sma_simd\"] = rollingmean_simd(df.data, w_size, out)\n",
    "df"
   ]
  },
  {
   "cell_type": "code",
   "execution_count": null,
   "metadata": {},
   "outputs": [],
   "source": []
  },
  {
   "cell_type": "code",
   "execution_count": 9,
   "metadata": {},
   "outputs": [
    {
     "data": {
      "text/plain": [
       "rolling_average (generic function with 1 method)"
      ]
     },
     "execution_count": 9,
     "metadata": {},
     "output_type": "execute_result"
    }
   ],
   "source": [
    "function rolling_average(v; window_size::Int=10)\n",
    "    @assert window_size > 0\n",
    "    loffset = window_size ÷ 2\n",
    "    roffset = loffset + window_size%2\n",
    "    ThreadsX.map(eachindex(v)) do i\n",
    "        mean(@view v[max(begin, i-loffset) : min(end, i+roffset)])\n",
    "    end\n",
    "end"
   ]
  },
  {
   "cell_type": "code",
   "execution_count": 10,
   "metadata": {},
   "outputs": [
    {
     "data": {
      "image/svg+xml": [
       "<?xml version=\"1.0\" encoding=\"utf-8\"?>\n",
       "<svg xmlns=\"http://www.w3.org/2000/svg\" xmlns:xlink=\"http://www.w3.org/1999/xlink\" width=\"600\" height=\"400\" viewBox=\"0 0 2400 1600\">\n",
       "<defs>\n",
       "  <clipPath id=\"clip580\">\n",
       "    <rect x=\"0\" y=\"0\" width=\"2400\" height=\"1600\"/>\n",
       "  </clipPath>\n",
       "</defs>\n",
       "<path clip-path=\"url(#clip580)\" d=\"\n",
       "M0 1600 L2400 1600 L2400 0 L0 0  Z\n",
       "  \" fill=\"#ffffff\" fill-rule=\"evenodd\" fill-opacity=\"1\"/>\n",
       "<defs>\n",
       "  <clipPath id=\"clip581\">\n",
       "    <rect x=\"480\" y=\"0\" width=\"1681\" height=\"1600\"/>\n",
       "  </clipPath>\n",
       "</defs>\n",
       "<path clip-path=\"url(#clip580)\" d=\"\n",
       "M205.07 1486.45 L2352.76 1486.45 L2352.76 47.2441 L205.07 47.2441  Z\n",
       "  \" fill=\"#ffffff\" fill-rule=\"evenodd\" fill-opacity=\"1\"/>\n",
       "<defs>\n",
       "  <clipPath id=\"clip582\">\n",
       "    <rect x=\"205\" y=\"47\" width=\"2149\" height=\"1440\"/>\n",
       "  </clipPath>\n",
       "</defs>\n",
       "<polyline clip-path=\"url(#clip582)\" style=\"stroke:#000000; stroke-width:2; stroke-opacity:0.1; fill:none\" points=\"\n",
       "  265.854,1486.45 265.854,47.2441 \n",
       "  \"/>\n",
       "<polyline clip-path=\"url(#clip582)\" style=\"stroke:#000000; stroke-width:2; stroke-opacity:0.1; fill:none\" points=\"\n",
       "  772.383,1486.45 772.383,47.2441 \n",
       "  \"/>\n",
       "<polyline clip-path=\"url(#clip582)\" style=\"stroke:#000000; stroke-width:2; stroke-opacity:0.1; fill:none\" points=\"\n",
       "  1278.91,1486.45 1278.91,47.2441 \n",
       "  \"/>\n",
       "<polyline clip-path=\"url(#clip582)\" style=\"stroke:#000000; stroke-width:2; stroke-opacity:0.1; fill:none\" points=\"\n",
       "  1785.44,1486.45 1785.44,47.2441 \n",
       "  \"/>\n",
       "<polyline clip-path=\"url(#clip582)\" style=\"stroke:#000000; stroke-width:2; stroke-opacity:0.1; fill:none\" points=\"\n",
       "  2291.97,1486.45 2291.97,47.2441 \n",
       "  \"/>\n",
       "<polyline clip-path=\"url(#clip580)\" style=\"stroke:#000000; stroke-width:4; stroke-opacity:1; fill:none\" points=\"\n",
       "  205.07,1486.45 2352.76,1486.45 \n",
       "  \"/>\n",
       "<polyline clip-path=\"url(#clip580)\" style=\"stroke:#000000; stroke-width:4; stroke-opacity:1; fill:none\" points=\"\n",
       "  265.854,1486.45 265.854,1469.18 \n",
       "  \"/>\n",
       "<polyline clip-path=\"url(#clip580)\" style=\"stroke:#000000; stroke-width:4; stroke-opacity:1; fill:none\" points=\"\n",
       "  772.383,1486.45 772.383,1469.18 \n",
       "  \"/>\n",
       "<polyline clip-path=\"url(#clip580)\" style=\"stroke:#000000; stroke-width:4; stroke-opacity:1; fill:none\" points=\"\n",
       "  1278.91,1486.45 1278.91,1469.18 \n",
       "  \"/>\n",
       "<polyline clip-path=\"url(#clip580)\" style=\"stroke:#000000; stroke-width:4; stroke-opacity:1; fill:none\" points=\"\n",
       "  1785.44,1486.45 1785.44,1469.18 \n",
       "  \"/>\n",
       "<polyline clip-path=\"url(#clip580)\" style=\"stroke:#000000; stroke-width:4; stroke-opacity:1; fill:none\" points=\"\n",
       "  2291.97,1486.45 2291.97,1469.18 \n",
       "  \"/>\n",
       "<path clip-path=\"url(#clip580)\" d=\"M 0 0 M224.616 1530.29 L254.291 1530.29 L254.291 1534.23 L224.616 1534.23 L224.616 1530.29 Z\" fill=\"#000000\" fill-rule=\"evenodd\" fill-opacity=\"1\" /><path clip-path=\"url(#clip580)\" d=\"M 0 0 M260.171 1543.18 L267.81 1543.18 L267.81 1516.82 L259.5 1518.49 L259.5 1514.23 L267.763 1512.56 L272.439 1512.56 L272.439 1543.18 L280.078 1543.18 L280.078 1547.12 L260.171 1547.12 L260.171 1543.18 Z\" fill=\"#000000\" fill-rule=\"evenodd\" fill-opacity=\"1\" /><path clip-path=\"url(#clip580)\" d=\"M 0 0 M295.148 1515.64 Q291.536 1515.64 289.708 1519.2 Q287.902 1522.75 287.902 1529.87 Q287.902 1536.98 289.708 1540.55 Q291.536 1544.09 295.148 1544.09 Q298.782 1544.09 300.587 1540.55 Q302.416 1536.98 302.416 1529.87 Q302.416 1522.75 300.587 1519.2 Q298.782 1515.64 295.148 1515.64 M295.148 1511.93 Q300.958 1511.93 304.013 1516.54 Q307.092 1521.12 307.092 1529.87 Q307.092 1538.6 304.013 1543.21 Q300.958 1547.79 295.148 1547.79 Q289.337 1547.79 286.259 1543.21 Q283.203 1538.6 283.203 1529.87 Q283.203 1521.12 286.259 1516.54 Q289.337 1511.93 295.148 1511.93 Z\" fill=\"#000000\" fill-rule=\"evenodd\" fill-opacity=\"1\" /><path clip-path=\"url(#clip580)\" d=\"M 0 0 M744.536 1530.29 L774.212 1530.29 L774.212 1534.23 L744.536 1534.23 L744.536 1530.29 Z\" fill=\"#000000\" fill-rule=\"evenodd\" fill-opacity=\"1\" /><path clip-path=\"url(#clip580)\" d=\"M 0 0 M779.328 1512.56 L797.684 1512.56 L797.684 1516.5 L783.61 1516.5 L783.61 1524.97 Q784.629 1524.62 785.647 1524.46 Q786.666 1524.27 787.684 1524.27 Q793.471 1524.27 796.851 1527.44 Q800.23 1530.62 800.23 1536.03 Q800.23 1541.61 796.758 1544.71 Q793.286 1547.79 786.967 1547.79 Q784.791 1547.79 782.522 1547.42 Q780.277 1547.05 777.869 1546.31 L777.869 1541.61 Q779.953 1542.74 782.175 1543.3 Q784.397 1543.86 786.874 1543.86 Q790.879 1543.86 793.217 1541.75 Q795.555 1539.64 795.555 1536.03 Q795.555 1532.42 793.217 1530.31 Q790.879 1528.21 786.874 1528.21 Q784.999 1528.21 783.124 1528.62 Q781.272 1529.04 779.328 1529.92 L779.328 1512.56 Z\" fill=\"#000000\" fill-rule=\"evenodd\" fill-opacity=\"1\" /><path clip-path=\"url(#clip580)\" d=\"M 0 0 M1278.91 1515.64 Q1275.3 1515.64 1273.47 1519.2 Q1271.67 1522.75 1271.67 1529.87 Q1271.67 1536.98 1273.47 1540.55 Q1275.3 1544.09 1278.91 1544.09 Q1282.55 1544.09 1284.35 1540.55 Q1286.18 1536.98 1286.18 1529.87 Q1286.18 1522.75 1284.35 1519.2 Q1282.55 1515.64 1278.91 1515.64 M1278.91 1511.93 Q1284.72 1511.93 1287.78 1516.54 Q1290.86 1521.12 1290.86 1529.87 Q1290.86 1538.6 1287.78 1543.21 Q1284.72 1547.79 1278.91 1547.79 Q1273.1 1547.79 1270.02 1543.21 Q1266.97 1538.6 1266.97 1529.87 Q1266.97 1521.12 1270.02 1516.54 Q1273.1 1511.93 1278.91 1511.93 Z\" fill=\"#000000\" fill-rule=\"evenodd\" fill-opacity=\"1\" /><path clip-path=\"url(#clip580)\" d=\"M 0 0 M1775.72 1512.56 L1794.08 1512.56 L1794.08 1516.5 L1780 1516.5 L1780 1524.97 Q1781.02 1524.62 1782.04 1524.46 Q1783.06 1524.27 1784.08 1524.27 Q1789.86 1524.27 1793.24 1527.44 Q1796.62 1530.62 1796.62 1536.03 Q1796.62 1541.61 1793.15 1544.71 Q1789.68 1547.79 1783.36 1547.79 Q1781.18 1547.79 1778.91 1547.42 Q1776.67 1547.05 1774.26 1546.31 L1774.26 1541.61 Q1776.35 1542.74 1778.57 1543.3 Q1780.79 1543.86 1783.27 1543.86 Q1787.27 1543.86 1789.61 1541.75 Q1791.95 1539.64 1791.95 1536.03 Q1791.95 1532.42 1789.61 1530.31 Q1787.27 1528.21 1783.27 1528.21 Q1781.39 1528.21 1779.52 1528.62 Q1777.66 1529.04 1775.72 1529.92 L1775.72 1512.56 Z\" fill=\"#000000\" fill-rule=\"evenodd\" fill-opacity=\"1\" /><path clip-path=\"url(#clip580)\" d=\"M 0 0 M2268.85 1543.18 L2276.49 1543.18 L2276.49 1516.82 L2268.18 1518.49 L2268.18 1514.23 L2276.44 1512.56 L2281.12 1512.56 L2281.12 1543.18 L2288.75 1543.18 L2288.75 1547.12 L2268.85 1547.12 L2268.85 1543.18 Z\" fill=\"#000000\" fill-rule=\"evenodd\" fill-opacity=\"1\" /><path clip-path=\"url(#clip580)\" d=\"M 0 0 M2303.82 1515.64 Q2300.21 1515.64 2298.38 1519.2 Q2296.58 1522.75 2296.58 1529.87 Q2296.58 1536.98 2298.38 1540.55 Q2300.21 1544.09 2303.82 1544.09 Q2307.46 1544.09 2309.26 1540.55 Q2311.09 1536.98 2311.09 1529.87 Q2311.09 1522.75 2309.26 1519.2 Q2307.46 1515.64 2303.82 1515.64 M2303.82 1511.93 Q2309.63 1511.93 2312.69 1516.54 Q2315.77 1521.12 2315.77 1529.87 Q2315.77 1538.6 2312.69 1543.21 Q2309.63 1547.79 2303.82 1547.79 Q2298.01 1547.79 2294.94 1543.21 Q2291.88 1538.6 2291.88 1529.87 Q2291.88 1521.12 2294.94 1516.54 Q2298.01 1511.93 2303.82 1511.93 Z\" fill=\"#000000\" fill-rule=\"evenodd\" fill-opacity=\"1\" /><polyline clip-path=\"url(#clip582)\" style=\"stroke:#000000; stroke-width:2; stroke-opacity:0.1; fill:none\" points=\"\n",
       "  205.07,1407.12 2352.76,1407.12 \n",
       "  \"/>\n",
       "<polyline clip-path=\"url(#clip582)\" style=\"stroke:#000000; stroke-width:2; stroke-opacity:0.1; fill:none\" points=\"\n",
       "  205.07,1177.28 2352.76,1177.28 \n",
       "  \"/>\n",
       "<polyline clip-path=\"url(#clip582)\" style=\"stroke:#000000; stroke-width:2; stroke-opacity:0.1; fill:none\" points=\"\n",
       "  205.07,947.44 2352.76,947.44 \n",
       "  \"/>\n",
       "<polyline clip-path=\"url(#clip582)\" style=\"stroke:#000000; stroke-width:2; stroke-opacity:0.1; fill:none\" points=\"\n",
       "  205.07,717.601 2352.76,717.601 \n",
       "  \"/>\n",
       "<polyline clip-path=\"url(#clip582)\" style=\"stroke:#000000; stroke-width:2; stroke-opacity:0.1; fill:none\" points=\"\n",
       "  205.07,487.761 2352.76,487.761 \n",
       "  \"/>\n",
       "<polyline clip-path=\"url(#clip582)\" style=\"stroke:#000000; stroke-width:2; stroke-opacity:0.1; fill:none\" points=\"\n",
       "  205.07,257.922 2352.76,257.922 \n",
       "  \"/>\n",
       "<polyline clip-path=\"url(#clip580)\" style=\"stroke:#000000; stroke-width:4; stroke-opacity:1; fill:none\" points=\"\n",
       "  205.07,1486.45 205.07,47.2441 \n",
       "  \"/>\n",
       "<polyline clip-path=\"url(#clip580)\" style=\"stroke:#000000; stroke-width:4; stroke-opacity:1; fill:none\" points=\"\n",
       "  205.07,1407.12 230.842,1407.12 \n",
       "  \"/>\n",
       "<polyline clip-path=\"url(#clip580)\" style=\"stroke:#000000; stroke-width:4; stroke-opacity:1; fill:none\" points=\"\n",
       "  205.07,1177.28 230.842,1177.28 \n",
       "  \"/>\n",
       "<polyline clip-path=\"url(#clip580)\" style=\"stroke:#000000; stroke-width:4; stroke-opacity:1; fill:none\" points=\"\n",
       "  205.07,947.44 230.842,947.44 \n",
       "  \"/>\n",
       "<polyline clip-path=\"url(#clip580)\" style=\"stroke:#000000; stroke-width:4; stroke-opacity:1; fill:none\" points=\"\n",
       "  205.07,717.601 230.842,717.601 \n",
       "  \"/>\n",
       "<polyline clip-path=\"url(#clip580)\" style=\"stroke:#000000; stroke-width:4; stroke-opacity:1; fill:none\" points=\"\n",
       "  205.07,487.761 230.842,487.761 \n",
       "  \"/>\n",
       "<polyline clip-path=\"url(#clip580)\" style=\"stroke:#000000; stroke-width:4; stroke-opacity:1; fill:none\" points=\"\n",
       "  205.07,257.922 230.842,257.922 \n",
       "  \"/>\n",
       "<path clip-path=\"url(#clip580)\" d=\"M 0 0 M50.9921 1407.57 L80.6679 1407.57 L80.6679 1411.51 L50.9921 1411.51 L50.9921 1407.57 Z\" fill=\"#000000\" fill-rule=\"evenodd\" fill-opacity=\"1\" /><path clip-path=\"url(#clip580)\" d=\"M 0 0 M95.7373 1392.92 Q92.1262 1392.92 90.2975 1396.48 Q88.4919 1400.02 88.4919 1407.15 Q88.4919 1414.26 90.2975 1417.83 Q92.1262 1421.37 95.7373 1421.37 Q99.3715 1421.37 101.177 1417.83 Q103.006 1414.26 103.006 1407.15 Q103.006 1400.02 101.177 1396.48 Q99.3715 1392.92 95.7373 1392.92 M95.7373 1389.21 Q101.547 1389.21 104.603 1393.82 Q107.682 1398.4 107.682 1407.15 Q107.682 1415.88 104.603 1420.49 Q101.547 1425.07 95.7373 1425.07 Q89.9271 1425.07 86.8484 1420.49 Q83.7929 1415.88 83.7929 1407.15 Q83.7929 1398.4 86.8484 1393.82 Q89.9271 1389.21 95.7373 1389.21 Z\" fill=\"#000000\" fill-rule=\"evenodd\" fill-opacity=\"1\" /><path clip-path=\"url(#clip580)\" d=\"M 0 0 M112.751 1418.52 L117.635 1418.52 L117.635 1424.4 L112.751 1424.4 L112.751 1418.52 Z\" fill=\"#000000\" fill-rule=\"evenodd\" fill-opacity=\"1\" /><path clip-path=\"url(#clip580)\" d=\"M 0 0 M126.732 1420.46 L143.052 1420.46 L143.052 1424.4 L121.107 1424.4 L121.107 1420.46 Q123.77 1417.71 128.353 1413.08 Q132.959 1408.43 134.14 1407.08 Q136.385 1404.56 137.265 1402.83 Q138.168 1401.07 138.168 1399.38 Q138.168 1396.62 136.223 1394.89 Q134.302 1393.15 131.2 1393.15 Q129.001 1393.15 126.547 1393.91 Q124.117 1394.68 121.339 1396.23 L121.339 1391.51 Q124.163 1390.37 126.617 1389.79 Q129.07 1389.21 131.107 1389.21 Q136.478 1389.21 139.672 1391.9 Q142.867 1394.58 142.867 1399.08 Q142.867 1401.2 142.056 1403.13 Q141.269 1405.02 139.163 1407.62 Q138.584 1408.29 135.482 1411.51 Q132.381 1414.7 126.732 1420.46 Z\" fill=\"#000000\" fill-rule=\"evenodd\" fill-opacity=\"1\" /><path clip-path=\"url(#clip580)\" d=\"M 0 0 M148.168 1389.84 L166.524 1389.84 L166.524 1393.77 L152.45 1393.77 L152.45 1402.25 Q153.468 1401.9 154.487 1401.74 Q155.505 1401.55 156.524 1401.55 Q162.311 1401.55 165.691 1404.72 Q169.07 1407.89 169.07 1413.31 Q169.07 1418.89 165.598 1421.99 Q162.126 1425.07 155.806 1425.07 Q153.63 1425.07 151.362 1424.7 Q149.117 1424.33 146.709 1423.59 L146.709 1418.89 Q148.793 1420.02 151.015 1420.58 Q153.237 1421.14 155.714 1421.14 Q159.718 1421.14 162.056 1419.03 Q164.394 1416.92 164.394 1413.31 Q164.394 1409.7 162.056 1407.59 Q159.718 1405.49 155.714 1405.49 Q153.839 1405.49 151.964 1405.9 Q150.112 1406.32 148.168 1407.2 L148.168 1389.84 Z\" fill=\"#000000\" fill-rule=\"evenodd\" fill-opacity=\"1\" /><path clip-path=\"url(#clip580)\" d=\"M 0 0 M93.1447 1163.08 Q89.5336 1163.08 87.7049 1166.64 Q85.8993 1170.18 85.8993 1177.31 Q85.8993 1184.42 87.7049 1187.99 Q89.5336 1191.53 93.1447 1191.53 Q96.7789 1191.53 98.5845 1187.99 Q100.413 1184.42 100.413 1177.31 Q100.413 1170.18 98.5845 1166.64 Q96.7789 1163.08 93.1447 1163.08 M93.1447 1159.37 Q98.9548 1159.37 102.01 1163.98 Q105.089 1168.56 105.089 1177.31 Q105.089 1186.04 102.01 1190.65 Q98.9548 1195.23 93.1447 1195.23 Q87.3345 1195.23 84.2558 1190.65 Q81.2003 1186.04 81.2003 1177.31 Q81.2003 1168.56 84.2558 1163.98 Q87.3345 1159.37 93.1447 1159.37 Z\" fill=\"#000000\" fill-rule=\"evenodd\" fill-opacity=\"1\" /><path clip-path=\"url(#clip580)\" d=\"M 0 0 M110.158 1188.68 L115.043 1188.68 L115.043 1194.56 L110.158 1194.56 L110.158 1188.68 Z\" fill=\"#000000\" fill-rule=\"evenodd\" fill-opacity=\"1\" /><path clip-path=\"url(#clip580)\" d=\"M 0 0 M130.112 1163.08 Q126.501 1163.08 124.672 1166.64 Q122.867 1170.18 122.867 1177.31 Q122.867 1184.42 124.672 1187.99 Q126.501 1191.53 130.112 1191.53 Q133.746 1191.53 135.552 1187.99 Q137.381 1184.42 137.381 1177.31 Q137.381 1170.18 135.552 1166.64 Q133.746 1163.08 130.112 1163.08 M130.112 1159.37 Q135.922 1159.37 138.978 1163.98 Q142.056 1168.56 142.056 1177.31 Q142.056 1186.04 138.978 1190.65 Q135.922 1195.23 130.112 1195.23 Q124.302 1195.23 121.223 1190.65 Q118.168 1186.04 118.168 1177.31 Q118.168 1168.56 121.223 1163.98 Q124.302 1159.37 130.112 1159.37 Z\" fill=\"#000000\" fill-rule=\"evenodd\" fill-opacity=\"1\" /><path clip-path=\"url(#clip580)\" d=\"M 0 0 M157.126 1163.08 Q153.515 1163.08 151.686 1166.64 Q149.88 1170.18 149.88 1177.31 Q149.88 1184.42 151.686 1187.99 Q153.515 1191.53 157.126 1191.53 Q160.76 1191.53 162.566 1187.99 Q164.394 1184.42 164.394 1177.31 Q164.394 1170.18 162.566 1166.64 Q160.76 1163.08 157.126 1163.08 M157.126 1159.37 Q162.936 1159.37 165.992 1163.98 Q169.07 1168.56 169.07 1177.31 Q169.07 1186.04 165.992 1190.65 Q162.936 1195.23 157.126 1195.23 Q151.316 1195.23 148.237 1190.65 Q145.181 1186.04 145.181 1177.31 Q145.181 1168.56 148.237 1163.98 Q151.316 1159.37 157.126 1159.37 Z\" fill=\"#000000\" fill-rule=\"evenodd\" fill-opacity=\"1\" /><path clip-path=\"url(#clip580)\" d=\"M 0 0 M95.7373 933.239 Q92.1262 933.239 90.2975 936.804 Q88.4919 940.345 88.4919 947.475 Q88.4919 954.581 90.2975 958.146 Q92.1262 961.688 95.7373 961.688 Q99.3715 961.688 101.177 958.146 Q103.006 954.581 103.006 947.475 Q103.006 940.345 101.177 936.804 Q99.3715 933.239 95.7373 933.239 M95.7373 929.535 Q101.547 929.535 104.603 934.142 Q107.682 938.725 107.682 947.475 Q107.682 956.202 104.603 960.808 Q101.547 965.391 95.7373 965.391 Q89.9271 965.391 86.8484 960.808 Q83.7929 956.202 83.7929 947.475 Q83.7929 938.725 86.8484 934.142 Q89.9271 929.535 95.7373 929.535 Z\" fill=\"#000000\" fill-rule=\"evenodd\" fill-opacity=\"1\" /><path clip-path=\"url(#clip580)\" d=\"M 0 0 M112.751 958.841 L117.635 958.841 L117.635 964.72 L112.751 964.72 L112.751 958.841 Z\" fill=\"#000000\" fill-rule=\"evenodd\" fill-opacity=\"1\" /><path clip-path=\"url(#clip580)\" d=\"M 0 0 M126.732 960.785 L143.052 960.785 L143.052 964.72 L121.107 964.72 L121.107 960.785 Q123.77 958.03 128.353 953.401 Q132.959 948.748 134.14 947.405 Q136.385 944.882 137.265 943.146 Q138.168 941.387 138.168 939.697 Q138.168 936.943 136.223 935.206 Q134.302 933.47 131.2 933.47 Q129.001 933.47 126.547 934.234 Q124.117 934.998 121.339 936.549 L121.339 931.827 Q124.163 930.693 126.617 930.114 Q129.07 929.535 131.107 929.535 Q136.478 929.535 139.672 932.22 Q142.867 934.906 142.867 939.396 Q142.867 941.526 142.056 943.447 Q141.269 945.345 139.163 947.938 Q138.584 948.609 135.482 951.827 Q132.381 955.021 126.732 960.785 Z\" fill=\"#000000\" fill-rule=\"evenodd\" fill-opacity=\"1\" /><path clip-path=\"url(#clip580)\" d=\"M 0 0 M148.168 930.16 L166.524 930.16 L166.524 934.095 L152.45 934.095 L152.45 942.568 Q153.468 942.22 154.487 942.058 Q155.505 941.873 156.524 941.873 Q162.311 941.873 165.691 945.044 Q169.07 948.216 169.07 953.632 Q169.07 959.211 165.598 962.313 Q162.126 965.391 155.806 965.391 Q153.63 965.391 151.362 965.021 Q149.117 964.651 146.709 963.91 L146.709 959.211 Q148.793 960.345 151.015 960.901 Q153.237 961.456 155.714 961.456 Q159.718 961.456 162.056 959.35 Q164.394 957.243 164.394 953.632 Q164.394 950.021 162.056 947.915 Q159.718 945.808 155.714 945.808 Q153.839 945.808 151.964 946.225 Q150.112 946.642 148.168 947.521 L148.168 930.16 Z\" fill=\"#000000\" fill-rule=\"evenodd\" fill-opacity=\"1\" /><path clip-path=\"url(#clip580)\" d=\"M 0 0 M94.14 703.399 Q90.529 703.399 88.7003 706.964 Q86.8947 710.506 86.8947 717.635 Q86.8947 724.742 88.7003 728.307 Q90.529 731.848 94.14 731.848 Q97.7743 731.848 99.5798 728.307 Q101.409 724.742 101.409 717.635 Q101.409 710.506 99.5798 706.964 Q97.7743 703.399 94.14 703.399 M94.14 699.696 Q99.9502 699.696 103.006 704.302 Q106.084 708.885 106.084 717.635 Q106.084 726.362 103.006 730.969 Q99.9502 735.552 94.14 735.552 Q88.3299 735.552 85.2512 730.969 Q82.1957 726.362 82.1957 717.635 Q82.1957 708.885 85.2512 704.302 Q88.3299 699.696 94.14 699.696 Z\" fill=\"#000000\" fill-rule=\"evenodd\" fill-opacity=\"1\" /><path clip-path=\"url(#clip580)\" d=\"M 0 0 M111.154 729.001 L116.038 729.001 L116.038 734.881 L111.154 734.881 L111.154 729.001 Z\" fill=\"#000000\" fill-rule=\"evenodd\" fill-opacity=\"1\" /><path clip-path=\"url(#clip580)\" d=\"M 0 0 M121.154 700.321 L139.51 700.321 L139.51 704.256 L125.436 704.256 L125.436 712.728 Q126.455 712.381 127.473 712.219 Q128.492 712.034 129.51 712.034 Q135.297 712.034 138.677 715.205 Q142.056 718.376 142.056 723.793 Q142.056 729.371 138.584 732.473 Q135.112 735.552 128.793 735.552 Q126.617 735.552 124.348 735.182 Q122.103 734.811 119.695 734.071 L119.695 729.371 Q121.779 730.506 124.001 731.061 Q126.223 731.617 128.7 731.617 Q132.705 731.617 135.043 729.51 Q137.381 727.404 137.381 723.793 Q137.381 720.182 135.043 718.075 Q132.705 715.969 128.7 715.969 Q126.825 715.969 124.95 716.385 Q123.098 716.802 121.154 717.682 L121.154 700.321 Z\" fill=\"#000000\" fill-rule=\"evenodd\" fill-opacity=\"1\" /><path clip-path=\"url(#clip580)\" d=\"M 0 0 M157.126 703.399 Q153.515 703.399 151.686 706.964 Q149.88 710.506 149.88 717.635 Q149.88 724.742 151.686 728.307 Q153.515 731.848 157.126 731.848 Q160.76 731.848 162.566 728.307 Q164.394 724.742 164.394 717.635 Q164.394 710.506 162.566 706.964 Q160.76 703.399 157.126 703.399 M157.126 699.696 Q162.936 699.696 165.992 704.302 Q169.07 708.885 169.07 717.635 Q169.07 726.362 165.992 730.969 Q162.936 735.552 157.126 735.552 Q151.316 735.552 148.237 730.969 Q145.181 726.362 145.181 717.635 Q145.181 708.885 148.237 704.302 Q151.316 699.696 157.126 699.696 Z\" fill=\"#000000\" fill-rule=\"evenodd\" fill-opacity=\"1\" /><path clip-path=\"url(#clip580)\" d=\"M 0 0 M95.0428 473.56 Q91.4317 473.56 89.603 477.125 Q87.7975 480.666 87.7975 487.796 Q87.7975 494.902 89.603 498.467 Q91.4317 502.009 95.0428 502.009 Q98.6771 502.009 100.483 498.467 Q102.311 494.902 102.311 487.796 Q102.311 480.666 100.483 477.125 Q98.6771 473.56 95.0428 473.56 M95.0428 469.856 Q100.853 469.856 103.909 474.463 Q106.987 479.046 106.987 487.796 Q106.987 496.523 103.909 501.129 Q100.853 505.713 95.0428 505.713 Q89.2327 505.713 86.154 501.129 Q83.0984 496.523 83.0984 487.796 Q83.0984 479.046 86.154 474.463 Q89.2327 469.856 95.0428 469.856 Z\" fill=\"#000000\" fill-rule=\"evenodd\" fill-opacity=\"1\" /><path clip-path=\"url(#clip580)\" d=\"M 0 0 M112.057 499.162 L116.941 499.162 L116.941 505.041 L112.057 505.041 L112.057 499.162 Z\" fill=\"#000000\" fill-rule=\"evenodd\" fill-opacity=\"1\" /><path clip-path=\"url(#clip580)\" d=\"M 0 0 M120.83 470.481 L143.052 470.481 L143.052 472.472 L130.506 505.041 L125.621 505.041 L137.427 474.416 L120.83 474.416 L120.83 470.481 Z\" fill=\"#000000\" fill-rule=\"evenodd\" fill-opacity=\"1\" /><path clip-path=\"url(#clip580)\" d=\"M 0 0 M148.168 470.481 L166.524 470.481 L166.524 474.416 L152.45 474.416 L152.45 482.889 Q153.468 482.541 154.487 482.379 Q155.505 482.194 156.524 482.194 Q162.311 482.194 165.691 485.365 Q169.07 488.537 169.07 493.953 Q169.07 499.532 165.598 502.634 Q162.126 505.713 155.806 505.713 Q153.63 505.713 151.362 505.342 Q149.117 504.972 146.709 504.231 L146.709 499.532 Q148.793 500.666 151.015 501.222 Q153.237 501.777 155.714 501.777 Q159.718 501.777 162.056 499.671 Q164.394 497.564 164.394 493.953 Q164.394 490.342 162.056 488.236 Q159.718 486.129 155.714 486.129 Q153.839 486.129 151.964 486.546 Q150.112 486.963 148.168 487.842 L148.168 470.481 Z\" fill=\"#000000\" fill-rule=\"evenodd\" fill-opacity=\"1\" /><path clip-path=\"url(#clip580)\" d=\"M 0 0 M85.1818 271.267 L92.8206 271.267 L92.8206 244.901 L84.5105 246.568 L84.5105 242.308 L92.7743 240.642 L97.4502 240.642 L97.4502 271.267 L105.089 271.267 L105.089 275.202 L85.1818 275.202 L85.1818 271.267 Z\" fill=\"#000000\" fill-rule=\"evenodd\" fill-opacity=\"1\" /><path clip-path=\"url(#clip580)\" d=\"M 0 0 M110.158 269.322 L115.043 269.322 L115.043 275.202 L110.158 275.202 L110.158 269.322 Z\" fill=\"#000000\" fill-rule=\"evenodd\" fill-opacity=\"1\" /><path clip-path=\"url(#clip580)\" d=\"M 0 0 M130.112 243.72 Q126.501 243.72 124.672 247.285 Q122.867 250.827 122.867 257.956 Q122.867 265.063 124.672 268.628 Q126.501 272.169 130.112 272.169 Q133.746 272.169 135.552 268.628 Q137.381 265.063 137.381 257.956 Q137.381 250.827 135.552 247.285 Q133.746 243.72 130.112 243.72 M130.112 240.017 Q135.922 240.017 138.978 244.623 Q142.056 249.207 142.056 257.956 Q142.056 266.683 138.978 271.29 Q135.922 275.873 130.112 275.873 Q124.302 275.873 121.223 271.29 Q118.168 266.683 118.168 257.956 Q118.168 249.207 121.223 244.623 Q124.302 240.017 130.112 240.017 Z\" fill=\"#000000\" fill-rule=\"evenodd\" fill-opacity=\"1\" /><path clip-path=\"url(#clip580)\" d=\"M 0 0 M157.126 243.72 Q153.515 243.72 151.686 247.285 Q149.88 250.827 149.88 257.956 Q149.88 265.063 151.686 268.628 Q153.515 272.169 157.126 272.169 Q160.76 272.169 162.566 268.628 Q164.394 265.063 164.394 257.956 Q164.394 250.827 162.566 247.285 Q160.76 243.72 157.126 243.72 M157.126 240.017 Q162.936 240.017 165.992 244.623 Q169.07 249.207 169.07 257.956 Q169.07 266.683 165.992 271.29 Q162.936 275.873 157.126 275.873 Q151.316 275.873 148.237 271.29 Q145.181 266.683 145.181 257.956 Q145.181 249.207 148.237 244.623 Q151.316 240.017 157.126 240.017 Z\" fill=\"#000000\" fill-rule=\"evenodd\" fill-opacity=\"1\" /><polyline clip-path=\"url(#clip582)\" style=\"stroke:#009af9; stroke-width:4; stroke-opacity:1; fill:none\" points=\"\n",
       "  265.854,1311.26 267.882,1112.32 269.91,1198.31 271.938,1204.16 273.966,1229.17 275.994,1397.88 278.023,1109.46 280.051,1157.25 282.079,1260.49 284.107,1080.59 \n",
       "  286.135,1056.55 288.163,1013.09 290.192,1136.73 292.22,1183.89 294.248,1021.68 296.276,1101.53 298.304,1229.2 300.332,1071.25 302.36,1281.58 304.389,1133.13 \n",
       "  306.417,1235.58 308.445,1116.74 310.473,1261.44 312.501,1230.98 314.529,1138.18 316.557,1120.3 318.586,1318.66 320.614,1251.24 322.642,1127.75 324.67,1208.58 \n",
       "  326.698,1172.73 328.726,1220.33 330.754,1141.35 332.783,1192.05 334.811,1168.58 336.839,1251.93 338.867,1269.97 340.895,1233.08 342.923,1313.4 344.951,1183.26 \n",
       "  346.98,1345.72 349.008,1302.48 351.036,1217.93 353.064,1186.51 355.092,1171.25 357.12,1188.17 359.149,1273.38 361.177,1163.62 363.205,1210.35 365.233,1198.82 \n",
       "  367.261,1209.91 369.289,1204.53 371.317,1144.12 373.346,1148.82 375.374,1112.6 377.402,1076.15 379.43,1247.49 381.458,1191.21 383.486,1307.79 385.514,1367.86 \n",
       "  387.543,1323.35 389.571,1219.56 391.599,1062.08 393.627,1234.8 395.655,1093.42 397.683,1161.78 399.711,1190.69 401.74,1366.73 403.768,1246.11 405.796,1137.49 \n",
       "  407.824,1049.28 409.852,1176 411.88,1129.94 413.908,1180.38 415.937,1231.73 417.965,1123.87 419.993,1003.93 422.021,1161.18 424.049,1028.07 426.077,1094.45 \n",
       "  428.105,1227.14 430.134,1043.31 432.162,1356.82 434.19,1066.56 436.218,1101.61 438.246,1125.64 440.274,1153.92 442.303,1219.34 444.331,1015.09 446.359,1052.85 \n",
       "  448.387,1222.45 450.415,1146.71 452.443,1173.59 454.471,1160.04 456.5,1105.16 458.528,1235.2 460.556,1047.72 462.584,1125.49 464.612,1123.06 466.64,1196.9 \n",
       "  468.668,1266.46 470.697,1161.01 472.725,1389.01 474.753,1253.23 476.781,1109.06 478.809,1089.88 480.837,1225.39 482.865,1069.17 484.894,1092.95 486.922,1297.17 \n",
       "  488.95,928.78 490.978,1252.45 493.006,1172.81 495.034,1261.37 497.062,1090.08 499.091,1107.84 501.119,1244.8 503.147,1119.19 505.175,1161.19 507.203,1062.98 \n",
       "  509.231,1199.58 511.26,1131.23 513.288,1301.79 515.316,1163.38 517.344,1260.59 519.372,1315.55 521.4,1160.96 523.428,1275.73 525.457,1218.6 527.485,1253.76 \n",
       "  529.513,1244.96 531.541,1405.33 533.569,1111.56 535.597,1285.35 537.625,1209.87 539.654,1135.21 541.682,1170.06 543.71,1216.26 545.738,1043.47 547.766,1246.28 \n",
       "  549.794,1202.7 551.822,1047.8 553.851,1088.23 555.879,1170.33 557.907,1195.63 559.935,1176.43 561.963,1111.66 563.991,1127.98 566.019,1073.47 568.048,1172.35 \n",
       "  570.076,1215.34 572.104,1120.24 574.132,1328.63 576.16,1195.49 578.188,1281.1 580.216,1251.95 582.245,1189.16 584.273,1422.68 586.301,1212.31 588.329,1109.6 \n",
       "  590.357,1117.9 592.385,1033.68 594.414,1163.81 596.442,1197.13 598.47,1062.49 600.498,1121.84 602.526,1272.86 604.554,1154.84 606.582,1445.72 608.611,1167.25 \n",
       "  610.639,1124.94 612.667,1144.35 614.695,1301.35 616.723,1259.61 618.751,1251.73 620.779,1049.35 622.808,1263.23 624.836,1140.06 626.864,1239.25 628.892,1030.88 \n",
       "  630.92,1206.62 632.948,1420.7 634.976,1204.85 637.005,1142.02 639.033,1113.21 641.061,1064.54 643.089,1159.17 645.117,1092.57 647.145,1352.26 649.173,1050.16 \n",
       "  651.202,1244.07 653.23,1089.66 655.258,1236.95 657.286,1127.21 659.314,1216.3 661.342,1436.74 663.371,1332.39 665.399,1200.85 667.427,1156.6 669.455,1280.26 \n",
       "  671.483,1168.46 673.511,1255.6 675.539,1046.85 677.568,1169.64 679.596,1149.82 681.624,1225.98 683.652,1110.37 685.68,1131.6 687.708,1165.13 689.736,1184.86 \n",
       "  691.765,1237.36 693.793,1079.68 695.821,1199.62 697.849,1215.32 699.877,1264.57 701.905,1120.04 703.933,1136.86 705.962,1231.08 707.99,1160.99 710.018,1205.42 \n",
       "  712.046,1036.88 714.074,1241.46 716.102,1260.3 718.13,1035.18 720.159,1229.95 722.187,1072.94 724.215,1073.25 726.243,1299.72 728.271,1093.86 730.299,1167 \n",
       "  732.328,1173.81 734.356,1153.13 736.384,993.905 738.412,1281.6 740.44,1067.79 742.468,1330.74 744.496,1144.2 746.525,1189.55 748.553,1302.16 750.581,1173.13 \n",
       "  752.609,1317.34 754.637,1256.52 756.665,968.065 758.693,1213.06 760.722,1244.26 762.75,1121.22 764.778,1240.47 766.806,1014.94 768.834,980.051 770.862,1269.56 \n",
       "  772.89,1206.34 774.919,1132.58 776.947,1099.48 778.975,1252.38 781.003,1154.91 783.031,1267.01 785.059,1419.67 787.087,1057.79 789.116,1203.9 791.144,1238.23 \n",
       "  793.172,1195.7 795.2,1105.63 797.228,1179.24 799.256,1230.06 801.284,1086.27 803.313,1199.83 805.341,1138.83 807.369,1104.4 809.397,1218.68 811.425,1121.13 \n",
       "  813.453,1275.66 815.482,1244.05 817.51,1165.91 819.538,1147.61 821.566,1149.12 823.594,1206.3 825.622,1216.28 827.65,1209.92 829.679,1171.19 831.707,1119.48 \n",
       "  833.735,1236.52 835.763,1257.88 837.791,1163.91 839.819,1141.13 841.847,1191.02 843.876,979.856 845.904,1253.06 847.932,1070.27 849.96,1065.15 851.988,1192.59 \n",
       "  854.016,1188.62 856.044,1180.55 858.073,1140.62 860.101,1318.96 862.129,1152.96 864.157,1240.73 866.185,1082.53 868.213,1126.9 870.241,1252.09 872.27,1252.79 \n",
       "  874.298,1109.18 876.326,1199.86 878.354,1093.16 880.382,1275.45 882.41,1110.87 884.439,1092.22 886.467,1115.74 888.495,1193.49 890.523,1235.64 892.551,1188.84 \n",
       "  894.579,1073.47 896.607,1158.81 898.636,1073.45 900.664,1132.65 902.692,1143.71 904.72,1153.52 906.748,1328.66 908.776,1032.92 910.804,1083.08 912.833,1105.35 \n",
       "  914.861,1297.38 916.889,1341.72 918.917,1159.38 920.945,1028.04 922.973,1114.99 925.001,1222.89 927.03,1315.36 929.058,1203.96 931.086,1219.77 933.114,1269.85 \n",
       "  935.142,1200.38 937.17,1135.43 939.198,1146.43 941.227,1207.26 943.255,1257.42 945.283,1069.76 947.311,1155.91 949.339,1147.34 951.367,1133.39 953.395,1248.87 \n",
       "  955.424,1166.7 957.452,974.488 959.48,1108.53 961.508,1042.5 963.536,1033.44 965.564,1190.29 967.593,1100.56 969.621,995.585 971.649,1254.75 973.677,1272.26 \n",
       "  975.705,1218.38 977.733,1149.58 979.761,1156.93 981.79,1106.57 983.818,1388.74 985.846,1143.56 987.874,1287.04 989.902,1239.53 991.93,1034.32 993.958,1107.29 \n",
       "  995.987,1046.63 998.015,1129.97 1000.04,1110.32 1002.07,1170.41 1004.1,1299.34 1006.13,1119.23 1008.16,1117.43 1010.18,1023.43 1012.21,1165.58 1014.24,1066.55 \n",
       "  1016.27,1095.2 1018.3,1238.41 1020.32,1110 1022.35,1118.63 1024.38,1173.19 1026.41,1150.73 1028.44,1101.76 1030.47,1145.98 1032.49,979.291 1034.52,1253.78 \n",
       "  1036.55,1232.27 1038.58,1168.03 1040.61,1112.3 1042.63,1147.18 1044.66,1281.77 1046.69,1189.17 1048.72,1332.7 1050.75,1282.36 1052.77,1177.16 1054.8,1163.48 \n",
       "  1056.83,1392.69 1058.86,970.697 1060.89,1076.06 1062.92,1197.59 1064.94,1187.29 1066.97,1129.5 1069,1314.43 1071.03,1257.63 1073.06,1112.64 1075.08,1177.68 \n",
       "  1077.11,986.597 1079.14,1199.19 1081.17,1127.68 1083.2,1208.3 1085.23,1306.29 1087.25,1031.33 1089.28,1044.15 1091.31,1203.84 1093.34,1101.4 1095.37,1136.43 \n",
       "  1097.39,1076.78 1099.42,1099.24 1101.45,1089.1 1103.48,1099.14 1105.51,1156.29 1107.53,1234.39 1109.56,1066.02 1111.59,1127.31 1113.62,1324.35 1115.65,1169.31 \n",
       "  1117.68,1106.26 1119.7,1138.97 1121.73,1183.56 1123.76,1111.59 1125.79,1045.64 1127.82,1350.92 1129.84,961.95 1131.87,1197.34 1133.9,883.915 1135.93,1130.86 \n",
       "  1137.96,1121.97 1139.98,1178.32 1142.01,918.926 1144.04,1127.07 1146.07,1105.43 1148.1,911.61 1150.13,1116.78 1152.15,1147.68 1154.18,895.56 1156.21,977.792 \n",
       "  1158.24,932.631 1160.27,914.864 1162.29,799.073 1164.32,1010.47 1166.35,832.742 1168.38,1098.22 1170.41,819.502 1172.44,663.418 1174.46,922.712 1176.49,895.136 \n",
       "  1178.52,910.172 1180.55,929.968 1182.58,767.804 1184.6,778.792 1186.63,810.353 1188.66,820.736 1190.69,947.219 1192.72,523.222 1194.74,592.262 1196.77,761.336 \n",
       "  1198.8,696.519 1200.83,603.118 1202.86,535.077 1204.89,388.672 1206.91,632.694 1208.94,589.346 1210.97,572.347 1213,596.26 1215.03,364.039 1217.05,470.41 \n",
       "  1219.08,516.341 1221.11,476.129 1223.14,462.995 1225.17,437.358 1227.2,617.114 1229.22,421.971 1231.25,475.772 1233.28,418.686 1235.31,404.327 1237.34,428.467 \n",
       "  1239.36,262.437 1241.39,389.868 1243.42,323.929 1245.45,322.54 1247.48,230.652 1249.5,310.6 1251.53,204.253 1253.56,403.102 1255.59,469.506 1257.62,322.994 \n",
       "  1259.65,397.655 1261.67,137.585 1263.7,237.395 1265.73,276.431 1267.76,87.9763 1269.79,437.177 1271.81,346.232 1273.84,384.754 1275.87,248.761 1277.9,250.661 \n",
       "  1279.93,376.067 1281.96,252.843 1283.98,183.837 1286.01,168.483 1288.04,156.156 1290.07,379.568 1292.1,217.526 1294.12,234.223 1296.15,364.84 1298.18,475.952 \n",
       "  1300.21,318.218 1302.24,216.29 1304.26,374.461 1306.29,168.629 1308.32,184.869 1310.35,348.053 1312.38,272.899 1314.41,440.56 1316.43,478.603 1318.46,386.575 \n",
       "  1320.49,375.409 1322.52,183.44 1324.55,279.274 1326.57,573.322 1328.6,309.885 1330.63,602.571 1332.66,512.622 1334.69,543.096 1336.72,540.958 1338.74,631.021 \n",
       "  1340.77,653.669 1342.8,636.856 1344.83,451.983 1346.86,621.725 1348.88,494.563 1350.91,574.375 1352.94,682.492 1354.97,658.715 1357,693.876 1359.02,806.78 \n",
       "  1361.05,697.232 1363.08,728.713 1365.11,703.515 1367.14,748.04 1369.17,765.717 1371.19,837.491 1373.22,774.918 1375.25,785.189 1377.28,917.929 1379.31,797.089 \n",
       "  1381.33,857.065 1383.36,714.371 1385.39,777.215 1387.42,745.429 1389.45,840.121 1391.48,822.45 1393.5,840.929 1395.53,1105.17 1397.56,756.782 1399.59,810.8 \n",
       "  1401.62,904.86 1403.64,835.03 1405.67,1081.11 1407.7,923.024 1409.73,1105.43 1411.76,1028.29 1413.78,1023.95 1415.81,1043.73 1417.84,1052.02 1419.87,1014.88 \n",
       "  1421.9,1129.3 1423.93,1034.43 1425.95,887.077 1427.98,1133.51 1430.01,955.59 1432.04,1077.23 1434.07,1050.86 1436.09,1071.74 1438.12,1199.65 1440.15,1151.77 \n",
       "  1442.18,1145.6 1444.21,995.105 1446.24,1086.65 1448.26,1060.13 1450.29,989.982 1452.32,1177 1454.35,1138.12 1456.38,1183.76 1458.4,1085.18 1460.43,1190.98 \n",
       "  1462.46,1122.37 1464.49,1035.69 1466.52,1181.28 1468.54,1191.29 1470.57,1244.23 1472.6,1015.33 1474.63,1285.96 1476.66,1330.25 1478.69,1289.2 1480.71,1229.75 \n",
       "  1482.74,1206.61 1484.77,1215.17 1486.8,1120.18 1488.83,1104.86 1490.85,1198.52 1492.88,1213.26 1494.91,1000.4 1496.94,1034.73 1498.97,1064.96 1501,1319.73 \n",
       "  1503.02,1304.98 1505.05,1056.04 1507.08,1255.65 1509.11,1185.77 1511.14,1310.89 1513.16,1143.24 1515.19,1249.41 1517.22,1165.99 1519.25,1050.35 1521.28,1034.95 \n",
       "  1523.3,1084.12 1525.33,1241.89 1527.36,1251.51 1529.39,1310.8 1531.42,1194.4 1533.45,1227.36 1535.47,1166.03 1537.5,1287.49 1539.53,1169.77 1541.56,1226.66 \n",
       "  1543.59,1036.82 1545.61,1203.56 1547.64,1253.33 1549.67,1232.82 1551.7,994.748 1553.73,1067.83 1555.76,1170.77 1557.78,1170.65 1559.81,1180.23 1561.84,892.48 \n",
       "  1563.87,1081.63 1565.9,1062.15 1567.92,1243.09 1569.95,1158.48 1571.98,1050.32 1574.01,1108.28 1576.04,1220.28 1578.06,1304.33 1580.09,1164.26 1582.12,1185.55 \n",
       "  1584.15,1347.14 1586.18,1211.95 1588.21,1231.56 1590.23,1061.98 1592.26,1302.02 1594.29,1117.19 1596.32,1179.04 1598.35,1192.7 1600.37,1221.44 1602.4,1060.46 \n",
       "  1604.43,1156.4 1606.46,1195.18 1608.49,1233.25 1610.52,1237.41 1612.54,1139.4 1614.57,1305.7 1616.6,1285.16 1618.63,1165.23 1620.66,1068.88 1622.68,1275.4 \n",
       "  1624.71,1259.13 1626.74,1246.81 1628.77,1152.08 1630.8,1155.8 1632.82,1119.47 1634.85,1116.47 1636.88,1329.66 1638.91,1129.53 1640.94,1141.37 1642.97,1374.23 \n",
       "  1644.99,1210.37 1647.02,1253.16 1649.05,1032.39 1651.08,1018.86 1653.11,1155.92 1655.13,1127.68 1657.16,1232.77 1659.19,1141.2 1661.22,1050.13 1663.25,1095.89 \n",
       "  1665.28,1261.2 1667.3,1064 1669.33,1177.93 1671.36,1042.75 1673.39,1215.42 1675.42,1147.54 1677.44,983.95 1679.47,1245.23 1681.5,1250.9 1683.53,1349.31 \n",
       "  1685.56,1261.75 1687.58,1203 1689.61,1238.43 1691.64,1236.63 1693.67,1123.24 1695.7,1164.43 1697.73,1193.31 1699.75,1143.4 1701.78,1325.1 1703.81,1184.04 \n",
       "  1705.84,1235.76 1707.87,1265.4 1709.89,1275.85 1711.92,1245.34 1713.95,1101.08 1715.98,1283.89 1718.01,1210.43 1720.03,1150.21 1722.06,1001.25 1724.09,1196.7 \n",
       "  1726.12,1117.11 1728.15,1221.2 1730.18,1031.85 1732.2,1155.89 1734.23,1111.75 1736.26,1136.7 1738.29,958.447 1740.32,1111.05 1742.34,1046.72 1744.37,1039.15 \n",
       "  1746.4,1203.96 1748.43,1207.3 1750.46,1208.77 1752.49,1111.11 1754.51,1224.29 1756.54,1235.24 1758.57,1253.17 1760.6,1036.65 1762.63,1279.13 1764.65,1027.76 \n",
       "  1766.68,1184.52 1768.71,1159.53 1770.74,1288.1 1772.77,1106.35 1774.79,1257.15 1776.82,1321.6 1778.85,1253.75 1780.88,1100.37 1782.91,1192.03 1784.94,1215.82 \n",
       "  1786.96,1114.22 1788.99,1117.68 1791.02,1123.52 1793.05,1041.82 1795.08,1159.86 1797.1,1182.89 1799.13,1101.34 1801.16,1111.39 1803.19,1314.25 1805.22,1276.1 \n",
       "  1807.25,1097.32 1809.27,1113.82 1811.3,1224.8 1813.33,1184.79 1815.36,1156.56 1817.39,1228.52 1819.41,1163.49 1821.44,1107.01 1823.47,1246.23 1825.5,1241.66 \n",
       "  1827.53,1159.09 1829.55,1148.7 1831.58,1297.7 1833.61,1326.51 1835.64,1192.9 1837.67,1306.97 1839.7,1116.59 1841.72,1186.37 1843.75,1306.63 1845.78,1299.93 \n",
       "  1847.81,1310.26 1849.84,1349.99 1851.86,1339.59 1853.89,1095.64 1855.92,1145.81 1857.95,1162.73 1859.98,1216.67 1862.01,1198.58 1864.03,1187.56 1866.06,1201.8 \n",
       "  1868.09,1258.45 1870.12,1139.18 1872.15,1130.69 1874.17,1289.91 1876.2,1343.18 1878.23,1239.5 1880.26,1207.85 1882.29,1297.87 1884.31,1301.44 1886.34,1197.39 \n",
       "  1888.37,1278.14 1890.4,1347.53 1892.43,1186.28 1894.46,1082.33 1896.48,1182.89 1898.51,1219.87 1900.54,1282 1902.57,1112.25 1904.6,1209.28 1906.62,1243.86 \n",
       "  1908.65,1196.25 1910.68,1243.56 1912.71,1156.02 1914.74,1177.62 1916.77,1203.85 1918.79,1143.6 1920.82,1258.74 1922.85,1316.68 1924.88,1111.74 1926.91,1066.33 \n",
       "  1928.93,1213.15 1930.96,1403.19 1932.99,1352.65 1935.02,1114.57 1937.05,1245.55 1939.07,1076.35 1941.1,1136.68 1943.13,1194.88 1945.16,1302.32 1947.19,1264.26 \n",
       "  1949.22,1247.29 1951.24,1379.43 1953.27,1219.45 1955.3,1247.9 1957.33,1058.53 1959.36,1214.67 1961.38,1306.66 1963.41,973.162 1965.44,1224.72 1967.47,1115.58 \n",
       "  1969.5,1095.64 1971.53,1057.48 1973.55,1133.02 1975.58,1055.87 1977.61,1346.01 1979.64,1058.51 1981.67,1103.14 1983.69,1412.44 1985.72,1089.21 1987.75,1197.18 \n",
       "  1989.78,1120.09 1991.81,1259.66 1993.83,1274.46 1995.86,1242.53 1997.89,1135.07 1999.92,1180.2 2001.95,1182.12 2003.98,1105.41 2006,1147.66 2008.03,1023.62 \n",
       "  2010.06,1283.24 2012.09,1254.49 2014.12,1057.81 2016.14,1118.69 2018.17,1024.36 2020.2,1248.19 2022.23,1132.64 2024.26,1043.93 2026.29,1178.87 2028.31,1179.33 \n",
       "  2030.34,1060.21 2032.37,1195.95 2034.4,1074.2 2036.43,982.997 2038.45,1141.63 2040.48,1362.33 2042.51,1034.34 2044.54,1233.59 2046.57,1118.58 2048.59,1123.1 \n",
       "  2050.62,1236.88 2052.65,1265.94 2054.68,1119.96 2056.71,987.553 2058.74,1177.41 2060.76,1359.3 2062.79,1124.48 2064.82,1216.35 2066.85,1121.29 2068.88,1159.66 \n",
       "  2070.9,1200.29 2072.93,1199.41 2074.96,1248.92 2076.99,1331.8 2079.02,1021.77 2081.05,1209.5 2083.07,1203.15 2085.1,993.336 2087.13,1118.69 2089.16,1142.99 \n",
       "  2091.19,1184.93 2093.21,1127.17 2095.24,1068.76 2097.27,1093.83 2099.3,1110.17 2101.33,1096.64 2103.35,1136.23 2105.38,1237.14 2107.41,1063.61 2109.44,1350.82 \n",
       "  2111.47,1130.93 2113.5,1189 2115.52,1209.66 2117.55,1068.14 2119.58,1145.61 2121.61,1183.09 2123.64,1046.47 2125.66,1210.1 2127.69,1045.45 2129.72,1186.63 \n",
       "  2131.75,1171.9 2133.78,1040.83 2135.81,1381.24 2137.83,1146.2 2139.86,1016.28 2141.89,1195.25 2143.92,1178.94 2145.95,1290.87 2147.97,1146.29 2150,981.651 \n",
       "  2152.03,1204.54 2154.06,1197.57 2156.09,1009.34 2158.11,952.019 2160.14,1239.33 2162.17,1125.42 2164.2,1116.49 2166.23,1226.29 2168.26,1261.29 2170.28,1237.45 \n",
       "  2172.31,1188.24 2174.34,1237.07 2176.37,1161.72 2178.4,1233.18 2180.42,1117.34 2182.45,1162.93 2184.48,1127.13 2186.51,1171.78 2188.54,1254.44 2190.57,1009.35 \n",
       "  2192.59,1145.14 2194.62,1172.66 2196.65,1066.14 2198.68,1236.03 2200.71,1247.52 2202.73,1119.9 2204.76,1381.5 2206.79,1305.74 2208.82,1234.61 2210.85,1244.52 \n",
       "  2212.87,1182.1 2214.9,1023.18 2216.93,1009.31 2218.96,1070.65 2220.99,1112.06 2223.02,1166.13 2225.04,1148.74 2227.07,1258.57 2229.1,1248.5 2231.13,1102.48 \n",
       "  2233.16,1114.16 2235.18,1063.83 2237.21,1319.44 2239.24,1211.39 2241.27,1176.39 2243.3,1066.26 2245.32,1101.99 2247.35,1172.06 2249.38,1124.65 2251.41,1049.65 \n",
       "  2253.44,1208.01 2255.47,1229.54 2257.49,1276.79 2259.52,1246.93 2261.55,1202.18 2263.58,1023.43 2265.61,1070.3 2267.63,1173.58 2269.66,1231.56 2271.69,1258.37 \n",
       "  2273.72,1361.49 2275.75,1366.75 2277.78,1112.38 2279.8,1297.18 2281.83,1040.63 2283.86,1112.47 2285.89,1370.85 2287.92,1222.7 2289.94,1361.49 2291.97,967.999 \n",
       "  \n",
       "  \"/>\n",
       "<polyline clip-path=\"url(#clip582)\" style=\"stroke:#e26f46; stroke-width:4; stroke-opacity:1; fill:none\" points=\"\n",
       "  265.854,1242.18 267.882,1223.22 269.91,1214.98 271.938,1220.03 273.966,1206.09 275.994,1192.49 278.023,1165.39 280.051,1167.61 282.079,1166.3 284.107,1149.71 \n",
       "  286.135,1138.1 288.163,1122.77 290.192,1119.3 292.22,1130.6 294.248,1119.02 296.276,1133.11 298.304,1138.58 300.332,1161.16 302.36,1169.73 304.389,1165.57 \n",
       "  306.417,1174.54 308.445,1194.28 310.473,1196.28 312.501,1201.42 314.529,1194.78 316.557,1198.38 318.586,1196.99 320.614,1199.23 322.642,1192.92 324.67,1187.25 \n",
       "  326.698,1197.59 328.726,1211.2 330.754,1203.42 332.783,1209.07 334.811,1214.11 336.839,1226.58 338.867,1238.38 340.895,1238.16 342.923,1242.26 344.951,1240.37 \n",
       "  346.98,1242.15 349.008,1244.1 351.036,1234.44 353.064,1232.37 355.092,1221.95 357.12,1224.38 359.149,1211.54 361.177,1197.14 363.205,1190.86 365.233,1184.14 \n",
       "  367.261,1175.5 369.289,1180.89 371.317,1173.42 373.346,1186.53 375.374,1200.85 377.402,1212.17 379.43,1213.04 381.458,1200.09 383.486,1208.34 385.514,1203.3 \n",
       "  387.543,1207.77 389.571,1218.18 391.599,1229.02 393.627,1234.02 395.655,1218.53 397.683,1189.57 399.711,1176.18 401.74,1168.03 403.768,1178.78 405.796,1178.5 \n",
       "  407.824,1181.27 409.852,1166.92 411.88,1164.24 413.908,1133.45 415.937,1119.66 417.965,1127.81 419.993,1127.27 422.021,1143.71 424.049,1137.95 426.077,1130.79 \n",
       "  428.105,1121.14 430.134,1123.88 432.162,1143.46 434.19,1130.18 436.218,1132.43 438.246,1144.07 440.274,1136.75 442.303,1148.6 444.331,1130.71 446.359,1134.22 \n",
       "  448.387,1146.36 450.415,1139.28 452.443,1136.69 454.471,1127.94 456.5,1144.47 458.528,1163.89 460.556,1158.3 462.584,1180.33 464.612,1187.57 466.64,1182.94 \n",
       "  468.668,1181.55 470.697,1180.66 472.725,1182.61 474.753,1179.65 476.781,1195.47 478.809,1171.1 480.837,1169.83 482.865,1170.9 484.894,1159.3 486.922,1144.46 \n",
       "  488.95,1144.35 490.978,1158.44 493.006,1148.78 495.034,1157.15 497.062,1154.42 499.091,1145.55 501.119,1163.96 503.147,1168.44 505.175,1167.59 507.203,1167.51 \n",
       "  509.231,1188.01 511.26,1192.84 513.288,1195.65 515.316,1204.69 517.344,1213.1 519.372,1229.65 521.4,1248.35 523.428,1246.56 525.457,1245.07 527.485,1249.3 \n",
       "  529.513,1237.9 531.541,1224.67 533.569,1229.7 535.597,1208.58 537.625,1211.1 539.654,1206.46 541.682,1188.53 543.71,1159.71 545.738,1165.05 547.766,1156.89 \n",
       "  549.794,1153.85 551.822,1151.71 553.851,1147.89 555.879,1134.91 557.907,1146.62 559.935,1143.81 561.963,1136.31 563.991,1161.84 566.019,1171.6 568.048,1181.67 \n",
       "  570.076,1186.79 572.104,1187.94 574.132,1216.22 576.16,1223.89 578.188,1227.17 580.216,1222.22 582.245,1205.71 584.273,1209.67 586.301,1197.71 588.329,1185.62 \n",
       "  590.357,1171.14 592.385,1173.04 594.414,1169.92 596.442,1172.02 598.47,1167.92 600.498,1169.31 602.526,1171.72 604.554,1196.05 606.582,1204.76 608.611,1209.73 \n",
       "  610.639,1208.53 612.667,1221.38 614.695,1209.31 616.723,1216.99 618.751,1179.27 620.779,1182.85 622.808,1209.74 624.836,1215.24 626.864,1200.75 628.892,1187.44 \n",
       "  630.92,1170.43 632.948,1180.41 634.976,1164.9 637.005,1184.19 639.033,1167 641.061,1186.38 643.089,1175.75 645.117,1159.04 647.145,1151.98 649.173,1158.74 \n",
       "  651.202,1188.15 653.23,1212.5 655.258,1216.29 657.286,1222.11 659.314,1215.56 661.342,1226.32 663.371,1227.37 665.399,1223.48 667.427,1217.36 669.455,1219.41 \n",
       "  671.483,1220.29 673.511,1190.62 675.539,1172.37 677.568,1169.12 679.596,1171.69 681.624,1167.79 683.652,1159.72 685.68,1154.63 687.708,1169.94 689.736,1178.57 \n",
       "  691.765,1175.87 693.793,1167.77 695.821,1178.74 697.849,1181.41 699.877,1185.07 701.905,1171.62 703.933,1171.99 705.962,1188.41 707.99,1173.46 710.018,1174.79 \n",
       "  712.046,1157.37 714.074,1153.12 716.102,1167.93 718.13,1155.45 720.159,1156 722.187,1153.12 724.215,1163.69 726.243,1141.19 728.271,1143.12 730.299,1146.09 \n",
       "  732.328,1155.25 734.356,1161.73 736.384,1172.3 738.412,1172.52 740.44,1179.73 742.468,1193.4 744.496,1200.92 746.525,1184.09 748.553,1204.01 750.581,1200.62 \n",
       "  752.609,1205.48 754.637,1197.27 756.665,1185.52 758.693,1166.47 760.722,1163.51 762.75,1166.53 764.778,1149.73 766.806,1135.46 768.834,1161.3 770.862,1156.02 \n",
       "  772.89,1158.09 774.919,1185.22 776.947,1168.61 778.975,1185.79 781.003,1209.26 783.031,1202.54 785.059,1193.39 787.087,1197.63 789.116,1209.5 791.144,1194.4 \n",
       "  793.172,1198.48 795.2,1186.83 797.228,1158.17 799.256,1172.8 801.284,1165.27 803.313,1168.68 805.341,1173.07 807.369,1178.55 809.397,1175.68 811.425,1168.32 \n",
       "  813.453,1179.23 815.482,1180.73 817.51,1187.19 819.538,1193.26 821.566,1184.24 823.594,1194.73 825.622,1193.11 827.65,1185.83 829.679,1183.58 831.707,1187.52 \n",
       "  833.735,1172.13 835.763,1176.39 837.791,1163.11 839.819,1149.95 841.847,1151.9 843.876,1158.18 845.904,1153.09 847.932,1142.43 849.96,1156.53 851.988,1157.61 \n",
       "  854.016,1162.12 856.044,1171.46 858.073,1159.99 860.101,1176.52 862.129,1193.58 864.157,1185.99 866.185,1187.02 868.213,1179.07 870.241,1191.33 872.27,1172.41 \n",
       "  874.298,1166.89 876.326,1155.53 878.354,1165.61 880.382,1175.5 882.41,1169.75 884.439,1153.45 886.467,1157.96 888.495,1146.47 890.523,1150.06 892.551,1138.08 \n",
       "  894.579,1141.96 896.607,1163.45 898.636,1155.92 900.664,1145.89 902.692,1134.04 904.72,1143.91 906.748,1168.3 908.776,1168.35 910.804,1164.22 912.833,1162.61 \n",
       "  914.861,1169.81 916.889,1184.53 918.917,1173.19 920.945,1190.17 922.973,1207.15 925.001,1215.79 927.03,1201.07 929.058,1183.32 931.086,1187.67 933.114,1208.52 \n",
       "  935.142,1204.41 937.17,1198.32 939.198,1183.05 941.227,1176.63 943.255,1179.28 945.283,1169.9 947.311,1149.36 949.339,1146.92 951.367,1137.47 953.395,1121.67 \n",
       "  955.424,1115.56 957.452,1118.36 959.48,1103.79 961.508,1113.55 963.536,1126.18 965.564,1123.41 967.593,1121.85 969.621,1138.44 971.649,1138.26 973.677,1169.73 \n",
       "  975.705,1179.74 977.733,1188.54 979.761,1201.17 981.79,1204.7 983.818,1191.29 985.846,1170.78 987.874,1162.74 989.902,1159.17 991.93,1160.4 993.958,1177.92 \n",
       "  995.987,1153.42 998.015,1151.05 1000.04,1127.08 1002.07,1120.36 1004.1,1123.29 1006.13,1122.19 1008.16,1139.62 1010.18,1137.81 1012.21,1138.56 1014.24,1138.82 \n",
       "  1016.27,1125.31 1018.3,1123.72 1020.32,1126.32 1022.35,1122.3 1024.38,1130.32 1026.41,1145.39 1028.44,1152.01 1030.47,1140.54 1032.49,1143.92 1034.52,1158.75 \n",
       "  1036.55,1160.21 1038.58,1176.75 1040.61,1193.17 1042.63,1196 1044.66,1212.74 1046.69,1225.37 1048.72,1201.59 1050.75,1193.23 1052.77,1200.99 1054.8,1204.63 \n",
       "  1056.83,1190.79 1058.86,1202.18 1060.89,1195.35 1062.92,1179.92 1064.94,1179.97 1066.97,1163.89 1069,1146.3 1071.03,1160.57 1073.06,1172.59 1075.08,1182.47 \n",
       "  1077.11,1168.3 1079.14,1160.54 1081.17,1150.48 1083.2,1136.28 1085.23,1138.44 1087.25,1129.27 1089.28,1139.51 1091.31,1129.5 1093.34,1126.91 1095.37,1122.18 \n",
       "  1097.39,1115.64 1099.42,1118.8 1101.45,1126.36 1103.48,1137.31 1105.51,1143.49 1107.53,1140.75 1109.56,1146.4 1111.59,1154.06 1113.62,1156.11 1115.65,1151.25 \n",
       "  1117.68,1168.94 1119.7,1144.17 1121.73,1156.11 1123.76,1133.98 1125.79,1116.39 1127.82,1112.09 1129.84,1118.64 1131.87,1098.64 1133.9,1093.5 1135.93,1092.94 \n",
       "  1137.96,1080.75 1139.98,1059.47 1142.01,1076.35 1144.04,1048.92 1146.07,1057.45 1148.1,1039.43 1150.13,1020.61 1152.15,986.128 1154.18,994.451 1156.21,967.694 \n",
       "  1158.24,967.038 1160.27,958.665 1162.29,917.45 1164.32,896.999 1166.35,896.96 1168.38,890.813 1170.41,890.571 1172.44,877.202 1174.46,875.358 1176.49,857.165 \n",
       "  1178.52,856.074 1180.55,842.347 1182.58,815.412 1184.6,808.943 1186.63,794.273 1188.66,776.217 1190.69,748.303 1192.72,712.403 1194.74,677.937 1196.77,664.655 \n",
       "  1198.8,644.564 1200.83,621.983 1202.86,590.078 1204.89,575.606 1206.91,564.529 1208.94,542.257 1210.97,522.221 1213,509.483 1215.03,500.599 1217.05,521.367 \n",
       "  1219.08,502.21 1221.11,491.885 1223.14,477.916 1225.17,460.467 1227.2,466.325 1229.22,447.418 1231.25,435.92 1233.28,422.084 1235.31,409.315 1237.34,390.524 \n",
       "  1239.36,362.659 1241.39,342.867 1243.42,336.26 1245.45,340.88 1247.48,333.486 1249.5,330.685 1251.53,319.335 1253.56,305.474 1255.59,301.156 1257.62,279.832 \n",
       "  1259.65,298.607 1261.67,301.846 1263.7,318.255 1265.73,304.224 1267.76,284.329 1269.79,289.154 1271.81,275.989 1273.84,280.194 1275.87,273.929 1277.9,262.995 \n",
       "  1279.93,289.503 1281.96,269.535 1283.98,259.353 1286.01,257.542 1288.04,278.196 1290.07,284.338 1292.1,269.812 1294.12,280.869 1296.15,279.486 1298.18,280.976 \n",
       "  1300.21,298.421 1302.24,288.724 1304.26,308.999 1306.29,331.216 1308.32,333.192 1310.35,324.051 1312.38,311.799 1314.41,317.525 1316.43,335.603 1318.46,348.444 \n",
       "  1320.49,386.417 1322.52,401.378 1324.55,425.942 1326.57,435.069 1328.6,448.925 1330.63,473.206 1332.66,496.974 1334.69,521.387 1336.72,552.519 1338.74,545.359 \n",
       "  1340.77,569.404 1342.8,576.669 1344.83,589.95 1346.86,603.657 1348.88,627.823 1350.91,633.842 1352.94,640.665 1354.97,646.725 1357,673.639 1359.02,686.729 \n",
       "  1361.05,717.904 1363.08,736.135 1365.11,745.471 1367.14,769.036 1369.17,778.419 1371.19,782.991 1373.22,784.549 1375.25,788.958 1377.28,792.768 1379.31,801.139 \n",
       "  1381.33,806.297 1383.36,806.609 1385.39,836.632 1387.42,834.05 1389.45,824.311 1391.48,834.108 1393.5,832.105 1395.53,865.445 1397.56,878.7 1399.59,911.428 \n",
       "  1401.62,928.535 1403.64,946.853 1405.67,965.289 1407.7,960.457 1409.73,983.921 1411.76,1012.88 1413.78,1024.65 1415.81,1029.39 1417.84,1034.15 1419.87,1037.11 \n",
       "  1421.9,1034.55 1423.93,1036.6 1425.95,1040.94 1427.98,1055.12 1430.01,1064.18 1432.04,1076.07 1434.07,1063.87 1436.09,1068.62 1438.12,1084.35 1440.15,1071.3 \n",
       "  1442.18,1091.43 1444.21,1096.96 1446.24,1109.04 1448.26,1110.27 1450.29,1109.48 1452.32,1106.81 1454.35,1096.81 1456.38,1113.74 1458.4,1123.25 1460.43,1139.99 \n",
       "  1462.46,1142.29 1464.49,1152.2 1466.52,1169.67 1468.54,1179.25 1470.57,1192.39 1472.6,1193.82 1474.63,1202.25 1476.66,1209.93 1478.69,1202.98 1480.71,1203.64 \n",
       "  1482.74,1200.83 1484.77,1199.47 1486.8,1176.63 1488.83,1152.51 1490.85,1155.29 1492.88,1162.13 1494.91,1148.44 1496.94,1152.12 1498.97,1158.08 1501,1176.81 \n",
       "  1503.02,1171.79 1505.05,1175.07 1507.08,1190.13 1509.11,1191.55 1511.14,1188.82 1513.16,1167.4 1515.19,1161.66 1517.22,1179.43 1519.25,1184.45 1521.28,1185.23 \n",
       "  1523.3,1177.64 1525.33,1179.71 1527.36,1183.17 1529.39,1183.52 1531.42,1199.54 1533.45,1199.71 1535.47,1210.57 1537.5,1211.61 1539.53,1209.91 1541.56,1181.18 \n",
       "  1543.59,1169.67 1545.61,1164.53 1547.64,1164.95 1549.67,1155.2 1551.7,1129.99 1553.73,1116.81 1555.76,1119.11 1557.78,1122.7 1559.81,1114.08 1561.84,1097.49 \n",
       "  1563.87,1107.81 1565.9,1121.67 1567.92,1133.81 1569.95,1133.23 1571.98,1133.71 1574.01,1175.05 1576.04,1186.89 1578.06,1202.29 1580.09,1185.83 1582.12,1198.88 \n",
       "  1584.15,1204.96 1586.18,1211.39 1588.21,1208.88 1590.23,1201.35 1592.26,1191.91 1594.29,1189.26 1596.32,1175.45 1598.35,1177.38 1600.37,1177.91 1602.4,1184.95 \n",
       "  1604.43,1185.29 1606.46,1200.56 1608.49,1199.3 1610.52,1188.05 1612.54,1192.95 1614.57,1211.01 1616.6,1219.23 1618.63,1215.31 1620.66,1208.27 1622.68,1197.55 \n",
       "  1624.71,1195.47 1626.74,1197.64 1628.77,1183.5 1630.8,1181.33 1632.82,1209.09 1634.85,1203.18 1636.88,1202.63 1638.91,1183.14 1640.94,1171.03 1642.97,1171.04 \n",
       "  1644.99,1171.79 1647.02,1182.36 1649.05,1165.23 1651.08,1158.01 1653.11,1153.87 1655.13,1143.6 1657.16,1130.29 1659.19,1123.45 1661.22,1124.39 1663.25,1142.26 \n",
       "  1665.28,1141.5 1667.3,1128.43 1669.33,1129.57 1671.36,1139.54 1673.39,1166.74 1675.42,1181.82 1677.44,1176.53 1679.47,1192.38 1681.5,1197.72 1683.53,1205.04 \n",
       "  1685.56,1200.4 1687.58,1204.56 1689.61,1219.06 1691.64,1226.32 1693.67,1220.24 1695.7,1209.92 1697.73,1210.25 1699.75,1216.87 1701.78,1217.5 1703.81,1205.18 \n",
       "  1705.84,1219.78 1707.87,1223.96 1709.89,1220.04 1711.92,1207.12 1713.95,1195.45 1715.98,1189.36 1718.01,1188.04 1720.03,1166.81 1722.06,1155.9 1724.09,1143.76 \n",
       "  1726.12,1147 1728.15,1117.41 1730.18,1108.38 1732.2,1098.97 1734.23,1102.41 1736.26,1103.07 1738.29,1111.27 1740.32,1110.14 1742.34,1117.35 1744.37,1123.57 \n",
       "  1746.4,1134.79 1748.43,1145.38 1750.46,1152.49 1752.49,1167.77 1754.51,1166.05 1756.54,1179.26 1758.57,1175.23 1760.6,1182.57 1762.63,1173.26 1764.65,1186.54 \n",
       "  1766.68,1195.38 1768.71,1197.07 1770.74,1183.17 1772.77,1197.3 1774.79,1191.54 1776.82,1199.4 1778.85,1193.33 1780.88,1190.05 1782.91,1167.66 1784.94,1172.53 \n",
       "  1786.96,1165.78 1788.99,1145.75 1791.02,1132.81 1793.05,1152.26 1795.08,1159.9 1797.1,1149.13 1799.13,1149.09 1801.16,1158.83 1803.19,1164.4 1805.22,1174.83 \n",
       "  1807.25,1181.07 1809.27,1179.31 1811.3,1179.82 1813.33,1192.08 1815.36,1185.48 1817.39,1174.84 1819.41,1179.51 1821.44,1196.23 1823.47,1205.48 1825.5,1206.22 \n",
       "  1827.53,1219.89 1829.55,1209.71 1831.58,1211.79 1833.61,1229.94 1835.64,1234.82 1837.67,1241.06 1839.7,1258.41 1841.72,1275.77 1843.75,1257.4 1845.78,1240.97 \n",
       "  1847.81,1238.23 1849.84,1230.02 1851.86,1237.47 1853.89,1237.58 1855.92,1228.05 1857.95,1224.28 1859.98,1208.73 1862.01,1188.79 1864.03,1184.27 1866.06,1206.78 \n",
       "  1868.09,1215.3 1870.12,1219.4 1872.15,1226.78 1874.17,1236.13 1876.2,1237.02 1878.23,1243.96 1880.26,1252.06 1882.29,1256.34 1884.31,1251.95 1886.34,1242.22 \n",
       "  1888.37,1231.01 1890.4,1234.87 1892.43,1226.18 1894.46,1218.13 1896.48,1212.89 1898.51,1212.79 1900.54,1209.65 1902.57,1192.24 1904.6,1191.45 1906.62,1202.5 \n",
       "  1908.65,1198.93 1910.68,1202.46 1912.71,1205.61 1914.74,1205.56 1916.77,1192.57 1918.79,1189.78 1920.82,1208.59 1922.85,1218.51 1924.88,1214.74 1926.91,1220.91 \n",
       "  1928.93,1209.32 1930.96,1208.69 1932.99,1202.89 1935.02,1201.58 1937.05,1215.45 1939.07,1231.9 1941.1,1247.02 1943.13,1230.31 1945.16,1220.79 1947.19,1215.69 \n",
       "  1949.22,1212.89 1951.24,1233.82 1953.27,1218.96 1955.3,1221.67 1957.33,1204.7 1959.36,1189.37 1961.38,1172.11 1963.41,1149.71 1965.44,1134.84 1967.47,1143.76 \n",
       "  1969.5,1143.76 1971.53,1133.62 1973.55,1143.23 1975.58,1153.78 1977.61,1151.28 1979.64,1151.69 1981.67,1166.6 1983.69,1186.33 1985.72,1196.28 1987.75,1203.48 \n",
       "  1989.78,1188.41 1991.81,1199.64 1993.83,1199.85 1995.86,1175.78 1997.89,1169.82 1999.92,1177.64 2001.95,1189.86 2003.98,1171.51 2006,1157.35 2008.03,1137.51 \n",
       "  2010.06,1147.8 2012.09,1143.48 2014.12,1130.91 2016.14,1137.59 2018.17,1140.47 2020.2,1143.8 2022.23,1135.86 2024.26,1119.47 2026.29,1112.67 2028.31,1114.76 \n",
       "  2030.34,1145.48 2032.37,1126.04 2034.4,1135.22 2036.43,1142 2038.45,1136.93 2040.48,1142.16 2042.51,1160.87 2044.54,1153.96 2046.57,1146.08 2048.59,1163.75 \n",
       "  2050.62,1183.54 2052.65,1161.92 2054.68,1178.47 2056.71,1168.26 2058.74,1171.99 2060.76,1179.01 2062.79,1175.6 2064.82,1174.06 2066.85,1193.31 2068.88,1196.43 \n",
       "  2070.9,1199.34 2072.93,1185.15 2074.96,1173.23 2076.99,1164.35 2079.02,1166.32 2081.05,1168.62 2083.07,1161.97 2085.1,1150.09 2087.13,1135.99 2089.16,1115.84 \n",
       "  2091.19,1122.65 2093.21,1115.99 2095.24,1119.08 2097.27,1125.47 2099.3,1146.57 2101.33,1145.47 2103.35,1145.84 2105.38,1153.34 2107.41,1153.29 2109.44,1158 \n",
       "  2111.47,1164.62 2113.5,1160.06 2115.52,1166.78 2117.55,1149.35 2119.58,1160.54 2121.61,1144.27 2123.64,1136.08 2125.66,1153.56 2127.69,1147.79 2129.72,1143.07 \n",
       "  2131.75,1147.59 2133.78,1147.21 2135.81,1169.43 2137.83,1163.63 2139.86,1157.83 2141.89,1159.45 2143.92,1161.79 2145.95,1158.92 2147.97,1119.9 2150,1128.37 \n",
       "  2152.03,1138.29 2154.06,1131.13 2156.09,1135.44 2158.11,1132.75 2160.14,1141.03 2162.17,1159.82 2164.2,1162.77 2166.23,1159.51 2168.26,1179.86 2170.28,1194.89 \n",
       "  2172.31,1187.95 2174.34,1188.1 2176.37,1193.13 2178.4,1195.69 2180.42,1172.79 2182.45,1164.39 2184.48,1162.98 2186.51,1147.44 2188.54,1154.19 2190.57,1155.5 \n",
       "  2192.59,1155.73 2194.62,1175.6 2196.65,1191.84 2198.68,1197.55 2200.71,1196.65 2202.73,1212.35 2204.76,1201.26 2206.79,1186.41 2208.82,1186.82 2210.85,1175.55 \n",
       "  2212.87,1168.16 2214.9,1170.78 2216.93,1159.6 2218.96,1154.4 2220.99,1142.39 2223.02,1130.53 2225.04,1119.78 2227.07,1146.72 2229.1,1165.09 2231.13,1174.7 \n",
       "  2233.16,1170.54 2235.18,1164.7 2237.21,1166.82 2239.24,1154.65 2241.27,1136.57 2243.3,1146.17 2245.32,1156.66 2247.35,1176.02 2249.38,1169.42 2251.41,1168.59 \n",
       "  2253.44,1154.68 2255.47,1155.05 2257.49,1161.56 2259.52,1166.97 2261.55,1179.12 2263.58,1207.47 2265.61,1221.9 2267.63,1211.25 2269.66,1213.1 2271.69,1194.35 \n",
       "  2273.72,1186.19 2275.75,1217.78 2277.78,1231.63 2279.8,1248.72 2281.83,1224.76 2283.86,1221.39 2285.89,1205.83 2287.92,1185.71 2289.94,1196.19 2291.97,1179.36 \n",
       "  \n",
       "  \"/>\n",
       "<path clip-path=\"url(#clip580)\" d=\"\n",
       "M1991.52 276.658 L2281.17 276.658 L2281.17 95.2176 L1991.52 95.2176  Z\n",
       "  \" fill=\"#ffffff\" fill-rule=\"evenodd\" fill-opacity=\"1\"/>\n",
       "<polyline clip-path=\"url(#clip580)\" style=\"stroke:#000000; stroke-width:4; stroke-opacity:1; fill:none\" points=\"\n",
       "  1991.52,276.658 2281.17,276.658 2281.17,95.2176 1991.52,95.2176 1991.52,276.658 \n",
       "  \"/>\n",
       "<polyline clip-path=\"url(#clip580)\" style=\"stroke:#009af9; stroke-width:4; stroke-opacity:1; fill:none\" points=\"\n",
       "  2015.38,155.698 2158.56,155.698 \n",
       "  \"/>\n",
       "<path clip-path=\"url(#clip580)\" d=\"M 0 0 M2196.26 175.385 Q2194.46 180.015 2192.75 181.427 Q2191.03 182.839 2188.16 182.839 L2184.76 182.839 L2184.76 179.274 L2187.26 179.274 Q2189.02 179.274 2189.99 178.44 Q2190.96 177.607 2192.14 174.505 L2192.91 172.561 L2182.42 147.052 L2186.94 147.052 L2195.04 167.329 L2203.14 147.052 L2207.65 147.052 L2196.26 175.385 Z\" fill=\"#000000\" fill-rule=\"evenodd\" fill-opacity=\"1\" /><path clip-path=\"url(#clip580)\" d=\"M 0 0 M2213.53 169.042 L2221.17 169.042 L2221.17 142.677 L2212.86 144.343 L2212.86 140.084 L2221.13 138.418 L2225.8 138.418 L2225.8 169.042 L2233.44 169.042 L2233.44 172.978 L2213.53 172.978 L2213.53 169.042 Z\" fill=\"#000000\" fill-rule=\"evenodd\" fill-opacity=\"1\" /><polyline clip-path=\"url(#clip580)\" style=\"stroke:#e26f46; stroke-width:4; stroke-opacity:1; fill:none\" points=\"\n",
       "  2015.38,216.178 2158.56,216.178 \n",
       "  \"/>\n",
       "<path clip-path=\"url(#clip580)\" d=\"M 0 0 M2196.26 235.865 Q2194.46 240.495 2192.75 241.907 Q2191.03 243.319 2188.16 243.319 L2184.76 243.319 L2184.76 239.754 L2187.26 239.754 Q2189.02 239.754 2189.99 238.92 Q2190.96 238.087 2192.14 234.985 L2192.91 233.041 L2182.42 207.532 L2186.94 207.532 L2195.04 227.809 L2203.14 207.532 L2207.65 207.532 L2196.26 235.865 Z\" fill=\"#000000\" fill-rule=\"evenodd\" fill-opacity=\"1\" /><path clip-path=\"url(#clip580)\" d=\"M 0 0 M2216.75 229.522 L2233.07 229.522 L2233.07 233.458 L2211.13 233.458 L2211.13 229.522 Q2213.79 226.768 2218.37 222.138 Q2222.98 217.485 2224.16 216.143 Q2226.4 213.62 2227.28 211.884 Q2228.19 210.124 2228.19 208.435 Q2228.19 205.68 2226.24 203.944 Q2224.32 202.208 2221.22 202.208 Q2219.02 202.208 2216.57 202.972 Q2214.13 203.735 2211.36 205.286 L2211.36 200.564 Q2214.18 199.43 2216.63 198.851 Q2219.09 198.273 2221.13 198.273 Q2226.5 198.273 2229.69 200.958 Q2232.88 203.643 2232.88 208.134 Q2232.88 210.263 2232.07 212.185 Q2231.29 214.083 2229.18 216.675 Q2228.6 217.347 2225.5 220.564 Q2222.4 223.759 2216.75 229.522 Z\" fill=\"#000000\" fill-rule=\"evenodd\" fill-opacity=\"1\" /></svg>\n"
      ]
     },
     "execution_count": 10,
     "metadata": {},
     "output_type": "execute_result"
    }
   ],
   "source": [
    "let xs = range(-10, 10, length=1000)\n",
    "    ys = @. exp(-xs^2) + randn()/10\n",
    "    plot(xs, ys)\n",
    "    plot!(xs, rolling_average(ys))\n",
    "end"
   ]
  },
  {
   "cell_type": "code",
   "execution_count": 11,
   "metadata": {},
   "outputs": [
    {
     "data": {
      "text/html": [
       "<table class=\"data-frame\"><thead><tr><th></th><th>data</th><th>sma_rf</th><th>sma_sk</th><th>sma_tullio</th><th>sma_simd</th><th>sma_tx</th></tr><tr><th></th><th>Float64</th><th>Float64</th><th>Float64</th><th>Float64?</th><th>Float64?</th><th>Float64</th></tr></thead><tbody><p>100,000,000 rows × 6 columns</p><tr><th>1</th><td>-0.513138</td><td>-0.513138</td><td>-0.513138</td><td><em>missing</em></td><td><em>missing</em></td><td>0.0538533</td></tr><tr><th>2</th><td>-0.201272</td><td>-0.357205</td><td>-0.357205</td><td><em>missing</em></td><td><em>missing</em></td><td>-0.0509144</td></tr><tr><th>3</th><td>-0.0298583</td><td>-0.248089</td><td>-0.248089</td><td><em>missing</em></td><td><em>missing</em></td><td>-0.176198</td></tr><tr><th>4</th><td>2.10579</td><td>0.340381</td><td>0.340381</td><td><em>missing</em></td><td><em>missing</em></td><td>-0.0971262</td></tr><tr><th>5</th><td>0.112803</td><td>0.294865</td><td>0.294865</td><td><em>missing</em></td><td><em>missing</em></td><td>-0.118687</td></tr><tr><th>6</th><td>0.308425</td><td>0.297125</td><td>0.297125</td><td><em>missing</em></td><td><em>missing</em></td><td>-0.259856</td></tr><tr><th>7</th><td>-0.503107</td><td>0.182807</td><td>0.182807</td><td><em>missing</em></td><td><em>missing</em></td><td>-0.366361</td></tr><tr><th>8</th><td>0.249407</td><td>0.191132</td><td>0.191132</td><td><em>missing</em></td><td><em>missing</em></td><td>-0.3869</td></tr><tr><th>9</th><td>-1.04437</td><td>0.0538533</td><td>0.0538533</td><td><em>missing</em></td><td><em>missing</em></td><td>-0.246777</td></tr><tr><th>10</th><td>-0.993823</td><td>-0.0509144</td><td>-0.0509144</td><td><em>missing</em></td><td><em>missing</em></td><td>-0.354819</td></tr><tr><th>11</th><td>-1.42903</td><td>-0.176198</td><td>-0.176198</td><td><em>missing</em></td><td><em>missing</em></td><td>-0.342078</td></tr><tr><th>12</th><td>0.772659</td><td>-0.0971262</td><td>-0.0971262</td><td><em>missing</em></td><td><em>missing</em></td><td>-0.490888</td></tr><tr><th>13</th><td>-0.377418</td><td>-0.118687</td><td>-0.118687</td><td><em>missing</em></td><td><em>missing</em></td><td>-0.540601</td></tr><tr><th>14</th><td>-2.09506</td><td>-0.259856</td><td>-0.259856</td><td><em>missing</em></td><td><em>missing</em></td><td>-0.67847</td></tr><tr><th>15</th><td>-1.85742</td><td>-0.366361</td><td>-0.366361</td><td>-0.366361</td><td>-0.366361</td><td>-0.718005</td></tr><tr><th>16</th><td>-0.694995</td><td>-0.378484</td><td>-0.378484</td><td>-0.378484</td><td>-0.378484</td><td>-0.757456</td></tr><tr><th>17</th><td>1.72883</td><td>-0.249811</td><td>-0.249811</td><td>-0.249811</td><td>-0.249811</td><td>-0.699687</td></tr><tr><th>18</th><td>-1.92994</td><td>-0.376483</td><td>-0.376483</td><td>-0.376483</td><td>-0.376483</td><td>-0.685019</td></tr><tr><th>19</th><td>0.174006</td><td>-0.505269</td><td>-0.505269</td><td>-0.505269</td><td>-0.505269</td><td>-0.657209</td></tr><tr><th>20</th><td>-0.275175</td><td>-0.531134</td><td>-0.531134</td><td>-0.531134</td><td>-0.531134</td><td>-0.731258</td></tr><tr><th>&vellip;</th><td>&vellip;</td><td>&vellip;</td><td>&vellip;</td><td>&vellip;</td><td>&vellip;</td><td>&vellip;</td></tr></tbody></table>"
      ],
      "text/latex": [
       "\\begin{tabular}{r|cccccc}\n",
       "\t& data & sma\\_rf & sma\\_sk & sma\\_tullio & sma\\_simd & sma\\_tx\\\\\n",
       "\t\\hline\n",
       "\t& Float64 & Float64 & Float64 & Float64? & Float64? & Float64\\\\\n",
       "\t\\hline\n",
       "\t1 & -0.513138 & -0.513138 & -0.513138 & \\emph{missing} & \\emph{missing} & 0.0538533 \\\\\n",
       "\t2 & -0.201272 & -0.357205 & -0.357205 & \\emph{missing} & \\emph{missing} & -0.0509144 \\\\\n",
       "\t3 & -0.0298583 & -0.248089 & -0.248089 & \\emph{missing} & \\emph{missing} & -0.176198 \\\\\n",
       "\t4 & 2.10579 & 0.340381 & 0.340381 & \\emph{missing} & \\emph{missing} & -0.0971262 \\\\\n",
       "\t5 & 0.112803 & 0.294865 & 0.294865 & \\emph{missing} & \\emph{missing} & -0.118687 \\\\\n",
       "\t6 & 0.308425 & 0.297125 & 0.297125 & \\emph{missing} & \\emph{missing} & -0.259856 \\\\\n",
       "\t7 & -0.503107 & 0.182807 & 0.182807 & \\emph{missing} & \\emph{missing} & -0.366361 \\\\\n",
       "\t8 & 0.249407 & 0.191132 & 0.191132 & \\emph{missing} & \\emph{missing} & -0.3869 \\\\\n",
       "\t9 & -1.04437 & 0.0538533 & 0.0538533 & \\emph{missing} & \\emph{missing} & -0.246777 \\\\\n",
       "\t10 & -0.993823 & -0.0509144 & -0.0509144 & \\emph{missing} & \\emph{missing} & -0.354819 \\\\\n",
       "\t11 & -1.42903 & -0.176198 & -0.176198 & \\emph{missing} & \\emph{missing} & -0.342078 \\\\\n",
       "\t12 & 0.772659 & -0.0971262 & -0.0971262 & \\emph{missing} & \\emph{missing} & -0.490888 \\\\\n",
       "\t13 & -0.377418 & -0.118687 & -0.118687 & \\emph{missing} & \\emph{missing} & -0.540601 \\\\\n",
       "\t14 & -2.09506 & -0.259856 & -0.259856 & \\emph{missing} & \\emph{missing} & -0.67847 \\\\\n",
       "\t15 & -1.85742 & -0.366361 & -0.366361 & -0.366361 & -0.366361 & -0.718005 \\\\\n",
       "\t16 & -0.694995 & -0.378484 & -0.378484 & -0.378484 & -0.378484 & -0.757456 \\\\\n",
       "\t17 & 1.72883 & -0.249811 & -0.249811 & -0.249811 & -0.249811 & -0.699687 \\\\\n",
       "\t18 & -1.92994 & -0.376483 & -0.376483 & -0.376483 & -0.376483 & -0.685019 \\\\\n",
       "\t19 & 0.174006 & -0.505269 & -0.505269 & -0.505269 & -0.505269 & -0.657209 \\\\\n",
       "\t20 & -0.275175 & -0.531134 & -0.531134 & -0.531134 & -0.531134 & -0.731258 \\\\\n",
       "\t$\\dots$ & $\\dots$ & $\\dots$ & $\\dots$ & $\\dots$ & $\\dots$ & $\\dots$ \\\\\n",
       "\\end{tabular}\n"
      ],
      "text/plain": [
       "\u001b[1m100000000×6 DataFrame\u001b[0m\n",
       "\u001b[1m       Row \u001b[0m│\u001b[1m data       \u001b[0m\u001b[1m sma_rf      \u001b[0m\u001b[1m sma_sk      \u001b[0m\u001b[1m sma_tullio       \u001b[0m\u001b[1m sma_simd         \u001b[0m\u001b[1m sma_tx     \u001b[0m\n",
       "\u001b[1m           \u001b[0m│\u001b[90m Float64    \u001b[0m\u001b[90m Float64     \u001b[0m\u001b[90m Float64     \u001b[0m\u001b[90m Float64?         \u001b[0m\u001b[90m Float64?         \u001b[0m\u001b[90m Float64    \u001b[0m\n",
       "───────────┼──────────────────────────────────────────────────────────────────────────────────────\n",
       "         1 │ -0.513138   -0.513138    -0.513138   \u001b[90m missing          \u001b[0m\u001b[90m missing          \u001b[0m  0.0538533\n",
       "         2 │ -0.201272   -0.357205    -0.357205   \u001b[90m missing          \u001b[0m\u001b[90m missing          \u001b[0m -0.0509144\n",
       "         3 │ -0.0298583  -0.248089    -0.248089   \u001b[90m missing          \u001b[0m\u001b[90m missing          \u001b[0m -0.176198\n",
       "         4 │  2.10579     0.340381     0.340381   \u001b[90m missing          \u001b[0m\u001b[90m missing          \u001b[0m -0.0971262\n",
       "         5 │  0.112803    0.294865     0.294865   \u001b[90m missing          \u001b[0m\u001b[90m missing          \u001b[0m -0.118687\n",
       "         6 │  0.308425    0.297125     0.297125   \u001b[90m missing          \u001b[0m\u001b[90m missing          \u001b[0m -0.259856\n",
       "     ⋮     │     ⋮            ⋮            ⋮              ⋮                 ⋮              ⋮\n",
       "  99999996 │ -0.988246   -0.122917    -0.122917         -0.122917         -0.122917    -0.164669\n",
       "  99999997 │  1.49338     0.0437905    0.0437905         0.0437905         0.0437905   -0.212401\n",
       "  99999998 │ -0.135346    0.00412684   0.00412684        0.00412684        0.00412684  -0.176118\n",
       "  99999999 │ -1.58721    -0.138436    -0.138436         -0.138436         -0.138436    -0.26293\n",
       " 100000000 │  0.57238    -0.165093    -0.165093         -0.165093         -0.165093    -0.302289\n",
       "\u001b[31m                                                                             99999989 rows omitted\u001b[0m"
      ]
     },
     "execution_count": 11,
     "metadata": {},
     "output_type": "execute_result"
    }
   ],
   "source": [
    "df[!, \"sma_tx\"] = rolling_average(df.data, window_size=w_size)\n",
    "df"
   ]
  },
  {
   "cell_type": "code",
   "execution_count": null,
   "metadata": {},
   "outputs": [],
   "source": []
  },
  {
   "cell_type": "code",
   "execution_count": null,
   "metadata": {},
   "outputs": [],
   "source": []
  },
  {
   "cell_type": "code",
   "execution_count": 12,
   "metadata": {},
   "outputs": [
    {
     "data": {
      "text/plain": [
       "true"
      ]
     },
     "execution_count": 12,
     "metadata": {},
     "output_type": "execute_result"
    }
   ],
   "source": [
    "df.sma_rf[w_size:end] ≈ df.sma_sk[w_size:end]"
   ]
  },
  {
   "cell_type": "code",
   "execution_count": 13,
   "metadata": {},
   "outputs": [
    {
     "data": {
      "text/plain": [
       "true"
      ]
     },
     "execution_count": 13,
     "metadata": {},
     "output_type": "execute_result"
    }
   ],
   "source": [
    "df.sma_rf[w_size:end] ≈ df.sma_tullio[w_size:end]"
   ]
  },
  {
   "cell_type": "code",
   "execution_count": 14,
   "metadata": {},
   "outputs": [
    {
     "data": {
      "text/plain": [
       "true"
      ]
     },
     "execution_count": 14,
     "metadata": {},
     "output_type": "execute_result"
    }
   ],
   "source": [
    "df.sma_rf[w_size:end] ≈ df.sma_simd[w_size:end]"
   ]
  },
  {
   "cell_type": "code",
   "execution_count": 15,
   "metadata": {},
   "outputs": [
    {
     "data": {
      "text/plain": [
       "false"
      ]
     },
     "execution_count": 15,
     "metadata": {},
     "output_type": "execute_result"
    }
   ],
   "source": [
    "df.sma_rf[w_size:end] ≈ df.sma_tx[w_size:end]"
   ]
  },
  {
   "cell_type": "code",
   "execution_count": null,
   "metadata": {},
   "outputs": [],
   "source": []
  },
  {
   "cell_type": "code",
   "execution_count": 16,
   "metadata": {},
   "outputs": [
    {
     "data": {
      "text/plain": [
       "BenchmarkTools.Trial: \n",
       "  memory estimate:  1.49 GiB\n",
       "  allocs estimate:  6\n",
       "  --------------\n",
       "  minimum time:     2.148 s (0.18% GC)\n",
       "  median time:      2.239 s (2.92% GC)\n",
       "  mean time:        2.253 s (4.11% GC)\n",
       "  maximum time:     2.372 s (8.79% GC)\n",
       "  --------------\n",
       "  samples:          3\n",
       "  evals/sample:     1"
      ]
     },
     "execution_count": 16,
     "metadata": {},
     "output_type": "execute_result"
    }
   ],
   "source": [
    "@benchmark runmean(df.data, w_size)"
   ]
  },
  {
   "cell_type": "code",
   "execution_count": 17,
   "metadata": {},
   "outputs": [
    {
     "data": {
      "text/plain": [
       "BenchmarkTools.Trial: \n",
       "  memory estimate:  762.94 MiB\n",
       "  allocs estimate:  2\n",
       "  --------------\n",
       "  minimum time:     1.211 s (0.16% GC)\n",
       "  median time:      1.247 s (0.16% GC)\n",
       "  mean time:        1.278 s (3.82% GC)\n",
       "  maximum time:     1.407 s (12.46% GC)\n",
       "  --------------\n",
       "  samples:          5\n",
       "  evals/sample:     1"
      ]
     },
     "execution_count": 17,
     "metadata": {},
     "output_type": "execute_result"
    }
   ],
   "source": [
    "k = makekernel(mean,-w_size+1:0)\n",
    "@benchmark applyrolling(k, df.data)"
   ]
  },
  {
   "cell_type": "code",
   "execution_count": 18,
   "metadata": {},
   "outputs": [
    {
     "data": {
      "text/plain": [
       "BenchmarkTools.Trial: \n",
       "  memory estimate:  8.13 KiB\n",
       "  allocs estimate:  128\n",
       "  --------------\n",
       "  minimum time:     185.453 ms (0.00% GC)\n",
       "  median time:      203.037 ms (0.00% GC)\n",
       "  mean time:        202.764 ms (0.00% GC)\n",
       "  maximum time:     218.298 ms (0.00% GC)\n",
       "  --------------\n",
       "  samples:          25\n",
       "  evals/sample:     1"
      ]
     },
     "execution_count": 18,
     "metadata": {},
     "output_type": "execute_result"
    }
   ],
   "source": [
    "@benchmark f_tullio(df.data, tmp, w_size)"
   ]
  },
  {
   "cell_type": "code",
   "execution_count": 19,
   "metadata": {},
   "outputs": [
    {
     "data": {
      "text/plain": [
       "BenchmarkTools.Trial: \n",
       "  memory estimate:  0 bytes\n",
       "  allocs estimate:  0\n",
       "  --------------\n",
       "  minimum time:     120.998 ms (0.00% GC)\n",
       "  median time:      126.539 ms (0.00% GC)\n",
       "  mean time:        126.856 ms (0.00% GC)\n",
       "  maximum time:     135.113 ms (0.00% GC)\n",
       "  --------------\n",
       "  samples:          40\n",
       "  evals/sample:     1"
      ]
     },
     "execution_count": 19,
     "metadata": {},
     "output_type": "execute_result"
    }
   ],
   "source": [
    "@benchmark rollingmean_simd(df.data, w_size, out)"
   ]
  },
  {
   "cell_type": "code",
   "execution_count": 20,
   "metadata": {},
   "outputs": [
    {
     "data": {
      "text/plain": [
       "BenchmarkTools.Trial: \n",
       "  memory estimate:  1.77 GiB\n",
       "  allocs estimate:  3963\n",
       "  --------------\n",
       "  minimum time:     2.562 s (12.01% GC)\n",
       "  median time:      2.830 s (17.83% GC)\n",
       "  mean time:        2.830 s (17.83% GC)\n",
       "  maximum time:     3.098 s (22.64% GC)\n",
       "  --------------\n",
       "  samples:          2\n",
       "  evals/sample:     1"
      ]
     },
     "execution_count": 20,
     "metadata": {},
     "output_type": "execute_result"
    }
   ],
   "source": [
    "@benchmark rolling_average(df.data, window_size=w_size)"
   ]
  },
  {
   "cell_type": "code",
   "execution_count": null,
   "metadata": {},
   "outputs": [],
   "source": []
  },
  {
   "cell_type": "code",
   "execution_count": 21,
   "metadata": {},
   "outputs": [
    {
     "name": "stdout",
     "output_type": "stream",
     "text": [
      "  14.128 μs (4 allocations: 16.13 KiB)\n",
      "  88.016 μs (2852 allocations: 215.78 KiB)\n"
     ]
    },
    {
     "data": {
      "text/plain": [
       "false"
      ]
     },
     "execution_count": 21,
     "metadata": {},
     "output_type": "execute_result"
    }
   ],
   "source": [
    "using Random, Distributions, BenchmarkTools, RollingFunctions, ThreadsX, DataFrames\n",
    "function rolling_average(v; window_size::Int=10)\n",
    "    @assert window_size > 0\n",
    "    loffset = window_size ÷ 2\n",
    "    roffset = loffset + window_size%2\n",
    "    ThreadsX.map(eachindex(v)) do i\n",
    "        mean(@view v[max(begin, i-loffset) : min(end, i+roffset)])\n",
    "    end\n",
    "end\n",
    "N = 1000\n",
    "d = Normal()\n",
    "df = DataFrame(:data => rand(d, N))\n",
    "df[!, \"runmean\"] = @btime runmean(df.data, 10)\n",
    "df[!, \"rolling_average\"] = @btime rolling_average(df.data, window_size=10)\n",
    "df.runmean[10:end] ≈ df.rolling_average[10:end]"
   ]
  },
  {
   "cell_type": "code",
   "execution_count": 22,
   "metadata": {},
   "outputs": [
    {
     "data": {
      "text/html": [
       "<table class=\"data-frame\"><thead><tr><th></th><th>data</th><th>runmean</th><th>rolling_average</th></tr><tr><th></th><th>Float64</th><th>Float64</th><th>Float64</th></tr></thead><tbody><p>1,000 rows × 3 columns</p><tr><th>1</th><td>-0.292673</td><td>-0.292673</td><td>-0.196465</td></tr><tr><th>2</th><td>0.91721</td><td>0.312269</td><td>-0.224377</td></tr><tr><th>3</th><td>-0.737441</td><td>-0.0376346</td><td>-0.102296</td></tr><tr><th>4</th><td>-0.70624</td><td>-0.204786</td><td>0.00578898</td></tr><tr><th>5</th><td>-0.0777992</td><td>-0.179389</td><td>-0.0979281</td></tr><tr><th>6</th><td>-0.281845</td><td>-0.196465</td><td>-0.187079</td></tr><tr><th>7</th><td>-0.391849</td><td>-0.224377</td><td>-0.124183</td></tr><tr><th>8</th><td>0.752269</td><td>-0.102296</td><td>-0.218671</td></tr><tr><th>9</th><td>0.870468</td><td>0.00578898</td><td>-0.350731</td></tr><tr><th>10</th><td>-1.03138</td><td>-0.0979281</td><td>-0.335218</td></tr><tr><th>11</th><td>-1.07859</td><td>-0.17652</td><td>-0.36565</td></tr><tr><th>12</th><td>0.399192</td><td>-0.228322</td><td>-0.219271</td></tr><tr><th>13</th><td>-0.122167</td><td>-0.166794</td><td>-0.0792521</td></tr><tr><th>14</th><td>-2.1901</td><td>-0.31518</td><td>0.0359529</td></tr><tr><th>15</th><td>-0.535598</td><td>-0.36096</td><td>-0.247928</td></tr><tr><th>16</th><td>-0.412555</td><td>-0.374031</td><td>-0.099845</td></tr><tr><th>17</th><td>1.32833</td><td>-0.202013</td><td>0.157946</td></tr><tr><th>18</th><td>1.14836</td><td>-0.162404</td><td>0.130513</td></tr><tr><th>19</th><td>2.01953</td><td>-0.0474986</td><td>0.0250081</td></tr><tr><th>20</th><td>-2.25222</td><td>-0.169582</td><td>0.229696</td></tr><tr><th>&vellip;</th><td>&vellip;</td><td>&vellip;</td><td>&vellip;</td></tr></tbody></table>"
      ],
      "text/latex": [
       "\\begin{tabular}{r|ccc}\n",
       "\t& data & runmean & rolling\\_average\\\\\n",
       "\t\\hline\n",
       "\t& Float64 & Float64 & Float64\\\\\n",
       "\t\\hline\n",
       "\t1 & -0.292673 & -0.292673 & -0.196465 \\\\\n",
       "\t2 & 0.91721 & 0.312269 & -0.224377 \\\\\n",
       "\t3 & -0.737441 & -0.0376346 & -0.102296 \\\\\n",
       "\t4 & -0.70624 & -0.204786 & 0.00578898 \\\\\n",
       "\t5 & -0.0777992 & -0.179389 & -0.0979281 \\\\\n",
       "\t6 & -0.281845 & -0.196465 & -0.187079 \\\\\n",
       "\t7 & -0.391849 & -0.224377 & -0.124183 \\\\\n",
       "\t8 & 0.752269 & -0.102296 & -0.218671 \\\\\n",
       "\t9 & 0.870468 & 0.00578898 & -0.350731 \\\\\n",
       "\t10 & -1.03138 & -0.0979281 & -0.335218 \\\\\n",
       "\t11 & -1.07859 & -0.17652 & -0.36565 \\\\\n",
       "\t12 & 0.399192 & -0.228322 & -0.219271 \\\\\n",
       "\t13 & -0.122167 & -0.166794 & -0.0792521 \\\\\n",
       "\t14 & -2.1901 & -0.31518 & 0.0359529 \\\\\n",
       "\t15 & -0.535598 & -0.36096 & -0.247928 \\\\\n",
       "\t16 & -0.412555 & -0.374031 & -0.099845 \\\\\n",
       "\t17 & 1.32833 & -0.202013 & 0.157946 \\\\\n",
       "\t18 & 1.14836 & -0.162404 & 0.130513 \\\\\n",
       "\t19 & 2.01953 & -0.0474986 & 0.0250081 \\\\\n",
       "\t20 & -2.25222 & -0.169582 & 0.229696 \\\\\n",
       "\t$\\dots$ & $\\dots$ & $\\dots$ & $\\dots$ \\\\\n",
       "\\end{tabular}\n"
      ],
      "text/plain": [
       "\u001b[1m1000×3 DataFrame\u001b[0m\n",
       "\u001b[1m  Row \u001b[0m│\u001b[1m data       \u001b[0m\u001b[1m runmean     \u001b[0m\u001b[1m rolling_average \u001b[0m\n",
       "\u001b[1m      \u001b[0m│\u001b[90m Float64    \u001b[0m\u001b[90m Float64     \u001b[0m\u001b[90m Float64         \u001b[0m\n",
       "──────┼──────────────────────────────────────────\n",
       "    1 │ -0.292673   -0.292673        -0.196465\n",
       "    2 │  0.91721     0.312269        -0.224377\n",
       "    3 │ -0.737441   -0.0376346       -0.102296\n",
       "    4 │ -0.70624    -0.204786         0.00578898\n",
       "    5 │ -0.0777992  -0.179389        -0.0979281\n",
       "    6 │ -0.281845   -0.196465        -0.187079\n",
       "  ⋮   │     ⋮            ⋮              ⋮\n",
       "  996 │  0.729875   -0.183219        -0.379347\n",
       "  997 │ -0.909117   -0.220085        -0.552066\n",
       "  998 │ -2.24559    -0.29605         -0.570173\n",
       "  999 │ -0.0744401  -0.395488        -0.463991\n",
       " 1000 │  0.255358   -0.379347        -0.336245\n",
       "\u001b[31m                                 989 rows omitted\u001b[0m"
      ]
     },
     "execution_count": 22,
     "metadata": {},
     "output_type": "execute_result"
    }
   ],
   "source": [
    "df"
   ]
  },
  {
   "cell_type": "code",
   "execution_count": null,
   "metadata": {},
   "outputs": [],
   "source": []
  }
 ],
 "metadata": {
  "kernelspec": {
   "display_name": "Julia 1.5.3",
   "language": "julia",
   "name": "julia-1.5"
  },
  "language_info": {
   "file_extension": ".jl",
   "mimetype": "application/julia",
   "name": "julia",
   "version": "1.5.3"
  }
 },
 "nbformat": 4,
 "nbformat_minor": 4
}
