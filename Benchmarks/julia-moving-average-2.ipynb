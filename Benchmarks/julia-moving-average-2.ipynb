{
 "cells": [
  {
   "cell_type": "code",
   "execution_count": 37,
   "metadata": {},
   "outputs": [
    {
     "data": {
      "text/plain": [
       "(v\"1.5.3\", 8, 8)"
      ]
     },
     "execution_count": 37,
     "metadata": {},
     "output_type": "execute_result"
    }
   ],
   "source": [
    "# Set some notebook defaults\n",
    "ENV[\"COLUMNS\"] = 1000; ENV[\"LINES\"] = 20;\n",
    "\n",
    "# Display information about the environment\n",
    "VERSION, Base.Threads.nthreads(), Base.Sys.CPU_THREADS"
   ]
  },
  {
   "cell_type": "code",
   "execution_count": 38,
   "metadata": {},
   "outputs": [],
   "source": [
    "using Random, Distributions, BenchmarkTools, Tullio, LoopVectorization, DataFrames, StaticKernels, SantasLittleHelpers"
   ]
  },
  {
   "cell_type": "code",
   "execution_count": 39,
   "metadata": {},
   "outputs": [
    {
     "data": {
      "text/html": [
       "<table class=\"data-frame\"><thead><tr><th></th><th>data</th></tr><tr><th></th><th>Float64</th></tr></thead><tbody><p>100,000,000 rows × 1 columns</p><tr><th>1</th><td>-0.897292</td></tr><tr><th>2</th><td>1.02837</td></tr><tr><th>3</th><td>-0.222221</td></tr><tr><th>4</th><td>0.221688</td></tr><tr><th>5</th><td>-0.89454</td></tr><tr><th>6</th><td>-1.61098</td></tr><tr><th>7</th><td>0.00556986</td></tr><tr><th>8</th><td>0.417488</td></tr><tr><th>9</th><td>0.334858</td></tr><tr><th>10</th><td>-0.414009</td></tr><tr><th>11</th><td>1.622</td></tr><tr><th>12</th><td>-1.88312</td></tr><tr><th>13</th><td>0.565832</td></tr><tr><th>14</th><td>-0.643359</td></tr><tr><th>15</th><td>1.36209</td></tr><tr><th>16</th><td>0.62042</td></tr><tr><th>17</th><td>-1.17671</td></tr><tr><th>18</th><td>0.119554</td></tr><tr><th>19</th><td>0.282336</td></tr><tr><th>20</th><td>1.28983</td></tr><tr><th>&vellip;</th><td>&vellip;</td></tr></tbody></table>"
      ],
      "text/latex": [
       "\\begin{tabular}{r|c}\n",
       "\t& data\\\\\n",
       "\t\\hline\n",
       "\t& Float64\\\\\n",
       "\t\\hline\n",
       "\t1 & -0.897292 \\\\\n",
       "\t2 & 1.02837 \\\\\n",
       "\t3 & -0.222221 \\\\\n",
       "\t4 & 0.221688 \\\\\n",
       "\t5 & -0.89454 \\\\\n",
       "\t6 & -1.61098 \\\\\n",
       "\t7 & 0.00556986 \\\\\n",
       "\t8 & 0.417488 \\\\\n",
       "\t9 & 0.334858 \\\\\n",
       "\t10 & -0.414009 \\\\\n",
       "\t11 & 1.622 \\\\\n",
       "\t12 & -1.88312 \\\\\n",
       "\t13 & 0.565832 \\\\\n",
       "\t14 & -0.643359 \\\\\n",
       "\t15 & 1.36209 \\\\\n",
       "\t16 & 0.62042 \\\\\n",
       "\t17 & -1.17671 \\\\\n",
       "\t18 & 0.119554 \\\\\n",
       "\t19 & 0.282336 \\\\\n",
       "\t20 & 1.28983 \\\\\n",
       "\t$\\dots$ & $\\dots$ \\\\\n",
       "\\end{tabular}\n"
      ],
      "text/plain": [
       "\u001b[1m100000000×1 DataFrame\u001b[0m\n",
       "\u001b[1m       Row \u001b[0m│\u001b[1m data        \u001b[0m\n",
       "\u001b[1m           \u001b[0m│\u001b[90m Float64     \u001b[0m\n",
       "───────────┼─────────────\n",
       "         1 │ -0.897292\n",
       "         2 │  1.02837\n",
       "         3 │ -0.222221\n",
       "         4 │  0.221688\n",
       "         5 │ -0.89454\n",
       "         6 │ -1.61098\n",
       "     ⋮     │      ⋮\n",
       "  99999996 │  0.266214\n",
       "  99999997 │  0.0486462\n",
       "  99999998 │  0.968079\n",
       "  99999999 │ -0.149411\n",
       " 100000000 │  0.701249\n",
       "\u001b[31m    99999989 rows omitted\u001b[0m"
      ]
     },
     "execution_count": 39,
     "metadata": {},
     "output_type": "execute_result"
    }
   ],
   "source": [
    "N = 10^8\n",
    "d = Normal()\n",
    "df = DataFrame(:data => rand(d, N))"
   ]
  },
  {
   "cell_type": "raw",
   "metadata": {},
   "source": [
    "df = DataFrame(data = ones(10^6))"
   ]
  },
  {
   "cell_type": "code",
   "execution_count": 40,
   "metadata": {},
   "outputs": [
    {
     "data": {
      "text/html": [
       "<table class=\"data-frame\"><thead><tr><th></th><th>data</th><th>sma_sk</th></tr><tr><th></th><th>Float64</th><th>Float64</th></tr></thead><tbody><p>100,000,000 rows × 2 columns</p><tr><th>1</th><td>-0.897292</td><td>-0.897292</td></tr><tr><th>2</th><td>1.02837</td><td>0.0655403</td></tr><tr><th>3</th><td>-0.222221</td><td>-0.0303801</td></tr><tr><th>4</th><td>0.221688</td><td>0.0326368</td></tr><tr><th>5</th><td>-0.89454</td><td>-0.152798</td></tr><tr><th>6</th><td>-1.61098</td><td>-0.395829</td></tr><tr><th>7</th><td>0.00556986</td><td>-0.338486</td></tr><tr><th>8</th><td>0.417488</td><td>-0.24399</td></tr><tr><th>9</th><td>0.334858</td><td>-0.179673</td></tr><tr><th>10</th><td>-0.414009</td><td>-0.203107</td></tr><tr><th>11</th><td>1.622</td><td>0.0488222</td></tr><tr><th>12</th><td>-1.88312</td><td>-0.242327</td></tr><tr><th>13</th><td>0.565832</td><td>-0.163522</td></tr><tr><th>14</th><td>-0.643359</td><td>-0.250026</td></tr><tr><th>15</th><td>1.36209</td><td>-0.0243638</td></tr><tr><th>16</th><td>0.62042</td><td>0.198776</td></tr><tr><th>17</th><td>-1.17671</td><td>0.0805486</td></tr><tr><th>18</th><td>0.119554</td><td>0.0507553</td></tr><tr><th>19</th><td>0.282336</td><td>0.0455031</td></tr><tr><th>20</th><td>1.28983</td><td>0.215887</td></tr><tr><th>&vellip;</th><td>&vellip;</td><td>&vellip;</td></tr></tbody></table>"
      ],
      "text/latex": [
       "\\begin{tabular}{r|cc}\n",
       "\t& data & sma\\_sk\\\\\n",
       "\t\\hline\n",
       "\t& Float64 & Float64\\\\\n",
       "\t\\hline\n",
       "\t1 & -0.897292 & -0.897292 \\\\\n",
       "\t2 & 1.02837 & 0.0655403 \\\\\n",
       "\t3 & -0.222221 & -0.0303801 \\\\\n",
       "\t4 & 0.221688 & 0.0326368 \\\\\n",
       "\t5 & -0.89454 & -0.152798 \\\\\n",
       "\t6 & -1.61098 & -0.395829 \\\\\n",
       "\t7 & 0.00556986 & -0.338486 \\\\\n",
       "\t8 & 0.417488 & -0.24399 \\\\\n",
       "\t9 & 0.334858 & -0.179673 \\\\\n",
       "\t10 & -0.414009 & -0.203107 \\\\\n",
       "\t11 & 1.622 & 0.0488222 \\\\\n",
       "\t12 & -1.88312 & -0.242327 \\\\\n",
       "\t13 & 0.565832 & -0.163522 \\\\\n",
       "\t14 & -0.643359 & -0.250026 \\\\\n",
       "\t15 & 1.36209 & -0.0243638 \\\\\n",
       "\t16 & 0.62042 & 0.198776 \\\\\n",
       "\t17 & -1.17671 & 0.0805486 \\\\\n",
       "\t18 & 0.119554 & 0.0507553 \\\\\n",
       "\t19 & 0.282336 & 0.0455031 \\\\\n",
       "\t20 & 1.28983 & 0.215887 \\\\\n",
       "\t$\\dots$ & $\\dots$ & $\\dots$ \\\\\n",
       "\\end{tabular}\n"
      ],
      "text/plain": [
       "\u001b[1m100000000×2 DataFrame\u001b[0m\n",
       "\u001b[1m       Row \u001b[0m│\u001b[1m data        \u001b[0m\u001b[1m sma_sk     \u001b[0m\n",
       "\u001b[1m           \u001b[0m│\u001b[90m Float64     \u001b[0m\u001b[90m Float64    \u001b[0m\n",
       "───────────┼─────────────────────────\n",
       "         1 │ -0.897292    -0.897292\n",
       "         2 │  1.02837      0.0655403\n",
       "         3 │ -0.222221    -0.0303801\n",
       "         4 │  0.221688     0.0326368\n",
       "         5 │ -0.89454     -0.152798\n",
       "         6 │ -1.61098     -0.395829\n",
       "     ⋮     │      ⋮           ⋮\n",
       "  99999996 │  0.266214    -0.400356\n",
       "  99999997 │  0.0486462   -0.415721\n",
       "  99999998 │  0.968079    -0.270069\n",
       "  99999999 │ -0.149411    -0.0708657\n",
       " 100000000 │  0.701249    -0.0421079\n",
       "\u001b[31m                99999989 rows omitted\u001b[0m"
      ]
     },
     "execution_count": 40,
     "metadata": {},
     "output_type": "execute_result"
    }
   ],
   "source": [
    "# Calculate sma using StaticKernels and SantasLittleHelpers\n",
    "k = makekernel(mean,-9:0)\n",
    "df[!, \"sma_sk\"] = applyrolling(k, df.data)\n",
    "df"
   ]
  },
  {
   "cell_type": "code",
   "execution_count": null,
   "metadata": {},
   "outputs": [],
   "source": []
  },
  {
   "cell_type": "code",
   "execution_count": 41,
   "metadata": {},
   "outputs": [
    {
     "data": {
      "text/html": [
       "<table class=\"data-frame\"><thead><tr><th></th><th>data</th><th>sma_sk</th><th>sma_tullio</th></tr><tr><th></th><th>Float64</th><th>Float64</th><th>Float64?</th></tr></thead><tbody><p>100,000,000 rows × 3 columns</p><tr><th>1</th><td>-0.897292</td><td>-0.897292</td><td><em>missing</em></td></tr><tr><th>2</th><td>1.02837</td><td>0.0655403</td><td><em>missing</em></td></tr><tr><th>3</th><td>-0.222221</td><td>-0.0303801</td><td><em>missing</em></td></tr><tr><th>4</th><td>0.221688</td><td>0.0326368</td><td><em>missing</em></td></tr><tr><th>5</th><td>-0.89454</td><td>-0.152798</td><td><em>missing</em></td></tr><tr><th>6</th><td>-1.61098</td><td>-0.395829</td><td><em>missing</em></td></tr><tr><th>7</th><td>0.00556986</td><td>-0.338486</td><td><em>missing</em></td></tr><tr><th>8</th><td>0.417488</td><td>-0.24399</td><td><em>missing</em></td></tr><tr><th>9</th><td>0.334858</td><td>-0.179673</td><td><em>missing</em></td></tr><tr><th>10</th><td>-0.414009</td><td>-0.203107</td><td>-0.203107</td></tr><tr><th>11</th><td>1.622</td><td>0.0488222</td><td>0.0488222</td></tr><tr><th>12</th><td>-1.88312</td><td>-0.242327</td><td>-0.242327</td></tr><tr><th>13</th><td>0.565832</td><td>-0.163522</td><td>-0.163522</td></tr><tr><th>14</th><td>-0.643359</td><td>-0.250026</td><td>-0.250026</td></tr><tr><th>15</th><td>1.36209</td><td>-0.0243638</td><td>-0.0243638</td></tr><tr><th>16</th><td>0.62042</td><td>0.198776</td><td>0.198776</td></tr><tr><th>17</th><td>-1.17671</td><td>0.0805486</td><td>0.0805486</td></tr><tr><th>18</th><td>0.119554</td><td>0.0507553</td><td>0.0507553</td></tr><tr><th>19</th><td>0.282336</td><td>0.0455031</td><td>0.0455031</td></tr><tr><th>20</th><td>1.28983</td><td>0.215887</td><td>0.215887</td></tr><tr><th>&vellip;</th><td>&vellip;</td><td>&vellip;</td><td>&vellip;</td></tr></tbody></table>"
      ],
      "text/latex": [
       "\\begin{tabular}{r|ccc}\n",
       "\t& data & sma\\_sk & sma\\_tullio\\\\\n",
       "\t\\hline\n",
       "\t& Float64 & Float64 & Float64?\\\\\n",
       "\t\\hline\n",
       "\t1 & -0.897292 & -0.897292 & \\emph{missing} \\\\\n",
       "\t2 & 1.02837 & 0.0655403 & \\emph{missing} \\\\\n",
       "\t3 & -0.222221 & -0.0303801 & \\emph{missing} \\\\\n",
       "\t4 & 0.221688 & 0.0326368 & \\emph{missing} \\\\\n",
       "\t5 & -0.89454 & -0.152798 & \\emph{missing} \\\\\n",
       "\t6 & -1.61098 & -0.395829 & \\emph{missing} \\\\\n",
       "\t7 & 0.00556986 & -0.338486 & \\emph{missing} \\\\\n",
       "\t8 & 0.417488 & -0.24399 & \\emph{missing} \\\\\n",
       "\t9 & 0.334858 & -0.179673 & \\emph{missing} \\\\\n",
       "\t10 & -0.414009 & -0.203107 & -0.203107 \\\\\n",
       "\t11 & 1.622 & 0.0488222 & 0.0488222 \\\\\n",
       "\t12 & -1.88312 & -0.242327 & -0.242327 \\\\\n",
       "\t13 & 0.565832 & -0.163522 & -0.163522 \\\\\n",
       "\t14 & -0.643359 & -0.250026 & -0.250026 \\\\\n",
       "\t15 & 1.36209 & -0.0243638 & -0.0243638 \\\\\n",
       "\t16 & 0.62042 & 0.198776 & 0.198776 \\\\\n",
       "\t17 & -1.17671 & 0.0805486 & 0.0805486 \\\\\n",
       "\t18 & 0.119554 & 0.0507553 & 0.0507553 \\\\\n",
       "\t19 & 0.282336 & 0.0455031 & 0.0455031 \\\\\n",
       "\t20 & 1.28983 & 0.215887 & 0.215887 \\\\\n",
       "\t$\\dots$ & $\\dots$ & $\\dots$ & $\\dots$ \\\\\n",
       "\\end{tabular}\n"
      ],
      "text/plain": [
       "\u001b[1m100000000×3 DataFrame\u001b[0m\n",
       "\u001b[1m       Row \u001b[0m│\u001b[1m data        \u001b[0m\u001b[1m sma_sk     \u001b[0m\u001b[1m sma_tullio      \u001b[0m\n",
       "\u001b[1m           \u001b[0m│\u001b[90m Float64     \u001b[0m\u001b[90m Float64    \u001b[0m\u001b[90m Float64?        \u001b[0m\n",
       "───────────┼──────────────────────────────────────────\n",
       "         1 │ -0.897292    -0.897292  \u001b[90m missing         \u001b[0m\n",
       "         2 │  1.02837      0.0655403 \u001b[90m missing         \u001b[0m\n",
       "         3 │ -0.222221    -0.0303801 \u001b[90m missing         \u001b[0m\n",
       "         4 │  0.221688     0.0326368 \u001b[90m missing         \u001b[0m\n",
       "         5 │ -0.89454     -0.152798  \u001b[90m missing         \u001b[0m\n",
       "         6 │ -1.61098     -0.395829  \u001b[90m missing         \u001b[0m\n",
       "     ⋮     │      ⋮           ⋮              ⋮\n",
       "  99999996 │  0.266214    -0.400356        -0.400356\n",
       "  99999997 │  0.0486462   -0.415721        -0.415721\n",
       "  99999998 │  0.968079    -0.270069        -0.270069\n",
       "  99999999 │ -0.149411    -0.0708657       -0.0708657\n",
       " 100000000 │  0.701249    -0.0421079       -0.0421079\n",
       "\u001b[31m                                 99999989 rows omitted\u001b[0m"
      ]
     },
     "execution_count": 41,
     "metadata": {},
     "output_type": "execute_result"
    }
   ],
   "source": [
    "tmp = Array{Union{Missing, Float64}}(missing, length(df.data));\n",
    "\n",
    "function f_tullio(data, sma)\n",
    "    out_view = @view sma[10:end]\n",
    "    @tullio out_view[i] = 0.1*data[i+o]  o in 0:9  # verbose=true;\n",
    "    sma\n",
    "end\n",
    "\n",
    "df[!, \"sma_tullio\"] = f_tullio(df.data, tmp)\n",
    "df"
   ]
  },
  {
   "cell_type": "code",
   "execution_count": null,
   "metadata": {},
   "outputs": [],
   "source": []
  },
  {
   "cell_type": "code",
   "execution_count": 42,
   "metadata": {},
   "outputs": [
    {
     "data": {
      "text/plain": [
       "rollingmean2 (generic function with 2 methods)"
      ]
     },
     "execution_count": 42,
     "metadata": {},
     "output_type": "execute_result"
    }
   ],
   "source": [
    "out = Vector{Union{Missing, Float64}}(undef, N)\n",
    "\n",
    "function rollingmean2(x, m, out)\n",
    "    N = length(x)\n",
    "    out[1:(m-1)] .= missing\n",
    "    sm = mean(@view x[1:m])\n",
    "    out[m] = sm\n",
    "    @inbounds @simd for i in (m+1):length(x)\n",
    "        sm += (x[i] - x[i-m]) / m\n",
    "        out[i] = sm\n",
    "    end\n",
    "    return out \n",
    "end"
   ]
  },
  {
   "cell_type": "code",
   "execution_count": 43,
   "metadata": {},
   "outputs": [
    {
     "data": {
      "text/html": [
       "<table class=\"data-frame\"><thead><tr><th></th><th>data</th><th>sma_sk</th><th>sma_tullio</th><th>sma_simd</th></tr><tr><th></th><th>Float64</th><th>Float64</th><th>Float64?</th><th>Float64?</th></tr></thead><tbody><p>100,000,000 rows × 4 columns</p><tr><th>1</th><td>-0.897292</td><td>-0.897292</td><td><em>missing</em></td><td><em>missing</em></td></tr><tr><th>2</th><td>1.02837</td><td>0.0655403</td><td><em>missing</em></td><td><em>missing</em></td></tr><tr><th>3</th><td>-0.222221</td><td>-0.0303801</td><td><em>missing</em></td><td><em>missing</em></td></tr><tr><th>4</th><td>0.221688</td><td>0.0326368</td><td><em>missing</em></td><td><em>missing</em></td></tr><tr><th>5</th><td>-0.89454</td><td>-0.152798</td><td><em>missing</em></td><td><em>missing</em></td></tr><tr><th>6</th><td>-1.61098</td><td>-0.395829</td><td><em>missing</em></td><td><em>missing</em></td></tr><tr><th>7</th><td>0.00556986</td><td>-0.338486</td><td><em>missing</em></td><td><em>missing</em></td></tr><tr><th>8</th><td>0.417488</td><td>-0.24399</td><td><em>missing</em></td><td><em>missing</em></td></tr><tr><th>9</th><td>0.334858</td><td>-0.179673</td><td><em>missing</em></td><td><em>missing</em></td></tr><tr><th>10</th><td>-0.414009</td><td>-0.203107</td><td>-0.203107</td><td>-0.203107</td></tr><tr><th>11</th><td>1.622</td><td>0.0488222</td><td>0.0488222</td><td>0.0488222</td></tr><tr><th>12</th><td>-1.88312</td><td>-0.242327</td><td>-0.242327</td><td>-0.242327</td></tr><tr><th>13</th><td>0.565832</td><td>-0.163522</td><td>-0.163522</td><td>-0.163522</td></tr><tr><th>14</th><td>-0.643359</td><td>-0.250026</td><td>-0.250026</td><td>-0.250026</td></tr><tr><th>15</th><td>1.36209</td><td>-0.0243638</td><td>-0.0243638</td><td>-0.0243638</td></tr><tr><th>16</th><td>0.62042</td><td>0.198776</td><td>0.198776</td><td>0.198776</td></tr><tr><th>17</th><td>-1.17671</td><td>0.0805486</td><td>0.0805486</td><td>0.0805486</td></tr><tr><th>18</th><td>0.119554</td><td>0.0507553</td><td>0.0507553</td><td>0.0507553</td></tr><tr><th>19</th><td>0.282336</td><td>0.0455031</td><td>0.0455031</td><td>0.0455031</td></tr><tr><th>20</th><td>1.28983</td><td>0.215887</td><td>0.215887</td><td>0.215887</td></tr><tr><th>&vellip;</th><td>&vellip;</td><td>&vellip;</td><td>&vellip;</td><td>&vellip;</td></tr></tbody></table>"
      ],
      "text/latex": [
       "\\begin{tabular}{r|cccc}\n",
       "\t& data & sma\\_sk & sma\\_tullio & sma\\_simd\\\\\n",
       "\t\\hline\n",
       "\t& Float64 & Float64 & Float64? & Float64?\\\\\n",
       "\t\\hline\n",
       "\t1 & -0.897292 & -0.897292 & \\emph{missing} & \\emph{missing} \\\\\n",
       "\t2 & 1.02837 & 0.0655403 & \\emph{missing} & \\emph{missing} \\\\\n",
       "\t3 & -0.222221 & -0.0303801 & \\emph{missing} & \\emph{missing} \\\\\n",
       "\t4 & 0.221688 & 0.0326368 & \\emph{missing} & \\emph{missing} \\\\\n",
       "\t5 & -0.89454 & -0.152798 & \\emph{missing} & \\emph{missing} \\\\\n",
       "\t6 & -1.61098 & -0.395829 & \\emph{missing} & \\emph{missing} \\\\\n",
       "\t7 & 0.00556986 & -0.338486 & \\emph{missing} & \\emph{missing} \\\\\n",
       "\t8 & 0.417488 & -0.24399 & \\emph{missing} & \\emph{missing} \\\\\n",
       "\t9 & 0.334858 & -0.179673 & \\emph{missing} & \\emph{missing} \\\\\n",
       "\t10 & -0.414009 & -0.203107 & -0.203107 & -0.203107 \\\\\n",
       "\t11 & 1.622 & 0.0488222 & 0.0488222 & 0.0488222 \\\\\n",
       "\t12 & -1.88312 & -0.242327 & -0.242327 & -0.242327 \\\\\n",
       "\t13 & 0.565832 & -0.163522 & -0.163522 & -0.163522 \\\\\n",
       "\t14 & -0.643359 & -0.250026 & -0.250026 & -0.250026 \\\\\n",
       "\t15 & 1.36209 & -0.0243638 & -0.0243638 & -0.0243638 \\\\\n",
       "\t16 & 0.62042 & 0.198776 & 0.198776 & 0.198776 \\\\\n",
       "\t17 & -1.17671 & 0.0805486 & 0.0805486 & 0.0805486 \\\\\n",
       "\t18 & 0.119554 & 0.0507553 & 0.0507553 & 0.0507553 \\\\\n",
       "\t19 & 0.282336 & 0.0455031 & 0.0455031 & 0.0455031 \\\\\n",
       "\t20 & 1.28983 & 0.215887 & 0.215887 & 0.215887 \\\\\n",
       "\t$\\dots$ & $\\dots$ & $\\dots$ & $\\dots$ & $\\dots$ \\\\\n",
       "\\end{tabular}\n"
      ],
      "text/plain": [
       "\u001b[1m100000000×4 DataFrame\u001b[0m\n",
       "\u001b[1m       Row \u001b[0m│\u001b[1m data        \u001b[0m\u001b[1m sma_sk     \u001b[0m\u001b[1m sma_tullio      \u001b[0m\u001b[1m sma_simd        \u001b[0m\n",
       "\u001b[1m           \u001b[0m│\u001b[90m Float64     \u001b[0m\u001b[90m Float64    \u001b[0m\u001b[90m Float64?        \u001b[0m\u001b[90m Float64?        \u001b[0m\n",
       "───────────┼───────────────────────────────────────────────────────────\n",
       "         1 │ -0.897292    -0.897292  \u001b[90m missing         \u001b[0m\u001b[90m missing         \u001b[0m\n",
       "         2 │  1.02837      0.0655403 \u001b[90m missing         \u001b[0m\u001b[90m missing         \u001b[0m\n",
       "         3 │ -0.222221    -0.0303801 \u001b[90m missing         \u001b[0m\u001b[90m missing         \u001b[0m\n",
       "         4 │  0.221688     0.0326368 \u001b[90m missing         \u001b[0m\u001b[90m missing         \u001b[0m\n",
       "         5 │ -0.89454     -0.152798  \u001b[90m missing         \u001b[0m\u001b[90m missing         \u001b[0m\n",
       "         6 │ -1.61098     -0.395829  \u001b[90m missing         \u001b[0m\u001b[90m missing         \u001b[0m\n",
       "     ⋮     │      ⋮           ⋮              ⋮                ⋮\n",
       "  99999996 │  0.266214    -0.400356        -0.400356        -0.400356\n",
       "  99999997 │  0.0486462   -0.415721        -0.415721        -0.415721\n",
       "  99999998 │  0.968079    -0.270069        -0.270069        -0.270069\n",
       "  99999999 │ -0.149411    -0.0708657       -0.0708657       -0.0708657\n",
       " 100000000 │  0.701249    -0.0421079       -0.0421079       -0.0421079\n",
       "\u001b[31m                                                  99999989 rows omitted\u001b[0m"
      ]
     },
     "execution_count": 43,
     "metadata": {},
     "output_type": "execute_result"
    }
   ],
   "source": [
    "df[!, \"sma_simd\"] = rollingmean2(df.data, 10)\n",
    "df"
   ]
  },
  {
   "cell_type": "code",
   "execution_count": null,
   "metadata": {},
   "outputs": [],
   "source": []
  },
  {
   "cell_type": "code",
   "execution_count": 44,
   "metadata": {},
   "outputs": [
    {
     "data": {
      "text/plain": [
       "BenchmarkTools.Trial: \n",
       "  memory estimate:  762.94 MiB\n",
       "  allocs estimate:  2\n",
       "  --------------\n",
       "  minimum time:     1.133 s (0.09% GC)\n",
       "  median time:      1.188 s (0.09% GC)\n",
       "  mean time:        1.195 s (3.62% GC)\n",
       "  maximum time:     1.260 s (10.65% GC)\n",
       "  --------------\n",
       "  samples:          5\n",
       "  evals/sample:     1"
      ]
     },
     "execution_count": 44,
     "metadata": {},
     "output_type": "execute_result"
    }
   ],
   "source": [
    "@benchmark applyrolling(k, df.data)"
   ]
  },
  {
   "cell_type": "code",
   "execution_count": 45,
   "metadata": {},
   "outputs": [
    {
     "data": {
      "text/plain": [
       "BenchmarkTools.Trial: \n",
       "  memory estimate:  7.61 KiB\n",
       "  allocs estimate:  115\n",
       "  --------------\n",
       "  minimum time:     134.007 ms (0.00% GC)\n",
       "  median time:      155.243 ms (0.00% GC)\n",
       "  mean time:        154.218 ms (0.00% GC)\n",
       "  maximum time:     176.329 ms (0.00% GC)\n",
       "  --------------\n",
       "  samples:          33\n",
       "  evals/sample:     1"
      ]
     },
     "execution_count": 45,
     "metadata": {},
     "output_type": "execute_result"
    }
   ],
   "source": [
    "@benchmark f_tullio(df.data, tmp)"
   ]
  },
  {
   "cell_type": "code",
   "execution_count": 46,
   "metadata": {},
   "outputs": [
    {
     "data": {
      "text/plain": [
       "BenchmarkTools.Trial: \n",
       "  memory estimate:  0 bytes\n",
       "  allocs estimate:  0\n",
       "  --------------\n",
       "  minimum time:     130.821 ms (0.00% GC)\n",
       "  median time:      148.269 ms (0.00% GC)\n",
       "  mean time:        146.676 ms (0.00% GC)\n",
       "  maximum time:     162.207 ms (0.00% GC)\n",
       "  --------------\n",
       "  samples:          35\n",
       "  evals/sample:     1"
      ]
     },
     "execution_count": 46,
     "metadata": {},
     "output_type": "execute_result"
    }
   ],
   "source": [
    "@benchmark rollingmean2(df.data, 10, out)"
   ]
  },
  {
   "cell_type": "code",
   "execution_count": null,
   "metadata": {},
   "outputs": [],
   "source": []
  }
 ],
 "metadata": {
  "kernelspec": {
   "display_name": "Julia 1.5.3",
   "language": "julia",
   "name": "julia-1.5"
  },
  "language_info": {
   "file_extension": ".jl",
   "mimetype": "application/julia",
   "name": "julia",
   "version": "1.5.3"
  }
 },
 "nbformat": 4,
 "nbformat_minor": 4
}
