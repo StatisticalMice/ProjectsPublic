{
 "cells": [
  {
   "cell_type": "code",
   "execution_count": 11,
   "metadata": {},
   "outputs": [
    {
     "data": {
      "text/plain": [
       "(v\"1.5.3\", 8, 8)"
      ]
     },
     "execution_count": 11,
     "metadata": {},
     "output_type": "execute_result"
    }
   ],
   "source": [
    "# Set some notebook defaults\n",
    "ENV[\"COLUMNS\"] = 1000; ENV[\"LINES\"] = 20;\n",
    "\n",
    "# Display information about the environment\n",
    "VERSION, Base.Threads.nthreads(), Base.Sys.CPU_THREADS"
   ]
  },
  {
   "cell_type": "code",
   "execution_count": 12,
   "metadata": {},
   "outputs": [],
   "source": [
    "using Random, Distributions, BenchmarkTools, Tullio, LoopVectorization, DataFrames, StaticKernels, SantasLittleHelpers"
   ]
  },
  {
   "cell_type": "code",
   "execution_count": 13,
   "metadata": {},
   "outputs": [
    {
     "data": {
      "text/html": [
       "<table class=\"data-frame\"><thead><tr><th></th><th>data</th></tr><tr><th></th><th>Float64</th></tr></thead><tbody><p>100,000,000 rows × 1 columns</p><tr><th>1</th><td>-1.61589</td></tr><tr><th>2</th><td>0.958113</td></tr><tr><th>3</th><td>0.783623</td></tr><tr><th>4</th><td>0.0208487</td></tr><tr><th>5</th><td>0.0630693</td></tr><tr><th>6</th><td>-0.664731</td></tr><tr><th>7</th><td>-0.190103</td></tr><tr><th>8</th><td>-0.503945</td></tr><tr><th>9</th><td>-0.014282</td></tr><tr><th>10</th><td>0.924778</td></tr><tr><th>11</th><td>0.319054</td></tr><tr><th>12</th><td>-1.90645</td></tr><tr><th>13</th><td>1.13315</td></tr><tr><th>14</th><td>0.341199</td></tr><tr><th>15</th><td>0.564281</td></tr><tr><th>16</th><td>0.649296</td></tr><tr><th>17</th><td>0.235632</td></tr><tr><th>18</th><td>-0.654217</td></tr><tr><th>19</th><td>0.493093</td></tr><tr><th>20</th><td>1.79751</td></tr><tr><th>&vellip;</th><td>&vellip;</td></tr></tbody></table>"
      ],
      "text/latex": [
       "\\begin{tabular}{r|c}\n",
       "\t& data\\\\\n",
       "\t\\hline\n",
       "\t& Float64\\\\\n",
       "\t\\hline\n",
       "\t1 & -1.61589 \\\\\n",
       "\t2 & 0.958113 \\\\\n",
       "\t3 & 0.783623 \\\\\n",
       "\t4 & 0.0208487 \\\\\n",
       "\t5 & 0.0630693 \\\\\n",
       "\t6 & -0.664731 \\\\\n",
       "\t7 & -0.190103 \\\\\n",
       "\t8 & -0.503945 \\\\\n",
       "\t9 & -0.014282 \\\\\n",
       "\t10 & 0.924778 \\\\\n",
       "\t11 & 0.319054 \\\\\n",
       "\t12 & -1.90645 \\\\\n",
       "\t13 & 1.13315 \\\\\n",
       "\t14 & 0.341199 \\\\\n",
       "\t15 & 0.564281 \\\\\n",
       "\t16 & 0.649296 \\\\\n",
       "\t17 & 0.235632 \\\\\n",
       "\t18 & -0.654217 \\\\\n",
       "\t19 & 0.493093 \\\\\n",
       "\t20 & 1.79751 \\\\\n",
       "\t$\\dots$ & $\\dots$ \\\\\n",
       "\\end{tabular}\n"
      ],
      "text/plain": [
       "\u001b[1m100000000×1 DataFrame\u001b[0m\n",
       "\u001b[1m       Row \u001b[0m│\u001b[1m data       \u001b[0m\n",
       "\u001b[1m           \u001b[0m│\u001b[90m Float64    \u001b[0m\n",
       "───────────┼────────────\n",
       "         1 │ -1.61589\n",
       "         2 │  0.958113\n",
       "         3 │  0.783623\n",
       "         4 │  0.0208487\n",
       "         5 │  0.0630693\n",
       "         6 │ -0.664731\n",
       "     ⋮     │     ⋮\n",
       "  99999996 │  0.767928\n",
       "  99999997 │ -1.18309\n",
       "  99999998 │ -0.574334\n",
       "  99999999 │ -0.910176\n",
       " 100000000 │  0.740188\n",
       "\u001b[31m   99999989 rows omitted\u001b[0m"
      ]
     },
     "execution_count": 13,
     "metadata": {},
     "output_type": "execute_result"
    }
   ],
   "source": [
    "N = 10^8\n",
    "d = Normal()\n",
    "df = DataFrame(:data => rand(d, N))"
   ]
  },
  {
   "cell_type": "raw",
   "metadata": {},
   "source": [
    "df = DataFrame(data = ones(10^6))"
   ]
  },
  {
   "cell_type": "code",
   "execution_count": 14,
   "metadata": {},
   "outputs": [
    {
     "data": {
      "text/html": [
       "<table class=\"data-frame\"><thead><tr><th></th><th>data</th><th>sma_sk</th></tr><tr><th></th><th>Float64</th><th>Float64</th></tr></thead><tbody><p>100,000,000 rows × 2 columns</p><tr><th>1</th><td>-1.61589</td><td>-1.61589</td></tr><tr><th>2</th><td>0.958113</td><td>-0.328887</td></tr><tr><th>3</th><td>0.783623</td><td>0.0419497</td></tr><tr><th>4</th><td>0.0208487</td><td>0.0366745</td></tr><tr><th>5</th><td>0.0630693</td><td>0.0419534</td></tr><tr><th>6</th><td>-0.664731</td><td>-0.0758274</td></tr><tr><th>7</th><td>-0.190103</td><td>-0.0921525</td></tr><tr><th>8</th><td>-0.503945</td><td>-0.143627</td></tr><tr><th>9</th><td>-0.014282</td><td>-0.129255</td></tr><tr><th>10</th><td>0.924778</td><td>-0.0238516</td></tr><tr><th>11</th><td>0.319054</td><td>0.169642</td></tr><tr><th>12</th><td>-1.90645</td><td>-0.116814</td></tr><tr><th>13</th><td>1.13315</td><td>-0.0818613</td></tr><tr><th>14</th><td>0.341199</td><td>-0.0498262</td></tr><tr><th>15</th><td>0.564281</td><td>0.000294929</td></tr><tr><th>16</th><td>0.649296</td><td>0.131698</td></tr><tr><th>17</th><td>0.235632</td><td>0.174271</td></tr><tr><th>18</th><td>-0.654217</td><td>0.159244</td></tr><tr><th>19</th><td>0.493093</td><td>0.209982</td></tr><tr><th>20</th><td>1.79751</td><td>0.297255</td></tr><tr><th>&vellip;</th><td>&vellip;</td><td>&vellip;</td></tr></tbody></table>"
      ],
      "text/latex": [
       "\\begin{tabular}{r|cc}\n",
       "\t& data & sma\\_sk\\\\\n",
       "\t\\hline\n",
       "\t& Float64 & Float64\\\\\n",
       "\t\\hline\n",
       "\t1 & -1.61589 & -1.61589 \\\\\n",
       "\t2 & 0.958113 & -0.328887 \\\\\n",
       "\t3 & 0.783623 & 0.0419497 \\\\\n",
       "\t4 & 0.0208487 & 0.0366745 \\\\\n",
       "\t5 & 0.0630693 & 0.0419534 \\\\\n",
       "\t6 & -0.664731 & -0.0758274 \\\\\n",
       "\t7 & -0.190103 & -0.0921525 \\\\\n",
       "\t8 & -0.503945 & -0.143627 \\\\\n",
       "\t9 & -0.014282 & -0.129255 \\\\\n",
       "\t10 & 0.924778 & -0.0238516 \\\\\n",
       "\t11 & 0.319054 & 0.169642 \\\\\n",
       "\t12 & -1.90645 & -0.116814 \\\\\n",
       "\t13 & 1.13315 & -0.0818613 \\\\\n",
       "\t14 & 0.341199 & -0.0498262 \\\\\n",
       "\t15 & 0.564281 & 0.000294929 \\\\\n",
       "\t16 & 0.649296 & 0.131698 \\\\\n",
       "\t17 & 0.235632 & 0.174271 \\\\\n",
       "\t18 & -0.654217 & 0.159244 \\\\\n",
       "\t19 & 0.493093 & 0.209982 \\\\\n",
       "\t20 & 1.79751 & 0.297255 \\\\\n",
       "\t$\\dots$ & $\\dots$ & $\\dots$ \\\\\n",
       "\\end{tabular}\n"
      ],
      "text/plain": [
       "\u001b[1m100000000×2 DataFrame\u001b[0m\n",
       "\u001b[1m       Row \u001b[0m│\u001b[1m data       \u001b[0m\u001b[1m sma_sk      \u001b[0m\n",
       "\u001b[1m           \u001b[0m│\u001b[90m Float64    \u001b[0m\u001b[90m Float64     \u001b[0m\n",
       "───────────┼─────────────────────────\n",
       "         1 │ -1.61589    -1.61589\n",
       "         2 │  0.958113   -0.328887\n",
       "         3 │  0.783623    0.0419497\n",
       "         4 │  0.0208487   0.0366745\n",
       "         5 │  0.0630693   0.0419534\n",
       "         6 │ -0.664731   -0.0758274\n",
       "     ⋮     │     ⋮            ⋮\n",
       "  99999996 │  0.767928    0.108615\n",
       "  99999997 │ -1.18309    -0.00618683\n",
       "  99999998 │ -0.574334   -0.0699247\n",
       "  99999999 │ -0.910176   -0.220878\n",
       " 100000000 │  0.740188   -0.236081\n",
       "\u001b[31m                99999989 rows omitted\u001b[0m"
      ]
     },
     "execution_count": 14,
     "metadata": {},
     "output_type": "execute_result"
    }
   ],
   "source": [
    "# Calculate sma using StaticKernels and SantasLittleHelpers\n",
    "k = makekernel(mean,-9:0)\n",
    "df[!, \"sma_sk\"] = applyrolling(k, df.data)\n",
    "df"
   ]
  },
  {
   "cell_type": "code",
   "execution_count": null,
   "metadata": {},
   "outputs": [],
   "source": []
  },
  {
   "cell_type": "code",
   "execution_count": 15,
   "metadata": {},
   "outputs": [
    {
     "data": {
      "text/html": [
       "<table class=\"data-frame\"><thead><tr><th></th><th>data</th><th>sma_sk</th><th>sma_tullio</th></tr><tr><th></th><th>Float64</th><th>Float64</th><th>Float64?</th></tr></thead><tbody><p>100,000,000 rows × 3 columns</p><tr><th>1</th><td>-1.61589</td><td>-1.61589</td><td><em>missing</em></td></tr><tr><th>2</th><td>0.958113</td><td>-0.328887</td><td><em>missing</em></td></tr><tr><th>3</th><td>0.783623</td><td>0.0419497</td><td><em>missing</em></td></tr><tr><th>4</th><td>0.0208487</td><td>0.0366745</td><td><em>missing</em></td></tr><tr><th>5</th><td>0.0630693</td><td>0.0419534</td><td><em>missing</em></td></tr><tr><th>6</th><td>-0.664731</td><td>-0.0758274</td><td><em>missing</em></td></tr><tr><th>7</th><td>-0.190103</td><td>-0.0921525</td><td><em>missing</em></td></tr><tr><th>8</th><td>-0.503945</td><td>-0.143627</td><td><em>missing</em></td></tr><tr><th>9</th><td>-0.014282</td><td>-0.129255</td><td><em>missing</em></td></tr><tr><th>10</th><td>0.924778</td><td>-0.0238516</td><td>-0.0238516</td></tr><tr><th>11</th><td>0.319054</td><td>0.169642</td><td>0.169642</td></tr><tr><th>12</th><td>-1.90645</td><td>-0.116814</td><td>-0.116814</td></tr><tr><th>13</th><td>1.13315</td><td>-0.0818613</td><td>-0.0818613</td></tr><tr><th>14</th><td>0.341199</td><td>-0.0498262</td><td>-0.0498262</td></tr><tr><th>15</th><td>0.564281</td><td>0.000294929</td><td>0.000294929</td></tr><tr><th>16</th><td>0.649296</td><td>0.131698</td><td>0.131698</td></tr><tr><th>17</th><td>0.235632</td><td>0.174271</td><td>0.174271</td></tr><tr><th>18</th><td>-0.654217</td><td>0.159244</td><td>0.159244</td></tr><tr><th>19</th><td>0.493093</td><td>0.209982</td><td>0.209982</td></tr><tr><th>20</th><td>1.79751</td><td>0.297255</td><td>0.297255</td></tr><tr><th>&vellip;</th><td>&vellip;</td><td>&vellip;</td><td>&vellip;</td></tr></tbody></table>"
      ],
      "text/latex": [
       "\\begin{tabular}{r|ccc}\n",
       "\t& data & sma\\_sk & sma\\_tullio\\\\\n",
       "\t\\hline\n",
       "\t& Float64 & Float64 & Float64?\\\\\n",
       "\t\\hline\n",
       "\t1 & -1.61589 & -1.61589 & \\emph{missing} \\\\\n",
       "\t2 & 0.958113 & -0.328887 & \\emph{missing} \\\\\n",
       "\t3 & 0.783623 & 0.0419497 & \\emph{missing} \\\\\n",
       "\t4 & 0.0208487 & 0.0366745 & \\emph{missing} \\\\\n",
       "\t5 & 0.0630693 & 0.0419534 & \\emph{missing} \\\\\n",
       "\t6 & -0.664731 & -0.0758274 & \\emph{missing} \\\\\n",
       "\t7 & -0.190103 & -0.0921525 & \\emph{missing} \\\\\n",
       "\t8 & -0.503945 & -0.143627 & \\emph{missing} \\\\\n",
       "\t9 & -0.014282 & -0.129255 & \\emph{missing} \\\\\n",
       "\t10 & 0.924778 & -0.0238516 & -0.0238516 \\\\\n",
       "\t11 & 0.319054 & 0.169642 & 0.169642 \\\\\n",
       "\t12 & -1.90645 & -0.116814 & -0.116814 \\\\\n",
       "\t13 & 1.13315 & -0.0818613 & -0.0818613 \\\\\n",
       "\t14 & 0.341199 & -0.0498262 & -0.0498262 \\\\\n",
       "\t15 & 0.564281 & 0.000294929 & 0.000294929 \\\\\n",
       "\t16 & 0.649296 & 0.131698 & 0.131698 \\\\\n",
       "\t17 & 0.235632 & 0.174271 & 0.174271 \\\\\n",
       "\t18 & -0.654217 & 0.159244 & 0.159244 \\\\\n",
       "\t19 & 0.493093 & 0.209982 & 0.209982 \\\\\n",
       "\t20 & 1.79751 & 0.297255 & 0.297255 \\\\\n",
       "\t$\\dots$ & $\\dots$ & $\\dots$ & $\\dots$ \\\\\n",
       "\\end{tabular}\n"
      ],
      "text/plain": [
       "\u001b[1m100000000×3 DataFrame\u001b[0m\n",
       "\u001b[1m       Row \u001b[0m│\u001b[1m data       \u001b[0m\u001b[1m sma_sk      \u001b[0m\u001b[1m sma_tullio       \u001b[0m\n",
       "\u001b[1m           \u001b[0m│\u001b[90m Float64    \u001b[0m\u001b[90m Float64     \u001b[0m\u001b[90m Float64?         \u001b[0m\n",
       "───────────┼───────────────────────────────────────────\n",
       "         1 │ -1.61589    -1.61589    \u001b[90m missing          \u001b[0m\n",
       "         2 │  0.958113   -0.328887   \u001b[90m missing          \u001b[0m\n",
       "         3 │  0.783623    0.0419497  \u001b[90m missing          \u001b[0m\n",
       "         4 │  0.0208487   0.0366745  \u001b[90m missing          \u001b[0m\n",
       "         5 │  0.0630693   0.0419534  \u001b[90m missing          \u001b[0m\n",
       "         6 │ -0.664731   -0.0758274  \u001b[90m missing          \u001b[0m\n",
       "     ⋮     │     ⋮            ⋮              ⋮\n",
       "  99999996 │  0.767928    0.108615          0.108615\n",
       "  99999997 │ -1.18309    -0.00618683       -0.00618683\n",
       "  99999998 │ -0.574334   -0.0699247        -0.0699247\n",
       "  99999999 │ -0.910176   -0.220878         -0.220878\n",
       " 100000000 │  0.740188   -0.236081         -0.236081\n",
       "\u001b[31m                                  99999989 rows omitted\u001b[0m"
      ]
     },
     "execution_count": 15,
     "metadata": {},
     "output_type": "execute_result"
    }
   ],
   "source": [
    "tmp = Array{Union{Missing, Float64}}(missing, length(df.data));\n",
    "\n",
    "function f_tullio(data, sma)\n",
    "    out_view = @view sma[10:end]\n",
    "    @tullio out_view[i] = 0.1*data[i+o]  o in 0:9  # verbose=true;\n",
    "    sma\n",
    "end\n",
    "\n",
    "df[!, \"sma_tullio\"] = f_tullio(df.data, tmp)\n",
    "df"
   ]
  },
  {
   "cell_type": "code",
   "execution_count": null,
   "metadata": {},
   "outputs": [],
   "source": []
  },
  {
   "cell_type": "code",
   "execution_count": 16,
   "metadata": {},
   "outputs": [
    {
     "data": {
      "text/plain": [
       "rollingmean2 (generic function with 1 method)"
      ]
     },
     "execution_count": 16,
     "metadata": {},
     "output_type": "execute_result"
    }
   ],
   "source": [
    "out = Vector{Union{Missing, Float64}}(undef, N)\n",
    "\n",
    "function rollingmean2(x, m, out)\n",
    "    N = length(x)\n",
    "    out[1:(m-1)] .= missing\n",
    "    sm = mean(@view x[1:m])\n",
    "    out[m] = sm\n",
    "    @inbounds @simd for i in (m+1):length(x)\n",
    "        sm += (x[i] - x[i-m]) / m\n",
    "        out[i] = sm\n",
    "    end\n",
    "    return out \n",
    "end"
   ]
  },
  {
   "cell_type": "code",
   "execution_count": 17,
   "metadata": {},
   "outputs": [
    {
     "data": {
      "text/html": [
       "<table class=\"data-frame\"><thead><tr><th></th><th>data</th><th>sma_sk</th><th>sma_tullio</th><th>sma_simd</th></tr><tr><th></th><th>Float64</th><th>Float64</th><th>Float64?</th><th>Float64?</th></tr></thead><tbody><p>100,000,000 rows × 4 columns</p><tr><th>1</th><td>-1.61589</td><td>-1.61589</td><td><em>missing</em></td><td><em>missing</em></td></tr><tr><th>2</th><td>0.958113</td><td>-0.328887</td><td><em>missing</em></td><td><em>missing</em></td></tr><tr><th>3</th><td>0.783623</td><td>0.0419497</td><td><em>missing</em></td><td><em>missing</em></td></tr><tr><th>4</th><td>0.0208487</td><td>0.0366745</td><td><em>missing</em></td><td><em>missing</em></td></tr><tr><th>5</th><td>0.0630693</td><td>0.0419534</td><td><em>missing</em></td><td><em>missing</em></td></tr><tr><th>6</th><td>-0.664731</td><td>-0.0758274</td><td><em>missing</em></td><td><em>missing</em></td></tr><tr><th>7</th><td>-0.190103</td><td>-0.0921525</td><td><em>missing</em></td><td><em>missing</em></td></tr><tr><th>8</th><td>-0.503945</td><td>-0.143627</td><td><em>missing</em></td><td><em>missing</em></td></tr><tr><th>9</th><td>-0.014282</td><td>-0.129255</td><td><em>missing</em></td><td><em>missing</em></td></tr><tr><th>10</th><td>0.924778</td><td>-0.0238516</td><td>-0.0238516</td><td>-0.0238516</td></tr><tr><th>11</th><td>0.319054</td><td>0.169642</td><td>0.169642</td><td>0.169642</td></tr><tr><th>12</th><td>-1.90645</td><td>-0.116814</td><td>-0.116814</td><td>-0.116814</td></tr><tr><th>13</th><td>1.13315</td><td>-0.0818613</td><td>-0.0818613</td><td>-0.0818613</td></tr><tr><th>14</th><td>0.341199</td><td>-0.0498262</td><td>-0.0498262</td><td>-0.0498262</td></tr><tr><th>15</th><td>0.564281</td><td>0.000294929</td><td>0.000294929</td><td>0.000294929</td></tr><tr><th>16</th><td>0.649296</td><td>0.131698</td><td>0.131698</td><td>0.131698</td></tr><tr><th>17</th><td>0.235632</td><td>0.174271</td><td>0.174271</td><td>0.174271</td></tr><tr><th>18</th><td>-0.654217</td><td>0.159244</td><td>0.159244</td><td>0.159244</td></tr><tr><th>19</th><td>0.493093</td><td>0.209982</td><td>0.209982</td><td>0.209982</td></tr><tr><th>20</th><td>1.79751</td><td>0.297255</td><td>0.297255</td><td>0.297255</td></tr><tr><th>&vellip;</th><td>&vellip;</td><td>&vellip;</td><td>&vellip;</td><td>&vellip;</td></tr></tbody></table>"
      ],
      "text/latex": [
       "\\begin{tabular}{r|cccc}\n",
       "\t& data & sma\\_sk & sma\\_tullio & sma\\_simd\\\\\n",
       "\t\\hline\n",
       "\t& Float64 & Float64 & Float64? & Float64?\\\\\n",
       "\t\\hline\n",
       "\t1 & -1.61589 & -1.61589 & \\emph{missing} & \\emph{missing} \\\\\n",
       "\t2 & 0.958113 & -0.328887 & \\emph{missing} & \\emph{missing} \\\\\n",
       "\t3 & 0.783623 & 0.0419497 & \\emph{missing} & \\emph{missing} \\\\\n",
       "\t4 & 0.0208487 & 0.0366745 & \\emph{missing} & \\emph{missing} \\\\\n",
       "\t5 & 0.0630693 & 0.0419534 & \\emph{missing} & \\emph{missing} \\\\\n",
       "\t6 & -0.664731 & -0.0758274 & \\emph{missing} & \\emph{missing} \\\\\n",
       "\t7 & -0.190103 & -0.0921525 & \\emph{missing} & \\emph{missing} \\\\\n",
       "\t8 & -0.503945 & -0.143627 & \\emph{missing} & \\emph{missing} \\\\\n",
       "\t9 & -0.014282 & -0.129255 & \\emph{missing} & \\emph{missing} \\\\\n",
       "\t10 & 0.924778 & -0.0238516 & -0.0238516 & -0.0238516 \\\\\n",
       "\t11 & 0.319054 & 0.169642 & 0.169642 & 0.169642 \\\\\n",
       "\t12 & -1.90645 & -0.116814 & -0.116814 & -0.116814 \\\\\n",
       "\t13 & 1.13315 & -0.0818613 & -0.0818613 & -0.0818613 \\\\\n",
       "\t14 & 0.341199 & -0.0498262 & -0.0498262 & -0.0498262 \\\\\n",
       "\t15 & 0.564281 & 0.000294929 & 0.000294929 & 0.000294929 \\\\\n",
       "\t16 & 0.649296 & 0.131698 & 0.131698 & 0.131698 \\\\\n",
       "\t17 & 0.235632 & 0.174271 & 0.174271 & 0.174271 \\\\\n",
       "\t18 & -0.654217 & 0.159244 & 0.159244 & 0.159244 \\\\\n",
       "\t19 & 0.493093 & 0.209982 & 0.209982 & 0.209982 \\\\\n",
       "\t20 & 1.79751 & 0.297255 & 0.297255 & 0.297255 \\\\\n",
       "\t$\\dots$ & $\\dots$ & $\\dots$ & $\\dots$ & $\\dots$ \\\\\n",
       "\\end{tabular}\n"
      ],
      "text/plain": [
       "\u001b[1m100000000×4 DataFrame\u001b[0m\n",
       "\u001b[1m       Row \u001b[0m│\u001b[1m data       \u001b[0m\u001b[1m sma_sk      \u001b[0m\u001b[1m sma_tullio       \u001b[0m\u001b[1m sma_simd         \u001b[0m\n",
       "\u001b[1m           \u001b[0m│\u001b[90m Float64    \u001b[0m\u001b[90m Float64     \u001b[0m\u001b[90m Float64?         \u001b[0m\u001b[90m Float64?         \u001b[0m\n",
       "───────────┼─────────────────────────────────────────────────────────────\n",
       "         1 │ -1.61589    -1.61589    \u001b[90m missing          \u001b[0m\u001b[90m missing          \u001b[0m\n",
       "         2 │  0.958113   -0.328887   \u001b[90m missing          \u001b[0m\u001b[90m missing          \u001b[0m\n",
       "         3 │  0.783623    0.0419497  \u001b[90m missing          \u001b[0m\u001b[90m missing          \u001b[0m\n",
       "         4 │  0.0208487   0.0366745  \u001b[90m missing          \u001b[0m\u001b[90m missing          \u001b[0m\n",
       "         5 │  0.0630693   0.0419534  \u001b[90m missing          \u001b[0m\u001b[90m missing          \u001b[0m\n",
       "         6 │ -0.664731   -0.0758274  \u001b[90m missing          \u001b[0m\u001b[90m missing          \u001b[0m\n",
       "     ⋮     │     ⋮            ⋮              ⋮                 ⋮\n",
       "  99999996 │  0.767928    0.108615          0.108615          0.108615\n",
       "  99999997 │ -1.18309    -0.00618683       -0.00618683       -0.00618683\n",
       "  99999998 │ -0.574334   -0.0699247        -0.0699247        -0.0699247\n",
       "  99999999 │ -0.910176   -0.220878         -0.220878         -0.220878\n",
       " 100000000 │  0.740188   -0.236081         -0.236081         -0.236081\n",
       "\u001b[31m                                                    99999989 rows omitted\u001b[0m"
      ]
     },
     "execution_count": 17,
     "metadata": {},
     "output_type": "execute_result"
    }
   ],
   "source": [
    "df[!, \"sma_simd\"] = rollingmean2(df.data, 10, out)\n",
    "df"
   ]
  },
  {
   "cell_type": "code",
   "execution_count": null,
   "metadata": {},
   "outputs": [],
   "source": []
  },
  {
   "cell_type": "code",
   "execution_count": 18,
   "metadata": {},
   "outputs": [
    {
     "data": {
      "text/plain": [
       "BenchmarkTools.Trial: \n",
       "  memory estimate:  762.94 MiB\n",
       "  allocs estimate:  2\n",
       "  --------------\n",
       "  minimum time:     1.107 s (0.13% GC)\n",
       "  median time:      1.170 s (0.12% GC)\n",
       "  mean time:        1.184 s (3.59% GC)\n",
       "  maximum time:     1.294 s (9.84% GC)\n",
       "  --------------\n",
       "  samples:          5\n",
       "  evals/sample:     1"
      ]
     },
     "execution_count": 18,
     "metadata": {},
     "output_type": "execute_result"
    }
   ],
   "source": [
    "@benchmark applyrolling(k, df.data)"
   ]
  },
  {
   "cell_type": "code",
   "execution_count": 19,
   "metadata": {},
   "outputs": [
    {
     "data": {
      "text/plain": [
       "BenchmarkTools.Trial: \n",
       "  memory estimate:  7.58 KiB\n",
       "  allocs estimate:  114\n",
       "  --------------\n",
       "  minimum time:     133.653 ms (0.00% GC)\n",
       "  median time:      139.918 ms (0.00% GC)\n",
       "  mean time:        142.657 ms (0.00% GC)\n",
       "  maximum time:     172.834 ms (0.00% GC)\n",
       "  --------------\n",
       "  samples:          36\n",
       "  evals/sample:     1"
      ]
     },
     "execution_count": 19,
     "metadata": {},
     "output_type": "execute_result"
    }
   ],
   "source": [
    "@benchmark f_tullio(df.data, tmp)"
   ]
  },
  {
   "cell_type": "code",
   "execution_count": 20,
   "metadata": {},
   "outputs": [
    {
     "data": {
      "text/plain": [
       "BenchmarkTools.Trial: \n",
       "  memory estimate:  0 bytes\n",
       "  allocs estimate:  0\n",
       "  --------------\n",
       "  minimum time:     133.842 ms (0.00% GC)\n",
       "  median time:      139.875 ms (0.00% GC)\n",
       "  mean time:        143.018 ms (0.00% GC)\n",
       "  maximum time:     156.371 ms (0.00% GC)\n",
       "  --------------\n",
       "  samples:          36\n",
       "  evals/sample:     1"
      ]
     },
     "execution_count": 20,
     "metadata": {},
     "output_type": "execute_result"
    }
   ],
   "source": [
    "@benchmark rollingmean2(df.data, 10, out)"
   ]
  },
  {
   "cell_type": "code",
   "execution_count": null,
   "metadata": {},
   "outputs": [],
   "source": []
  }
 ],
 "metadata": {
  "kernelspec": {
   "display_name": "Julia 1.5.3",
   "language": "julia",
   "name": "julia-1.5"
  },
  "language_info": {
   "file_extension": ".jl",
   "mimetype": "application/julia",
   "name": "julia",
   "version": "1.5.3"
  }
 },
 "nbformat": 4,
 "nbformat_minor": 4
}
