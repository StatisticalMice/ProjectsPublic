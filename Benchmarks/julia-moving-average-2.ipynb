{
 "cells": [
  {
   "cell_type": "code",
   "execution_count": 21,
   "metadata": {},
   "outputs": [
    {
     "data": {
      "text/plain": [
       "(v\"1.5.3\", 8, 8)"
      ]
     },
     "execution_count": 21,
     "metadata": {},
     "output_type": "execute_result"
    }
   ],
   "source": [
    "# Set some notebook defaults\n",
    "ENV[\"COLUMNS\"] = 1000; ENV[\"LINES\"] = 20;\n",
    "\n",
    "# Display information about the environment\n",
    "VERSION, Base.Threads.nthreads(), Base.Sys.CPU_THREADS"
   ]
  },
  {
   "cell_type": "code",
   "execution_count": 22,
   "metadata": {},
   "outputs": [],
   "source": [
    "using Random, Distributions, BenchmarkTools, Tullio, LoopVectorization, DataFrames, StaticKernels, SantasLittleHelpers"
   ]
  },
  {
   "cell_type": "code",
   "execution_count": 23,
   "metadata": {},
   "outputs": [
    {
     "data": {
      "text/html": [
       "<table class=\"data-frame\"><thead><tr><th></th><th>data</th></tr><tr><th></th><th>Float64</th></tr></thead><tbody><p>100,000,000 rows × 1 columns</p><tr><th>1</th><td>-1.71653</td></tr><tr><th>2</th><td>-0.854815</td></tr><tr><th>3</th><td>-1.32994</td></tr><tr><th>4</th><td>0.146672</td></tr><tr><th>5</th><td>-0.0621817</td></tr><tr><th>6</th><td>-0.776147</td></tr><tr><th>7</th><td>-0.300822</td></tr><tr><th>8</th><td>-1.21474</td></tr><tr><th>9</th><td>-0.57942</td></tr><tr><th>10</th><td>-1.33655</td></tr><tr><th>11</th><td>-0.071117</td></tr><tr><th>12</th><td>-1.26683</td></tr><tr><th>13</th><td>0.646289</td></tr><tr><th>14</th><td>0.281898</td></tr><tr><th>15</th><td>1.6218</td></tr><tr><th>16</th><td>0.973132</td></tr><tr><th>17</th><td>0.0363284</td></tr><tr><th>18</th><td>0.877183</td></tr><tr><th>19</th><td>0.793106</td></tr><tr><th>20</th><td>1.10742</td></tr><tr><th>&vellip;</th><td>&vellip;</td></tr></tbody></table>"
      ],
      "text/latex": [
       "\\begin{tabular}{r|c}\n",
       "\t& data\\\\\n",
       "\t\\hline\n",
       "\t& Float64\\\\\n",
       "\t\\hline\n",
       "\t1 & -1.71653 \\\\\n",
       "\t2 & -0.854815 \\\\\n",
       "\t3 & -1.32994 \\\\\n",
       "\t4 & 0.146672 \\\\\n",
       "\t5 & -0.0621817 \\\\\n",
       "\t6 & -0.776147 \\\\\n",
       "\t7 & -0.300822 \\\\\n",
       "\t8 & -1.21474 \\\\\n",
       "\t9 & -0.57942 \\\\\n",
       "\t10 & -1.33655 \\\\\n",
       "\t11 & -0.071117 \\\\\n",
       "\t12 & -1.26683 \\\\\n",
       "\t13 & 0.646289 \\\\\n",
       "\t14 & 0.281898 \\\\\n",
       "\t15 & 1.6218 \\\\\n",
       "\t16 & 0.973132 \\\\\n",
       "\t17 & 0.0363284 \\\\\n",
       "\t18 & 0.877183 \\\\\n",
       "\t19 & 0.793106 \\\\\n",
       "\t20 & 1.10742 \\\\\n",
       "\t$\\dots$ & $\\dots$ \\\\\n",
       "\\end{tabular}\n"
      ],
      "text/plain": [
       "\u001b[1m100000000×1 DataFrame\u001b[0m\n",
       "\u001b[1m       Row \u001b[0m│\u001b[1m data       \u001b[0m\n",
       "\u001b[1m           \u001b[0m│\u001b[90m Float64    \u001b[0m\n",
       "───────────┼────────────\n",
       "         1 │ -1.71653\n",
       "         2 │ -0.854815\n",
       "         3 │ -1.32994\n",
       "         4 │  0.146672\n",
       "         5 │ -0.0621817\n",
       "         6 │ -0.776147\n",
       "     ⋮     │     ⋮\n",
       "  99999996 │ -0.785854\n",
       "  99999997 │ -0.188658\n",
       "  99999998 │ -1.11216\n",
       "  99999999 │  0.251444\n",
       " 100000000 │ -0.259918\n",
       "\u001b[31m   99999989 rows omitted\u001b[0m"
      ]
     },
     "execution_count": 23,
     "metadata": {},
     "output_type": "execute_result"
    }
   ],
   "source": [
    "N = 10^8\n",
    "d = Normal()\n",
    "df = DataFrame(:data => rand(d, N))"
   ]
  },
  {
   "cell_type": "raw",
   "metadata": {},
   "source": [
    "df = DataFrame(data = ones(10^6))"
   ]
  },
  {
   "cell_type": "code",
   "execution_count": 24,
   "metadata": {},
   "outputs": [
    {
     "data": {
      "text/html": [
       "<table class=\"data-frame\"><thead><tr><th></th><th>data</th><th>sma_sk</th></tr><tr><th></th><th>Float64</th><th>Float64</th></tr></thead><tbody><p>100,000,000 rows × 2 columns</p><tr><th>1</th><td>-1.71653</td><td>-1.71653</td></tr><tr><th>2</th><td>-0.854815</td><td>-1.28567</td></tr><tr><th>3</th><td>-1.32994</td><td>-1.30043</td></tr><tr><th>4</th><td>0.146672</td><td>-0.938653</td></tr><tr><th>5</th><td>-0.0621817</td><td>-0.763359</td></tr><tr><th>6</th><td>-0.776147</td><td>-0.76549</td></tr><tr><th>7</th><td>-0.300822</td><td>-0.699109</td></tr><tr><th>8</th><td>-1.21474</td><td>-0.763563</td></tr><tr><th>9</th><td>-0.57942</td><td>-0.743103</td></tr><tr><th>10</th><td>-1.33655</td><td>-0.802447</td></tr><tr><th>11</th><td>-0.071117</td><td>-0.637906</td></tr><tr><th>12</th><td>-1.26683</td><td>-0.679108</td></tr><tr><th>13</th><td>0.646289</td><td>-0.481485</td></tr><tr><th>14</th><td>0.281898</td><td>-0.467962</td></tr><tr><th>15</th><td>1.6218</td><td>-0.299564</td></tr><tr><th>16</th><td>0.973132</td><td>-0.124636</td></tr><tr><th>17</th><td>0.0363284</td><td>-0.0909214</td></tr><tr><th>18</th><td>0.877183</td><td>0.118271</td></tr><tr><th>19</th><td>0.793106</td><td>0.255524</td></tr><tr><th>20</th><td>1.10742</td><td>0.49992</td></tr><tr><th>&vellip;</th><td>&vellip;</td><td>&vellip;</td></tr></tbody></table>"
      ],
      "text/latex": [
       "\\begin{tabular}{r|cc}\n",
       "\t& data & sma\\_sk\\\\\n",
       "\t\\hline\n",
       "\t& Float64 & Float64\\\\\n",
       "\t\\hline\n",
       "\t1 & -1.71653 & -1.71653 \\\\\n",
       "\t2 & -0.854815 & -1.28567 \\\\\n",
       "\t3 & -1.32994 & -1.30043 \\\\\n",
       "\t4 & 0.146672 & -0.938653 \\\\\n",
       "\t5 & -0.0621817 & -0.763359 \\\\\n",
       "\t6 & -0.776147 & -0.76549 \\\\\n",
       "\t7 & -0.300822 & -0.699109 \\\\\n",
       "\t8 & -1.21474 & -0.763563 \\\\\n",
       "\t9 & -0.57942 & -0.743103 \\\\\n",
       "\t10 & -1.33655 & -0.802447 \\\\\n",
       "\t11 & -0.071117 & -0.637906 \\\\\n",
       "\t12 & -1.26683 & -0.679108 \\\\\n",
       "\t13 & 0.646289 & -0.481485 \\\\\n",
       "\t14 & 0.281898 & -0.467962 \\\\\n",
       "\t15 & 1.6218 & -0.299564 \\\\\n",
       "\t16 & 0.973132 & -0.124636 \\\\\n",
       "\t17 & 0.0363284 & -0.0909214 \\\\\n",
       "\t18 & 0.877183 & 0.118271 \\\\\n",
       "\t19 & 0.793106 & 0.255524 \\\\\n",
       "\t20 & 1.10742 & 0.49992 \\\\\n",
       "\t$\\dots$ & $\\dots$ & $\\dots$ \\\\\n",
       "\\end{tabular}\n"
      ],
      "text/plain": [
       "\u001b[1m100000000×2 DataFrame\u001b[0m\n",
       "\u001b[1m       Row \u001b[0m│\u001b[1m data       \u001b[0m\u001b[1m sma_sk    \u001b[0m\n",
       "\u001b[1m           \u001b[0m│\u001b[90m Float64    \u001b[0m\u001b[90m Float64   \u001b[0m\n",
       "───────────┼───────────────────────\n",
       "         1 │ -1.71653    -1.71653\n",
       "         2 │ -0.854815   -1.28567\n",
       "         3 │ -1.32994    -1.30043\n",
       "         4 │  0.146672   -0.938653\n",
       "         5 │ -0.0621817  -0.763359\n",
       "         6 │ -0.776147   -0.76549\n",
       "     ⋮     │     ⋮           ⋮\n",
       "  99999996 │ -0.785854   -0.615476\n",
       "  99999997 │ -0.188658   -0.596995\n",
       "  99999998 │ -1.11216    -0.716148\n",
       "  99999999 │  0.251444   -0.612455\n",
       " 100000000 │ -0.259918   -0.633897\n",
       "\u001b[31m              99999989 rows omitted\u001b[0m"
      ]
     },
     "execution_count": 24,
     "metadata": {},
     "output_type": "execute_result"
    }
   ],
   "source": [
    "# Calculate sma using StaticKernels and SantasLittleHelpers\n",
    "# Contains code originally from \n",
    "\n",
    "k = makekernel(mean,-9:0)\n",
    "df[!, \"sma_sk\"] = applyrolling(k, df.data)\n",
    "df"
   ]
  },
  {
   "cell_type": "code",
   "execution_count": null,
   "metadata": {},
   "outputs": [],
   "source": []
  },
  {
   "cell_type": "code",
   "execution_count": 25,
   "metadata": {},
   "outputs": [
    {
     "data": {
      "text/html": [
       "<table class=\"data-frame\"><thead><tr><th></th><th>data</th><th>sma_sk</th><th>sma_tullio</th></tr><tr><th></th><th>Float64</th><th>Float64</th><th>Float64?</th></tr></thead><tbody><p>100,000,000 rows × 3 columns</p><tr><th>1</th><td>-1.71653</td><td>-1.71653</td><td><em>missing</em></td></tr><tr><th>2</th><td>-0.854815</td><td>-1.28567</td><td><em>missing</em></td></tr><tr><th>3</th><td>-1.32994</td><td>-1.30043</td><td><em>missing</em></td></tr><tr><th>4</th><td>0.146672</td><td>-0.938653</td><td><em>missing</em></td></tr><tr><th>5</th><td>-0.0621817</td><td>-0.763359</td><td><em>missing</em></td></tr><tr><th>6</th><td>-0.776147</td><td>-0.76549</td><td><em>missing</em></td></tr><tr><th>7</th><td>-0.300822</td><td>-0.699109</td><td><em>missing</em></td></tr><tr><th>8</th><td>-1.21474</td><td>-0.763563</td><td><em>missing</em></td></tr><tr><th>9</th><td>-0.57942</td><td>-0.743103</td><td><em>missing</em></td></tr><tr><th>10</th><td>-1.33655</td><td>-0.802447</td><td>-0.802447</td></tr><tr><th>11</th><td>-0.071117</td><td>-0.637906</td><td>-0.637906</td></tr><tr><th>12</th><td>-1.26683</td><td>-0.679108</td><td>-0.679108</td></tr><tr><th>13</th><td>0.646289</td><td>-0.481485</td><td>-0.481485</td></tr><tr><th>14</th><td>0.281898</td><td>-0.467962</td><td>-0.467962</td></tr><tr><th>15</th><td>1.6218</td><td>-0.299564</td><td>-0.299564</td></tr><tr><th>16</th><td>0.973132</td><td>-0.124636</td><td>-0.124636</td></tr><tr><th>17</th><td>0.0363284</td><td>-0.0909214</td><td>-0.0909214</td></tr><tr><th>18</th><td>0.877183</td><td>0.118271</td><td>0.118271</td></tr><tr><th>19</th><td>0.793106</td><td>0.255524</td><td>0.255524</td></tr><tr><th>20</th><td>1.10742</td><td>0.49992</td><td>0.49992</td></tr><tr><th>&vellip;</th><td>&vellip;</td><td>&vellip;</td><td>&vellip;</td></tr></tbody></table>"
      ],
      "text/latex": [
       "\\begin{tabular}{r|ccc}\n",
       "\t& data & sma\\_sk & sma\\_tullio\\\\\n",
       "\t\\hline\n",
       "\t& Float64 & Float64 & Float64?\\\\\n",
       "\t\\hline\n",
       "\t1 & -1.71653 & -1.71653 & \\emph{missing} \\\\\n",
       "\t2 & -0.854815 & -1.28567 & \\emph{missing} \\\\\n",
       "\t3 & -1.32994 & -1.30043 & \\emph{missing} \\\\\n",
       "\t4 & 0.146672 & -0.938653 & \\emph{missing} \\\\\n",
       "\t5 & -0.0621817 & -0.763359 & \\emph{missing} \\\\\n",
       "\t6 & -0.776147 & -0.76549 & \\emph{missing} \\\\\n",
       "\t7 & -0.300822 & -0.699109 & \\emph{missing} \\\\\n",
       "\t8 & -1.21474 & -0.763563 & \\emph{missing} \\\\\n",
       "\t9 & -0.57942 & -0.743103 & \\emph{missing} \\\\\n",
       "\t10 & -1.33655 & -0.802447 & -0.802447 \\\\\n",
       "\t11 & -0.071117 & -0.637906 & -0.637906 \\\\\n",
       "\t12 & -1.26683 & -0.679108 & -0.679108 \\\\\n",
       "\t13 & 0.646289 & -0.481485 & -0.481485 \\\\\n",
       "\t14 & 0.281898 & -0.467962 & -0.467962 \\\\\n",
       "\t15 & 1.6218 & -0.299564 & -0.299564 \\\\\n",
       "\t16 & 0.973132 & -0.124636 & -0.124636 \\\\\n",
       "\t17 & 0.0363284 & -0.0909214 & -0.0909214 \\\\\n",
       "\t18 & 0.877183 & 0.118271 & 0.118271 \\\\\n",
       "\t19 & 0.793106 & 0.255524 & 0.255524 \\\\\n",
       "\t20 & 1.10742 & 0.49992 & 0.49992 \\\\\n",
       "\t$\\dots$ & $\\dots$ & $\\dots$ & $\\dots$ \\\\\n",
       "\\end{tabular}\n"
      ],
      "text/plain": [
       "\u001b[1m100000000×3 DataFrame\u001b[0m\n",
       "\u001b[1m       Row \u001b[0m│\u001b[1m data       \u001b[0m\u001b[1m sma_sk    \u001b[0m\u001b[1m sma_tullio     \u001b[0m\n",
       "\u001b[1m           \u001b[0m│\u001b[90m Float64    \u001b[0m\u001b[90m Float64   \u001b[0m\u001b[90m Float64?       \u001b[0m\n",
       "───────────┼───────────────────────────────────────\n",
       "         1 │ -1.71653    -1.71653  \u001b[90m missing        \u001b[0m\n",
       "         2 │ -0.854815   -1.28567  \u001b[90m missing        \u001b[0m\n",
       "         3 │ -1.32994    -1.30043  \u001b[90m missing        \u001b[0m\n",
       "         4 │  0.146672   -0.938653 \u001b[90m missing        \u001b[0m\n",
       "         5 │ -0.0621817  -0.763359 \u001b[90m missing        \u001b[0m\n",
       "         6 │ -0.776147   -0.76549  \u001b[90m missing        \u001b[0m\n",
       "     ⋮     │     ⋮           ⋮            ⋮\n",
       "  99999996 │ -0.785854   -0.615476       -0.615476\n",
       "  99999997 │ -0.188658   -0.596995       -0.596995\n",
       "  99999998 │ -1.11216    -0.716148       -0.716148\n",
       "  99999999 │  0.251444   -0.612455       -0.612455\n",
       " 100000000 │ -0.259918   -0.633897       -0.633897\n",
       "\u001b[31m                              99999989 rows omitted\u001b[0m"
      ]
     },
     "execution_count": 25,
     "metadata": {},
     "output_type": "execute_result"
    }
   ],
   "source": [
    "# Contains code originally from Michael Abbott\n",
    "\n",
    "tmp = Array{Union{Missing, Float64}}(missing, length(df.data));\n",
    "\n",
    "function f_tullio(data, sma)\n",
    "    out_view = @view sma[10:end]\n",
    "    @tullio out_view[i] = 0.1*data[i+o]  o in 0:9  # verbose=true;\n",
    "    sma\n",
    "end\n",
    "\n",
    "df[!, \"sma_tullio\"] = f_tullio(df.data, tmp)\n",
    "df"
   ]
  },
  {
   "cell_type": "code",
   "execution_count": null,
   "metadata": {},
   "outputs": [],
   "source": []
  },
  {
   "cell_type": "code",
   "execution_count": 26,
   "metadata": {},
   "outputs": [
    {
     "data": {
      "text/plain": [
       "rollingmean2 (generic function with 1 method)"
      ]
     },
     "execution_count": 26,
     "metadata": {},
     "output_type": "execute_result"
    }
   ],
   "source": [
    "# Contains code originally from Peter Deffebach\n",
    "\n",
    "out = Vector{Union{Missing, Float64}}(undef, N)\n",
    "\n",
    "function rollingmean2(x, m, out)\n",
    "    N = length(x)\n",
    "    out[1:(m-1)] .= missing\n",
    "    sm = mean(@view x[1:m])\n",
    "    out[m] = sm\n",
    "    @inbounds @simd for i in (m+1):length(x)\n",
    "        sm += (x[i] - x[i-m]) / m\n",
    "        out[i] = sm\n",
    "    end\n",
    "    return out \n",
    "end"
   ]
  },
  {
   "cell_type": "code",
   "execution_count": 27,
   "metadata": {},
   "outputs": [
    {
     "data": {
      "text/html": [
       "<table class=\"data-frame\"><thead><tr><th></th><th>data</th><th>sma_sk</th><th>sma_tullio</th><th>sma_simd</th></tr><tr><th></th><th>Float64</th><th>Float64</th><th>Float64?</th><th>Float64?</th></tr></thead><tbody><p>100,000,000 rows × 4 columns</p><tr><th>1</th><td>-1.71653</td><td>-1.71653</td><td><em>missing</em></td><td><em>missing</em></td></tr><tr><th>2</th><td>-0.854815</td><td>-1.28567</td><td><em>missing</em></td><td><em>missing</em></td></tr><tr><th>3</th><td>-1.32994</td><td>-1.30043</td><td><em>missing</em></td><td><em>missing</em></td></tr><tr><th>4</th><td>0.146672</td><td>-0.938653</td><td><em>missing</em></td><td><em>missing</em></td></tr><tr><th>5</th><td>-0.0621817</td><td>-0.763359</td><td><em>missing</em></td><td><em>missing</em></td></tr><tr><th>6</th><td>-0.776147</td><td>-0.76549</td><td><em>missing</em></td><td><em>missing</em></td></tr><tr><th>7</th><td>-0.300822</td><td>-0.699109</td><td><em>missing</em></td><td><em>missing</em></td></tr><tr><th>8</th><td>-1.21474</td><td>-0.763563</td><td><em>missing</em></td><td><em>missing</em></td></tr><tr><th>9</th><td>-0.57942</td><td>-0.743103</td><td><em>missing</em></td><td><em>missing</em></td></tr><tr><th>10</th><td>-1.33655</td><td>-0.802447</td><td>-0.802447</td><td>-0.802447</td></tr><tr><th>11</th><td>-0.071117</td><td>-0.637906</td><td>-0.637906</td><td>-0.637906</td></tr><tr><th>12</th><td>-1.26683</td><td>-0.679108</td><td>-0.679108</td><td>-0.679108</td></tr><tr><th>13</th><td>0.646289</td><td>-0.481485</td><td>-0.481485</td><td>-0.481485</td></tr><tr><th>14</th><td>0.281898</td><td>-0.467962</td><td>-0.467962</td><td>-0.467962</td></tr><tr><th>15</th><td>1.6218</td><td>-0.299564</td><td>-0.299564</td><td>-0.299564</td></tr><tr><th>16</th><td>0.973132</td><td>-0.124636</td><td>-0.124636</td><td>-0.124636</td></tr><tr><th>17</th><td>0.0363284</td><td>-0.0909214</td><td>-0.0909214</td><td>-0.0909214</td></tr><tr><th>18</th><td>0.877183</td><td>0.118271</td><td>0.118271</td><td>0.118271</td></tr><tr><th>19</th><td>0.793106</td><td>0.255524</td><td>0.255524</td><td>0.255524</td></tr><tr><th>20</th><td>1.10742</td><td>0.49992</td><td>0.49992</td><td>0.49992</td></tr><tr><th>&vellip;</th><td>&vellip;</td><td>&vellip;</td><td>&vellip;</td><td>&vellip;</td></tr></tbody></table>"
      ],
      "text/latex": [
       "\\begin{tabular}{r|cccc}\n",
       "\t& data & sma\\_sk & sma\\_tullio & sma\\_simd\\\\\n",
       "\t\\hline\n",
       "\t& Float64 & Float64 & Float64? & Float64?\\\\\n",
       "\t\\hline\n",
       "\t1 & -1.71653 & -1.71653 & \\emph{missing} & \\emph{missing} \\\\\n",
       "\t2 & -0.854815 & -1.28567 & \\emph{missing} & \\emph{missing} \\\\\n",
       "\t3 & -1.32994 & -1.30043 & \\emph{missing} & \\emph{missing} \\\\\n",
       "\t4 & 0.146672 & -0.938653 & \\emph{missing} & \\emph{missing} \\\\\n",
       "\t5 & -0.0621817 & -0.763359 & \\emph{missing} & \\emph{missing} \\\\\n",
       "\t6 & -0.776147 & -0.76549 & \\emph{missing} & \\emph{missing} \\\\\n",
       "\t7 & -0.300822 & -0.699109 & \\emph{missing} & \\emph{missing} \\\\\n",
       "\t8 & -1.21474 & -0.763563 & \\emph{missing} & \\emph{missing} \\\\\n",
       "\t9 & -0.57942 & -0.743103 & \\emph{missing} & \\emph{missing} \\\\\n",
       "\t10 & -1.33655 & -0.802447 & -0.802447 & -0.802447 \\\\\n",
       "\t11 & -0.071117 & -0.637906 & -0.637906 & -0.637906 \\\\\n",
       "\t12 & -1.26683 & -0.679108 & -0.679108 & -0.679108 \\\\\n",
       "\t13 & 0.646289 & -0.481485 & -0.481485 & -0.481485 \\\\\n",
       "\t14 & 0.281898 & -0.467962 & -0.467962 & -0.467962 \\\\\n",
       "\t15 & 1.6218 & -0.299564 & -0.299564 & -0.299564 \\\\\n",
       "\t16 & 0.973132 & -0.124636 & -0.124636 & -0.124636 \\\\\n",
       "\t17 & 0.0363284 & -0.0909214 & -0.0909214 & -0.0909214 \\\\\n",
       "\t18 & 0.877183 & 0.118271 & 0.118271 & 0.118271 \\\\\n",
       "\t19 & 0.793106 & 0.255524 & 0.255524 & 0.255524 \\\\\n",
       "\t20 & 1.10742 & 0.49992 & 0.49992 & 0.49992 \\\\\n",
       "\t$\\dots$ & $\\dots$ & $\\dots$ & $\\dots$ & $\\dots$ \\\\\n",
       "\\end{tabular}\n"
      ],
      "text/plain": [
       "\u001b[1m100000000×4 DataFrame\u001b[0m\n",
       "\u001b[1m       Row \u001b[0m│\u001b[1m data       \u001b[0m\u001b[1m sma_sk    \u001b[0m\u001b[1m sma_tullio     \u001b[0m\u001b[1m sma_simd       \u001b[0m\n",
       "\u001b[1m           \u001b[0m│\u001b[90m Float64    \u001b[0m\u001b[90m Float64   \u001b[0m\u001b[90m Float64?       \u001b[0m\u001b[90m Float64?       \u001b[0m\n",
       "───────────┼───────────────────────────────────────────────────────\n",
       "         1 │ -1.71653    -1.71653  \u001b[90m missing        \u001b[0m\u001b[90m missing        \u001b[0m\n",
       "         2 │ -0.854815   -1.28567  \u001b[90m missing        \u001b[0m\u001b[90m missing        \u001b[0m\n",
       "         3 │ -1.32994    -1.30043  \u001b[90m missing        \u001b[0m\u001b[90m missing        \u001b[0m\n",
       "         4 │  0.146672   -0.938653 \u001b[90m missing        \u001b[0m\u001b[90m missing        \u001b[0m\n",
       "         5 │ -0.0621817  -0.763359 \u001b[90m missing        \u001b[0m\u001b[90m missing        \u001b[0m\n",
       "         6 │ -0.776147   -0.76549  \u001b[90m missing        \u001b[0m\u001b[90m missing        \u001b[0m\n",
       "     ⋮     │     ⋮           ⋮            ⋮               ⋮\n",
       "  99999996 │ -0.785854   -0.615476       -0.615476       -0.615476\n",
       "  99999997 │ -0.188658   -0.596995       -0.596995       -0.596995\n",
       "  99999998 │ -1.11216    -0.716148       -0.716148       -0.716148\n",
       "  99999999 │  0.251444   -0.612455       -0.612455       -0.612455\n",
       " 100000000 │ -0.259918   -0.633897       -0.633897       -0.633897\n",
       "\u001b[31m                                              99999989 rows omitted\u001b[0m"
      ]
     },
     "execution_count": 27,
     "metadata": {},
     "output_type": "execute_result"
    }
   ],
   "source": [
    "df[!, \"sma_simd\"] = rollingmean2(df.data, 10, out)\n",
    "df"
   ]
  },
  {
   "cell_type": "code",
   "execution_count": null,
   "metadata": {},
   "outputs": [],
   "source": []
  },
  {
   "cell_type": "code",
   "execution_count": 28,
   "metadata": {},
   "outputs": [
    {
     "data": {
      "text/plain": [
       "BenchmarkTools.Trial: \n",
       "  memory estimate:  762.94 MiB\n",
       "  allocs estimate:  2\n",
       "  --------------\n",
       "  minimum time:     1.026 s (0.11% GC)\n",
       "  median time:      1.055 s (0.12% GC)\n",
       "  mean time:        1.078 s (3.87% GC)\n",
       "  maximum time:     1.158 s (10.88% GC)\n",
       "  --------------\n",
       "  samples:          5\n",
       "  evals/sample:     1"
      ]
     },
     "execution_count": 28,
     "metadata": {},
     "output_type": "execute_result"
    }
   ],
   "source": [
    "@benchmark applyrolling(k, df.data)"
   ]
  },
  {
   "cell_type": "code",
   "execution_count": 29,
   "metadata": {},
   "outputs": [
    {
     "data": {
      "text/plain": [
       "BenchmarkTools.Trial: \n",
       "  memory estimate:  7.58 KiB\n",
       "  allocs estimate:  114\n",
       "  --------------\n",
       "  minimum time:     135.175 ms (0.00% GC)\n",
       "  median time:      145.747 ms (0.00% GC)\n",
       "  mean time:        147.128 ms (0.00% GC)\n",
       "  maximum time:     173.753 ms (0.00% GC)\n",
       "  --------------\n",
       "  samples:          34\n",
       "  evals/sample:     1"
      ]
     },
     "execution_count": 29,
     "metadata": {},
     "output_type": "execute_result"
    }
   ],
   "source": [
    "@benchmark f_tullio(df.data, tmp)"
   ]
  },
  {
   "cell_type": "code",
   "execution_count": 30,
   "metadata": {},
   "outputs": [
    {
     "data": {
      "text/plain": [
       "BenchmarkTools.Trial: \n",
       "  memory estimate:  0 bytes\n",
       "  allocs estimate:  0\n",
       "  --------------\n",
       "  minimum time:     128.876 ms (0.00% GC)\n",
       "  median time:      145.206 ms (0.00% GC)\n",
       "  mean time:        145.148 ms (0.00% GC)\n",
       "  maximum time:     176.760 ms (0.00% GC)\n",
       "  --------------\n",
       "  samples:          35\n",
       "  evals/sample:     1"
      ]
     },
     "execution_count": 30,
     "metadata": {},
     "output_type": "execute_result"
    }
   ],
   "source": [
    "@benchmark rollingmean2(df.data, 10, out)"
   ]
  },
  {
   "cell_type": "code",
   "execution_count": null,
   "metadata": {},
   "outputs": [],
   "source": []
  }
 ],
 "metadata": {
  "kernelspec": {
   "display_name": "Julia 1.5.3",
   "language": "julia",
   "name": "julia-1.5"
  },
  "language_info": {
   "file_extension": ".jl",
   "mimetype": "application/julia",
   "name": "julia",
   "version": "1.5.3"
  }
 },
 "nbformat": 4,
 "nbformat_minor": 4
}
