{
 "cells": [
  {
   "cell_type": "code",
   "execution_count": 1,
   "metadata": {},
   "outputs": [
    {
     "data": {
      "text/plain": [
       "(v\"1.5.3\", 8, 8)"
      ]
     },
     "execution_count": 1,
     "metadata": {},
     "output_type": "execute_result"
    }
   ],
   "source": [
    "# Display information about the environment\n",
    "VERSION, Base.Threads.nthreads(), Base.Sys.CPU_THREADS"
   ]
  },
  {
   "cell_type": "code",
   "execution_count": 2,
   "metadata": {},
   "outputs": [
    {
     "name": "stderr",
     "output_type": "stream",
     "text": [
      "┌ Info:  started timer at: 2020-11-25T10:48:27.487\n",
      "└ @ TickTock /Users/arihuttunen/.julia/packages/TickTock/RsTHR/src/TickTock.jl:32\n"
     ]
    }
   ],
   "source": [
    "using TickTock\n",
    "tick()"
   ]
  },
  {
   "cell_type": "code",
   "execution_count": 3,
   "metadata": {},
   "outputs": [
    {
     "data": {
      "text/plain": [
       "100000000"
      ]
     },
     "execution_count": 3,
     "metadata": {},
     "output_type": "execute_result"
    }
   ],
   "source": [
    "N = 10^8"
   ]
  },
  {
   "cell_type": "code",
   "execution_count": 4,
   "metadata": {},
   "outputs": [],
   "source": [
    "using Random, Distributions, BenchmarkTools, DataFrames, StaticKernels, SantasLittleHelpers\n",
    "ENV[\"COLUMNS\"] = 1000; ENV[\"LINES\"] = 15;"
   ]
  },
  {
   "cell_type": "code",
   "execution_count": 5,
   "metadata": {},
   "outputs": [
    {
     "data": {
      "text/html": [
       "<table class=\"data-frame\"><thead><tr><th></th><th>data</th><th>sma</th></tr><tr><th></th><th>Float64</th><th>Float64</th></tr></thead><tbody><p>100,000,000 rows × 2 columns</p><tr><th>1</th><td>-1.29283</td><td>-1.29283</td></tr><tr><th>2</th><td>-0.0998453</td><td>-0.696337</td></tr><tr><th>3</th><td>-0.760543</td><td>-0.717739</td></tr><tr><th>4</th><td>-1.6171</td><td>-0.94258</td></tr><tr><th>5</th><td>0.778075</td><td>-0.598449</td></tr><tr><th>6</th><td>0.432444</td><td>-0.426634</td></tr><tr><th>7</th><td>-0.98691</td><td>-0.506673</td></tr><tr><th>8</th><td>0.718128</td><td>-0.353573</td></tr><tr><th>9</th><td>0.11203</td><td>-0.301839</td></tr><tr><th>10</th><td>0.434893</td><td>-0.228166</td></tr><tr><th>11</th><td>1.93501</td><td>0.0946179</td></tr><tr><th>12</th><td>1.11331</td><td>0.215933</td></tr><tr><th>13</th><td>-1.43099</td><td>0.148889</td></tr><tr><th>14</th><td>0.233583</td><td>0.333958</td></tr><tr><th>15</th><td>-1.10276</td><td>0.145874</td></tr><tr><th>&vellip;</th><td>&vellip;</td><td>&vellip;</td></tr></tbody></table>"
      ],
      "text/latex": [
       "\\begin{tabular}{r|cc}\n",
       "\t& data & sma\\\\\n",
       "\t\\hline\n",
       "\t& Float64 & Float64\\\\\n",
       "\t\\hline\n",
       "\t1 & -1.29283 & -1.29283 \\\\\n",
       "\t2 & -0.0998453 & -0.696337 \\\\\n",
       "\t3 & -0.760543 & -0.717739 \\\\\n",
       "\t4 & -1.6171 & -0.94258 \\\\\n",
       "\t5 & 0.778075 & -0.598449 \\\\\n",
       "\t6 & 0.432444 & -0.426634 \\\\\n",
       "\t7 & -0.98691 & -0.506673 \\\\\n",
       "\t8 & 0.718128 & -0.353573 \\\\\n",
       "\t9 & 0.11203 & -0.301839 \\\\\n",
       "\t10 & 0.434893 & -0.228166 \\\\\n",
       "\t11 & 1.93501 & 0.0946179 \\\\\n",
       "\t12 & 1.11331 & 0.215933 \\\\\n",
       "\t13 & -1.43099 & 0.148889 \\\\\n",
       "\t14 & 0.233583 & 0.333958 \\\\\n",
       "\t15 & -1.10276 & 0.145874 \\\\\n",
       "\t$\\dots$ & $\\dots$ & $\\dots$ \\\\\n",
       "\\end{tabular}\n"
      ],
      "text/plain": [
       "100000000×2 DataFrame\n",
       "│ Row       │ data       │ sma       │\n",
       "│           │ \u001b[90mFloat64\u001b[39m    │ \u001b[90mFloat64\u001b[39m   │\n",
       "├───────────┼────────────┼───────────┤\n",
       "│ 1         │ -1.29283   │ -1.29283  │\n",
       "│ 2         │ -0.0998453 │ -0.696337 │\n",
       "│ 3         │ -0.760543  │ -0.717739 │\n",
       "⋮\n",
       "│ 99999997  │ -0.987763  │ -0.244895 │\n",
       "│ 99999998  │ 0.55653    │ -0.118478 │\n",
       "│ 99999999  │ 1.01866    │ 0.126804  │\n",
       "│ 100000000 │ 0.723261   │ 0.217978  │"
      ]
     },
     "execution_count": 5,
     "metadata": {},
     "output_type": "execute_result"
    }
   ],
   "source": [
    "d = Normal()\n",
    "k = makekernel(mean,-9:0)\n",
    "df = DataFrame(:data => rand(d, N))\n",
    "df[!, \"sma\"] = applyrolling(k, df.data)\n",
    "df"
   ]
  },
  {
   "cell_type": "code",
   "execution_count": 6,
   "metadata": {},
   "outputs": [
    {
     "name": "stderr",
     "output_type": "stream",
     "text": [
      "┌ Info:         12.422775263s: 12 seconds, 422 milliseconds\n",
      "└ @ TickTock /Users/arihuttunen/.julia/packages/TickTock/RsTHR/src/TickTock.jl:39\n"
     ]
    }
   ],
   "source": [
    "tock()"
   ]
  },
  {
   "cell_type": "code",
   "execution_count": 7,
   "metadata": {},
   "outputs": [
    {
     "data": {
      "text/plain": [
       "BenchmarkTools.Trial: \n",
       "  memory estimate:  762.94 MiB\n",
       "  allocs estimate:  2\n",
       "  --------------\n",
       "  minimum time:     1.114 s (0.00% GC)\n",
       "  median time:      1.246 s (0.06% GC)\n",
       "  mean time:        1.288 s (2.57% GC)\n",
       "  maximum time:     1.476 s (6.39% GC)\n",
       "  --------------\n",
       "  samples:          5\n",
       "  evals/sample:     1"
      ]
     },
     "execution_count": 7,
     "metadata": {},
     "output_type": "execute_result"
    }
   ],
   "source": [
    "@benchmark rand(d, N)"
   ]
  },
  {
   "cell_type": "code",
   "execution_count": 8,
   "metadata": {},
   "outputs": [
    {
     "data": {
      "text/plain": [
       "BenchmarkTools.Trial: \n",
       "  memory estimate:  762.94 MiB\n",
       "  allocs estimate:  2\n",
       "  --------------\n",
       "  minimum time:     974.285 ms (0.00% GC)\n",
       "  median time:      1.110 s (0.08% GC)\n",
       "  mean time:        1.075 s (2.32% GC)\n",
       "  maximum time:     1.145 s (0.00% GC)\n",
       "  --------------\n",
       "  samples:          5\n",
       "  evals/sample:     1"
      ]
     },
     "execution_count": 8,
     "metadata": {},
     "output_type": "execute_result"
    }
   ],
   "source": [
    "@benchmark applyrolling(k, df.data)"
   ]
  },
  {
   "cell_type": "code",
   "execution_count": null,
   "metadata": {},
   "outputs": [],
   "source": []
  }
 ],
 "metadata": {
  "kernelspec": {
   "display_name": "Julia 1.5",
   "language": "julia",
   "name": "julia-1.5"
  },
  "language_info": {
   "file_extension": ".jl",
   "mimetype": "application/julia",
   "name": "julia",
   "version": "1.5.3"
  }
 },
 "nbformat": 4,
 "nbformat_minor": 4
}
