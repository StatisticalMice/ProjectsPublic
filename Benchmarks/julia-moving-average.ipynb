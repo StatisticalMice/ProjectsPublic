{
 "cells": [
  {
   "cell_type": "code",
   "execution_count": 1,
   "metadata": {},
   "outputs": [
    {
     "data": {
      "text/plain": [
       "(v\"1.5.3\", 8, 8)"
      ]
     },
     "execution_count": 1,
     "metadata": {},
     "output_type": "execute_result"
    }
   ],
   "source": [
    "# Display information about the environment\n",
    "VERSION, Base.Threads.nthreads(), Base.Sys.CPU_THREADS"
   ]
  },
  {
   "cell_type": "code",
   "execution_count": 2,
   "metadata": {},
   "outputs": [
    {
     "name": "stderr",
     "output_type": "stream",
     "text": [
      "┌ Info:  started timer at: 2020-11-25T10:19:11.216\n",
      "└ @ TickTock /Users/arihuttunen/.julia/packages/TickTock/RsTHR/src/TickTock.jl:32\n"
     ]
    }
   ],
   "source": [
    "using TickTock\n",
    "tick()"
   ]
  },
  {
   "cell_type": "code",
   "execution_count": 3,
   "metadata": {},
   "outputs": [
    {
     "data": {
      "text/plain": [
       "100000000"
      ]
     },
     "execution_count": 3,
     "metadata": {},
     "output_type": "execute_result"
    }
   ],
   "source": [
    "N = 10^8"
   ]
  },
  {
   "cell_type": "code",
   "execution_count": 4,
   "metadata": {},
   "outputs": [],
   "source": [
    "using RollingFunctions, Random, Distributions, BenchmarkTools, DataFrames\n",
    "ENV[\"COLUMNS\"] = 1000; ENV[\"LINES\"] = 15;"
   ]
  },
  {
   "cell_type": "code",
   "execution_count": 5,
   "metadata": {},
   "outputs": [
    {
     "data": {
      "text/html": [
       "<table class=\"data-frame\"><thead><tr><th></th><th>data</th><th>sma</th></tr><tr><th></th><th>Float64</th><th>Float64</th></tr></thead><tbody><p>100,000,000 rows × 2 columns</p><tr><th>1</th><td>0.305685</td><td>0.305685</td></tr><tr><th>2</th><td>-1.05485</td><td>-0.374581</td></tr><tr><th>3</th><td>1.86724</td><td>0.372693</td></tr><tr><th>4</th><td>1.51769</td><td>0.658942</td></tr><tr><th>5</th><td>-0.123326</td><td>0.502489</td></tr><tr><th>6</th><td>0.160887</td><td>0.445555</td></tr><tr><th>7</th><td>-1.25747</td><td>0.202266</td></tr><tr><th>8</th><td>0.065052</td><td>0.185114</td></tr><tr><th>9</th><td>0.35515</td><td>0.204007</td></tr><tr><th>10</th><td>-0.395574</td><td>0.144049</td></tr><tr><th>11</th><td>-0.813392</td><td>0.0321414</td></tr><tr><th>12</th><td>0.164152</td><td>0.154041</td></tr><tr><th>13</th><td>0.381576</td><td>0.00547477</td></tr><tr><th>14</th><td>-0.775387</td><td>-0.223833</td></tr><tr><th>15</th><td>-0.257593</td><td>-0.23726</td></tr><tr><th>&vellip;</th><td>&vellip;</td><td>&vellip;</td></tr></tbody></table>"
      ],
      "text/latex": [
       "\\begin{tabular}{r|cc}\n",
       "\t& data & sma\\\\\n",
       "\t\\hline\n",
       "\t& Float64 & Float64\\\\\n",
       "\t\\hline\n",
       "\t1 & 0.305685 & 0.305685 \\\\\n",
       "\t2 & -1.05485 & -0.374581 \\\\\n",
       "\t3 & 1.86724 & 0.372693 \\\\\n",
       "\t4 & 1.51769 & 0.658942 \\\\\n",
       "\t5 & -0.123326 & 0.502489 \\\\\n",
       "\t6 & 0.160887 & 0.445555 \\\\\n",
       "\t7 & -1.25747 & 0.202266 \\\\\n",
       "\t8 & 0.065052 & 0.185114 \\\\\n",
       "\t9 & 0.35515 & 0.204007 \\\\\n",
       "\t10 & -0.395574 & 0.144049 \\\\\n",
       "\t11 & -0.813392 & 0.0321414 \\\\\n",
       "\t12 & 0.164152 & 0.154041 \\\\\n",
       "\t13 & 0.381576 & 0.00547477 \\\\\n",
       "\t14 & -0.775387 & -0.223833 \\\\\n",
       "\t15 & -0.257593 & -0.23726 \\\\\n",
       "\t$\\dots$ & $\\dots$ & $\\dots$ \\\\\n",
       "\\end{tabular}\n"
      ],
      "text/plain": [
       "\u001b[1m100000000×2 DataFrame\u001b[0m\n",
       "\u001b[1m       Row \u001b[0m│\u001b[1m data       \u001b[0m\u001b[1m sma       \u001b[0m\n",
       "\u001b[1m           \u001b[0m│\u001b[90m Float64    \u001b[0m\u001b[90m Float64   \u001b[0m\n",
       "───────────┼───────────────────────\n",
       "         1 │  0.305685    0.305685\n",
       "         2 │ -1.05485    -0.374581\n",
       "         3 │  1.86724     0.372693\n",
       "     ⋮     │     ⋮           ⋮\n",
       "  99999998 │  0.0233643  -0.26625\n",
       "  99999999 │  1.12537    -0.247331\n",
       " 100000000 │  0.506955   -0.185939\n",
       "\u001b[31m              99999994 rows omitted\u001b[0m"
      ]
     },
     "execution_count": 5,
     "metadata": {},
     "output_type": "execute_result"
    }
   ],
   "source": [
    "d = Normal()\n",
    "df = DataFrame(:data => rand(d, N))\n",
    "df[!, \"sma\"] = runmean(df.data, 10)\n",
    "df"
   ]
  },
  {
   "cell_type": "code",
   "execution_count": 6,
   "metadata": {},
   "outputs": [
    {
     "name": "stderr",
     "output_type": "stream",
     "text": [
      "┌ Info:         13.658006912s: 13 seconds, 658 milliseconds\n",
      "└ @ TickTock /Users/arihuttunen/.julia/packages/TickTock/RsTHR/src/TickTock.jl:39\n"
     ]
    }
   ],
   "source": [
    "tock()"
   ]
  },
  {
   "cell_type": "code",
   "execution_count": 8,
   "metadata": {},
   "outputs": [
    {
     "data": {
      "text/plain": [
       "BenchmarkTools.Trial: \n",
       "  memory estimate:  762.94 MiB\n",
       "  allocs estimate:  2\n",
       "  --------------\n",
       "  minimum time:     1.053 s (0.10% GC)\n",
       "  median time:      1.108 s (0.09% GC)\n",
       "  mean time:        1.102 s (1.72% GC)\n",
       "  maximum time:     1.138 s (4.70% GC)\n",
       "  --------------\n",
       "  samples:          5\n",
       "  evals/sample:     1"
      ]
     },
     "execution_count": 8,
     "metadata": {},
     "output_type": "execute_result"
    }
   ],
   "source": [
    "@benchmark rand(d, N)"
   ]
  },
  {
   "cell_type": "code",
   "execution_count": 7,
   "metadata": {},
   "outputs": [
    {
     "data": {
      "text/plain": [
       "BenchmarkTools.Trial: \n",
       "  memory estimate:  1.49 GiB\n",
       "  allocs estimate:  6\n",
       "  --------------\n",
       "  minimum time:     1.813 s (2.23% GC)\n",
       "  median time:      1.880 s (2.15% GC)\n",
       "  mean time:        1.865 s (3.07% GC)\n",
       "  maximum time:     1.902 s (0.04% GC)\n",
       "  --------------\n",
       "  samples:          3\n",
       "  evals/sample:     1"
      ]
     },
     "execution_count": 7,
     "metadata": {},
     "output_type": "execute_result"
    }
   ],
   "source": [
    "@benchmark runmean(df.data, 10)"
   ]
  },
  {
   "cell_type": "code",
   "execution_count": null,
   "metadata": {},
   "outputs": [],
   "source": []
  }
 ],
 "metadata": {
  "kernelspec": {
   "display_name": "Julia 1.5",
   "language": "julia",
   "name": "julia-1.5"
  },
  "language_info": {
   "file_extension": ".jl",
   "mimetype": "application/julia",
   "name": "julia",
   "version": "1.5.3"
  }
 },
 "nbformat": 4,
 "nbformat_minor": 4
}
