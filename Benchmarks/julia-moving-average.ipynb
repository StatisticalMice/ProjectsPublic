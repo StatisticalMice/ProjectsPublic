{
 "cells": [
  {
   "cell_type": "code",
   "execution_count": 1,
   "metadata": {},
   "outputs": [
    {
     "data": {
      "text/plain": [
       "(v\"1.5.3\", 8, 8)"
      ]
     },
     "execution_count": 1,
     "metadata": {},
     "output_type": "execute_result"
    }
   ],
   "source": [
    "# Display information about the environment\n",
    "VERSION, Base.Threads.nthreads(), Base.Sys.CPU_THREADS"
   ]
  },
  {
   "cell_type": "code",
   "execution_count": 2,
   "metadata": {},
   "outputs": [
    {
     "name": "stderr",
     "output_type": "stream",
     "text": [
      "┌ Info:  started timer at: 2020-11-25T11:12:01.111\n",
      "└ @ TickTock /Users/arihuttunen/.julia/packages/TickTock/RsTHR/src/TickTock.jl:32\n"
     ]
    }
   ],
   "source": [
    "using TickTock\n",
    "tick()"
   ]
  },
  {
   "cell_type": "code",
   "execution_count": 3,
   "metadata": {},
   "outputs": [
    {
     "data": {
      "text/plain": [
       "100000000"
      ]
     },
     "execution_count": 3,
     "metadata": {},
     "output_type": "execute_result"
    }
   ],
   "source": [
    "N = 10^8"
   ]
  },
  {
   "cell_type": "code",
   "execution_count": 4,
   "metadata": {},
   "outputs": [],
   "source": [
    "using Random, Distributions, BenchmarkTools, DataFrames, StaticKernels, SantasLittleHelpers\n",
    "ENV[\"COLUMNS\"] = 1000; ENV[\"LINES\"] = 15;"
   ]
  },
  {
   "cell_type": "code",
   "execution_count": 5,
   "metadata": {},
   "outputs": [
    {
     "data": {
      "text/html": [
       "<table class=\"data-frame\"><thead><tr><th></th><th>data</th><th>sma</th></tr><tr><th></th><th>Float64</th><th>Float64</th></tr></thead><tbody><p>100,000,000 rows × 2 columns</p><tr><th>1</th><td>-0.882141</td><td>-0.882141</td></tr><tr><th>2</th><td>2.14455</td><td>0.631204</td></tr><tr><th>3</th><td>-0.790431</td><td>0.157326</td></tr><tr><th>4</th><td>-0.166501</td><td>0.0763689</td></tr><tr><th>5</th><td>-0.144663</td><td>0.0321626</td></tr><tr><th>6</th><td>0.162274</td><td>0.0538478</td></tr><tr><th>7</th><td>1.62095</td><td>0.27772</td></tr><tr><th>8</th><td>-0.267423</td><td>0.209577</td></tr><tr><th>9</th><td>-0.768622</td><td>0.100888</td></tr><tr><th>10</th><td>0.330702</td><td>0.12387</td></tr><tr><th>11</th><td>-0.651007</td><td>0.146983</td></tr><tr><th>12</th><td>0.825385</td><td>0.0150668</td></tr><tr><th>13</th><td>-0.511234</td><td>0.0429865</td></tr><tr><th>14</th><td>1.52038</td><td>0.211675</td></tr><tr><th>15</th><td>-0.211909</td><td>0.20495</td></tr><tr><th>&vellip;</th><td>&vellip;</td><td>&vellip;</td></tr></tbody></table>"
      ],
      "text/latex": [
       "\\begin{tabular}{r|cc}\n",
       "\t& data & sma\\\\\n",
       "\t\\hline\n",
       "\t& Float64 & Float64\\\\\n",
       "\t\\hline\n",
       "\t1 & -0.882141 & -0.882141 \\\\\n",
       "\t2 & 2.14455 & 0.631204 \\\\\n",
       "\t3 & -0.790431 & 0.157326 \\\\\n",
       "\t4 & -0.166501 & 0.0763689 \\\\\n",
       "\t5 & -0.144663 & 0.0321626 \\\\\n",
       "\t6 & 0.162274 & 0.0538478 \\\\\n",
       "\t7 & 1.62095 & 0.27772 \\\\\n",
       "\t8 & -0.267423 & 0.209577 \\\\\n",
       "\t9 & -0.768622 & 0.100888 \\\\\n",
       "\t10 & 0.330702 & 0.12387 \\\\\n",
       "\t11 & -0.651007 & 0.146983 \\\\\n",
       "\t12 & 0.825385 & 0.0150668 \\\\\n",
       "\t13 & -0.511234 & 0.0429865 \\\\\n",
       "\t14 & 1.52038 & 0.211675 \\\\\n",
       "\t15 & -0.211909 & 0.20495 \\\\\n",
       "\t$\\dots$ & $\\dots$ & $\\dots$ \\\\\n",
       "\\end{tabular}\n"
      ],
      "text/plain": [
       "100000000×2 DataFrame\n",
       "│ Row       │ data      │ sma       │\n",
       "│           │ \u001b[90mFloat64\u001b[39m   │ \u001b[90mFloat64\u001b[39m   │\n",
       "├───────────┼───────────┼───────────┤\n",
       "│ 1         │ -0.882141 │ -0.882141 │\n",
       "│ 2         │ 2.14455   │ 0.631204  │\n",
       "│ 3         │ -0.790431 │ 0.157326  │\n",
       "⋮\n",
       "│ 99999997  │ 1.38384   │ 0.264975  │\n",
       "│ 99999998  │ -0.390013 │ 0.358902  │\n",
       "│ 99999999  │ -0.718997 │ 0.287579  │\n",
       "│ 100000000 │ 1.02345   │ 0.613229  │"
      ]
     },
     "execution_count": 5,
     "metadata": {},
     "output_type": "execute_result"
    }
   ],
   "source": [
    "d = Normal()\n",
    "k = makekernel(mean,-9:0)\n",
    "df = DataFrame(:data => rand(d, N))\n",
    "df[!, \"sma\"] = applyrolling(k, df.data)\n",
    "df"
   ]
  },
  {
   "cell_type": "code",
   "execution_count": 6,
   "metadata": {},
   "outputs": [
    {
     "name": "stderr",
     "output_type": "stream",
     "text": [
      "┌ Info:         13.058328186s: 13 seconds, 58 milliseconds\n",
      "└ @ TickTock /Users/arihuttunen/.julia/packages/TickTock/RsTHR/src/TickTock.jl:39\n"
     ]
    }
   ],
   "source": [
    "tock()"
   ]
  },
  {
   "cell_type": "code",
   "execution_count": 7,
   "metadata": {},
   "outputs": [
    {
     "data": {
      "text/plain": [
       "BenchmarkTools.Trial: \n",
       "  memory estimate:  762.94 MiB\n",
       "  allocs estimate:  2\n",
       "  --------------\n",
       "  minimum time:     1.122 s (0.07% GC)\n",
       "  median time:      1.289 s (0.03% GC)\n",
       "  mean time:        1.272 s (1.14% GC)\n",
       "  maximum time:     1.389 s (4.12% GC)\n",
       "  --------------\n",
       "  samples:          4\n",
       "  evals/sample:     1"
      ]
     },
     "execution_count": 7,
     "metadata": {},
     "output_type": "execute_result"
    }
   ],
   "source": [
    "@benchmark rand(d, N)"
   ]
  },
  {
   "cell_type": "code",
   "execution_count": 8,
   "metadata": {},
   "outputs": [
    {
     "data": {
      "text/plain": [
       "BenchmarkTools.Trial: \n",
       "  memory estimate:  762.94 MiB\n",
       "  allocs estimate:  2\n",
       "  --------------\n",
       "  minimum time:     861.502 ms (0.00% GC)\n",
       "  median time:      920.586 ms (2.75% GC)\n",
       "  mean time:        931.427 ms (3.95% GC)\n",
       "  maximum time:     1.067 s (10.27% GC)\n",
       "  --------------\n",
       "  samples:          6\n",
       "  evals/sample:     1"
      ]
     },
     "execution_count": 8,
     "metadata": {},
     "output_type": "execute_result"
    }
   ],
   "source": [
    "@benchmark applyrolling(k, df.data)"
   ]
  },
  {
   "cell_type": "code",
   "execution_count": null,
   "metadata": {},
   "outputs": [],
   "source": []
  }
 ],
 "metadata": {
  "kernelspec": {
   "display_name": "Julia 1.5",
   "language": "julia",
   "name": "julia-1.5"
  },
  "language_info": {
   "file_extension": ".jl",
   "mimetype": "application/julia",
   "name": "julia",
   "version": "1.5.3"
  }
 },
 "nbformat": 4,
 "nbformat_minor": 4
}
