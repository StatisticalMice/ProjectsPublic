{
 "cells": [
  {
   "cell_type": "code",
   "execution_count": 11,
   "metadata": {},
   "outputs": [
    {
     "data": {
      "text/plain": [
       "(v\"1.5.3\", 8, 8)"
      ]
     },
     "execution_count": 11,
     "metadata": {},
     "output_type": "execute_result"
    }
   ],
   "source": [
    "# Display information about the environment\n",
    "VERSION, Base.Threads.nthreads(), Base.Sys.CPU_THREADS"
   ]
  },
  {
   "cell_type": "code",
   "execution_count": 12,
   "metadata": {},
   "outputs": [
    {
     "name": "stderr",
     "output_type": "stream",
     "text": [
      "┌ Info:  started timer at: 2020-12-13T00:00:02.788\n",
      "└ @ TickTock /Users/arihuttunen/.julia/packages/TickTock/RsTHR/src/TickTock.jl:32\n"
     ]
    }
   ],
   "source": [
    "using TickTock\n",
    "tick()"
   ]
  },
  {
   "cell_type": "code",
   "execution_count": 13,
   "metadata": {},
   "outputs": [
    {
     "data": {
      "text/plain": [
       "100000000"
      ]
     },
     "execution_count": 13,
     "metadata": {},
     "output_type": "execute_result"
    }
   ],
   "source": [
    "N = 10^8"
   ]
  },
  {
   "cell_type": "code",
   "execution_count": 14,
   "metadata": {},
   "outputs": [],
   "source": [
    "using Random, Distributions, BenchmarkTools, DataFrames\n",
    "ENV[\"COLUMNS\"] = 1000; ENV[\"LINES\"] = 15;"
   ]
  },
  {
   "cell_type": "code",
   "execution_count": 15,
   "metadata": {},
   "outputs": [],
   "source": [
    "d = Normal()\n",
    "df = DataFrame(:data => rand(d, N));"
   ]
  },
  {
   "cell_type": "code",
   "execution_count": 16,
   "metadata": {},
   "outputs": [
    {
     "data": {
      "text/plain": [
       "rollingmean2 (generic function with 1 method)"
      ]
     },
     "execution_count": 16,
     "metadata": {},
     "output_type": "execute_result"
    }
   ],
   "source": [
    "out = Vector{Union{Missing, Float64}}(undef, N)\n",
    "\n",
    "function rollingmean2(x, m, out)\n",
    "    N = length(x)\n",
    "    out[1:(m-1)] .= missing\n",
    "    sm = mean(@view x[1:m])\n",
    "    out[m] = sm\n",
    "    @inbounds @simd for i in (m+1):length(x)\n",
    "        sm += (x[i] - x[i-m]) / m\n",
    "        out[i] = sm\n",
    "    end\n",
    "    return out \n",
    "end"
   ]
  },
  {
   "cell_type": "code",
   "execution_count": 17,
   "metadata": {},
   "outputs": [
    {
     "data": {
      "text/html": [
       "<table class=\"data-frame\"><thead><tr><th></th><th>data</th><th>sma</th></tr><tr><th></th><th>Float64</th><th>Float64?</th></tr></thead><tbody><p>100,000,000 rows × 2 columns</p><tr><th>1</th><td>-0.578926</td><td><em>missing</em></td></tr><tr><th>2</th><td>-0.657218</td><td><em>missing</em></td></tr><tr><th>3</th><td>-0.339101</td><td><em>missing</em></td></tr><tr><th>4</th><td>-1.6843</td><td><em>missing</em></td></tr><tr><th>5</th><td>0.335653</td><td><em>missing</em></td></tr><tr><th>6</th><td>-1.7517</td><td><em>missing</em></td></tr><tr><th>7</th><td>-0.270582</td><td><em>missing</em></td></tr><tr><th>8</th><td>-0.460108</td><td><em>missing</em></td></tr><tr><th>9</th><td>1.15648</td><td><em>missing</em></td></tr><tr><th>10</th><td>0.906552</td><td>-0.334326</td></tr><tr><th>11</th><td>0.436795</td><td>-0.232754</td></tr><tr><th>12</th><td>-1.50536</td><td>-0.317568</td></tr><tr><th>13</th><td>-1.86922</td><td>-0.47058</td></tr><tr><th>14</th><td>-0.147138</td><td>-0.316863</td></tr><tr><th>15</th><td>-0.347532</td><td>-0.385182</td></tr><tr><th>&vellip;</th><td>&vellip;</td><td>&vellip;</td></tr></tbody></table>"
      ],
      "text/latex": [
       "\\begin{tabular}{r|cc}\n",
       "\t& data & sma\\\\\n",
       "\t\\hline\n",
       "\t& Float64 & Float64?\\\\\n",
       "\t\\hline\n",
       "\t1 & -0.578926 & \\emph{missing} \\\\\n",
       "\t2 & -0.657218 & \\emph{missing} \\\\\n",
       "\t3 & -0.339101 & \\emph{missing} \\\\\n",
       "\t4 & -1.6843 & \\emph{missing} \\\\\n",
       "\t5 & 0.335653 & \\emph{missing} \\\\\n",
       "\t6 & -1.7517 & \\emph{missing} \\\\\n",
       "\t7 & -0.270582 & \\emph{missing} \\\\\n",
       "\t8 & -0.460108 & \\emph{missing} \\\\\n",
       "\t9 & 1.15648 & \\emph{missing} \\\\\n",
       "\t10 & 0.906552 & -0.334326 \\\\\n",
       "\t11 & 0.436795 & -0.232754 \\\\\n",
       "\t12 & -1.50536 & -0.317568 \\\\\n",
       "\t13 & -1.86922 & -0.47058 \\\\\n",
       "\t14 & -0.147138 & -0.316863 \\\\\n",
       "\t15 & -0.347532 & -0.385182 \\\\\n",
       "\t$\\dots$ & $\\dots$ & $\\dots$ \\\\\n",
       "\\end{tabular}\n"
      ],
      "text/plain": [
       "\u001b[1m100000000×2 DataFrame\u001b[0m\n",
       "\u001b[1m       Row \u001b[0m│\u001b[1m data      \u001b[0m\u001b[1m sma              \u001b[0m\n",
       "\u001b[1m           \u001b[0m│\u001b[90m Float64   \u001b[0m\u001b[90m Float64?         \u001b[0m\n",
       "───────────┼─────────────────────────────\n",
       "         1 │ -0.578926 \u001b[90m missing          \u001b[0m\n",
       "         2 │ -0.657218 \u001b[90m missing          \u001b[0m\n",
       "         3 │ -0.339101 \u001b[90m missing          \u001b[0m\n",
       "     ⋮     │     ⋮             ⋮\n",
       "  99999998 │ -0.158799       -0.306911\n",
       "  99999999 │  0.693283       -0.0800942\n",
       " 100000000 │  0.325022       -0.00574977\n",
       "\u001b[31m                    99999994 rows omitted\u001b[0m"
      ]
     },
     "execution_count": 17,
     "metadata": {},
     "output_type": "execute_result"
    }
   ],
   "source": [
    "df[!, \"sma\"] = rollingmean2(df.data, 10, out)\n",
    "df"
   ]
  },
  {
   "cell_type": "code",
   "execution_count": 18,
   "metadata": {},
   "outputs": [
    {
     "name": "stderr",
     "output_type": "stream",
     "text": [
      "┌ Info:          3.046797558s: 3 seconds, 46 milliseconds\n",
      "└ @ TickTock /Users/arihuttunen/.julia/packages/TickTock/RsTHR/src/TickTock.jl:39\n"
     ]
    }
   ],
   "source": [
    "tock()"
   ]
  },
  {
   "cell_type": "code",
   "execution_count": 19,
   "metadata": {},
   "outputs": [
    {
     "data": {
      "text/plain": [
       "BenchmarkTools.Trial: \n",
       "  memory estimate:  762.94 MiB\n",
       "  allocs estimate:  2\n",
       "  --------------\n",
       "  minimum time:     1.270 s (0.08% GC)\n",
       "  median time:      1.383 s (0.08% GC)\n",
       "  mean time:        1.373 s (1.71% GC)\n",
       "  maximum time:     1.457 s (0.06% GC)\n",
       "  --------------\n",
       "  samples:          4\n",
       "  evals/sample:     1"
      ]
     },
     "execution_count": 19,
     "metadata": {},
     "output_type": "execute_result"
    }
   ],
   "source": [
    "@benchmark rand(d, N)"
   ]
  },
  {
   "cell_type": "code",
   "execution_count": 20,
   "metadata": {},
   "outputs": [
    {
     "data": {
      "text/plain": [
       "BenchmarkTools.Trial: \n",
       "  memory estimate:  0 bytes\n",
       "  allocs estimate:  0\n",
       "  --------------\n",
       "  minimum time:     120.402 ms (0.00% GC)\n",
       "  median time:      139.729 ms (0.00% GC)\n",
       "  mean time:        139.457 ms (0.00% GC)\n",
       "  maximum time:     175.595 ms (0.00% GC)\n",
       "  --------------\n",
       "  samples:          36\n",
       "  evals/sample:     1"
      ]
     },
     "execution_count": 20,
     "metadata": {},
     "output_type": "execute_result"
    }
   ],
   "source": [
    "@benchmark rollingmean2(df.data, 10, out)"
   ]
  },
  {
   "cell_type": "code",
   "execution_count": null,
   "metadata": {},
   "outputs": [],
   "source": []
  }
 ],
 "metadata": {
  "kernelspec": {
   "display_name": "Julia 1.5.3",
   "language": "julia",
   "name": "julia-1.5"
  },
  "language_info": {
   "file_extension": ".jl",
   "mimetype": "application/julia",
   "name": "julia",
   "version": "1.5.3"
  }
 },
 "nbformat": 4,
 "nbformat_minor": 4
}
