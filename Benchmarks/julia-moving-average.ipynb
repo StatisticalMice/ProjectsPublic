{
 "cells": [
  {
   "cell_type": "code",
   "execution_count": 43,
   "metadata": {},
   "outputs": [
    {
     "name": "stderr",
     "output_type": "stream",
     "text": [
      "\u001b[32m\u001b[1m Activating\u001b[22m\u001b[39m environment at `/Volumes/MyFiles/GitRepos/StatisticalMice/ProjectsPublic/Benchmarks/Project.toml`\n"
     ]
    }
   ],
   "source": [
    "cd(@__DIR__)\n",
    "using Pkg\n",
    "Pkg.activate(\".\")\n",
    "Pkg.instantiate()"
   ]
  },
  {
   "cell_type": "code",
   "execution_count": 44,
   "metadata": {},
   "outputs": [
    {
     "name": "stdout",
     "output_type": "stream",
     "text": [
      "\u001b[32m\u001b[1mStatus\u001b[22m\u001b[39m `/Volumes/MyFiles/GitRepos/StatisticalMice/ProjectsPublic/Benchmarks/Project.toml`\n",
      " \u001b[90m [6e4b80f9] \u001b[39m\u001b[37mBenchmarkTools v0.5.0\u001b[39m\n",
      " \u001b[90m [a93c6f00] \u001b[39m\u001b[37mDataFrames v0.22.4\u001b[39m\n",
      " \u001b[90m [31c24e10] \u001b[39m\u001b[37mDistributions v0.24.12\u001b[39m\n",
      " \u001b[90m [bdcacae8] \u001b[39m\u001b[37mLoopVectorization v0.10.0\u001b[39m\n",
      " \u001b[90m [91a5bcdd] \u001b[39m\u001b[37mPlots v1.10.2\u001b[39m\n",
      " \u001b[90m [b0e4dd01] \u001b[39m\u001b[37mRollingFunctions v0.6.2\u001b[39m\n",
      " \u001b[90m [c6e7a17c] \u001b[39m\u001b[37mSantasLittleHelpers v0.2.1\u001b[39m\n",
      " \u001b[90m [4c63dfa8] \u001b[39m\u001b[37mStaticKernels v0.5.1\u001b[39m\n",
      " \u001b[90m [ac1d9e8a] \u001b[39m\u001b[37mThreadsX v0.1.7\u001b[39m\n",
      " \u001b[90m [9ff05d80] \u001b[39m\u001b[37mTickTock v1.1.0\u001b[39m\n",
      " \u001b[90m [bc48ee85] \u001b[39m\u001b[37mTullio v0.2.11\u001b[39m\n",
      " \u001b[90m [9a3f8284] \u001b[39m\u001b[37mRandom\u001b[39m\n",
      " \u001b[90m [10745b16] \u001b[39m\u001b[37mStatistics\u001b[39m\n"
     ]
    }
   ],
   "source": [
    "Pkg.status()"
   ]
  },
  {
   "cell_type": "code",
   "execution_count": 45,
   "metadata": {},
   "outputs": [
    {
     "data": {
      "text/plain": [
       "(v\"1.5.3\", 1, 8)"
      ]
     },
     "execution_count": 45,
     "metadata": {},
     "output_type": "execute_result"
    }
   ],
   "source": [
    "# Set some notebook defaults\n",
    "ENV[\"COLUMNS\"] = 1000; ENV[\"LINES\"] = 20;\n",
    "\n",
    "# Display information about the environment\n",
    "VERSION, Base.Threads.nthreads(), Base.Sys.CPU_THREADS"
   ]
  },
  {
   "cell_type": "code",
   "execution_count": 46,
   "metadata": {},
   "outputs": [
    {
     "name": "stderr",
     "output_type": "stream",
     "text": [
      "┌ Info:  started timer at: 2021-01-27T11:36:31.63\n",
      "└ @ TickTock /Users/arihuttunen/.julia/packages/TickTock/RsTHR/src/TickTock.jl:32\n"
     ]
    }
   ],
   "source": [
    "using TickTock\n",
    "tick()"
   ]
  },
  {
   "cell_type": "code",
   "execution_count": 47,
   "metadata": {},
   "outputs": [
    {
     "data": {
      "text/plain": [
       "100000000"
      ]
     },
     "execution_count": 47,
     "metadata": {},
     "output_type": "execute_result"
    }
   ],
   "source": [
    "N = 10^8"
   ]
  },
  {
   "cell_type": "code",
   "execution_count": 48,
   "metadata": {},
   "outputs": [],
   "source": [
    "using Random, Distributions, BenchmarkTools, DataFrames"
   ]
  },
  {
   "cell_type": "code",
   "execution_count": 49,
   "metadata": {},
   "outputs": [],
   "source": [
    "d = Normal()\n",
    "df = DataFrame(:data => rand(d, N));"
   ]
  },
  {
   "cell_type": "code",
   "execution_count": 50,
   "metadata": {},
   "outputs": [
    {
     "data": {
      "text/plain": [
       "rollingmean2 (generic function with 1 method)"
      ]
     },
     "execution_count": 50,
     "metadata": {},
     "output_type": "execute_result"
    }
   ],
   "source": [
    "out = Vector{Union{Missing, Float64}}(undef, N)\n",
    "\n",
    "function rollingmean2(x, m, out)\n",
    "    N = length(x)\n",
    "    out[1:(m-1)] .= missing\n",
    "    sm = mean(@view x[1:m])\n",
    "    out[m] = sm\n",
    "    @inbounds @simd for i in (m+1):length(x)\n",
    "        sm += (x[i] - x[i-m]) / m\n",
    "        out[i] = sm\n",
    "    end\n",
    "    return out \n",
    "end"
   ]
  },
  {
   "cell_type": "code",
   "execution_count": 51,
   "metadata": {},
   "outputs": [
    {
     "data": {
      "text/html": [
       "<table class=\"data-frame\"><thead><tr><th></th><th>data</th><th>sma</th></tr><tr><th></th><th>Float64</th><th>Float64?</th></tr></thead><tbody><p>100,000,000 rows × 2 columns</p><tr><th>1</th><td>1.72455</td><td><em>missing</em></td></tr><tr><th>2</th><td>-1.56299</td><td><em>missing</em></td></tr><tr><th>3</th><td>0.38958</td><td><em>missing</em></td></tr><tr><th>4</th><td>0.0312338</td><td><em>missing</em></td></tr><tr><th>5</th><td>0.466341</td><td><em>missing</em></td></tr><tr><th>6</th><td>0.328187</td><td><em>missing</em></td></tr><tr><th>7</th><td>0.451401</td><td><em>missing</em></td></tr><tr><th>8</th><td>-0.631133</td><td><em>missing</em></td></tr><tr><th>9</th><td>0.0134446</td><td><em>missing</em></td></tr><tr><th>10</th><td>0.81215</td><td>0.202277</td></tr><tr><th>11</th><td>0.353089</td><td>0.0651305</td></tr><tr><th>12</th><td>-0.129539</td><td>0.208475</td></tr><tr><th>13</th><td>-1.21501</td><td>0.0480159</td></tr><tr><th>14</th><td>-0.065517</td><td>0.0383409</td></tr><tr><th>15</th><td>0.113501</td><td>0.00305693</td></tr><tr><th>16</th><td>-1.25751</td><td>-0.155513</td></tr><tr><th>17</th><td>1.90941</td><td>-0.00971172</td></tr><tr><th>18</th><td>-0.473132</td><td>0.0060884</td></tr><tr><th>19</th><td>0.0484721</td><td>0.00959115</td></tr><tr><th>20</th><td>1.38927</td><td>0.0673032</td></tr><tr><th>&vellip;</th><td>&vellip;</td><td>&vellip;</td></tr></tbody></table>"
      ],
      "text/latex": [
       "\\begin{tabular}{r|cc}\n",
       "\t& data & sma\\\\\n",
       "\t\\hline\n",
       "\t& Float64 & Float64?\\\\\n",
       "\t\\hline\n",
       "\t1 & 1.72455 & \\emph{missing} \\\\\n",
       "\t2 & -1.56299 & \\emph{missing} \\\\\n",
       "\t3 & 0.38958 & \\emph{missing} \\\\\n",
       "\t4 & 0.0312338 & \\emph{missing} \\\\\n",
       "\t5 & 0.466341 & \\emph{missing} \\\\\n",
       "\t6 & 0.328187 & \\emph{missing} \\\\\n",
       "\t7 & 0.451401 & \\emph{missing} \\\\\n",
       "\t8 & -0.631133 & \\emph{missing} \\\\\n",
       "\t9 & 0.0134446 & \\emph{missing} \\\\\n",
       "\t10 & 0.81215 & 0.202277 \\\\\n",
       "\t11 & 0.353089 & 0.0651305 \\\\\n",
       "\t12 & -0.129539 & 0.208475 \\\\\n",
       "\t13 & -1.21501 & 0.0480159 \\\\\n",
       "\t14 & -0.065517 & 0.0383409 \\\\\n",
       "\t15 & 0.113501 & 0.00305693 \\\\\n",
       "\t16 & -1.25751 & -0.155513 \\\\\n",
       "\t17 & 1.90941 & -0.00971172 \\\\\n",
       "\t18 & -0.473132 & 0.0060884 \\\\\n",
       "\t19 & 0.0484721 & 0.00959115 \\\\\n",
       "\t20 & 1.38927 & 0.0673032 \\\\\n",
       "\t$\\dots$ & $\\dots$ & $\\dots$ \\\\\n",
       "\\end{tabular}\n"
      ],
      "text/plain": [
       "\u001b[1m100000000×2 DataFrame\u001b[0m\n",
       "\u001b[1m       Row \u001b[0m│\u001b[1m data       \u001b[0m\u001b[1m sma             \u001b[0m\n",
       "\u001b[1m           \u001b[0m│\u001b[90m Float64    \u001b[0m\u001b[90m Float64?        \u001b[0m\n",
       "───────────┼─────────────────────────────\n",
       "         1 │  1.72455   \u001b[90m missing         \u001b[0m\n",
       "         2 │ -1.56299   \u001b[90m missing         \u001b[0m\n",
       "         3 │  0.38958   \u001b[90m missing         \u001b[0m\n",
       "         4 │  0.0312338 \u001b[90m missing         \u001b[0m\n",
       "         5 │  0.466341  \u001b[90m missing         \u001b[0m\n",
       "         6 │  0.328187  \u001b[90m missing         \u001b[0m\n",
       "     ⋮     │     ⋮              ⋮\n",
       "  99999996 │ -1.38548         -0.494632\n",
       "  99999997 │ -0.938316        -0.405767\n",
       "  99999998 │ -1.21061         -0.617456\n",
       "  99999999 │ -1.36107         -0.754581\n",
       " 100000000 │  0.757842        -0.739741\n",
       "\u001b[36m                    99999989 rows omitted\u001b[0m"
      ]
     },
     "execution_count": 51,
     "metadata": {},
     "output_type": "execute_result"
    }
   ],
   "source": [
    "df[!, \"sma\"] = rollingmean2(df.data, 10, out)\n",
    "df"
   ]
  },
  {
   "cell_type": "code",
   "execution_count": 52,
   "metadata": {},
   "outputs": [
    {
     "name": "stderr",
     "output_type": "stream",
     "text": [
      "┌ Info:           3.59660456s: 3 seconds, 596 milliseconds\n",
      "└ @ TickTock /Users/arihuttunen/.julia/packages/TickTock/RsTHR/src/TickTock.jl:39\n"
     ]
    }
   ],
   "source": [
    "tock()"
   ]
  },
  {
   "cell_type": "code",
   "execution_count": 53,
   "metadata": {},
   "outputs": [
    {
     "data": {
      "text/plain": [
       "BenchmarkTools.Trial: \n",
       "  memory estimate:  762.94 MiB\n",
       "  allocs estimate:  2\n",
       "  --------------\n",
       "  minimum time:     1.205 s (0.07% GC)\n",
       "  median time:      1.361 s (0.08% GC)\n",
       "  mean time:        1.331 s (1.88% GC)\n",
       "  maximum time:     1.396 s (6.96% GC)\n",
       "  --------------\n",
       "  samples:          4\n",
       "  evals/sample:     1"
      ]
     },
     "execution_count": 53,
     "metadata": {},
     "output_type": "execute_result"
    }
   ],
   "source": [
    "@benchmark rand(d, N)"
   ]
  },
  {
   "cell_type": "code",
   "execution_count": 54,
   "metadata": {},
   "outputs": [
    {
     "data": {
      "text/plain": [
       "BenchmarkTools.Trial: \n",
       "  memory estimate:  0 bytes\n",
       "  allocs estimate:  0\n",
       "  --------------\n",
       "  minimum time:     115.358 ms (0.00% GC)\n",
       "  median time:      134.893 ms (0.00% GC)\n",
       "  mean time:        133.694 ms (0.00% GC)\n",
       "  maximum time:     148.640 ms (0.00% GC)\n",
       "  --------------\n",
       "  samples:          38\n",
       "  evals/sample:     1"
      ]
     },
     "execution_count": 54,
     "metadata": {},
     "output_type": "execute_result"
    }
   ],
   "source": [
    "@benchmark rollingmean2(df.data, 10, out)"
   ]
  },
  {
   "cell_type": "code",
   "execution_count": null,
   "metadata": {},
   "outputs": [],
   "source": []
  }
 ],
 "metadata": {
  "kernelspec": {
   "display_name": "Julia 1.5.3",
   "language": "julia",
   "name": "julia-1.5"
  },
  "language_info": {
   "file_extension": ".jl",
   "mimetype": "application/julia",
   "name": "julia",
   "version": "1.5.3"
  }
 },
 "nbformat": 4,
 "nbformat_minor": 4
}
