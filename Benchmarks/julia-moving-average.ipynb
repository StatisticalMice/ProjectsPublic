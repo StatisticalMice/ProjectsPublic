{
 "cells": [
  {
   "cell_type": "code",
   "execution_count": 1,
   "metadata": {},
   "outputs": [
    {
     "name": "stderr",
     "output_type": "stream",
     "text": [
      "┌ Info:  started timer at: 2020-11-21T18:54:47.106\n",
      "└ @ TickTock /Users/arihuttunen/.julia/packages/TickTock/RsTHR/src/TickTock.jl:32\n"
     ]
    }
   ],
   "source": [
    "using TickTock\n",
    "tick()"
   ]
  },
  {
   "cell_type": "code",
   "execution_count": 2,
   "metadata": {},
   "outputs": [],
   "source": [
    "using RollingFunctions, Random, Distributions, BenchmarkTools, DataFrames"
   ]
  },
  {
   "cell_type": "code",
   "execution_count": 3,
   "metadata": {},
   "outputs": [
    {
     "data": {
      "text/html": [
       "<table class=\"data-frame\"><thead><tr><th></th><th>data</th><th>sma</th></tr><tr><th></th><th>Float64</th><th>Float64</th></tr></thead><tbody><p>1,000,000 rows × 2 columns</p><tr><th>1</th><td>-0.55216</td><td>-0.55216</td></tr><tr><th>2</th><td>-0.239378</td><td>-0.395769</td></tr><tr><th>3</th><td>-0.28483</td><td>-0.358789</td></tr><tr><th>4</th><td>1.44887</td><td>0.0931255</td></tr><tr><th>5</th><td>-0.296002</td><td>0.0153</td></tr><tr><th>6</th><td>-0.874059</td><td>-0.132927</td></tr><tr><th>7</th><td>2.18133</td><td>0.197681</td></tr><tr><th>8</th><td>0.406947</td><td>0.223839</td></tr><tr><th>9</th><td>-0.0979008</td><td>0.18809</td></tr><tr><th>10</th><td>0.809196</td><td>0.250201</td></tr><tr><th>11</th><td>-0.0468311</td><td>0.300734</td></tr><tr><th>12</th><td>1.64899</td><td>0.489571</td></tr><tr><th>13</th><td>-2.00265</td><td>0.317789</td></tr><tr><th>14</th><td>1.41951</td><td>0.314853</td></tr><tr><th>15</th><td>0.676916</td><td>0.412145</td></tr><tr><th>16</th><td>0.645349</td><td>0.564086</td></tr><tr><th>17</th><td>-1.7703</td><td>0.168923</td></tr><tr><th>18</th><td>0.349555</td><td>0.163184</td></tr><tr><th>19</th><td>-0.537802</td><td>0.119194</td></tr><tr><th>20</th><td>0.787755</td><td>0.11705</td></tr><tr><th>21</th><td>-0.349143</td><td>0.0868184</td></tr><tr><th>22</th><td>-0.0624526</td><td>-0.0843262</td></tr><tr><th>23</th><td>-0.477195</td><td>0.0682198</td></tr><tr><th>24</th><td>-0.0255764</td><td>-0.0762891</td></tr><tr><th>25</th><td>-2.09245</td><td>-0.353226</td></tr><tr><th>26</th><td>0.494435</td><td>-0.368317</td></tr><tr><th>27</th><td>-1.38808</td><td>-0.330095</td></tr><tr><th>28</th><td>0.0394274</td><td>-0.361108</td></tr><tr><th>29</th><td>0.570664</td><td>-0.250261</td></tr><tr><th>30</th><td>0.0426307</td><td>-0.324774</td></tr><tr><th>&vellip;</th><td>&vellip;</td><td>&vellip;</td></tr></tbody></table>"
      ],
      "text/latex": [
       "\\begin{tabular}{r|cc}\n",
       "\t& data & sma\\\\\n",
       "\t\\hline\n",
       "\t& Float64 & Float64\\\\\n",
       "\t\\hline\n",
       "\t1 & -0.55216 & -0.55216 \\\\\n",
       "\t2 & -0.239378 & -0.395769 \\\\\n",
       "\t3 & -0.28483 & -0.358789 \\\\\n",
       "\t4 & 1.44887 & 0.0931255 \\\\\n",
       "\t5 & -0.296002 & 0.0153 \\\\\n",
       "\t6 & -0.874059 & -0.132927 \\\\\n",
       "\t7 & 2.18133 & 0.197681 \\\\\n",
       "\t8 & 0.406947 & 0.223839 \\\\\n",
       "\t9 & -0.0979008 & 0.18809 \\\\\n",
       "\t10 & 0.809196 & 0.250201 \\\\\n",
       "\t11 & -0.0468311 & 0.300734 \\\\\n",
       "\t12 & 1.64899 & 0.489571 \\\\\n",
       "\t13 & -2.00265 & 0.317789 \\\\\n",
       "\t14 & 1.41951 & 0.314853 \\\\\n",
       "\t15 & 0.676916 & 0.412145 \\\\\n",
       "\t16 & 0.645349 & 0.564086 \\\\\n",
       "\t17 & -1.7703 & 0.168923 \\\\\n",
       "\t18 & 0.349555 & 0.163184 \\\\\n",
       "\t19 & -0.537802 & 0.119194 \\\\\n",
       "\t20 & 0.787755 & 0.11705 \\\\\n",
       "\t21 & -0.349143 & 0.0868184 \\\\\n",
       "\t22 & -0.0624526 & -0.0843262 \\\\\n",
       "\t23 & -0.477195 & 0.0682198 \\\\\n",
       "\t24 & -0.0255764 & -0.0762891 \\\\\n",
       "\t25 & -2.09245 & -0.353226 \\\\\n",
       "\t26 & 0.494435 & -0.368317 \\\\\n",
       "\t27 & -1.38808 & -0.330095 \\\\\n",
       "\t28 & 0.0394274 & -0.361108 \\\\\n",
       "\t29 & 0.570664 & -0.250261 \\\\\n",
       "\t30 & 0.0426307 & -0.324774 \\\\\n",
       "\t$\\dots$ & $\\dots$ & $\\dots$ \\\\\n",
       "\\end{tabular}\n"
      ],
      "text/plain": [
       "1000000×2 DataFrame\n",
       "│ Row     │ data       │ sma        │\n",
       "│         │ \u001b[90mFloat64\u001b[39m    │ \u001b[90mFloat64\u001b[39m    │\n",
       "├─────────┼────────────┼────────────┤\n",
       "│ 1       │ -0.55216   │ -0.55216   │\n",
       "│ 2       │ -0.239378  │ -0.395769  │\n",
       "│ 3       │ -0.28483   │ -0.358789  │\n",
       "│ 4       │ 1.44887    │ 0.0931255  │\n",
       "│ 5       │ -0.296002  │ 0.0153     │\n",
       "│ 6       │ -0.874059  │ -0.132927  │\n",
       "│ 7       │ 2.18133    │ 0.197681   │\n",
       "│ 8       │ 0.406947   │ 0.223839   │\n",
       "│ 9       │ -0.0979008 │ 0.18809    │\n",
       "│ 10      │ 0.809196   │ 0.250201   │\n",
       "⋮\n",
       "│ 999990  │ 0.727232   │ -0.342711  │\n",
       "│ 999991  │ -1.07763   │ -0.433376  │\n",
       "│ 999992  │ 0.300805   │ -0.227561  │\n",
       "│ 999993  │ -0.677089  │ -0.207585  │\n",
       "│ 999994  │ -0.105718  │ -0.276039  │\n",
       "│ 999995  │ -0.0298615 │ -0.025458  │\n",
       "│ 999996  │ -0.734812  │ -0.132328  │\n",
       "│ 999997  │ 0.578349   │ -0.0480378 │\n",
       "│ 999998  │ -1.36022   │ -0.261971  │\n",
       "│ 999999  │ 0.0723387  │ -0.23066   │\n",
       "│ 1000000 │ -0.0188685 │ -0.30527   │"
      ]
     },
     "execution_count": 3,
     "metadata": {},
     "output_type": "execute_result"
    }
   ],
   "source": [
    "d = Normal()\n",
    "data = rand(d, 1_000_000);\n",
    "df = DataFrame(data = data)\n",
    "df[\"sma\"] = runmean(df.data, 10)\n",
    "df"
   ]
  },
  {
   "cell_type": "code",
   "execution_count": 4,
   "metadata": {},
   "outputs": [
    {
     "name": "stderr",
     "output_type": "stream",
     "text": [
      "┌ Info:          9.041649578s: 9 seconds, 41 milliseconds\n",
      "└ @ TickTock /Users/arihuttunen/.julia/packages/TickTock/RsTHR/src/TickTock.jl:39\n"
     ]
    }
   ],
   "source": [
    "tock()"
   ]
  },
  {
   "cell_type": "code",
   "execution_count": 5,
   "metadata": {},
   "outputs": [
    {
     "data": {
      "text/plain": [
       "BenchmarkTools.Trial: \n",
       "  memory estimate:  15.26 MiB\n",
       "  allocs estimate:  6\n",
       "  --------------\n",
       "  minimum time:     11.631 ms (0.00% GC)\n",
       "  median time:      14.153 ms (0.00% GC)\n",
       "  mean time:        14.145 ms (7.05% GC)\n",
       "  maximum time:     19.315 ms (0.00% GC)\n",
       "  --------------\n",
       "  samples:          354\n",
       "  evals/sample:     1"
      ]
     },
     "execution_count": 5,
     "metadata": {},
     "output_type": "execute_result"
    }
   ],
   "source": [
    "@benchmark runmean(df.data, 10)"
   ]
  },
  {
   "cell_type": "code",
   "execution_count": null,
   "metadata": {},
   "outputs": [],
   "source": []
  }
 ],
 "metadata": {
  "kernelspec": {
   "display_name": "Julia 4 threads 1.5.x",
   "language": "julia",
   "name": "julia-4-threads-1.5"
  },
  "language_info": {
   "file_extension": ".jl",
   "mimetype": "application/julia",
   "name": "julia",
   "version": "1.5.3"
  }
 },
 "nbformat": 4,
 "nbformat_minor": 4
}
