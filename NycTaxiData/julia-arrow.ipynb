{
 "cells": [
  {
   "cell_type": "code",
   "execution_count": 14,
   "metadata": {},
   "outputs": [
    {
     "name": "stderr",
     "output_type": "stream",
     "text": [
      "\u001b[32m\u001b[1m Activating\u001b[22m\u001b[39m environment at `/Volumes/MyFiles/ProjectsPublic/NycTaxiData/Project.toml`\n"
     ]
    },
    {
     "name": "stdout",
     "output_type": "stream",
     "text": [
      "\u001b[32m\u001b[1mStatus\u001b[22m\u001b[39m `/Volumes/MyFiles/ProjectsPublic/NycTaxiData/Project.toml`\n",
      " \u001b[90m [69666777] \u001b[39m\u001b[37mArrow v1.0.3\u001b[39m\n",
      " \u001b[90m [a93c6f00] \u001b[39m\u001b[37mDataFrames v0.22.2\u001b[39m\n",
      " \u001b[90m [7ec9b9c5] \u001b[39m\u001b[37mHumanize v1.0.0\u001b[39m\n",
      " \u001b[90m [626c502c] \u001b[39m\u001b[37mParquet v0.8.0\u001b[39m\n",
      " \u001b[90m [f3b207a7] \u001b[39m\u001b[37mStatsPlots v0.14.17\u001b[39m\n"
     ]
    }
   ],
   "source": [
    "cd(@__DIR__)\n",
    "using Pkg\n",
    "Pkg.activate(\".\")\n",
    "Pkg.status()\n",
    "ENV[\"COLUMNS\"] = 300\n",
    "ENV[\"LINES\"] = 10;"
   ]
  },
  {
   "cell_type": "code",
   "execution_count": 2,
   "metadata": {},
   "outputs": [
    {
     "data": {
      "text/plain": [
       "\"/Volumes/SanDiskSSD/TestData/nyc-taxi-arrow\""
      ]
     },
     "execution_count": 2,
     "metadata": {},
     "output_type": "execute_result"
    }
   ],
   "source": [
    "data_path = \"/Volumes/SanDiskSSD/TestData/nyc-taxi-arrow\""
   ]
  },
  {
   "cell_type": "code",
   "execution_count": 3,
   "metadata": {},
   "outputs": [
    {
     "name": "stdout",
     "output_type": "stream",
     "text": [
      "107154\t/Volumes/SanDiskSSD/TestData/nyc-taxi-arrow/feather\n",
      "107154\t/Volumes/SanDiskSSD/TestData/nyc-taxi-arrow\n"
     ]
    }
   ],
   "source": [
    ";du -m $data_path"
   ]
  },
  {
   "cell_type": "code",
   "execution_count": 4,
   "metadata": {},
   "outputs": [],
   "source": [
    "using Parquet, DataFrames, Arrow, Statistics\n",
    "import Humanize: digitsep"
   ]
  },
  {
   "cell_type": "code",
   "execution_count": 8,
   "metadata": {},
   "outputs": [
    {
     "name": "stdout",
     "output_type": "stream",
     "text": [
      "  6.180187 seconds (27.61 M allocations: 1.604 GiB, 12.25% gc time)\n"
     ]
    },
    {
     "data": {
      "text/html": [
       "<table class=\"data-frame\"><thead><tr><th></th><th>vendor_id</th><th>pickup_at</th><th>dropoff_at</th><th>passenger_count</th><th>trip_distance</th><th>pickup_longitude</th><th>pickup_latitude</th><th>rate_code_id</th><th>store_and_fwd_flag</th><th>dropoff_longitude</th><th>dropoff_latitude</th><th>payment_type</th><th>fare_amount</th><th>extra</th><th>mta_tax</th><th>tip_amount</th><th>tolls_amount</th><th>total_amount</th><th>year</th><th>month</th></tr><tr><th></th><th>String?</th><th>DateTim…?</th><th>DateTim…?</th><th>Int8?</th><th>Float32?</th><th>Float32?</th><th>Float32?</th><th>String?</th><th>String?</th><th>Float32?</th><th>Float32?</th><th>String?</th><th>Float32?</th><th>Float32?</th><th>Float32?</th><th>Float32?</th><th>Float32?</th><th>Float32?</th><th>Int32?</th><th>Int32?</th></tr></thead><tbody><p>1,231,773,935 rows × 20 columns</p><tr><th>1</th><td>VTS</td><td>2011-01-03T07:00:00</td><td>2011-01-03T07:07:00</td><td>1</td><td>1.91</td><td>-73.9824</td><td>40.7771</td><td>1</td><td><em>missing</em></td><td>-73.9779</td><td>40.7557</td><td>CRD</td><td>7.3</td><td>0.0</td><td>0.5</td><td>1.0</td><td>0.0</td><td>8.8</td><td>2011</td><td>1</td></tr><tr><th>2</th><td>VTS</td><td>2011-01-03T07:04:00</td><td>2011-01-03T07:07:00</td><td>1</td><td>1.1</td><td>-73.9586</td><td>40.7641</td><td>1</td><td><em>missing</em></td><td>-73.9491</td><td>40.7772</td><td>CRD</td><td>4.5</td><td>0.0</td><td>0.5</td><td>1.0</td><td>0.0</td><td>6.0</td><td>2011</td><td>1</td></tr><tr><th>3</th><td>VTS</td><td>2011-01-03T06:55:00</td><td>2011-01-03T07:11:00</td><td>1</td><td>5.28</td><td>-73.9667</td><td>40.8041</td><td>1</td><td><em>missing</em></td><td>-73.9841</td><td>40.7435</td><td>CRD</td><td>14.5</td><td>0.0</td><td>0.5</td><td>1.5</td><td>0.0</td><td>16.5</td><td>2011</td><td>1</td></tr><tr><th>4</th><td>VTS</td><td>2011-01-03T07:12:00</td><td>2011-01-03T07:20:00</td><td>1</td><td>1.51</td><td>-73.9994</td><td>40.7544</td><td>1</td><td><em>missing</em></td><td>-73.9761</td><td>40.7485</td><td>CRD</td><td>6.5</td><td>0.0</td><td>0.5</td><td>1.0</td><td>0.0</td><td>8.0</td><td>2011</td><td>1</td></tr><tr><th>5</th><td>VTS</td><td>2011-01-03T07:12:00</td><td>2011-01-03T07:14:00</td><td>1</td><td>0.65</td><td>-73.9782</td><td>40.7295</td><td>1</td><td><em>missing</em></td><td>-73.989</td><td>40.7341</td><td>CSH</td><td>3.7</td><td>0.0</td><td>0.5</td><td>0.0</td><td>0.0</td><td>4.2</td><td>2011</td><td>1</td></tr><tr><th>6</th><td>VTS</td><td>2011-01-06T00:17:00</td><td>2011-01-06T00:31:00</td><td>1</td><td>3.11</td><td>-73.9252</td><td>40.7686</td><td>1</td><td><em>missing</em></td><td>-73.8835</td><td>40.7477</td><td>CSH</td><td>9.3</td><td>0.5</td><td>0.5</td><td>0.0</td><td>0.0</td><td>10.3</td><td>2011</td><td>1</td></tr><tr><th>7</th><td>VTS</td><td>2011-01-06T00:26:00</td><td>2011-01-06T00:29:00</td><td>5</td><td>1.22</td><td>-73.9668</td><td>40.7699</td><td>1</td><td><em>missing</em></td><td>-73.9563</td><td>40.7842</td><td>CSH</td><td>4.9</td><td>0.5</td><td>0.5</td><td>0.0</td><td>0.0</td><td>5.9</td><td>2011</td><td>1</td></tr><tr><th>8</th><td>VTS</td><td>2011-01-06T00:22:00</td><td>2011-01-06T00:30:00</td><td>1</td><td>1.04</td><td>-73.9859</td><td>40.7622</td><td>1</td><td><em>missing</em></td><td>-73.9695</td><td>40.7575</td><td>CSH</td><td>5.7</td><td>0.5</td><td>0.5</td><td>0.0</td><td>0.0</td><td>6.7</td><td>2011</td><td>1</td></tr><tr><th>9</th><td>VTS</td><td>2011-01-04T18:36:00</td><td>2011-01-04T18:53:00</td><td>1</td><td>4.03</td><td>-74.0047</td><td>40.7353</td><td>1</td><td><em>missing</em></td><td>-73.9828</td><td>40.7757</td><td>CSH</td><td>12.9</td><td>1.0</td><td>0.5</td><td>0.0</td><td>0.0</td><td>14.4</td><td>2011</td><td>1</td></tr><tr><th>10</th><td>VTS</td><td>2011-01-04T18:32:00</td><td>2011-01-04T18:55:00</td><td>2</td><td>4.04</td><td>-73.9802</td><td>40.7554</td><td>1</td><td><em>missing</em></td><td>-74.0128</td><td>40.7066</td><td>CRD</td><td>14.1</td><td>1.0</td><td>0.5</td><td>2.0</td><td>0.0</td><td>17.6</td><td>2011</td><td>1</td></tr><tr><th>&vellip;</th><td>&vellip;</td><td>&vellip;</td><td>&vellip;</td><td>&vellip;</td><td>&vellip;</td><td>&vellip;</td><td>&vellip;</td><td>&vellip;</td><td>&vellip;</td><td>&vellip;</td><td>&vellip;</td><td>&vellip;</td><td>&vellip;</td><td>&vellip;</td><td>&vellip;</td><td>&vellip;</td><td>&vellip;</td><td>&vellip;</td><td>&vellip;</td><td>&vellip;</td></tr></tbody></table>"
      ],
      "text/latex": [
       "\\begin{tabular}{r|cccccccccccccccccccc}\n",
       "\t& vendor\\_id & pickup\\_at & dropoff\\_at & passenger\\_count & trip\\_distance & pickup\\_longitude & pickup\\_latitude & rate\\_code\\_id & store\\_and\\_fwd\\_flag & dropoff\\_longitude & dropoff\\_latitude & payment\\_type & fare\\_amount & extra & mta\\_tax & tip\\_amount & tolls\\_amount & total\\_amount & year & month\\\\\n",
       "\t\\hline\n",
       "\t& String? & DateTim…? & DateTim…? & Int8? & Float32? & Float32? & Float32? & String? & String? & Float32? & Float32? & String? & Float32? & Float32? & Float32? & Float32? & Float32? & Float32? & Int32? & Int32?\\\\\n",
       "\t\\hline\n",
       "\t1 & VTS & 2011-01-03T07:00:00 & 2011-01-03T07:07:00 & 1 & 1.91 & -73.9824 & 40.7771 & 1 & \\emph{missing} & -73.9779 & 40.7557 & CRD & 7.3 & 0.0 & 0.5 & 1.0 & 0.0 & 8.8 & 2011 & 1 \\\\\n",
       "\t2 & VTS & 2011-01-03T07:04:00 & 2011-01-03T07:07:00 & 1 & 1.1 & -73.9586 & 40.7641 & 1 & \\emph{missing} & -73.9491 & 40.7772 & CRD & 4.5 & 0.0 & 0.5 & 1.0 & 0.0 & 6.0 & 2011 & 1 \\\\\n",
       "\t3 & VTS & 2011-01-03T06:55:00 & 2011-01-03T07:11:00 & 1 & 5.28 & -73.9667 & 40.8041 & 1 & \\emph{missing} & -73.9841 & 40.7435 & CRD & 14.5 & 0.0 & 0.5 & 1.5 & 0.0 & 16.5 & 2011 & 1 \\\\\n",
       "\t4 & VTS & 2011-01-03T07:12:00 & 2011-01-03T07:20:00 & 1 & 1.51 & -73.9994 & 40.7544 & 1 & \\emph{missing} & -73.9761 & 40.7485 & CRD & 6.5 & 0.0 & 0.5 & 1.0 & 0.0 & 8.0 & 2011 & 1 \\\\\n",
       "\t5 & VTS & 2011-01-03T07:12:00 & 2011-01-03T07:14:00 & 1 & 0.65 & -73.9782 & 40.7295 & 1 & \\emph{missing} & -73.989 & 40.7341 & CSH & 3.7 & 0.0 & 0.5 & 0.0 & 0.0 & 4.2 & 2011 & 1 \\\\\n",
       "\t6 & VTS & 2011-01-06T00:17:00 & 2011-01-06T00:31:00 & 1 & 3.11 & -73.9252 & 40.7686 & 1 & \\emph{missing} & -73.8835 & 40.7477 & CSH & 9.3 & 0.5 & 0.5 & 0.0 & 0.0 & 10.3 & 2011 & 1 \\\\\n",
       "\t7 & VTS & 2011-01-06T00:26:00 & 2011-01-06T00:29:00 & 5 & 1.22 & -73.9668 & 40.7699 & 1 & \\emph{missing} & -73.9563 & 40.7842 & CSH & 4.9 & 0.5 & 0.5 & 0.0 & 0.0 & 5.9 & 2011 & 1 \\\\\n",
       "\t8 & VTS & 2011-01-06T00:22:00 & 2011-01-06T00:30:00 & 1 & 1.04 & -73.9859 & 40.7622 & 1 & \\emph{missing} & -73.9695 & 40.7575 & CSH & 5.7 & 0.5 & 0.5 & 0.0 & 0.0 & 6.7 & 2011 & 1 \\\\\n",
       "\t9 & VTS & 2011-01-04T18:36:00 & 2011-01-04T18:53:00 & 1 & 4.03 & -74.0047 & 40.7353 & 1 & \\emph{missing} & -73.9828 & 40.7757 & CSH & 12.9 & 1.0 & 0.5 & 0.0 & 0.0 & 14.4 & 2011 & 1 \\\\\n",
       "\t10 & VTS & 2011-01-04T18:32:00 & 2011-01-04T18:55:00 & 2 & 4.04 & -73.9802 & 40.7554 & 1 & \\emph{missing} & -74.0128 & 40.7066 & CRD & 14.1 & 1.0 & 0.5 & 2.0 & 0.0 & 17.6 & 2011 & 1 \\\\\n",
       "\t$\\dots$ & $\\dots$ & $\\dots$ & $\\dots$ & $\\dots$ & $\\dots$ & $\\dots$ & $\\dots$ & $\\dots$ & $\\dots$ & $\\dots$ & $\\dots$ & $\\dots$ & $\\dots$ & $\\dots$ & $\\dots$ & $\\dots$ & $\\dots$ & $\\dots$ & $\\dots$ & $\\dots$ \\\\\n",
       "\\end{tabular}\n"
      ],
      "text/plain": [
       "\u001b[1m1231773935×20 DataFrame\u001b[0m\n",
       "\u001b[1m        Row \u001b[0m│\u001b[1m vendor_id \u001b[0m\u001b[1m pickup_at           \u001b[0m\u001b[1m dropoff_at          \u001b[0m\u001b[1m passenger_count \u001b[0m\u001b[1m trip_distance \u001b[0m\u001b[1m pickup_longitude \u001b[0m\u001b[1m pickup_latitude \u001b[0m\u001b[1m rate_code_id \u001b[0m\u001b[1m store_and_fwd_flag \u001b[0m\u001b[1m dropoff_longitude \u001b[0m\u001b[1m dropoff_latitude \u001b[0m\u001b[1m payment_type \u001b[0m\u001b[1m fare_amount \u001b[0m\u001b[1m extra    \u001b[0m\u001b[1m mta_tax  \u001b[0m\u001b[1m tip_amount \u001b[0m\u001b[1m tolls_amount \u001b[0m\u001b[1m total_amount \u001b[0m\u001b[1m year  \u001b[0m ⋯\n",
       "\u001b[1m            \u001b[0m│\u001b[90m String?   \u001b[0m\u001b[90m DateTime…?          \u001b[0m\u001b[90m DateTime…?          \u001b[0m\u001b[90m Int8?           \u001b[0m\u001b[90m Float32?      \u001b[0m\u001b[90m Float32?         \u001b[0m\u001b[90m Float32?        \u001b[0m\u001b[90m String?      \u001b[0m\u001b[90m String?            \u001b[0m\u001b[90m Float32?          \u001b[0m\u001b[90m Float32?         \u001b[0m\u001b[90m String?      \u001b[0m\u001b[90m Float32?    \u001b[0m\u001b[90m Float32? \u001b[0m\u001b[90m Float32? \u001b[0m\u001b[90m Float32?   \u001b[0m\u001b[90m Float32?     \u001b[0m\u001b[90m Float32?     \u001b[0m\u001b[90m Int32?\u001b[0m ⋯\n",
       "────────────┼───────────────────────────────────────────────────────────────────────────────────────────────────────────────────────────────────────────────────────────────────────────────────────────────────────────────────────────────────────────────────────────────────────────────────────────────\n",
       "          1 │ VTS        2011-01-03T07:00:00  2011-01-03T07:07:00                1           1.91          -73.9824          40.7771  1            \u001b[90m missing            \u001b[0m          -73.9779           40.7557  CRD                   7.3       0.0       0.5        1.0            0.0          8.8     2011 ⋯\n",
       "     ⋮      │     ⋮               ⋮                    ⋮                  ⋮               ⋮               ⋮                 ⋮              ⋮                ⋮                   ⋮                 ⋮               ⋮             ⋮          ⋮         ⋮          ⋮            ⋮             ⋮          ⋮    ⋱\n",
       "\u001b[31m                                                                                                                                                                                                                                                                        1 column and 1231773934 rows omitted\u001b[0m"
      ]
     },
     "execution_count": 8,
     "metadata": {},
     "output_type": "execute_result"
    }
   ],
   "source": [
    "@time df = DataFrame(Arrow.Table(data_path * \"/feather/part-0.feather\"))"
   ]
  },
  {
   "cell_type": "code",
   "execution_count": 9,
   "metadata": {},
   "outputs": [
    {
     "data": {
      "text/plain": [
       "\"28,349,520\""
      ]
     },
     "execution_count": 9,
     "metadata": {},
     "output_type": "execute_result"
    }
   ],
   "source": [
    "digitsep(Base.summarysize(df))"
   ]
  },
  {
   "cell_type": "code",
   "execution_count": 11,
   "metadata": {},
   "outputs": [
    {
     "name": "stdout",
     "output_type": "stream",
     "text": [
      " 53.507213 seconds (69.47 k allocations: 3.532 MiB)\n"
     ]
    },
    {
     "data": {
      "text/plain": [
       "(-127, 97)"
      ]
     },
     "execution_count": 11,
     "metadata": {},
     "output_type": "execute_result"
    }
   ],
   "source": [
    "@time extrema(df.passenger_count)"
   ]
  },
  {
   "cell_type": "code",
   "execution_count": 15,
   "metadata": {},
   "outputs": [
    {
     "name": "stderr",
     "output_type": "stream",
     "text": [
      "┌ Info: Precompiling StatsPlots [f3b207a7-027a-5e70-b257-86293d7955fd]\n",
      "└ @ Base loading.jl:1278\n"
     ]
    },
    {
     "data": {
      "text/plain": [
       "Plots.GRBackend()"
      ]
     },
     "execution_count": 15,
     "metadata": {},
     "output_type": "execute_result"
    }
   ],
   "source": [
    "using StatsPlots \n",
    "#plotly()\n",
    "gr()"
   ]
  },
  {
   "cell_type": "code",
   "execution_count": null,
   "metadata": {},
   "outputs": [],
   "source": [
    "@time @df df histogram(:passenger_count, ticks=:native)"
   ]
  },
  {
   "cell_type": "code",
   "execution_count": null,
   "metadata": {},
   "outputs": [],
   "source": []
  }
 ],
 "metadata": {
  "kernelspec": {
   "display_name": "Julia 1.5.3",
   "language": "julia",
   "name": "julia-1.5"
  },
  "language_info": {
   "file_extension": ".jl",
   "mimetype": "application/julia",
   "name": "julia",
   "version": "1.5.3"
  }
 },
 "nbformat": 4,
 "nbformat_minor": 4
}
