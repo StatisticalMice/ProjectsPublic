{
 "cells": [
  {
   "cell_type": "code",
   "execution_count": 1,
   "metadata": {},
   "outputs": [
    {
     "name": "stderr",
     "output_type": "stream",
     "text": [
      "\u001b[32m\u001b[1m Activating\u001b[22m\u001b[39m environment at `/Volumes/MyFiles/ProjectsPublic/NycTaxiData/Project.toml`\n"
     ]
    },
    {
     "name": "stdout",
     "output_type": "stream",
     "text": [
      "\u001b[32m\u001b[1mStatus\u001b[22m\u001b[39m `/Volumes/MyFiles/ProjectsPublic/NycTaxiData/Project.toml`\n",
      " \u001b[90m [69666777] \u001b[39m\u001b[37mArrow v1.0.3\u001b[39m\n",
      " \u001b[90m [a93c6f00] \u001b[39m\u001b[37mDataFrames v0.22.2\u001b[39m\n",
      " \u001b[90m [7ec9b9c5] \u001b[39m\u001b[37mHumanize v1.0.0\u001b[39m\n",
      " \u001b[90m [626c502c] \u001b[39m\u001b[37mParquet v0.8.0\u001b[39m\n"
     ]
    }
   ],
   "source": [
    "cd(@__DIR__)\n",
    "using Pkg\n",
    "Pkg.activate(\".\")\n",
    "Pkg.status()\n",
    "ENV[\"COLUMNS\"] = 300\n",
    "ENV[\"LINES\"] = 10;"
   ]
  },
  {
   "cell_type": "code",
   "execution_count": 2,
   "metadata": {},
   "outputs": [
    {
     "data": {
      "text/plain": [
       "\"/Volumes/SanDiskSSD/TestData/nyc-taxi-parquet\""
      ]
     },
     "execution_count": 2,
     "metadata": {},
     "output_type": "execute_result"
    }
   ],
   "source": [
    "data_path = \"/Volumes/SanDiskSSD/TestData/nyc-taxi-parquet\""
   ]
  },
  {
   "cell_type": "code",
   "execution_count": 8,
   "metadata": {},
   "outputs": [
    {
     "name": "stdout",
     "output_type": "stream",
     "text": [
      "384\t/Volumes/SanDiskSSD/TestData/nyc-taxi-parquet/2013/03\n",
      "385\t/Volumes/SanDiskSSD/TestData/nyc-taxi-parquet/2013/04\n",
      "365\t/Volumes/SanDiskSSD/TestData/nyc-taxi-parquet/2013/05\n",
      "332\t/Volumes/SanDiskSSD/TestData/nyc-taxi-parquet/2013/02\n",
      "373\t/Volumes/SanDiskSSD/TestData/nyc-taxi-parquet/2013/11\n",
      "390\t/Volumes/SanDiskSSD/TestData/nyc-taxi-parquet/2013/10\n",
      "340\t/Volumes/SanDiskSSD/TestData/nyc-taxi-parquet/2013/07\n",
      "373\t/Volumes/SanDiskSSD/TestData/nyc-taxi-parquet/2013/09\n",
      "330\t/Volumes/SanDiskSSD/TestData/nyc-taxi-parquet/2013/08\n",
      "360\t/Volumes/SanDiskSSD/TestData/nyc-taxi-parquet/2013/01\n",
      "348\t/Volumes/SanDiskSSD/TestData/nyc-taxi-parquet/2013/06\n",
      "338\t/Volumes/SanDiskSSD/TestData/nyc-taxi-parquet/2013/12\n",
      "4311\t/Volumes/SanDiskSSD/TestData/nyc-taxi-parquet/2013\n",
      "380\t/Volumes/SanDiskSSD/TestData/nyc-taxi-parquet/2014/03\n",
      "354\t/Volumes/SanDiskSSD/TestData/nyc-taxi-parquet/2014/04\n",
      "362\t/Volumes/SanDiskSSD/TestData/nyc-taxi-parquet/2014/05\n",
      "318\t/Volumes/SanDiskSSD/TestData/nyc-taxi-parquet/2014/02\n",
      "324\t/Volumes/SanDiskSSD/TestData/nyc-taxi-parquet/2014/11\n",
      "347\t/Volumes/SanDiskSSD/TestData/nyc-taxi-parquet/2014/10\n",
      "319\t/Volumes/SanDiskSSD/TestData/nyc-taxi-parquet/2014/07\n",
      "329\t/Volumes/SanDiskSSD/TestData/nyc-taxi-parquet/2014/09\n",
      "313\t/Volumes/SanDiskSSD/TestData/nyc-taxi-parquet/2014/08\n",
      "331\t/Volumes/SanDiskSSD/TestData/nyc-taxi-parquet/2014/01\n",
      "339\t/Volumes/SanDiskSSD/TestData/nyc-taxi-parquet/2014/06\n",
      "319\t/Volumes/SanDiskSSD/TestData/nyc-taxi-parquet/2014/12\n",
      "4030\t/Volumes/SanDiskSSD/TestData/nyc-taxi-parquet/2014\n",
      "391\t/Volumes/SanDiskSSD/TestData/nyc-taxi-parquet/2015/03\n",
      "382\t/Volumes/SanDiskSSD/TestData/nyc-taxi-parquet/2015/04\n",
      "371\t/Volumes/SanDiskSSD/TestData/nyc-taxi-parquet/2015/05\n",
      "362\t/Volumes/SanDiskSSD/TestData/nyc-taxi-parquet/2015/02\n",
      "257\t/Volumes/SanDiskSSD/TestData/nyc-taxi-parquet/2015/11\n",
      "278\t/Volumes/SanDiskSSD/TestData/nyc-taxi-parquet/2015/10\n",
      "264\t/Volumes/SanDiskSSD/TestData/nyc-taxi-parquet/2015/07\n",
      "256\t/Volumes/SanDiskSSD/TestData/nyc-taxi-parquet/2015/09\n",
      "256\t/Volumes/SanDiskSSD/TestData/nyc-taxi-parquet/2015/08\n",
      "372\t/Volumes/SanDiskSSD/TestData/nyc-taxi-parquet/2015/01\n",
      "287\t/Volumes/SanDiskSSD/TestData/nyc-taxi-parquet/2015/06\n",
      "261\t/Volumes/SanDiskSSD/TestData/nyc-taxi-parquet/2015/12\n",
      "3733\t/Volumes/SanDiskSSD/TestData/nyc-taxi-parquet/2015\n",
      "456\t/Volumes/SanDiskSSD/TestData/nyc-taxi-parquet/2012/03\n",
      "420\t/Volumes/SanDiskSSD/TestData/nyc-taxi-parquet/2012/04\n",
      "425\t/Volumes/SanDiskSSD/TestData/nyc-taxi-parquet/2012/05\n",
      "423\t/Volumes/SanDiskSSD/TestData/nyc-taxi-parquet/2012/02\n",
      "317\t/Volumes/SanDiskSSD/TestData/nyc-taxi-parquet/2012/11\n",
      "333\t/Volumes/SanDiskSSD/TestData/nyc-taxi-parquet/2012/10\n",
      "399\t/Volumes/SanDiskSSD/TestData/nyc-taxi-parquet/2012/07\n",
      "341\t/Volumes/SanDiskSSD/TestData/nyc-taxi-parquet/2012/09\n",
      "400\t/Volumes/SanDiskSSD/TestData/nyc-taxi-parquet/2012/08\n",
      "449\t/Volumes/SanDiskSSD/TestData/nyc-taxi-parquet/2012/01\n",
      "418\t/Volumes/SanDiskSSD/TestData/nyc-taxi-parquet/2012/06\n",
      "376\t/Volumes/SanDiskSSD/TestData/nyc-taxi-parquet/2012/12\n",
      "4750\t/Volumes/SanDiskSSD/TestData/nyc-taxi-parquet/2012\n",
      "144\t/Volumes/SanDiskSSD/TestData/nyc-taxi-parquet/2017/03\n",
      "141\t/Volumes/SanDiskSSD/TestData/nyc-taxi-parquet/2017/04\n",
      "144\t/Volumes/SanDiskSSD/TestData/nyc-taxi-parquet/2017/05\n",
      "128\t/Volumes/SanDiskSSD/TestData/nyc-taxi-parquet/2017/02\n",
      "140\t/Volumes/SanDiskSSD/TestData/nyc-taxi-parquet/2017/11\n",
      "147\t/Volumes/SanDiskSSD/TestData/nyc-taxi-parquet/2017/10\n",
      "132\t/Volumes/SanDiskSSD/TestData/nyc-taxi-parquet/2017/07\n",
      "136\t/Volumes/SanDiskSSD/TestData/nyc-taxi-parquet/2017/09\n",
      "130\t/Volumes/SanDiskSSD/TestData/nyc-taxi-parquet/2017/08\n",
      "137\t/Volumes/SanDiskSSD/TestData/nyc-taxi-parquet/2017/01\n",
      "143\t/Volumes/SanDiskSSD/TestData/nyc-taxi-parquet/2017/06\n",
      "143\t/Volumes/SanDiskSSD/TestData/nyc-taxi-parquet/2017/12\n",
      "1659\t/Volumes/SanDiskSSD/TestData/nyc-taxi-parquet/2017\n",
      "129\t/Volumes/SanDiskSSD/TestData/nyc-taxi-parquet/2019/03\n",
      "122\t/Volumes/SanDiskSSD/TestData/nyc-taxi-parquet/2019/04\n",
      "125\t/Volumes/SanDiskSSD/TestData/nyc-taxi-parquet/2019/05\n",
      "115\t/Volumes/SanDiskSSD/TestData/nyc-taxi-parquet/2019/02\n",
      "123\t/Volumes/SanDiskSSD/TestData/nyc-taxi-parquet/2019/01\n",
      "116\t/Volumes/SanDiskSSD/TestData/nyc-taxi-parquet/2019/06\n",
      "726\t/Volumes/SanDiskSSD/TestData/nyc-taxi-parquet/2019\n",
      "143\t/Volumes/SanDiskSSD/TestData/nyc-taxi-parquet/2018/03\n",
      "140\t/Volumes/SanDiskSSD/TestData/nyc-taxi-parquet/2018/04\n",
      "142\t/Volumes/SanDiskSSD/TestData/nyc-taxi-parquet/2018/05\n",
      "127\t/Volumes/SanDiskSSD/TestData/nyc-taxi-parquet/2018/02\n",
      "129\t/Volumes/SanDiskSSD/TestData/nyc-taxi-parquet/2018/11\n",
      "138\t/Volumes/SanDiskSSD/TestData/nyc-taxi-parquet/2018/10\n",
      "124\t/Volumes/SanDiskSSD/TestData/nyc-taxi-parquet/2018/07\n",
      "127\t/Volumes/SanDiskSSD/TestData/nyc-taxi-parquet/2018/09\n",
      "125\t/Volumes/SanDiskSSD/TestData/nyc-taxi-parquet/2018/08\n",
      "133\t/Volumes/SanDiskSSD/TestData/nyc-taxi-parquet/2018/01\n",
      "135\t/Volumes/SanDiskSSD/TestData/nyc-taxi-parquet/2018/06\n",
      "130\t/Volumes/SanDiskSSD/TestData/nyc-taxi-parquet/2018/12\n",
      "1588\t/Volumes/SanDiskSSD/TestData/nyc-taxi-parquet/2018\n",
      "435\t/Volumes/SanDiskSSD/TestData/nyc-taxi-parquet/2011/03\n",
      "404\t/Volumes/SanDiskSSD/TestData/nyc-taxi-parquet/2011/04\n",
      "427\t/Volumes/SanDiskSSD/TestData/nyc-taxi-parquet/2011/05\n",
      "386\t/Volumes/SanDiskSSD/TestData/nyc-taxi-parquet/2011/02\n",
      "395\t/Volumes/SanDiskSSD/TestData/nyc-taxi-parquet/2011/11\n",
      "434\t/Volumes/SanDiskSSD/TestData/nyc-taxi-parquet/2011/10\n",
      "400\t/Volumes/SanDiskSSD/TestData/nyc-taxi-parquet/2011/07\n",
      "405\t/Volumes/SanDiskSSD/TestData/nyc-taxi-parquet/2011/09\n",
      "390\t/Volumes/SanDiskSSD/TestData/nyc-taxi-parquet/2011/08\n",
      "366\t/Volumes/SanDiskSSD/TestData/nyc-taxi-parquet/2011/01\n",
      "419\t/Volumes/SanDiskSSD/TestData/nyc-taxi-parquet/2011/06\n",
      "407\t/Volumes/SanDiskSSD/TestData/nyc-taxi-parquet/2011/12\n",
      "4864\t/Volumes/SanDiskSSD/TestData/nyc-taxi-parquet/2011\n",
      "281\t/Volumes/SanDiskSSD/TestData/nyc-taxi-parquet/2016/03\n",
      "269\t/Volumes/SanDiskSSD/TestData/nyc-taxi-parquet/2016/04\n",
      "271\t/Volumes/SanDiskSSD/TestData/nyc-taxi-parquet/2016/05\n",
      "262\t/Volumes/SanDiskSSD/TestData/nyc-taxi-parquet/2016/02\n",
      "141\t/Volumes/SanDiskSSD/TestData/nyc-taxi-parquet/2016/11\n",
      "150\t/Volumes/SanDiskSSD/TestData/nyc-taxi-parquet/2016/10\n",
      "150\t/Volumes/SanDiskSSD/TestData/nyc-taxi-parquet/2016/07\n",
      "143\t/Volumes/SanDiskSSD/TestData/nyc-taxi-parquet/2016/09\n",
      "145\t/Volumes/SanDiskSSD/TestData/nyc-taxi-parquet/2016/08\n",
      "256\t/Volumes/SanDiskSSD/TestData/nyc-taxi-parquet/2016/01\n",
      "255\t/Volumes/SanDiskSSD/TestData/nyc-taxi-parquet/2016/06\n",
      "145\t/Volumes/SanDiskSSD/TestData/nyc-taxi-parquet/2016/12\n",
      "2465\t/Volumes/SanDiskSSD/TestData/nyc-taxi-parquet/2016\n",
      "28122\t/Volumes/SanDiskSSD/TestData/nyc-taxi-parquet\n"
     ]
    }
   ],
   "source": [
    ";du -m $data_path"
   ]
  },
  {
   "cell_type": "code",
   "execution_count": 4,
   "metadata": {},
   "outputs": [],
   "source": [
    "using Parquet, DataFrames, Arrow, Statistics\n",
    "import Humanize: digitsep"
   ]
  },
  {
   "cell_type": "raw",
   "metadata": {},
   "source": [
    "Todo: Read parquet files, convert to arrow, convert to DataFrame"
   ]
  },
  {
   "cell_type": "code",
   "execution_count": 5,
   "metadata": {},
   "outputs": [
    {
     "name": "stdout",
     "output_type": "stream",
     "text": [
      "116.580326 seconds (19.57 M allocations: 148.957 GiB, 16.63% gc time)\n"
     ]
    },
    {
     "data": {
      "text/html": [
       "<table class=\"data-frame\"><thead><tr><th></th><th>dropoff_at</th><th>dropoff_latitude</th><th>dropoff_longitude</th><th>extra</th><th>fare_amount</th><th>mta_tax</th><th>passenger_count</th><th>payment_type</th><th>pickup_at</th><th>pickup_latitude</th><th>pickup_longitude</th><th>rate_code_id</th><th>store_and_fwd_flag</th><th>tip_amount</th><th>tolls_amount</th><th>total_amount</th><th>trip_distance</th><th>vendor_id</th></tr><tr><th></th><th>Int64?</th><th>Float32?</th><th>Float32?</th><th>Float32?</th><th>Float32?</th><th>Float32?</th><th>Int32?</th><th>String?</th><th>Int64?</th><th>Float32?</th><th>Float32?</th><th>String?</th><th>String?</th><th>Float32?</th><th>Float32?</th><th>Float32?</th><th>Float32?</th><th>String?</th></tr></thead><tbody><p>13,464,996 rows × 18 columns</p><tr><th>1</th><td>1296269227000000</td><td>40.7271</td><td>-73.9887</td><td>0.5</td><td>6.1</td><td>0.5</td><td>1</td><td>CSH</td><td>1296268715000000</td><td>40.7291</td><td>-74.0053</td><td>1</td><td>N</td><td>0.0</td><td>0.0</td><td>7.1</td><td>1.2</td><td>CMT</td></tr><tr><th>2</th><td>1296211338000000</td><td>40.7647</td><td>-73.9643</td><td>0.0</td><td>4.1</td><td>0.5</td><td>1</td><td>CSH</td><td>1296211099000000</td><td>40.7592</td><td>-73.9686</td><td>1</td><td>N</td><td>0.0</td><td>0.0</td><td>4.6</td><td>0.4</td><td>CMT</td></tr><tr><th>3</th><td>1296259064000000</td><td>40.7295</td><td>-73.987</td><td>0.5</td><td>6.1</td><td>0.5</td><td>3</td><td>CSH</td><td>1296258598000000</td><td>40.7424</td><td>-73.9807</td><td>1</td><td>N</td><td>0.0</td><td>0.0</td><td>7.1</td><td>1.2</td><td>CMT</td></tr><tr><th>4</th><td>1296259161000000</td><td>40.75</td><td>-73.9914</td><td>0.5</td><td>5.3</td><td>0.5</td><td>3</td><td>CSH</td><td>1296258729000000</td><td>40.7473</td><td>-73.9938</td><td>1</td><td>N</td><td>0.0</td><td>0.0</td><td>6.3</td><td>0.8</td><td>CMT</td></tr><tr><th>5</th><td>1296213950000000</td><td>40.7756</td><td>-73.9502</td><td>0.0</td><td>25.3</td><td>0.5</td><td>1</td><td>CSH</td><td>1296210879000000</td><td>40.7499</td><td>-73.9915</td><td>1</td><td>N</td><td>0.0</td><td>0.0</td><td>25.8</td><td>5.3</td><td>CMT</td></tr><tr><th>6</th><td>1296259091000000</td><td>40.8183</td><td>-73.9607</td><td>0.5</td><td>6.5</td><td>0.5</td><td>2</td><td>CSH</td><td>1296258600000000</td><td>40.8064</td><td>-73.9503</td><td>1</td><td>N</td><td>0.0</td><td>0.0</td><td>7.5</td><td>1.2</td><td>CMT</td></tr><tr><th>7</th><td>1296269437000000</td><td>40.7613</td><td>-73.9822</td><td>0.5</td><td>9.3</td><td>0.5</td><td>1</td><td>CSH</td><td>1296268728000000</td><td>40.7774</td><td>-73.952</td><td>1</td><td>N</td><td>0.0</td><td>0.0</td><td>10.3</td><td>2.7</td><td>CMT</td></tr><tr><th>8</th><td>1296269145000000</td><td>40.7127</td><td>-73.9569</td><td>0.5</td><td>4.9</td><td>0.5</td><td>2</td><td>CSH</td><td>1296268876000000</td><td>40.7182</td><td>-73.945</td><td>1</td><td>N</td><td>0.0</td><td>0.0</td><td>5.9</td><td>0.9</td><td>CMT</td></tr><tr><th>9</th><td>1296259675000000</td><td>40.7782</td><td>-73.9567</td><td>0.5</td><td>12.1</td><td>0.5</td><td>1</td><td>CSH</td><td>1296258651000000</td><td>40.7565</td><td>-73.9899</td><td>1</td><td>N</td><td>0.0</td><td>0.0</td><td>13.1</td><td>3.3</td><td>CMT</td></tr><tr><th>10</th><td>1296270494000000</td><td>40.7286</td><td>-73.9951</td><td>0.5</td><td>20.5</td><td>0.5</td><td>1</td><td>CSH</td><td>1296268894000000</td><td>40.8101</td><td>-73.9589</td><td>1</td><td>N</td><td>0.0</td><td>0.0</td><td>21.5</td><td>7.2</td><td>CMT</td></tr><tr><th>&vellip;</th><td>&vellip;</td><td>&vellip;</td><td>&vellip;</td><td>&vellip;</td><td>&vellip;</td><td>&vellip;</td><td>&vellip;</td><td>&vellip;</td><td>&vellip;</td><td>&vellip;</td><td>&vellip;</td><td>&vellip;</td><td>&vellip;</td><td>&vellip;</td><td>&vellip;</td><td>&vellip;</td><td>&vellip;</td><td>&vellip;</td></tr></tbody></table>"
      ],
      "text/latex": [
       "\\begin{tabular}{r|cccccccccccccccccc}\n",
       "\t& dropoff\\_at & dropoff\\_latitude & dropoff\\_longitude & extra & fare\\_amount & mta\\_tax & passenger\\_count & payment\\_type & pickup\\_at & pickup\\_latitude & pickup\\_longitude & rate\\_code\\_id & store\\_and\\_fwd\\_flag & tip\\_amount & tolls\\_amount & total\\_amount & trip\\_distance & vendor\\_id\\\\\n",
       "\t\\hline\n",
       "\t& Int64? & Float32? & Float32? & Float32? & Float32? & Float32? & Int32? & String? & Int64? & Float32? & Float32? & String? & String? & Float32? & Float32? & Float32? & Float32? & String?\\\\\n",
       "\t\\hline\n",
       "\t1 & 1296269227000000 & 40.7271 & -73.9887 & 0.5 & 6.1 & 0.5 & 1 & CSH & 1296268715000000 & 40.7291 & -74.0053 & 1 & N & 0.0 & 0.0 & 7.1 & 1.2 & CMT \\\\\n",
       "\t2 & 1296211338000000 & 40.7647 & -73.9643 & 0.0 & 4.1 & 0.5 & 1 & CSH & 1296211099000000 & 40.7592 & -73.9686 & 1 & N & 0.0 & 0.0 & 4.6 & 0.4 & CMT \\\\\n",
       "\t3 & 1296259064000000 & 40.7295 & -73.987 & 0.5 & 6.1 & 0.5 & 3 & CSH & 1296258598000000 & 40.7424 & -73.9807 & 1 & N & 0.0 & 0.0 & 7.1 & 1.2 & CMT \\\\\n",
       "\t4 & 1296259161000000 & 40.75 & -73.9914 & 0.5 & 5.3 & 0.5 & 3 & CSH & 1296258729000000 & 40.7473 & -73.9938 & 1 & N & 0.0 & 0.0 & 6.3 & 0.8 & CMT \\\\\n",
       "\t5 & 1296213950000000 & 40.7756 & -73.9502 & 0.0 & 25.3 & 0.5 & 1 & CSH & 1296210879000000 & 40.7499 & -73.9915 & 1 & N & 0.0 & 0.0 & 25.8 & 5.3 & CMT \\\\\n",
       "\t6 & 1296259091000000 & 40.8183 & -73.9607 & 0.5 & 6.5 & 0.5 & 2 & CSH & 1296258600000000 & 40.8064 & -73.9503 & 1 & N & 0.0 & 0.0 & 7.5 & 1.2 & CMT \\\\\n",
       "\t7 & 1296269437000000 & 40.7613 & -73.9822 & 0.5 & 9.3 & 0.5 & 1 & CSH & 1296268728000000 & 40.7774 & -73.952 & 1 & N & 0.0 & 0.0 & 10.3 & 2.7 & CMT \\\\\n",
       "\t8 & 1296269145000000 & 40.7127 & -73.9569 & 0.5 & 4.9 & 0.5 & 2 & CSH & 1296268876000000 & 40.7182 & -73.945 & 1 & N & 0.0 & 0.0 & 5.9 & 0.9 & CMT \\\\\n",
       "\t9 & 1296259675000000 & 40.7782 & -73.9567 & 0.5 & 12.1 & 0.5 & 1 & CSH & 1296258651000000 & 40.7565 & -73.9899 & 1 & N & 0.0 & 0.0 & 13.1 & 3.3 & CMT \\\\\n",
       "\t10 & 1296270494000000 & 40.7286 & -73.9951 & 0.5 & 20.5 & 0.5 & 1 & CSH & 1296268894000000 & 40.8101 & -73.9589 & 1 & N & 0.0 & 0.0 & 21.5 & 7.2 & CMT \\\\\n",
       "\t$\\dots$ & $\\dots$ & $\\dots$ & $\\dots$ & $\\dots$ & $\\dots$ & $\\dots$ & $\\dots$ & $\\dots$ & $\\dots$ & $\\dots$ & $\\dots$ & $\\dots$ & $\\dots$ & $\\dots$ & $\\dots$ & $\\dots$ & $\\dots$ & $\\dots$ \\\\\n",
       "\\end{tabular}\n"
      ],
      "text/plain": [
       "\u001b[1m13464996×18 DataFrame\u001b[0m\n",
       "\u001b[1m      Row \u001b[0m│\u001b[1m dropoff_at       \u001b[0m\u001b[1m dropoff_latitude \u001b[0m\u001b[1m dropoff_longitude \u001b[0m\u001b[1m extra    \u001b[0m\u001b[1m fare_amount \u001b[0m\u001b[1m mta_tax  \u001b[0m\u001b[1m passenger_count \u001b[0m\u001b[1m payment_type \u001b[0m\u001b[1m pickup_at        \u001b[0m\u001b[1m pickup_latitude \u001b[0m\u001b[1m pickup_longitude \u001b[0m\u001b[1m rate_code_id \u001b[0m\u001b[1m store_and_fwd_flag \u001b[0m\u001b[1m tip_amount \u001b[0m\u001b[1m tolls_amount \u001b[0m\u001b[1m total_amount \u001b[0m\u001b[1m trip_distance \u001b[0m\u001b[1m vendor_id \u001b[0m\n",
       "\u001b[1m          \u001b[0m│\u001b[90m Int64?           \u001b[0m\u001b[90m Float32?         \u001b[0m\u001b[90m Float32?          \u001b[0m\u001b[90m Float32? \u001b[0m\u001b[90m Float32?    \u001b[0m\u001b[90m Float32? \u001b[0m\u001b[90m Int32?          \u001b[0m\u001b[90m String?      \u001b[0m\u001b[90m Int64?           \u001b[0m\u001b[90m Float32?        \u001b[0m\u001b[90m Float32?         \u001b[0m\u001b[90m String?      \u001b[0m\u001b[90m String?            \u001b[0m\u001b[90m Float32?   \u001b[0m\u001b[90m Float32?     \u001b[0m\u001b[90m Float32?     \u001b[0m\u001b[90m Float32?      \u001b[0m\u001b[90m String?   \u001b[0m\n",
       "──────────┼────────────────────────────────────────────────────────────────────────────────────────────────────────────────────────────────────────────────────────────────────────────────────────────────────────────────────────────────────────────────────────────────────────────────\n",
       "        1 │ 1296269227000000           40.7271           -73.9887       0.5          6.1       0.5                1  CSH           1296268715000000          40.7291          -74.0053  1             N                         0.0            0.0          7.1             1.2  CMT\n",
       "    ⋮     │        ⋮                 ⋮                  ⋮             ⋮           ⋮          ⋮             ⋮              ⋮               ⋮                 ⋮                ⋮               ⋮                ⋮               ⋮            ⋮             ⋮              ⋮            ⋮\n",
       "\u001b[31m                                                                                                                                                                                                                                                                      13464995 rows omitted\u001b[0m"
      ]
     },
     "execution_count": 5,
     "metadata": {},
     "output_type": "execute_result"
    }
   ],
   "source": [
    "@time df = DataFrame(read_parquet(data_path * \"/2011/01/data.parquet\"), copycols=false)"
   ]
  },
  {
   "cell_type": "code",
   "execution_count": 6,
   "metadata": {},
   "outputs": [
    {
     "data": {
      "text/plain": [
       "\"1,481,177,172\""
      ]
     },
     "execution_count": 6,
     "metadata": {},
     "output_type": "execute_result"
    }
   ],
   "source": [
    "digitsep(Base.summarysize(df))"
   ]
  },
  {
   "cell_type": "code",
   "execution_count": null,
   "metadata": {},
   "outputs": [],
   "source": []
  }
 ],
 "metadata": {
  "kernelspec": {
   "display_name": "Julia 1.5.3",
   "language": "julia",
   "name": "julia-1.5"
  },
  "language_info": {
   "file_extension": ".jl",
   "mimetype": "application/julia",
   "name": "julia",
   "version": "1.5.3"
  }
 },
 "nbformat": 4,
 "nbformat_minor": 4
}
